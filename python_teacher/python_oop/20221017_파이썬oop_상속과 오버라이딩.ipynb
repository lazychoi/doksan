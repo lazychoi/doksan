{
 "cells": [
  {
   "cell_type": "markdown",
   "id": "2d4d1065",
   "metadata": {},
   "source": [
    "# 상속\n",
    "\n",
    "상속은 부모 클래스의 정보를 활용해 자식 클래스를 이끌어내는것을 의미합니다.\n",
    "\n",
    "문법은\n",
    "\n",
    "`class 클래스명(부모클래스):\n",
    "    내부 정의\n",
    "    ...\n",
    "    `\n",
    "    \n",
    "현실에서의 상속과 마찬가지로 프로그래밍의 상속에서도 부모는 자식에게\n",
    "\n",
    "자신이 가진 요소를 물려줍니다.(변수, 메서드)\n",
    "\n",
    "현실과 다른점은 프로그래밍의 상속은 자식이 부모를 지목해 이뤄지며\n",
    "\n",
    "부모쪽에서 물려받은 변수, 메서드 및 자식쪽에서 새로 정의한 변수, 메서드\n",
    "\n",
    "그리고 물려받은 메서드를 재정의(오버라이딩)해 사용할 수 있습니다."
   ]
  },
  {
   "cell_type": "code",
   "execution_count": 8,
   "id": "ceebe870",
   "metadata": {},
   "outputs": [],
   "source": [
    "class Person:\n",
    "    name = \"\"\n",
    "    age = 0\n",
    "    height = 0\n",
    "    \n",
    "    # 여러분들이 직접 get_info()를 이용해 이름, 나이, 키를 보여주는 메서드를 작성해주세요\n",
    "    def get_info(self):\n",
    "        print(\"이름 : %s, 나이 : %s, 키 : %s\" % (self.name, self.age, self.height))"
   ]
  },
  {
   "cell_type": "code",
   "execution_count": 9,
   "id": "9fdee6b6",
   "metadata": {},
   "outputs": [
    {
     "name": "stdout",
     "output_type": "stream",
     "text": [
      "이름 : 홍길동, 나이 : 20, 키 : 170\n"
     ]
    }
   ],
   "source": [
    "p1 = Person() \n",
    "p1.name = \"홍길동\"\n",
    "p1.age = 20\n",
    "p1.height = 170\n",
    "p1.get_info()"
   ]
  },
  {
   "cell_type": "code",
   "execution_count": 3,
   "id": "93845e4c",
   "metadata": {},
   "outputs": [
    {
     "name": "stdout",
     "output_type": "stream",
     "text": [
      "<__main__.Person object at 0x000001E791316070>\n"
     ]
    }
   ],
   "source": [
    "print(p1)"
   ]
  },
  {
   "cell_type": "code",
   "execution_count": 11,
   "id": "b24f9a1f",
   "metadata": {},
   "outputs": [],
   "source": [
    "# Student는 Person의 상속을 받았음\n",
    "class Student(Person):\n",
    "    major = \"\""
   ]
  },
  {
   "cell_type": "code",
   "execution_count": 12,
   "id": "9bca4857",
   "metadata": {},
   "outputs": [
    {
     "name": "stdout",
     "output_type": "stream",
     "text": [
      "이름 : 가나다, 나이 : 21, 키 : 163\n"
     ]
    }
   ],
   "source": [
    "# Student를 하나 생성해서 Person처럼 print로 모든 변수에 값을 저장한 뒤 찍어보세요.\n",
    "s1 = Student()\n",
    "s1.name = \"가나다\"\n",
    "s1.age = 21\n",
    "s1.height = 163\n",
    "s1.major = \"컴퓨터과학\"\n",
    "# 상속된 메서드도 자식쪽에서 호출 가능합니다.\n",
    "s1.get_info()"
   ]
  },
  {
   "cell_type": "code",
   "execution_count": 6,
   "id": "095ed721",
   "metadata": {},
   "outputs": [],
   "source": [
    "# 샐러리맨 클래스를 선언해주세요(Person을 상속받습니다.)\n",
    "# 샐러리맨은 연봉을 가집니다.\n",
    "class Salaryman(Person):\n",
    "    salary = 0"
   ]
  },
  {
   "cell_type": "code",
   "execution_count": 7,
   "id": "07722268",
   "metadata": {},
   "outputs": [
    {
     "name": "stdout",
     "output_type": "stream",
     "text": [
      "이름 : 채종훈, 나이 : 25, 키 : 175, 연봉 : 1000000000원\n"
     ]
    }
   ],
   "source": [
    "# 샐러리맨 객체를 생성해주세요.\n",
    "# 이름은 여러분들 이름으로 해 주시고\n",
    "# 기타 인적사항은 원하는대로 입력해주시고\n",
    "# * 연봉은 받고싶은 금액을 적어주세요.\n",
    "sm1 = Salaryman()\n",
    "sm1.name = \"채종훈\"\n",
    "sm1.age = 25\n",
    "sm1.height = 175\n",
    "sm1.salary = 1000000000\n",
    "print(\"이름 : %s, 나이 : %s, 키 : %s, 연봉 : %s원\" % (sm1.name, sm1.age, sm1.height, sm1.salary))"
   ]
  },
  {
   "cell_type": "markdown",
   "id": "eb407452",
   "metadata": {},
   "source": [
    "### 오버라이딩\n",
    "\n",
    "오버라이딩이란 부모가 물려준 메서드를 자식쪽에서 고쳐서 쓰는것을 의미합니다.\n",
    "\n",
    "위와 같이 부모쪽에서 이미 특정 메서드가 생성되었지만, 자식쪽에서 추가된 사항을\n",
    "\n",
    "따로 반영하지 못한다던지 하는 이슈가 발생했을때\n",
    "\n",
    "자식쪽에서 물려받은 메서드를 고쳐서 현재 객체 상황에 맞게 쓰는것을 오버라이딩이라고 합니다.\n",
    "\n",
    "방법은 자식쪽 클래스 설계부분에 부모쪽과 동일한 메서드를 작성하고\n",
    "\n",
    "코드 내용을 새롭게 작성하면 됩니다."
   ]
  },
  {
   "cell_type": "code",
   "execution_count": 35,
   "id": "26bf8b05",
   "metadata": {},
   "outputs": [],
   "source": [
    "class Airplane:\n",
    "    velocity = 0\n",
    "    gas = 0\n",
    "    flight_number = \"\"\n",
    "    \n",
    "    # 생성자를 만들어주세요. 위 3개 변수를 모두 입력해야 생성됩니다.\n",
    "    def __init__(self, velocity, gas, flight_number):\n",
    "        self.velocity = velocity\n",
    "        self.gas = gas\n",
    "        self.flight_number = flight_number\n",
    "        \n",
    "    # 비행기의 비행기능을 만들어보겠습니다.\n",
    "    def fly(self):\n",
    "        # if문을 이용해서 최대속도를 900으로 맞춰주세요. \n",
    "        # 이와 더불어 연료가 0이면 작동하지 않게도 해 주세요.\n",
    "        if(self.gas <= 0):\n",
    "            print(\"연료가 없습니다.\")\n",
    "            return # break문처럼 함수를 즉시 종료시킴\n",
    "        if(self.velocity + 200 > 900):\n",
    "            self.velocity = 900\n",
    "        else :\n",
    "            self.velocity += 200\n",
    "        self.gas -= 100\n",
    "        \n",
    "    # 여러분들이 비행기의 브레이크 기능을 만들어주세요\n",
    "    # 실행시 연료는 소비하지 않지만 속도가 200씩 차감됩니다.\n",
    "    def break_(self):\n",
    "        # 최저속도를 0으로 만들어주세요.\n",
    "        if(self.velocity - 200 < 0):\n",
    "            self.velocity = 0\n",
    "        else:\n",
    "            self.velocity -= 200\n",
    "        \n",
    "    # 비행기의 현재 상태\n",
    "    def get_info(self):\n",
    "        print(\"현재 속도 : %skm/h, 현재 연료량 : %sL, 편명 : %s\" %\n",
    "                     (self.velocity, self.gas, self.flight_number))"
   ]
  },
  {
   "cell_type": "code",
   "execution_count": 36,
   "id": "a6be0215",
   "metadata": {},
   "outputs": [],
   "source": [
    "a1 = Airplane(0, 5000, \"KE889\")"
   ]
  },
  {
   "cell_type": "code",
   "execution_count": 37,
   "id": "b45d09f3",
   "metadata": {},
   "outputs": [
    {
     "name": "stdout",
     "output_type": "stream",
     "text": [
      "현재 속도 : 0km/h, 현재 연료량 : 5000L, 편명 : KE889\n"
     ]
    }
   ],
   "source": [
    "a1.get_info()"
   ]
  },
  {
   "cell_type": "code",
   "execution_count": 38,
   "id": "d0837538",
   "metadata": {},
   "outputs": [],
   "source": [
    "a1.fly()"
   ]
  },
  {
   "cell_type": "code",
   "execution_count": 39,
   "id": "8e6f5224",
   "metadata": {},
   "outputs": [
    {
     "name": "stdout",
     "output_type": "stream",
     "text": [
      "현재 속도 : 200km/h, 현재 연료량 : 4900L, 편명 : KE889\n"
     ]
    }
   ],
   "source": [
    "a1.get_info()"
   ]
  },
  {
   "cell_type": "code",
   "execution_count": 40,
   "id": "c648c2bf",
   "metadata": {},
   "outputs": [],
   "source": [
    "a1.break_()"
   ]
  },
  {
   "cell_type": "code",
   "execution_count": 41,
   "id": "85786a67",
   "metadata": {},
   "outputs": [
    {
     "name": "stdout",
     "output_type": "stream",
     "text": [
      "현재 속도 : 0km/h, 현재 연료량 : 4900L, 편명 : KE889\n"
     ]
    }
   ],
   "source": [
    "a1.get_info()"
   ]
  },
  {
   "cell_type": "code",
   "execution_count": 42,
   "id": "25d5e299",
   "metadata": {},
   "outputs": [],
   "source": [
    "a1.break_()"
   ]
  },
  {
   "cell_type": "code",
   "execution_count": 43,
   "id": "aca694b7",
   "metadata": {},
   "outputs": [
    {
     "name": "stdout",
     "output_type": "stream",
     "text": [
      "현재 속도 : 0km/h, 현재 연료량 : 4900L, 편명 : KE889\n"
     ]
    }
   ],
   "source": [
    "a1.get_info()"
   ]
  },
  {
   "cell_type": "code",
   "execution_count": 49,
   "id": "4c255348",
   "metadata": {},
   "outputs": [],
   "source": [
    "# 초음속비행기(SupersonicAirplane) 을 선언해주세요(Airplane을 상속합니다.)\n",
    "class SupersonicAirplane(Airplane):\n",
    "    # 오버라이딩은 부모에게 물려받은 메서드가 마음에 안 들때\n",
    "    # 새롭게 정의하는것을 의미합니다.\n",
    "    # 같은 이름, 같은 파라미터선언으로 정의하면 됩니다.\n",
    "    def fly(self):\n",
    "        # 메서드명과 파라미터는 동일하나 코드가 바뀜\n",
    "        if(self.gas <= 0):\n",
    "            print(\"연료가 없습니다.\")\n",
    "            return # break문처럼 함수를 즉시 종료시킴\n",
    "        if(self.velocity + 200 > 2000):\n",
    "            self.velocity = 2000\n",
    "        else :\n",
    "            self.velocity += 200\n",
    "        self.gas -= 100        \n"
   ]
  },
  {
   "cell_type": "code",
   "execution_count": 45,
   "id": "be89f351",
   "metadata": {},
   "outputs": [
    {
     "name": "stdout",
     "output_type": "stream",
     "text": [
      "현재 속도 : 900km/h, 현재 연료량 : 4400L, 편명 : VN404\n"
     ]
    }
   ],
   "source": [
    "# 비행기 a2를 만들어서 최대 시속 over로 fly를 호출(5번 이상) 해서 900이상 올라가지\n",
    "# 않음을 확인해주시고\n",
    "a2 = Airplane(0, 5000, \"VN404\")\n",
    "for i in range(6):\n",
    "    a2.fly()\n",
    "a2.get_info()"
   ]
  },
  {
   "cell_type": "code",
   "execution_count": 50,
   "id": "8532ea31",
   "metadata": {},
   "outputs": [
    {
     "name": "stdout",
     "output_type": "stream",
     "text": [
      "현재 속도 : 2000km/h, 현재 연료량 : 3900L, 편명 : KE809\n"
     ]
    }
   ],
   "source": [
    "# 초음속비행기 sa1을 만들어서 최대시속 over로 fly를 호출(11번이상) 해서 2000이상\n",
    "# 올라가지 않음을 확인해주세요.\n",
    "sa1 = SupersonicAirplane(0, 5000, \"KE809\")\n",
    "for i in range(11):\n",
    "    sa1.fly()\n",
    "sa1.get_info()"
   ]
  },
  {
   "cell_type": "code",
   "execution_count": null,
   "id": "a8dc875c",
   "metadata": {},
   "outputs": [],
   "source": []
  }
 ],
 "metadata": {
  "kernelspec": {
   "display_name": "Python 3 (ipykernel)",
   "language": "python",
   "name": "python3"
  },
  "language_info": {
   "codemirror_mode": {
    "name": "ipython",
    "version": 3
   },
   "file_extension": ".py",
   "mimetype": "text/x-python",
   "name": "python",
   "nbconvert_exporter": "python",
   "pygments_lexer": "ipython3",
   "version": "3.9.12"
  }
 },
 "nbformat": 4,
 "nbformat_minor": 5
}
