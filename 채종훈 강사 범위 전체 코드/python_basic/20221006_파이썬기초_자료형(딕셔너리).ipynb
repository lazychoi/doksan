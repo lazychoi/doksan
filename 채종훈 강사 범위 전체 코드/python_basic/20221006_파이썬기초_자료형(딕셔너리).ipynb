{
 "cells": [
  {
   "cell_type": "markdown",
   "id": "763745c5",
   "metadata": {},
   "source": [
    "# 3. 딕셔너리(Dictionary)\n",
    "\n",
    "▶ 문법 기호/함수 : {key1 : value1, key2 : value2, key3 : value3 ... } / 함수 : dict()\n",
    "\n",
    "\n",
    "▶ key로 가질 수 있는 데이터 타입 : 문자, 숫자, 튜플(Tuple)\n",
    "\n",
    "▶ value로 가질 수 있는 데이터 타입 : 문자, 숫자, 리스트(List), 딕셔너리(Dict) ...\n",
    "\n",
    "▶ 아이템 = key&value 하나의 쌍\n",
    "\n",
    "▶ 종류\n",
    "\n",
    "     * 아이템이 없는 딕셔너리\n",
    "    \n",
    "     * 1차원 딕셔너리\n",
    "    \n",
    "     * 다차원 딕셔너리 \n",
    "    \n",
    "    \n",
    "▶ 특징\n",
    "\n",
    "     * key, value의 차이점\n",
    "    \n",
    "     * 인덱스 번호를 가지지 않는다."
   ]
  },
  {
   "cell_type": "markdown",
   "id": "4420ae8c",
   "metadata": {},
   "source": [
    "### 1. 생성하기"
   ]
  },
  {
   "cell_type": "code",
   "execution_count": 1,
   "id": "6e36dc33",
   "metadata": {},
   "outputs": [
    {
     "data": {
      "text/plain": [
       "dict"
      ]
     },
     "execution_count": 1,
     "metadata": {},
     "output_type": "execute_result"
    }
   ],
   "source": [
    "# 딕셔너리 생성하기\n",
    "# 문법기호 : {k1:v1, k2:v2 ......}\n",
    "d1 = {1:10, 2:20, 3:30}\n",
    "type(d1)"
   ]
  },
  {
   "cell_type": "code",
   "execution_count": 3,
   "id": "2613c8f5",
   "metadata": {},
   "outputs": [
    {
     "data": {
      "text/plain": [
       "dict"
      ]
     },
     "execution_count": 3,
     "metadata": {},
     "output_type": "execute_result"
    }
   ],
   "source": [
    "# dict()를 이용해서 생성할수도 있다.\n",
    "d2 = dict()\n",
    "type(d2)"
   ]
  },
  {
   "cell_type": "code",
   "execution_count": 5,
   "id": "f3129bec",
   "metadata": {},
   "outputs": [
    {
     "data": {
      "text/plain": [
       "list"
      ]
     },
     "execution_count": 5,
     "metadata": {},
     "output_type": "execute_result"
    }
   ],
   "source": [
    "# 2차원 자료를 이용해 딕셔너리로 변환 가능\n",
    "x = [['a', 'b'], \n",
    "     ['a1', 'b1'], \n",
    "     ['a2', 'b2']]\n",
    "type(x)"
   ]
  },
  {
   "cell_type": "code",
   "execution_count": 6,
   "id": "434a1ab4",
   "metadata": {},
   "outputs": [
    {
     "data": {
      "text/plain": [
       "{'a': 'b', 'a1': 'b1', 'a2': 'b2'}"
      ]
     },
     "execution_count": 6,
     "metadata": {},
     "output_type": "execute_result"
    }
   ],
   "source": [
    "# 딕셔너리로 변환\n",
    "dict(x)"
   ]
  },
  {
   "cell_type": "code",
   "execution_count": 7,
   "id": "92609463",
   "metadata": {},
   "outputs": [
    {
     "data": {
      "text/plain": [
       "{1: [1, 2, 3], 2: {'a': 'b'}}"
      ]
     },
     "execution_count": 7,
     "metadata": {},
     "output_type": "execute_result"
    }
   ],
   "source": [
    "# 딕셔너리의 value값에 들어갈 수 있는 자료에는 제약이 없다\n",
    "{1:[1, 2, 3], 2:{'a':'b'}}"
   ]
  },
  {
   "cell_type": "code",
   "execution_count": 8,
   "id": "1f28ce86",
   "metadata": {},
   "outputs": [
    {
     "data": {
      "text/plain": [
       "{'name': '임꺽정', 'name2': '임꺽정'}"
      ]
     },
     "execution_count": 8,
     "metadata": {},
     "output_type": "execute_result"
    }
   ],
   "source": [
    "# key와 value의 차이\n",
    "# key값에는 중복된 자료가 못 들어가며\n",
    "# 만약 선언단계에서 중복된 key로 선언시 가장 마지막 하나만 반영된다.\n",
    "{\"name\":'홍길동', 'name':'임꺽정', 'name2':'임꺽정'}"
   ]
  },
  {
   "cell_type": "markdown",
   "id": "7ac88c5d",
   "metadata": {},
   "source": [
    "### 2. 인덱싱\n",
    "\n",
    "- 인덱싱 문법 기호\n",
    "\n",
    "- 일차원 Vs 다차원 인덱싱\n",
    "\n",
    "- 딕셔너리 내장함수로 인덱싱"
   ]
  },
  {
   "cell_type": "code",
   "execution_count": 10,
   "id": "e8ace155",
   "metadata": {},
   "outputs": [
    {
     "data": {
      "text/plain": [
       "1"
      ]
     },
     "execution_count": 10,
     "metadata": {},
     "output_type": "execute_result"
    }
   ],
   "source": [
    "# 기존의 인덱싱 방법 : 객체[인덱싱번호]\n",
    "a = [1, 2, 3]\n",
    "a[0]"
   ]
  },
  {
   "cell_type": "code",
   "execution_count": 11,
   "id": "a2231328",
   "metadata": {},
   "outputs": [],
   "source": [
    "# 문자, 리스트타입 인덱싱과의 차이점 : 기준값이 인덱스번호가 아닌 key값을 사용\n",
    "d1 = {'a':10, 'b':20, 'c':30}"
   ]
  },
  {
   "cell_type": "code",
   "execution_count": 15,
   "id": "da69ef69",
   "metadata": {},
   "outputs": [
    {
     "data": {
      "text/plain": [
       "30"
      ]
     },
     "execution_count": 15,
     "metadata": {},
     "output_type": "execute_result"
    }
   ],
   "source": [
    "# 인덱싱 방식 : 없는 key값을 조회하면 에러\n",
    "d1['c']"
   ]
  },
  {
   "cell_type": "code",
   "execution_count": 19,
   "id": "3a2aab62",
   "metadata": {},
   "outputs": [],
   "source": [
    "# 내장함수 .get()을 사용하면, 없는 키값으로 조회해도 에러가 나지 않는다.\n",
    "d1.get('bd')"
   ]
  },
  {
   "cell_type": "code",
   "execution_count": 20,
   "id": "96c5b1b3",
   "metadata": {},
   "outputs": [
    {
     "ename": "TypeError",
     "evalue": "unhashable type: 'slice'",
     "output_type": "error",
     "traceback": [
      "\u001b[1;31m---------------------------------------------------------------------------\u001b[0m",
      "\u001b[1;31mTypeError\u001b[0m                                 Traceback (most recent call last)",
      "Input \u001b[1;32mIn [20]\u001b[0m, in \u001b[0;36m<cell line: 3>\u001b[1;34m()\u001b[0m\n\u001b[0;32m      1\u001b[0m \u001b[38;5;66;03m# 딕셔너리는 슬라이싱이 불가능하다.\u001b[39;00m\n\u001b[0;32m      2\u001b[0m \u001b[38;5;66;03m# 슬라이싱 대신 반복문을 사용해야 한다.\u001b[39;00m\n\u001b[1;32m----> 3\u001b[0m \u001b[43md1\u001b[49m\u001b[43m[\u001b[49m\u001b[38;5;124;43m'\u001b[39;49m\u001b[38;5;124;43ma\u001b[39;49m\u001b[38;5;124;43m'\u001b[39;49m\u001b[43m:\u001b[49m\u001b[38;5;124;43m'\u001b[39;49m\u001b[38;5;124;43mc\u001b[39;49m\u001b[38;5;124;43m'\u001b[39;49m\u001b[43m]\u001b[49m\n",
      "\u001b[1;31mTypeError\u001b[0m: unhashable type: 'slice'"
     ]
    }
   ],
   "source": [
    "# 딕셔너리는 슬라이싱이 불가능하다.\n",
    "# 슬라이싱 대신 반복문을 사용해야 한다.\n",
    "d1['a':'c']"
   ]
  },
  {
   "cell_type": "markdown",
   "id": "2f43a0e5",
   "metadata": {},
   "source": [
    "### << 연습문제 >>\n",
    "\n",
    "아래와 같은 다차원 딕셔너리를 만들고 제시한 값을 출력해보세요.\n",
    "\n",
    "    {'a' : [1, 2, 3], 'b' : 100, 'c' : {'key1' : ['파인애플', '포도', '바나나'], 'key2' : (55, 66)}}\n",
    "    \n",
    "* 1) 3 출력하기\n",
    "\n",
    "* 2) ['파인애플', '포도', '바나나']\n",
    "\n",
    "* 3) 포도 출력하기\n",
    "\n",
    "* 4) 55 출력하기"
   ]
  },
  {
   "cell_type": "code",
   "execution_count": 21,
   "id": "68ed9ccd",
   "metadata": {},
   "outputs": [],
   "source": [
    "d1= {'a' : [1, 2, 3], \n",
    "     'b' : 100, \n",
    "     'c' : {'key1' : ['파인애플', '포도', '바나나'], \n",
    "            'key2' : (55, 66)}}"
   ]
  },
  {
   "cell_type": "code",
   "execution_count": 24,
   "id": "3d00d0f4",
   "metadata": {},
   "outputs": [
    {
     "data": {
      "text/plain": [
       "3"
      ]
     },
     "execution_count": 24,
     "metadata": {},
     "output_type": "execute_result"
    }
   ],
   "source": [
    "#* 1) 3 출력하기\n",
    "d1['a'][2]"
   ]
  },
  {
   "cell_type": "code",
   "execution_count": 26,
   "id": "4472ba5f",
   "metadata": {},
   "outputs": [
    {
     "data": {
      "text/plain": [
       "['파인애플', '포도', '바나나']"
      ]
     },
     "execution_count": 26,
     "metadata": {},
     "output_type": "execute_result"
    }
   ],
   "source": [
    "#* 2) ['파인애플', '포도', '바나나']\n",
    "d1['c']['key1']"
   ]
  },
  {
   "cell_type": "code",
   "execution_count": 28,
   "id": "1e969ed3",
   "metadata": {},
   "outputs": [
    {
     "data": {
      "text/plain": [
       "'포도'"
      ]
     },
     "execution_count": 28,
     "metadata": {},
     "output_type": "execute_result"
    }
   ],
   "source": [
    "#* 3) 포도 출력하기\n",
    "d1['c']['key1'][1]"
   ]
  },
  {
   "cell_type": "code",
   "execution_count": 30,
   "id": "636fa90e",
   "metadata": {},
   "outputs": [
    {
     "data": {
      "text/plain": [
       "55"
      ]
     },
     "execution_count": 30,
     "metadata": {},
     "output_type": "execute_result"
    }
   ],
   "source": [
    "#* 4) 55 출력하기\n",
    "d1['c']['key2'][0]"
   ]
  },
  {
   "cell_type": "markdown",
   "id": "77acd8c6",
   "metadata": {},
   "source": [
    "### 3. 아이템 추가하기\n",
    "\n",
    "- 인덱싱 방식으로 새로운 아이템 추가\n",
    "\n",
    "- 메소드 : update()"
   ]
  },
  {
   "cell_type": "code",
   "execution_count": 1,
   "id": "2440b6dc",
   "metadata": {},
   "outputs": [],
   "source": [
    "d1 = {'a':1, 'b':2, 'c':3}"
   ]
  },
  {
   "cell_type": "code",
   "execution_count": 2,
   "id": "fd115046",
   "metadata": {},
   "outputs": [
    {
     "data": {
      "text/plain": [
       "{'a': 1, 'b': 2, 'c': 3, 'd': 4}"
      ]
     },
     "execution_count": 2,
     "metadata": {},
     "output_type": "execute_result"
    }
   ],
   "source": [
    "# 새로운 key값(인덱싱)에 value값을 할당하여 아이템 추가\n",
    "d1['d'] = 4\n",
    "d1"
   ]
  },
  {
   "cell_type": "code",
   "execution_count": 3,
   "id": "a290556b",
   "metadata": {},
   "outputs": [
    {
     "data": {
      "text/plain": [
       "{'a': 10, 'b': 2, 'c': 3, 'd': 4}"
      ]
     },
     "execution_count": 3,
     "metadata": {},
     "output_type": "execute_result"
    }
   ],
   "source": [
    "# 기존에 존재하는 key값에 대해서 value를 할당하면 값이 새롭게 갱신됨\n",
    "d1['a'] = 10\n",
    "d1"
   ]
  },
  {
   "cell_type": "code",
   "execution_count": 4,
   "id": "9e19fcee",
   "metadata": {},
   "outputs": [
    {
     "data": {
      "text/plain": [
       "{'a': 10, 'b': 2, 'c': 3, 'd': 4, 'e': 10, 'z': 40, 'v': 100}"
      ]
     },
     "execution_count": 4,
     "metadata": {},
     "output_type": "execute_result"
    }
   ],
   "source": [
    "# 하나 이상의 아이템(key & value) 추가/수정 : 딕셔너리자료.update()\n",
    "# 추가할 아이템 타입 : 딕셔너리를 직접 넣어줘도 되고\n",
    "# 딕셔너리로 변환이 가능한 리스트를 넣어줘도 됩니다.\n",
    "# 'e':10, 'z':40, 'v':100\n",
    "d1.update({'e':10, 'z':40, 'v':100})\n",
    "d1"
   ]
  },
  {
   "cell_type": "code",
   "execution_count": 5,
   "id": "af8b256a",
   "metadata": {},
   "outputs": [],
   "source": [
    "# 리스트로 처리하기\n",
    "d2 = {'a':10, 'b':2, 'c':3, 'd':4}"
   ]
  },
  {
   "cell_type": "code",
   "execution_count": 6,
   "id": "d5e484ca",
   "metadata": {},
   "outputs": [
    {
     "data": {
      "text/plain": [
       "{'a': 10, 'b': 10, 'c': 3, 'd': 4, 'e': 50, 'f': 100}"
      ]
     },
     "execution_count": 6,
     "metadata": {},
     "output_type": "execute_result"
    }
   ],
   "source": [
    "data = [['b', 10], \n",
    "        ['e', 50], \n",
    "        ['f', 100]]\n",
    "d2.update(data)\n",
    "d2"
   ]
  },
  {
   "cell_type": "code",
   "execution_count": 7,
   "id": "c3368e9b",
   "metadata": {},
   "outputs": [
    {
     "data": {
      "text/plain": [
       "{'b': 10, 'e': 50, 'f': 100}"
      ]
     },
     "execution_count": 7,
     "metadata": {},
     "output_type": "execute_result"
    }
   ],
   "source": [
    "# 딕셔너리로 변환되는 리스트 형식이기 때문에 가능합니다.\n",
    "dict(data)"
   ]
  },
  {
   "cell_type": "code",
   "execution_count": 8,
   "id": "8670b53f",
   "metadata": {},
   "outputs": [
    {
     "data": {
      "text/plain": [
       "['a', 'b', 'c', 'd', 'e', 'f']"
      ]
     },
     "execution_count": 8,
     "metadata": {},
     "output_type": "execute_result"
    }
   ],
   "source": [
    "# 딕셔너리를 리스트로 돌릴때는 키값만 복원됩니다.\n",
    "list(d2)"
   ]
  },
  {
   "cell_type": "markdown",
   "id": "c1c38807",
   "metadata": {},
   "source": [
    "### 4. 삭제하기\n",
    "\n",
    "- 하나의 아이템 삭제하기\n",
    "\n",
    "- 모든 아이템 삭제하기 : 빈 딕셔너리만 남습니다."
   ]
  },
  {
   "cell_type": "code",
   "execution_count": 9,
   "id": "602e5d3c",
   "metadata": {},
   "outputs": [
    {
     "data": {
      "text/plain": [
       "{'a': 10, 'b': 10, 'c': 3, 'd': 4, 'e': 50, 'f': 100}"
      ]
     },
     "execution_count": 9,
     "metadata": {},
     "output_type": "execute_result"
    }
   ],
   "source": [
    "# 하나의 아이템 삭제하기 : del 키워드 + 딕셔너리 인덱싱\n",
    "# 단, .get()을 이용한 삭제는 불가능합니다.\n",
    "d2"
   ]
  },
  {
   "cell_type": "code",
   "execution_count": 10,
   "id": "14932081",
   "metadata": {},
   "outputs": [
    {
     "data": {
      "text/plain": [
       "{'a': 10, 'b': 10, 'c': 3, 'e': 50, 'f': 100}"
      ]
     },
     "execution_count": 10,
     "metadata": {},
     "output_type": "execute_result"
    }
   ],
   "source": [
    "del d2['d']# del d2.get('d') 로는 동작하지 않으므로 주의해주세요.\n",
    "d2"
   ]
  },
  {
   "cell_type": "code",
   "execution_count": 11,
   "id": "6dc1462a",
   "metadata": {},
   "outputs": [],
   "source": [
    "# 딕셔너리 통째로 비우기 : 딕셔너리.clear()\n",
    "# del은 딕셔너리 자체를 파기(상자도 사라짐)하지만, .clear()는 빈 딕셔너리를 남깁니다.\n",
    "d2.clear()"
   ]
  },
  {
   "cell_type": "code",
   "execution_count": 12,
   "id": "e0c10862",
   "metadata": {},
   "outputs": [
    {
     "data": {
      "text/plain": [
       "{}"
      ]
     },
     "execution_count": 12,
     "metadata": {},
     "output_type": "execute_result"
    }
   ],
   "source": [
    "d2"
   ]
  },
  {
   "cell_type": "code",
   "execution_count": 13,
   "id": "4c41eb2a",
   "metadata": {},
   "outputs": [
    {
     "data": {
      "text/plain": [
       "{'a': 10, 'b': 2, 'c': 3, 'd': 4, 'e': 10, 'z': 40, 'v': 100}"
      ]
     },
     "execution_count": 13,
     "metadata": {},
     "output_type": "execute_result"
    }
   ],
   "source": [
    "d1"
   ]
  },
  {
   "cell_type": "code",
   "execution_count": 14,
   "id": "d4525515",
   "metadata": {},
   "outputs": [
    {
     "ename": "NameError",
     "evalue": "name 'd1' is not defined",
     "output_type": "error",
     "traceback": [
      "\u001b[1;31m---------------------------------------------------------------------------\u001b[0m",
      "\u001b[1;31mNameError\u001b[0m                                 Traceback (most recent call last)",
      "Input \u001b[1;32mIn [14]\u001b[0m, in \u001b[0;36m<cell line: 3>\u001b[1;34m()\u001b[0m\n\u001b[0;32m      1\u001b[0m \u001b[38;5;66;03m# 주의 : del 키워드로 변수 삭제시 통째로 자료가 날아감(빈 딕셔너리도 없음)\u001b[39;00m\n\u001b[0;32m      2\u001b[0m \u001b[38;5;28;01mdel\u001b[39;00m d1\n\u001b[1;32m----> 3\u001b[0m \u001b[43md1\u001b[49m\n",
      "\u001b[1;31mNameError\u001b[0m: name 'd1' is not defined"
     ]
    }
   ],
   "source": [
    "# 주의 : del 키워드로 변수 삭제시 통째로 자료가 날아감(빈 딕셔너리도 없음)\n",
    "del d1\n",
    "d1"
   ]
  },
  {
   "cell_type": "markdown",
   "id": "96fa3957",
   "metadata": {},
   "source": [
    "### 5. 딕셔너리 내장함수 & 관련 연산자\n",
    "\n",
    "- 딕셔너리타입.keys()\n",
    "\n",
    "- 딕셔너리타입.values()\n",
    "\n",
    "- 딕셔너리타입.items()\n",
    "\n",
    "- in 연산자"
   ]
  },
  {
   "cell_type": "code",
   "execution_count": 15,
   "id": "b55de801",
   "metadata": {},
   "outputs": [
    {
     "data": {
      "text/plain": [
       "dict_keys(['name', 'age', 'job'])"
      ]
     },
     "execution_count": 15,
     "metadata": {},
     "output_type": "execute_result"
    }
   ],
   "source": [
    "# 딕셔너리가 가지고 있는 key만 리스트 형식으로 반환 : .keys()\n",
    "d1 = {'name':'홍길동', 'age':18, 'job':'학생'}\n",
    "d1.keys()"
   ]
  },
  {
   "cell_type": "code",
   "execution_count": 17,
   "id": "6848dfe8",
   "metadata": {},
   "outputs": [
    {
     "data": {
      "text/plain": [
       "['name', 'age', 'job']"
      ]
     },
     "execution_count": 17,
     "metadata": {},
     "output_type": "execute_result"
    }
   ],
   "source": [
    "# 리스트로 교환이 쉽습니다.(자료형 변환)\n",
    "list(d1.keys())"
   ]
  },
  {
   "cell_type": "code",
   "execution_count": 18,
   "id": "c7ef56de",
   "metadata": {},
   "outputs": [
    {
     "data": {
      "text/plain": [
       "dict_values(['홍길동', 18, '학생'])"
      ]
     },
     "execution_count": 18,
     "metadata": {},
     "output_type": "execute_result"
    }
   ],
   "source": [
    "# 딕셔너리가 가지고 있는 value만 리스트 형식으로 변환 : .values()\n",
    "d1.values()"
   ]
  },
  {
   "cell_type": "code",
   "execution_count": 19,
   "id": "e38bc081",
   "metadata": {},
   "outputs": [
    {
     "data": {
      "text/plain": [
       "dict_items([('name', '홍길동'), ('age', 18), ('job', '학생')])"
      ]
     },
     "execution_count": 19,
     "metadata": {},
     "output_type": "execute_result"
    }
   ],
   "source": [
    "# 딕셔너리가 가진 아이템(key & value쌍)을 튜플로 묶어서 리스트 형식으로 반환\n",
    "# .items()\n",
    "d1.items()"
   ]
  },
  {
   "cell_type": "code",
   "execution_count": 25,
   "id": "0c416f35",
   "metadata": {},
   "outputs": [
    {
     "data": {
      "text/plain": [
       "[('name', '홍길동'), ('age', 18), ('job', '학생')]"
      ]
     },
     "execution_count": 25,
     "metadata": {},
     "output_type": "execute_result"
    }
   ],
   "source": [
    "list(d1.items())"
   ]
  },
  {
   "cell_type": "code",
   "execution_count": 29,
   "id": "62c92879",
   "metadata": {},
   "outputs": [
    {
     "data": {
      "text/plain": [
       "True"
      ]
     },
     "execution_count": 29,
     "metadata": {},
     "output_type": "execute_result"
    }
   ],
   "source": [
    "# in 키워드로 조회할 key값이 존재하는지 여부를 검사할 수 있습니다.\n",
    "'age' in d1"
   ]
  },
  {
   "cell_type": "markdown",
   "id": "75a6fff1",
   "metadata": {},
   "source": [
    "### << 연습문제 >>\n",
    "\n",
    "1. 아래와 같은 딕셔너리를 생성하고 해당 딕셔너리의 value 중 최소값을 구하여 형식에 맞게 출력하세요.\n",
    "\n",
    "         - 생성 딕셔너리 : {'A':9, 'B':80, 'C':70}\n",
    "         \n",
    "         - 조건1. 생성한 딕셔너리에 \" 'D' : 20, 'E' : 100, 'F' : 10  \" 아이템 3개를 추가하세요.\n",
    "         \n",
    "         - 조건2. key 'A'의 값을 9 에서 90 으로 변경하세요.\n",
    "         \n",
    "         - 조건3. '최소 값 10을 가진 key는 F입니다.'로 포맷팅을 사용하여 출력하고 10을 포맷팅 값으로 사용하세요.\n",
    "         \n",
    "         - 조건4. 최소 값은 딕셔너리에 속한 내장함수와 파이썬 내장함수를 모두 사용하여 구해보세요."
   ]
  },
  {
   "cell_type": "code",
   "execution_count": 30,
   "id": "d8d8644b",
   "metadata": {},
   "outputs": [],
   "source": [
    "d1 = {'A':9, 'B':80, 'C':70}"
   ]
  },
  {
   "cell_type": "code",
   "execution_count": 31,
   "id": "420dc3ad",
   "metadata": {},
   "outputs": [
    {
     "data": {
      "text/plain": [
       "{'A': 9, 'B': 80, 'C': 70, 'D': 20, 'E': 100, 'F': 10}"
      ]
     },
     "execution_count": 31,
     "metadata": {},
     "output_type": "execute_result"
    }
   ],
   "source": [
    "#1. 생성한 딕셔너리에 \" 'D' : 20, 'E' : 100, 'F' : 10  \" 아이템 3개를 추가하세요.\n",
    "d1['D'] = 20\n",
    "d1.update({'E':100, 'F':10})\n",
    "d1"
   ]
  },
  {
   "cell_type": "code",
   "execution_count": 32,
   "id": "b124f3c0",
   "metadata": {},
   "outputs": [
    {
     "data": {
      "text/plain": [
       "{'A': 90, 'B': 80, 'C': 70, 'D': 20, 'E': 100, 'F': 10}"
      ]
     },
     "execution_count": 32,
     "metadata": {},
     "output_type": "execute_result"
    }
   ],
   "source": [
    "#2. key 'A'의 값을 9 에서 90 으로 변경하세요.\n",
    "d1['A'] = 90\n",
    "d1"
   ]
  },
  {
   "cell_type": "code",
   "execution_count": 33,
   "id": "47d49181",
   "metadata": {},
   "outputs": [
    {
     "data": {
      "text/plain": [
       "'최소값 10를 가진 key는 F입니다.'"
      ]
     },
     "execution_count": 33,
     "metadata": {},
     "output_type": "execute_result"
    }
   ],
   "source": [
    "#3. '최소 값 10을 가진 key는 F입니다.'로 포맷팅을 사용하여 출력하고 \n",
    "# 10을 포맷팅 값으로 사용하세요.(%d, %s 등을 사용해주세요.)\n",
    "'최소값 %d를 가진 key는 %s입니다.' % (d1['F'], 'F')"
   ]
  },
  {
   "cell_type": "code",
   "execution_count": 34,
   "id": "314f22fa",
   "metadata": {},
   "outputs": [
    {
     "data": {
      "text/plain": [
       "10"
      ]
     },
     "execution_count": 34,
     "metadata": {},
     "output_type": "execute_result"
    }
   ],
   "source": [
    "#4. 최소 값은 딕셔너리에 속한 내장함수와 파이썬 내장함수를 모두 사용하여 구해보세요.\n",
    "# min(리스트) 를 실행하면 해당 리스트 내에서 가장 작은 값 하나가 잡혀나옵니다.\n",
    "min(d1.values())"
   ]
  },
  {
   "cell_type": "code",
   "execution_count": null,
   "id": "4750cc29",
   "metadata": {},
   "outputs": [],
   "source": []
  }
 ],
 "metadata": {
  "kernelspec": {
   "display_name": "Python 3 (ipykernel)",
   "language": "python",
   "name": "python3"
  },
  "language_info": {
   "codemirror_mode": {
    "name": "ipython",
    "version": 3
   },
   "file_extension": ".py",
   "mimetype": "text/x-python",
   "name": "python",
   "nbconvert_exporter": "python",
   "pygments_lexer": "ipython3",
   "version": "3.9.12"
  }
 },
 "nbformat": 4,
 "nbformat_minor": 5
}
