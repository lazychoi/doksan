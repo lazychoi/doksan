{
 "cells": [
  {
   "cell_type": "markdown",
   "id": "2c80c21f",
   "metadata": {},
   "source": [
    "# 자료형\n",
    "\n",
    "여러 개의 아이템들을 저장하는 객체 = 여러 개의 값(데이터타입)을 저장하는 그릇\n",
    "\n",
    "## 1. 리스트(List)\n",
    "\n",
    "▶ 문법 기호 : [아이템1, 아이템2, 아이템3 .... ]\n",
    "\n",
    "\n",
    "▶ 용어 : 아이템 = 요소\n",
    "\n",
    "\n",
    "▶ 아이템으로 가질 수 있는 데이터 타입 : 문자, 숫자, 리스트, 딕셔너리 ...\n",
    "\n",
    "\n",
    "▶ 종류\n",
    "\n",
    "     * 아이템이 없는 리스트\n",
    "    \n",
    "     * 1차원 리스트\n",
    "    \n",
    "     * 다차원 리스트 \n",
    "    \n",
    "    \n",
    "▶ 특징\n",
    "\n",
    "     * 인덱스 활용\n",
    "    \n",
    "     * 다차원 리스트의 구조에 대한 이해"
   ]
  },
  {
   "cell_type": "markdown",
   "id": "5e6fd5ff",
   "metadata": {},
   "source": [
    "### 1. 생성하기"
   ]
  },
  {
   "cell_type": "code",
   "execution_count": 2,
   "id": "e6705354",
   "metadata": {},
   "outputs": [
    {
     "name": "stdout",
     "output_type": "stream",
     "text": [
      "<class 'list'> <class 'list'>\n",
      "[] []\n"
     ]
    }
   ],
   "source": [
    "# 빈 리스트 생성하기 = 아이템이 없는 리스트\n",
    "# 문법기호 : []\n",
    "# 함수 : list()\n",
    "a = []\n",
    "a2 = list()\n",
    "print(type(a), type(a2))\n",
    "print(a, a2)"
   ]
  },
  {
   "cell_type": "code",
   "execution_count": 3,
   "id": "ac715a6f",
   "metadata": {},
   "outputs": [],
   "source": [
    "# 모든 데이터타입을 아이템으로 가질 수 있다.\n",
    "a3 = ['a', \n",
    "      10, \n",
    "      1.1, \n",
    "      [1, 23.1, 'a']]"
   ]
  },
  {
   "cell_type": "code",
   "execution_count": 13,
   "id": "2a7ab1be",
   "metadata": {},
   "outputs": [
    {
     "data": {
      "text/plain": [
       "1"
      ]
     },
     "execution_count": 13,
     "metadata": {},
     "output_type": "execute_result"
    }
   ],
   "source": [
    "# 2차원 데이터는 마치 좌표처럼 데이터를 지목해 출력할 수 있습니다.\n",
    "a3[3][0]"
   ]
  },
  {
   "cell_type": "markdown",
   "id": "783e978b",
   "metadata": {},
   "source": [
    "## 2. 인덱싱, 슬라이싱\n",
    "\n",
    "리스트를 인덱스 번호로 접근하면 해당하는 위치의 값(아이템)을 가져온다.\n",
    "\n",
    "* 복습\n",
    "\n",
    "    - 첫 번째 인덱스 번호는 ? : 0번 인덱스\n",
    "    - 마지막 인덱스 번호는 ? : -1"
   ]
  },
  {
   "cell_type": "markdown",
   "id": "40a91b39",
   "metadata": {},
   "source": [
    "### 인덱싱(Indexing)\n",
    "\n",
    "특정 위치에 있는 하나의 아이템에 접근한다 = 하나의 값을 출력한다."
   ]
  },
  {
   "cell_type": "code",
   "execution_count": 14,
   "id": "8c6ee4e9",
   "metadata": {},
   "outputs": [],
   "source": [
    "# 리스트 생성하기\n",
    "a = [1, 2, 3, 4, 5, 6, 7, 8, 9]"
   ]
  },
  {
   "cell_type": "code",
   "execution_count": 15,
   "id": "bb3b26b8",
   "metadata": {},
   "outputs": [
    {
     "data": {
      "text/plain": [
       "1"
      ]
     },
     "execution_count": 15,
     "metadata": {},
     "output_type": "execute_result"
    }
   ],
   "source": [
    "# 첫 번째 아이템 인덱스 번호 : 0\n",
    "# 인덱싱 문법: 객체[인덱스번호]\n",
    "a[0]"
   ]
  },
  {
   "cell_type": "code",
   "execution_count": 16,
   "id": "d5468b14",
   "metadata": {},
   "outputs": [
    {
     "data": {
      "text/plain": [
       "6"
      ]
     },
     "execution_count": 16,
     "metadata": {},
     "output_type": "execute_result"
    }
   ],
   "source": [
    "# 리스트에서 6이라는 아이템 가져와보기\n",
    "a[5]"
   ]
  },
  {
   "cell_type": "code",
   "execution_count": 19,
   "id": "2b9d7480",
   "metadata": {},
   "outputs": [
    {
     "data": {
      "text/plain": [
       "9"
      ]
     },
     "execution_count": 19,
     "metadata": {},
     "output_type": "execute_result"
    }
   ],
   "source": [
    "# 리스트의 마지막 값 확인하기\n",
    "a[8]\n",
    "a[-1]\n",
    "a[len(a) - 1]"
   ]
  },
  {
   "cell_type": "code",
   "execution_count": 20,
   "id": "a45655f9",
   "metadata": {},
   "outputs": [
    {
     "data": {
      "text/plain": [
       "9"
      ]
     },
     "execution_count": 20,
     "metadata": {},
     "output_type": "execute_result"
    }
   ],
   "source": [
    "# len()은 인덱스 번호를 가지는 모든 자료의 길이를 재줍니다.\n",
    "len(a)"
   ]
  },
  {
   "cell_type": "markdown",
   "id": "c4e527bd",
   "metadata": {},
   "source": [
    "### 슬라이싱(Slicing)\n",
    "\n",
    "- 정의 복습 : 연속된 범위에 있는 하나 혹은 하나 이상의 여러개 아이템에 접근한다\n",
    "- 문법기호 : 리스트[시작번호:끝번호(:간격)] => 역시 마지막번호 -1까지만 접근"
   ]
  },
  {
   "cell_type": "code",
   "execution_count": 21,
   "id": "180ce206",
   "metadata": {},
   "outputs": [
    {
     "data": {
      "text/plain": [
       "[1, 2, 3, 4, 5, 6, 7, 8, 9]"
      ]
     },
     "execution_count": 21,
     "metadata": {},
     "output_type": "execute_result"
    }
   ],
   "source": [
    "a"
   ]
  },
  {
   "cell_type": "code",
   "execution_count": 22,
   "id": "794c3b33",
   "metadata": {},
   "outputs": [
    {
     "data": {
      "text/plain": [
       "[1, 2, 3]"
      ]
     },
     "execution_count": 22,
     "metadata": {},
     "output_type": "execute_result"
    }
   ],
   "source": [
    "# 리스트의 0~2번째 아이템가지 확인하기\n",
    "# 시작번호 : 0\n",
    "# 끝번호 : 2 -> 3\n",
    "a[0:3]"
   ]
  },
  {
   "cell_type": "code",
   "execution_count": 23,
   "id": "ca2447d8",
   "metadata": {},
   "outputs": [
    {
     "data": {
      "text/plain": [
       "[4, 5, 6, 7, 8, 9]"
      ]
     },
     "execution_count": 23,
     "metadata": {},
     "output_type": "execute_result"
    }
   ],
   "source": [
    "# 리스트의 3번째 아이템부터 마지막 아이템까지 확인하기\n",
    "a[3:]"
   ]
  },
  {
   "cell_type": "markdown",
   "id": "771e3f87",
   "metadata": {},
   "source": [
    "### 3. 아이템 추가하기 : 연산자와 함수를 이용한 리스트 아이템 추가\n",
    "\n",
    "1) 산술연산자 : +, *\n",
    "ㅈㅈ\n",
    "2) 리스트의 함수(메서드) : 리스트.append(), 리스트.extend(), 리스트.insert()"
   ]
  },
  {
   "cell_type": "markdown",
   "id": "9d8772b9",
   "metadata": {},
   "source": [
    "### 3-1) 산술연산자\n",
    "\n",
    "    - 종류 : +, *\n",
    "    - 특징 : 원본에 반영되지 않는다(시뮬레이션)"
   ]
  },
  {
   "cell_type": "code",
   "execution_count": 24,
   "id": "415938f1",
   "metadata": {},
   "outputs": [],
   "source": [
    "# 리스트끼리 연결 : +\n",
    "a = [1, 2, 3]\n",
    "b = [4, 5, 6]"
   ]
  },
  {
   "cell_type": "code",
   "execution_count": 25,
   "id": "9968ea5f",
   "metadata": {},
   "outputs": [
    {
     "data": {
      "text/plain": [
       "[1, 2, 3, 4, 5, 6]"
      ]
     },
     "execution_count": 25,
     "metadata": {},
     "output_type": "execute_result"
    }
   ],
   "source": [
    "a + b"
   ]
  },
  {
   "cell_type": "code",
   "execution_count": 26,
   "id": "3a00f078",
   "metadata": {},
   "outputs": [
    {
     "name": "stdout",
     "output_type": "stream",
     "text": [
      "[1, 2, 3] [4, 5, 6]\n"
     ]
    }
   ],
   "source": [
    "print(a, b)"
   ]
  },
  {
   "cell_type": "code",
   "execution_count": 27,
   "id": "ac690b4f",
   "metadata": {},
   "outputs": [
    {
     "data": {
      "text/plain": [
       "[4, 5, 6, 4, 5, 6, 4, 5, 6]"
      ]
     },
     "execution_count": 27,
     "metadata": {},
     "output_type": "execute_result"
    }
   ],
   "source": [
    "# 리스트 대상 곱하기 : *\n",
    "b * 3 #b + b + b"
   ]
  },
  {
   "cell_type": "code",
   "execution_count": 28,
   "id": "a9a9e908",
   "metadata": {},
   "outputs": [
    {
     "data": {
      "text/plain": [
       "[4, 5, 6]"
      ]
     },
     "execution_count": 28,
     "metadata": {},
     "output_type": "execute_result"
    }
   ],
   "source": [
    "b"
   ]
  },
  {
   "cell_type": "markdown",
   "id": "e02302f6",
   "metadata": {},
   "source": [
    "### 4. 리스트 타입의 함수 (method)\n",
    "* 종류\n",
    "\n",
    "    - 리스트.append(추가할 아이템) : 인자값을 통채로 리스트의 마지막 아이템으로 추가, 인자값은 1개만 받음 = 1개의 아이템만 추가 가능\n",
    "\n",
    "    - 리스트.extend(추가할 아이템) : 인자값의 아이템을 뽑아서 리스트의 마지막 아이템으로 추가, 인자값은 1개만 받음, 단 여러 개의 아이템 추가 가능\n",
    "    \n",
    "    - 리스트.insert(인덱스번호, 추가할 아이템) : 위치를 지정해서 아이템을 삽입할 수 있음, 통채로 아이템을 추가\n",
    "    \n",
    "    - 특징 : 원본에 바로 적용이 됨\n",
    "    \n",
    "    \n",
    "* 참고 연산자 : in 연산자 (결과값은 bool type)"
   ]
  },
  {
   "cell_type": "code",
   "execution_count": 2,
   "id": "6e4775ee",
   "metadata": {},
   "outputs": [
    {
     "data": {
      "text/plain": [
       "[1, 2, 3]"
      ]
     },
     "execution_count": 2,
     "metadata": {},
     "output_type": "execute_result"
    }
   ],
   "source": [
    "# 리스트 생성하기\n",
    "a = [1, 2, 3]\n",
    "a"
   ]
  },
  {
   "cell_type": "code",
   "execution_count": 3,
   "id": "2d948b1c",
   "metadata": {},
   "outputs": [
    {
     "data": {
      "text/plain": [
       "[1, 2, 3, 4]"
      ]
     },
     "execution_count": 3,
     "metadata": {},
     "output_type": "execute_result"
    }
   ],
   "source": [
    "# append()\n",
    "# 문법 : 리스트.append(추가할 아이템)\n",
    "a.append(4)\n",
    "a"
   ]
  },
  {
   "cell_type": "code",
   "execution_count": 4,
   "id": "3c0bba15",
   "metadata": {},
   "outputs": [
    {
     "data": {
      "text/plain": [
       "[1, 2, 3, 4, [5, 6]]"
      ]
     },
     "execution_count": 4,
     "metadata": {},
     "output_type": "execute_result"
    }
   ],
   "source": [
    "# 추가할 자료로 [5, 6]을 제공한다면?\n",
    "a.append([5, 6])\n",
    "a"
   ]
  },
  {
   "cell_type": "code",
   "execution_count": 13,
   "id": "10ee7a4f",
   "metadata": {},
   "outputs": [
    {
     "data": {
      "text/plain": [
       "[5, 6]"
      ]
     },
     "execution_count": 13,
     "metadata": {},
     "output_type": "execute_result"
    }
   ],
   "source": [
    "a[4]"
   ]
  },
  {
   "cell_type": "code",
   "execution_count": 15,
   "id": "d9d1c6f2",
   "metadata": {},
   "outputs": [
    {
     "data": {
      "text/plain": [
       "[1, 2, 3, 4, [5, 6], 7, 8, 9]"
      ]
     },
     "execution_count": 15,
     "metadata": {},
     "output_type": "execute_result"
    }
   ],
   "source": [
    "# extend()\n",
    "# 문법 : 대상리스트.extend(리스트만입력가능)\n",
    "# append()와의 차이점 : 추가대상으로 리스트만 받을 수 있다.\n",
    "# 리스트 길이만큼 인덱스가 연장된다(append는 무조건 1만큼만 연장됨)\n",
    "a.extend([7, 8, 9])\n",
    "a"
   ]
  },
  {
   "cell_type": "code",
   "execution_count": 18,
   "id": "2dca5972",
   "metadata": {},
   "outputs": [
    {
     "data": {
      "text/plain": [
       "[1, 2, 3, 4, [5, 6], 7, 8, 9, 10]"
      ]
     },
     "execution_count": 18,
     "metadata": {},
     "output_type": "execute_result"
    }
   ],
   "source": [
    "# extend는 설령 하나의 인덱스만 연장해도 무조건 리스트로 추가해야함\n",
    "a.extend([10])\n",
    "a"
   ]
  },
  {
   "cell_type": "code",
   "execution_count": 20,
   "id": "98768ae5",
   "metadata": {},
   "outputs": [
    {
     "data": {
      "text/plain": [
       "[100, 1, 2, 3, 4, [5, 6], 7, 8, 9, 10]"
      ]
     },
     "execution_count": 20,
     "metadata": {},
     "output_type": "execute_result"
    }
   ],
   "source": [
    "# insert()\n",
    "# 문법 : 대상리스트.insert(인덱스번호, 추가할아이템)\n",
    "# 다른 함수와의 차이점 : 아이템 추가가 지정인덱스에 실행됨\n",
    "# append와의 유사점 : 하나의 인덱스번호에 모든 자료를 때려박음\n",
    "# 교체가 아닌 추가이기 때문에 실제로 소실되는 자료는 없음\n",
    "a.insert(0, 100)\n",
    "a"
   ]
  },
  {
   "cell_type": "code",
   "execution_count": 21,
   "id": "8ca1da57",
   "metadata": {},
   "outputs": [
    {
     "data": {
      "text/plain": [
       "[[99, 98], 100, 1, 2, 3, 4, [5, 6], 7, 8, 9, 10]"
      ]
     },
     "execution_count": 21,
     "metadata": {},
     "output_type": "execute_result"
    }
   ],
   "source": [
    "a.insert(0, [99, 98])\n",
    "a"
   ]
  },
  {
   "cell_type": "code",
   "execution_count": 24,
   "id": "2da691d0",
   "metadata": {},
   "outputs": [
    {
     "data": {
      "text/plain": [
       "True"
      ]
     },
     "execution_count": 24,
     "metadata": {},
     "output_type": "execute_result"
    }
   ],
   "source": [
    "# in 키워드는 특정 요소가 리스트 내에 있는지 없는지 여부를 물어봅니다.\n",
    "# 값 in 리스트\n",
    "# 100이 a리스트 내에 존재하나요? => 100 in a\n",
    "5 in a[6]"
   ]
  },
  {
   "cell_type": "code",
   "execution_count": 25,
   "id": "33defaf2",
   "metadata": {},
   "outputs": [
    {
     "data": {
      "text/plain": [
       "False"
      ]
     },
     "execution_count": 25,
     "metadata": {},
     "output_type": "execute_result"
    }
   ],
   "source": [
    "# not in 키워드는 특정 요소가 리스트 내부에 없는지를 물어봅니다.\n",
    "# 값 not in 리스트\n",
    "# 50이 a 리스트에 없습니까? -> 50 not in a\n",
    "10 not in a"
   ]
  },
  {
   "cell_type": "markdown",
   "id": "85487b2c",
   "metadata": {},
   "source": [
    "### << 연습문제 >>\n",
    "\n",
    "아래의 순서에 맞추어 직접 실행해보세요.\n",
    "\n",
    "1) 빈 리스트 생성\n",
    "\n",
    "\n",
    "2) 1번 리스트에 숫자 1,2,3 을 아이템으로 추가\n",
    "\n",
    "\n",
    "3) 2번 리스트의 3번째 위치에 문자 100 을 아이템으로 추가\n",
    "\n",
    "\n",
    "4) 3번 리스트의 마지막에 문자 A, B를 아이템으로 가진 리스트를 아이템으로 추가\n",
    "\n",
    "\n",
    "5) 4번 리스트의 아이템을 2번 반복해서 가지는 리스트를 출력"
   ]
  },
  {
   "cell_type": "code",
   "execution_count": 26,
   "id": "fb3576d4",
   "metadata": {},
   "outputs": [],
   "source": [
    "#1) 빈 리스트 생성\n",
    "list1 = list()"
   ]
  },
  {
   "cell_type": "code",
   "execution_count": 30,
   "id": "dbe64639",
   "metadata": {},
   "outputs": [
    {
     "data": {
      "text/plain": [
       "[1, 2, 3]"
      ]
     },
     "execution_count": 30,
     "metadata": {},
     "output_type": "execute_result"
    }
   ],
   "source": [
    "#2) 1번 리스트에 숫자 따로따로 1,2,3 을 아이템으로 추가\n",
    "#list1.append(1)\n",
    "#list1.append(2)\n",
    "#list1.append(3)\n",
    "list1.extend([1, 2, 3])"
   ]
  },
  {
   "cell_type": "code",
   "execution_count": 31,
   "id": "9a7f7e84",
   "metadata": {},
   "outputs": [
    {
     "data": {
      "text/plain": [
       "[1, 2, 100, 3]"
      ]
     },
     "execution_count": 31,
     "metadata": {},
     "output_type": "execute_result"
    }
   ],
   "source": [
    "#3) 2번 리스트의 2번째(사람기준 3번째) 위치에 문자 100 을 아이템으로 추가\n",
    "list1.insert(2, 100)\n",
    "list1"
   ]
  },
  {
   "cell_type": "code",
   "execution_count": 32,
   "id": "f70f49ed",
   "metadata": {},
   "outputs": [],
   "source": [
    "#4) 3번 리스트의 마지막에 문자 A, B를 아이템으로 가진 리스트를 아이템으로 추가\n",
    "list1.append(['A', 'B'])"
   ]
  },
  {
   "cell_type": "code",
   "execution_count": 33,
   "id": "a9d260cb",
   "metadata": {},
   "outputs": [
    {
     "data": {
      "text/plain": [
       "[1, 2, 100, 3, ['A', 'B']]"
      ]
     },
     "execution_count": 33,
     "metadata": {},
     "output_type": "execute_result"
    }
   ],
   "source": [
    "list1"
   ]
  },
  {
   "cell_type": "code",
   "execution_count": 35,
   "id": "19444af6",
   "metadata": {},
   "outputs": [
    {
     "data": {
      "text/plain": [
       "[1, 2, 100, 3, ['A', 'B'], 1, 2, 100, 3, ['A', 'B']]"
      ]
     },
     "execution_count": 35,
     "metadata": {},
     "output_type": "execute_result"
    }
   ],
   "source": [
    "#5) 4번 리스트의 아이템을 2번 반복해서 가지는 리스트를 출력\n",
    "list1 * 2"
   ]
  },
  {
   "cell_type": "markdown",
   "id": "e7ebed42",
   "metadata": {},
   "source": [
    "### 5. 아이템 수정하기\n",
    "\n",
    "- 인덱싱, 슬라이싱을 이용해서 아이템을 수정할 수 있다."
   ]
  },
  {
   "cell_type": "code",
   "execution_count": 36,
   "id": "04ee2520",
   "metadata": {},
   "outputs": [],
   "source": [
    "# 리스트 생성하기\n",
    "a = [1, 2, 3, 4]"
   ]
  },
  {
   "cell_type": "code",
   "execution_count": 37,
   "id": "e1fb5615",
   "metadata": {},
   "outputs": [
    {
     "data": {
      "text/plain": [
       "[[10, 20], 2, 3, 4]"
      ]
     },
     "execution_count": 37,
     "metadata": {},
     "output_type": "execute_result"
    }
   ],
   "source": [
    "# 하나의 아이템 수정하기\n",
    "# 0번 인덱스에 있는 값을 [10, 20]으로 수정하기\n",
    "# 결과 : [[10, 20], 2, 3, 4]\n",
    "a[0] = [10, 20]\n",
    "a"
   ]
  },
  {
   "cell_type": "code",
   "execution_count": 38,
   "id": "c85939c6",
   "metadata": {},
   "outputs": [
    {
     "data": {
      "text/plain": [
       "[10, 20, 2, 3, 4]"
      ]
     },
     "execution_count": 38,
     "metadata": {},
     "output_type": "execute_result"
    }
   ],
   "source": [
    "# 연속된 범위에 있는 여러개의 아이템 수정하기\n",
    "# 0번 인덱스만 선택 <= 슬라이싱\n",
    "a2 = [1, 2, 3, 4]\n",
    "a2[:1] = [10, 20]\n",
    "a2"
   ]
  },
  {
   "cell_type": "code",
   "execution_count": 40,
   "id": "1127cb16",
   "metadata": {},
   "outputs": [],
   "source": [
    "# 슬라이싱으로 값을 할당할 때의 주의점 : 전달하는 값은 1개여도 리스트로\n",
    "# 동작원리가 extend()와 동일하기 때문에\n",
    "a2[0:1] = [100]"
   ]
  },
  {
   "cell_type": "code",
   "execution_count": 41,
   "id": "eca6bc53",
   "metadata": {},
   "outputs": [
    {
     "data": {
      "text/plain": [
       "[100, 20, 2, 3, 4]"
      ]
     },
     "execution_count": 41,
     "metadata": {},
     "output_type": "execute_result"
    }
   ],
   "source": [
    "a2"
   ]
  },
  {
   "cell_type": "markdown",
   "id": "4a36545f",
   "metadata": {},
   "source": [
    "### << 연습문제 >>\n",
    "\n",
    "아래 조건에 맞추어 리스트를 수정하세요.\n",
    "\n",
    "    [ 10, 99, 3, '사과', 73, '바나나' ]\n",
    "    \n",
    "조건1)  '사과'를 'apple'로 수정\n",
    "\n",
    "조건2)  99, 3 을 9, 33으로 수정\n",
    "\n",
    "조건3)  73 을 [ 73, 74 ] 로 수정"
   ]
  },
  {
   "cell_type": "code",
   "execution_count": 42,
   "id": "ae4e6b3d",
   "metadata": {},
   "outputs": [],
   "source": [
    "a = [10, 99, 3, '사과', 73, '바나나']"
   ]
  },
  {
   "cell_type": "code",
   "execution_count": 43,
   "id": "bda9173d",
   "metadata": {},
   "outputs": [
    {
     "data": {
      "text/plain": [
       "[10, 99, 3, 'apple', 73, '바나나']"
      ]
     },
     "execution_count": 43,
     "metadata": {},
     "output_type": "execute_result"
    }
   ],
   "source": [
    "# 조건1)  '사과'를 'apple'로 수정\n",
    "a[3] = 'apple'\n",
    "a"
   ]
  },
  {
   "cell_type": "code",
   "execution_count": 44,
   "id": "f152c7dc",
   "metadata": {},
   "outputs": [
    {
     "data": {
      "text/plain": [
       "[10, 9, 33, 'apple', 73, '바나나']"
      ]
     },
     "execution_count": 44,
     "metadata": {},
     "output_type": "execute_result"
    }
   ],
   "source": [
    "# 조건2)  99, 3 을 9, 33으로 수정(슬라이싱을 활용해주세요.)\n",
    "a[1:3] = [9, 33]\n",
    "a"
   ]
  },
  {
   "cell_type": "code",
   "execution_count": 45,
   "id": "43c4b745",
   "metadata": {},
   "outputs": [
    {
     "data": {
      "text/plain": [
       "[10, 9, 33, 'apple', [73, 74], '바나나']"
      ]
     },
     "execution_count": 45,
     "metadata": {},
     "output_type": "execute_result"
    }
   ],
   "source": [
    "# 조건3)  73 을 [ 73, 74 ] 로 수정\n",
    "a[-2] = [73, 74]\n",
    "a"
   ]
  },
  {
   "cell_type": "markdown",
   "id": "36c6826c",
   "metadata": {},
   "source": [
    "### 6. 아이템 삭제하기\n",
    "\n",
    "* 슬라이싱\n",
    "\n",
    "* del 키워드 + 인덱싱/슬라이싱\n",
    "\n",
    "* remove() 메서드 : 값을 기준으로 삭제\n",
    "\n",
    "* pop()\n",
    "    - 인자값에 아무것도 입력하지 않거나 -1을 입력하면 마지막 인덱스를 삭제\n",
    "    - 특정 인덱스를 지정해 삭제할 수도 있음."
   ]
  },
  {
   "cell_type": "code",
   "execution_count": 46,
   "id": "c36264fb",
   "metadata": {},
   "outputs": [],
   "source": [
    "# 리스트 생성하기\n",
    "a1 = [10, 20, 30, 40, 50]\n",
    "a2 = [10, 20, 30, 40 ,50]"
   ]
  },
  {
   "cell_type": "code",
   "execution_count": 47,
   "id": "95aef1c5",
   "metadata": {},
   "outputs": [
    {
     "data": {
      "text/plain": [
       "[20, 30, 40, 50]"
      ]
     },
     "execution_count": 47,
     "metadata": {},
     "output_type": "execute_result"
    }
   ],
   "source": [
    "# 하나의 아이템 삭제하기 1 - 슬라이싱 + 빈 리스트를 이용하는 방법\n",
    "# 0번 인덱스 값을 삭제\n",
    "a1[:1] = []\n",
    "a1"
   ]
  },
  {
   "cell_type": "code",
   "execution_count": 48,
   "id": "714fac9a",
   "metadata": {},
   "outputs": [
    {
     "data": {
      "text/plain": [
       "[[], 20, 30, 40, 50]"
      ]
     },
     "execution_count": 48,
     "metadata": {},
     "output_type": "execute_result"
    }
   ],
   "source": [
    "# 만약 슬라이싱이 아닌 인덱싱 지정 후 빈 리스트 대입시...\n",
    "a2[0] = []\n",
    "a2"
   ]
  },
  {
   "cell_type": "code",
   "execution_count": 49,
   "id": "1747c1fb",
   "metadata": {},
   "outputs": [
    {
     "data": {
      "text/plain": [
       "[20, 30, 40]"
      ]
     },
     "execution_count": 49,
     "metadata": {},
     "output_type": "execute_result"
    }
   ],
   "source": [
    "# 하나의 아이템 삭제하기 2 - del 키워드 + 인덱싱\n",
    "del a1[-1]\n",
    "a1"
   ]
  },
  {
   "cell_type": "code",
   "execution_count": 50,
   "id": "422a8fca",
   "metadata": {},
   "outputs": [],
   "source": [
    "# 만약 인덱싱 없이 del키워드를 쓴다면....\n",
    "# 특정 리스트 전체를 통째로 삭제해버림\n",
    "del a2"
   ]
  },
  {
   "cell_type": "code",
   "execution_count": 51,
   "id": "7a8f6115",
   "metadata": {},
   "outputs": [
    {
     "ename": "NameError",
     "evalue": "name 'a2' is not defined",
     "output_type": "error",
     "traceback": [
      "\u001b[1;31m---------------------------------------------------------------------------\u001b[0m",
      "\u001b[1;31mNameError\u001b[0m                                 Traceback (most recent call last)",
      "Input \u001b[1;32mIn [51]\u001b[0m, in \u001b[0;36m<cell line: 1>\u001b[1;34m()\u001b[0m\n\u001b[1;32m----> 1\u001b[0m \u001b[43ma2\u001b[49m\n",
      "\u001b[1;31mNameError\u001b[0m: name 'a2' is not defined"
     ]
    }
   ],
   "source": [
    "a2"
   ]
  },
  {
   "cell_type": "code",
   "execution_count": 52,
   "id": "cda17372",
   "metadata": {},
   "outputs": [],
   "source": [
    "# 하나의 아이템 삭제하기 3 - remove() 메서드\n",
    "# 문법 : 리스트.remove(삭제할자료(인덱스 아님!!!))\n",
    "a = [1, 2, 3, 3, 3, 4, 5]"
   ]
  },
  {
   "cell_type": "code",
   "execution_count": 59,
   "id": "6b3966fa",
   "metadata": {},
   "outputs": [
    {
     "data": {
      "text/plain": [
       "[1, 2, 3, 3, 3, 4]"
      ]
     },
     "execution_count": 59,
     "metadata": {},
     "output_type": "execute_result"
    }
   ],
   "source": [
    "# 5라는 값을 삭제\n",
    "a.remove(5)\n",
    "a"
   ]
  },
  {
   "cell_type": "code",
   "execution_count": 60,
   "id": "cef0cf34",
   "metadata": {},
   "outputs": [
    {
     "data": {
      "text/plain": [
       "[1, 2, 3, 3, 4]"
      ]
     },
     "execution_count": 60,
     "metadata": {},
     "output_type": "execute_result"
    }
   ],
   "source": [
    "# 중복된 아이템이 존재하면 가장 앞서는 인덱스 자료 하나만 삭제\n",
    "a.remove(3)\n",
    "a"
   ]
  },
  {
   "cell_type": "code",
   "execution_count": 61,
   "id": "f485a00b",
   "metadata": {},
   "outputs": [
    {
     "data": {
      "text/plain": [
       "[1, 2]"
      ]
     },
     "execution_count": 61,
     "metadata": {},
     "output_type": "execute_result"
    }
   ],
   "source": [
    "# del 키워드는 단일 자료 뿐만 아니라 연속된 범위(슬라이싱) 자료 삭제도 가능하다\n",
    "del a[2:]\n",
    "a"
   ]
  },
  {
   "cell_type": "code",
   "execution_count": 62,
   "id": "ac2bca14",
   "metadata": {},
   "outputs": [
    {
     "data": {
      "text/plain": [
       "[1, 2, 3, 4, 5, 6]"
      ]
     },
     "execution_count": 62,
     "metadata": {},
     "output_type": "execute_result"
    }
   ],
   "source": [
    "# 하나의 아이템 삭제하기 4 - pop() 메서드\n",
    "# 마지막에 위치한 값이 몇이었는지 확인시켜주고 삭제함\n",
    "a = [1, 2, 3, 4, 5]\n",
    "a.append(6)\n",
    "a"
   ]
  },
  {
   "cell_type": "code",
   "execution_count": 63,
   "id": "c941c736",
   "metadata": {},
   "outputs": [
    {
     "data": {
      "text/plain": [
       "6"
      ]
     },
     "execution_count": 63,
     "metadata": {},
     "output_type": "execute_result"
    }
   ],
   "source": [
    "a.pop() # 인덱스번호 미기입시 마지막 인덱스 자료 삭제(현재 기준으로는 6 삭제)"
   ]
  },
  {
   "cell_type": "code",
   "execution_count": 64,
   "id": "69d1c3b2",
   "metadata": {},
   "outputs": [
    {
     "data": {
      "text/plain": [
       "[1, 2, 3, 4, 5]"
      ]
     },
     "execution_count": 64,
     "metadata": {},
     "output_type": "execute_result"
    }
   ],
   "source": [
    "a"
   ]
  },
  {
   "cell_type": "code",
   "execution_count": 65,
   "id": "a46b7233",
   "metadata": {},
   "outputs": [
    {
     "data": {
      "text/plain": [
       "3"
      ]
     },
     "execution_count": 65,
     "metadata": {},
     "output_type": "execute_result"
    }
   ],
   "source": [
    "# 삭제하려는 인덱스 번호를 지정하면 마지막이 아닌 입력된 인덱스 위치 자료를 삭제합니다.\n",
    "a.pop(2)"
   ]
  },
  {
   "cell_type": "code",
   "execution_count": 66,
   "id": "2ba1bf85",
   "metadata": {},
   "outputs": [
    {
     "data": {
      "text/plain": [
       "[1, 2, 4, 5]"
      ]
     },
     "execution_count": 66,
     "metadata": {},
     "output_type": "execute_result"
    }
   ],
   "source": [
    "a"
   ]
  },
  {
   "cell_type": "markdown",
   "id": "f02dd8f0",
   "metadata": {},
   "source": [
    "### 7. 아이템 정렬하기\n",
    "\n",
    "* 함수\n",
    "\n",
    "    -sort( ) : 기본동작 = 오름차순정렬(작은값이 먼저오고 큰값이 나중에)\n",
    "    \n",
    "    -reverse( ) : 기존 리스트의 처음과 마지막 순서를 뒤집어서 나열"
   ]
  },
  {
   "cell_type": "code",
   "execution_count": 67,
   "id": "8bee73bc",
   "metadata": {},
   "outputs": [],
   "source": [
    "a = [10, -30, 57, -33, 71, 1, 34, -2]"
   ]
  },
  {
   "cell_type": "code",
   "execution_count": 70,
   "id": "33ddfab1",
   "metadata": {},
   "outputs": [
    {
     "data": {
      "text/plain": [
       "[-33, -30, -2, 1, 10, 34, 57, 71]"
      ]
     },
     "execution_count": 70,
     "metadata": {},
     "output_type": "execute_result"
    }
   ],
   "source": [
    "# 값을 오름차순으로 정렬 : sort() 기본동작 / sort(reverse=False)\n",
    "# 원본 리스트 변경됨\n",
    "a.sort()#reverse=False)\n",
    "a"
   ]
  },
  {
   "cell_type": "code",
   "execution_count": 71,
   "id": "afd6960b",
   "metadata": {},
   "outputs": [
    {
     "data": {
      "text/plain": [
       "[71, 57, 34, 10, 1, -2, -30, -33]"
      ]
     },
     "execution_count": 71,
     "metadata": {},
     "output_type": "execute_result"
    }
   ],
   "source": [
    "# 값을 오름차순이 아닌 내림차순으로 정렬하는 경우 : .sort(reverse=True)\n",
    "a.sort(reverse=True)\n",
    "a"
   ]
  },
  {
   "cell_type": "code",
   "execution_count": 72,
   "id": "e76ee8b2",
   "metadata": {},
   "outputs": [],
   "source": [
    "# 값을 인덱스기준으로 반대로 뒤집기 : reverse()\n",
    "b = [10, 71, 32, 46, 5, 95]"
   ]
  },
  {
   "cell_type": "code",
   "execution_count": 73,
   "id": "53850cb9",
   "metadata": {},
   "outputs": [
    {
     "data": {
      "text/plain": [
       "[95, 5, 46, 32, 71, 10]"
      ]
     },
     "execution_count": 73,
     "metadata": {},
     "output_type": "execute_result"
    }
   ],
   "source": [
    "b.reverse()\n",
    "b"
   ]
  },
  {
   "cell_type": "markdown",
   "id": "a7f84087",
   "metadata": {},
   "source": [
    "### 8. 아이템 개수 세기\n",
    "\n",
    "* 함수\n",
    "\n",
    "    - 리스트.count(값) : 조회값이 리스트 내부에 몇 개 있느니 개수를 보여줌\n",
    "    \n",
    "    - len() : 파이썬 내장함수로 리스트 내부에 전체 아이템이 몇 개 있는지 보여줌"
   ]
  },
  {
   "cell_type": "code",
   "execution_count": 74,
   "id": "adddca03",
   "metadata": {},
   "outputs": [],
   "source": [
    "a = [1, 2, 3, 3, 3, 4, 5, 6]"
   ]
  },
  {
   "cell_type": "code",
   "execution_count": 75,
   "id": "f81496de",
   "metadata": {},
   "outputs": [
    {
     "data": {
      "text/plain": [
       "1"
      ]
     },
     "execution_count": 75,
     "metadata": {},
     "output_type": "execute_result"
    }
   ],
   "source": [
    "# 특정 아이템의 개수 : count()\n",
    "a.count(6)"
   ]
  },
  {
   "cell_type": "code",
   "execution_count": 76,
   "id": "26c39942",
   "metadata": {},
   "outputs": [
    {
     "data": {
      "text/plain": [
       "8"
      ]
     },
     "execution_count": 76,
     "metadata": {},
     "output_type": "execute_result"
    }
   ],
   "source": [
    "# 전체 아이템의 개수 : len()\n",
    "len(a)"
   ]
  },
  {
   "cell_type": "markdown",
   "id": "b9a2b3d7",
   "metadata": {},
   "source": [
    "### 9. 리스트 복사하기\n",
    "\n",
    "* 할당기호(=)\n",
    "\n",
    "* copy() 메서드\n",
    "\n",
    "* list()\n",
    "\n",
    "* 슬라이싱"
   ]
  },
  {
   "cell_type": "code",
   "execution_count": 78,
   "id": "ce846ad0",
   "metadata": {},
   "outputs": [],
   "source": [
    "# 1. 할당기호(=)로 복사하기\n",
    "a = [1, 2, 3, 4, 5]\n",
    "b = a"
   ]
  },
  {
   "cell_type": "code",
   "execution_count": 79,
   "id": "d60ccc0a",
   "metadata": {},
   "outputs": [
    {
     "name": "stdout",
     "output_type": "stream",
     "text": [
      "[1, 2, 3, 4, 5] [1, 2, 3, 4, 5]\n"
     ]
    }
   ],
   "source": [
    "print(a, b)"
   ]
  },
  {
   "cell_type": "code",
   "execution_count": 80,
   "id": "bd223fac",
   "metadata": {},
   "outputs": [
    {
     "name": "stdout",
     "output_type": "stream",
     "text": [
      "2123666827904 2123666827904\n"
     ]
    }
   ],
   "source": [
    "# 주소를 찍고 싶다면 id(변수)를 쓰면 해당 자료가 저장된 주소를 조회할 수있습니다.\n",
    "print(id(a), id(b))"
   ]
  },
  {
   "cell_type": "code",
   "execution_count": 81,
   "id": "33992aec",
   "metadata": {},
   "outputs": [],
   "source": [
    "# = 을 이용해 복사한 요소는 동일한 지점을 가리키는 복사이다.\n",
    "a[0] = 10"
   ]
  },
  {
   "cell_type": "code",
   "execution_count": 82,
   "id": "8eeff0b2",
   "metadata": {},
   "outputs": [
    {
     "data": {
      "text/plain": [
       "[10, 2, 3, 4, 5]"
      ]
     },
     "execution_count": 82,
     "metadata": {},
     "output_type": "execute_result"
    }
   ],
   "source": [
    "a"
   ]
  },
  {
   "cell_type": "code",
   "execution_count": 83,
   "id": "a28ca2b1",
   "metadata": {},
   "outputs": [
    {
     "data": {
      "text/plain": [
       "[10, 2, 3, 4, 5]"
      ]
     },
     "execution_count": 83,
     "metadata": {},
     "output_type": "execute_result"
    }
   ],
   "source": [
    "b"
   ]
  },
  {
   "cell_type": "code",
   "execution_count": 86,
   "id": "e76a0351",
   "metadata": {},
   "outputs": [],
   "source": [
    "# 2. copy() 메서드로 복사하기\n",
    "c = a.copy()"
   ]
  },
  {
   "cell_type": "code",
   "execution_count": 87,
   "id": "5cd0befd",
   "metadata": {},
   "outputs": [
    {
     "name": "stdout",
     "output_type": "stream",
     "text": [
      "2123666827904 2123666827904\n",
      "2123666827904 2123667209024\n"
     ]
    }
   ],
   "source": [
    "# id를 이용해 a, b\n",
    "# 그리고 a, c 주소를 각각 print()로 묶어서 찍어보세요.\n",
    "print(id(a), id(b))\n",
    "print(id(a), id(c))"
   ]
  },
  {
   "cell_type": "code",
   "execution_count": 88,
   "id": "10313ee7",
   "metadata": {},
   "outputs": [
    {
     "name": "stdout",
     "output_type": "stream",
     "text": [
      "[10, 2, 3, 4, 5] [10, 2, 3, 4, 5]\n"
     ]
    }
   ],
   "source": [
    "print(a, c)"
   ]
  },
  {
   "cell_type": "code",
   "execution_count": 89,
   "id": "bc88a791",
   "metadata": {},
   "outputs": [
    {
     "name": "stdout",
     "output_type": "stream",
     "text": [
      "[10, 2, 20, 4, 5] [10, 2, 20, 4, 5] [10, 2, 3, 4, 5]\n"
     ]
    }
   ],
   "source": [
    "# a를 변경해도 c는 영향을 받지 않는다.\n",
    "a[2] = 20\n",
    "print(a, b, c)"
   ]
  },
  {
   "cell_type": "code",
   "execution_count": 90,
   "id": "031e1693",
   "metadata": {},
   "outputs": [],
   "source": [
    "# 3. list()로 복사하기\n",
    "# list(자료)를 넣으면 그 자료를 새로 할당해 리스트화해준다.\n",
    "d = list(c)"
   ]
  },
  {
   "cell_type": "code",
   "execution_count": 91,
   "id": "37a02e4f",
   "metadata": {},
   "outputs": [
    {
     "name": "stdout",
     "output_type": "stream",
     "text": [
      "[10, 2, 3, 4, 5] [10, 2, 3, 4, 5]\n"
     ]
    }
   ],
   "source": [
    "print(c, d)"
   ]
  },
  {
   "cell_type": "code",
   "execution_count": 92,
   "id": "52595498",
   "metadata": {},
   "outputs": [
    {
     "name": "stdout",
     "output_type": "stream",
     "text": [
      "2123667209024 2123667163328\n"
     ]
    }
   ],
   "source": [
    "# c, d도 주소가 다릅니다(깊은복사)\n",
    "print(id(c), id(d))"
   ]
  },
  {
   "cell_type": "code",
   "execution_count": 93,
   "id": "b40ed2c1",
   "metadata": {},
   "outputs": [
    {
     "name": "stdout",
     "output_type": "stream",
     "text": [
      "2123667163328 2123667176640\n"
     ]
    }
   ],
   "source": [
    "# 4. 슬라이싱으로 전체 범위 지정해 대입시에도 깊은복사\n",
    "e = d[:]\n",
    "print(id(d), id(e))"
   ]
  },
  {
   "cell_type": "code",
   "execution_count": 94,
   "id": "3712b4fd",
   "metadata": {},
   "outputs": [
    {
     "name": "stdout",
     "output_type": "stream",
     "text": [
      "[10, 2, 3, 4, 5] [10, 2, 3, 4, 5]\n"
     ]
    }
   ],
   "source": [
    "print(d, e)"
   ]
  },
  {
   "cell_type": "markdown",
   "id": "cd1030db",
   "metadata": {},
   "source": [
    "### << 연습문제 >>\n",
    "\n",
    "1. a 리스트를 이용하여 다음과 같은 문자열을 출력하시오.\n",
    "\n",
    "    a = ['Life', 'is', 'too', 'short', 'you', 'need', 'python']\n",
    "\n",
    "    출력문 : you too"
   ]
  },
  {
   "cell_type": "code",
   "execution_count": 95,
   "id": "e9dfd83d",
   "metadata": {},
   "outputs": [
    {
     "name": "stdout",
     "output_type": "stream",
     "text": [
      "you too\n"
     ]
    }
   ],
   "source": [
    "# 위 출력문을 출력해주세요.\n",
    "a = ['Life', 'is', 'too', 'short', 'you', 'need', 'python']\n",
    "print(a[4], a[2])"
   ]
  },
  {
   "cell_type": "markdown",
   "id": "b221cf98",
   "metadata": {},
   "source": [
    "2. a 리스트의 길이를 구하세요"
   ]
  },
  {
   "cell_type": "code",
   "execution_count": 96,
   "id": "7a0c5b76",
   "metadata": {},
   "outputs": [
    {
     "data": {
      "text/plain": [
       "7"
      ]
     },
     "execution_count": 96,
     "metadata": {},
     "output_type": "execute_result"
    }
   ],
   "source": [
    "len(a)"
   ]
  },
  {
   "cell_type": "markdown",
   "id": "f8f11dbb",
   "metadata": {},
   "source": [
    "3. a 리스트의 첫번째 아이템에 길이를 추가하세요\n",
    "\n",
    "    ( 결과 )   [7, 'Life', 'is', 'too', 'short', 'you', 'need', 'python']"
   ]
  },
  {
   "cell_type": "code",
   "execution_count": 97,
   "id": "5236c5fe",
   "metadata": {},
   "outputs": [
    {
     "data": {
      "text/plain": [
       "[7, 'Life', 'is', 'too', 'short', 'you', 'need', 'python']"
      ]
     },
     "execution_count": 97,
     "metadata": {},
     "output_type": "execute_result"
    }
   ],
   "source": [
    "a.insert(0, len(a))\n",
    "a"
   ]
  },
  {
   "cell_type": "markdown",
   "id": "eebb9e1a",
   "metadata": {},
   "source": [
    "4.아래와 같이 크기 순서가 없는 리스트를 만들고 내림차순 정렬로 바꿔보세요.\n",
    "\n",
    "      [1, 4, 9, 2, 6, 10]  \n",
    "      \n",
    "      ( 결과 )  [10, 9, 6, 4, 2, 1]"
   ]
  },
  {
   "cell_type": "code",
   "execution_count": 98,
   "id": "09327bc2",
   "metadata": {},
   "outputs": [
    {
     "data": {
      "text/plain": [
       "[10, 9, 6, 4, 2, 1]"
      ]
     },
     "execution_count": 98,
     "metadata": {},
     "output_type": "execute_result"
    }
   ],
   "source": [
    "b = [1, 4, 9, 2, 6, 10]\n",
    "#b.sort(reverse=True)\n",
    "b.sort()\n",
    "b.reverse()\n",
    "b"
   ]
  },
  {
   "cell_type": "markdown",
   "id": "71b31cda",
   "metadata": {},
   "source": [
    "## 자료형 - Tuple\n",
    "\n",
    "- 생성 문법 기호 : ( )\n",
    "- 아이템을 수정/삭제할 수 없기 때문에 실수로 데이터가 변경되거나 삭제되는 위험이 적다.\n",
    "- 객체를 저장하는데 더 적은 메모리를 사용한다.\n",
    "- dictionay 자료형의 key로 활용할 수 있다.\n",
    "- 함수의 인자는 tuple 자료형으로 전달된다."
   ]
  },
  {
   "cell_type": "markdown",
   "id": "f8907c09",
   "metadata": {},
   "source": [
    "### 1. 생성하기"
   ]
  },
  {
   "cell_type": "code",
   "execution_count": 99,
   "id": "789841b9",
   "metadata": {},
   "outputs": [
    {
     "data": {
      "text/plain": [
       "list"
      ]
     },
     "execution_count": 99,
     "metadata": {},
     "output_type": "execute_result"
    }
   ],
   "source": [
    "# 하나의 아이템을 가진 리스트\n",
    "a = [1]\n",
    "type(a)"
   ]
  },
  {
   "cell_type": "code",
   "execution_count": 102,
   "id": "7b57c93d",
   "metadata": {},
   "outputs": [
    {
     "data": {
      "text/plain": [
       "tuple"
      ]
     },
     "execution_count": 102,
     "metadata": {},
     "output_type": "execute_result"
    }
   ],
   "source": [
    "# 문법기호 : 소괄호는 작성해도 되고 생략해도 됨, 대신 쉼표는 무조건 1개이상 들어감\n",
    "tu = 1,\n",
    "type(tu)"
   ]
  },
  {
   "cell_type": "code",
   "execution_count": 103,
   "id": "02ce5ea5",
   "metadata": {},
   "outputs": [
    {
     "name": "stdout",
     "output_type": "stream",
     "text": [
      "<class 'list'> <class 'tuple'>\n",
      "[1] (1,)\n"
     ]
    }
   ],
   "source": [
    "# tuple(리스트) 로 처리하면 리스트를 튜플로 교환할 수 있다.\n",
    "b = tuple(a)\n",
    "print(type(a), type(b))\n",
    "print(a, b)"
   ]
  },
  {
   "cell_type": "code",
   "execution_count": 104,
   "id": "96c8782f",
   "metadata": {},
   "outputs": [
    {
     "name": "stdout",
     "output_type": "stream",
     "text": [
      "(56, 78, 29, 100)\n",
      "<class 'tuple'>\n"
     ]
    }
   ],
   "source": [
    "# 변수 하나에 여러 값을 ,로 나열해 대입해도 튜플로 간주된다.\n",
    "x = 56, 78, 29, 100\n",
    "print(x)\n",
    "print(type(x))"
   ]
  },
  {
   "cell_type": "code",
   "execution_count": 106,
   "id": "bf5b2ad8",
   "metadata": {},
   "outputs": [
    {
     "name": "stdout",
     "output_type": "stream",
     "text": [
      "1\n",
      "2\n",
      "3\n"
     ]
    }
   ],
   "source": [
    "# 튜플 내부의 자료 개수만큼 변수를 대입해주면 하나씩 나눠서 값을 받는다.\n",
    "x1, x2, x3 = 1, 2, 3\n",
    "print(x1)\n",
    "print(x2)\n",
    "print(x3)"
   ]
  },
  {
   "cell_type": "markdown",
   "id": "c4f6ee17",
   "metadata": {},
   "source": [
    "### 2. 인덱싱"
   ]
  },
  {
   "cell_type": "code",
   "execution_count": 107,
   "id": "3b117f07",
   "metadata": {},
   "outputs": [
    {
     "data": {
      "text/plain": [
       "56"
      ]
     },
     "execution_count": 107,
     "metadata": {},
     "output_type": "execute_result"
    }
   ],
   "source": [
    "x[0]"
   ]
  },
  {
   "cell_type": "markdown",
   "id": "62c011ef",
   "metadata": {},
   "source": [
    "### 3. 슬라이싱"
   ]
  },
  {
   "cell_type": "code",
   "execution_count": 108,
   "id": "e33d478f",
   "metadata": {},
   "outputs": [
    {
     "data": {
      "text/plain": [
       "(56, 78, 29)"
      ]
     },
     "execution_count": 108,
     "metadata": {},
     "output_type": "execute_result"
    }
   ],
   "source": [
    "x[:3]"
   ]
  },
  {
   "cell_type": "markdown",
   "id": "7ded5e6a",
   "metadata": {},
   "source": [
    "### 4. 튜플 연산자\n",
    "\n",
    "* 산술 연산자 : +, *"
   ]
  },
  {
   "cell_type": "code",
   "execution_count": 109,
   "id": "bf38ff42",
   "metadata": {},
   "outputs": [
    {
     "data": {
      "text/plain": [
       "(56, 78, 29, 100, 56, 78, 29, 100)"
      ]
     },
     "execution_count": 109,
     "metadata": {},
     "output_type": "execute_result"
    }
   ],
   "source": [
    "# 여러 개의 튜플의 아이템을 합쳐서 새로운 튜플 만들기 : +\n",
    "x + x"
   ]
  },
  {
   "cell_type": "code",
   "execution_count": 110,
   "id": "bdb74d75",
   "metadata": {},
   "outputs": [
    {
     "data": {
      "text/plain": [
       "(56, 78, 29, 100)"
      ]
     },
     "execution_count": 110,
     "metadata": {},
     "output_type": "execute_result"
    }
   ],
   "source": [
    "# 원본에 영향이 없으므로 해당 로직을 실행하는데 논리적 문제가 없음\n",
    "x"
   ]
  },
  {
   "cell_type": "code",
   "execution_count": 111,
   "id": "b2d53f7d",
   "metadata": {},
   "outputs": [
    {
     "data": {
      "text/plain": [
       "(56, 78, 29, 100, 56, 78, 29, 100, 56, 78, 29, 100)"
      ]
     },
     "execution_count": 111,
     "metadata": {},
     "output_type": "execute_result"
    }
   ],
   "source": [
    "# 한 개의 튜플을 반복해서 확장해서 새로운 튜플 만들기 : *\n",
    "x * 3"
   ]
  },
  {
   "cell_type": "code",
   "execution_count": 112,
   "id": "272ae8fd",
   "metadata": {},
   "outputs": [
    {
     "data": {
      "text/plain": [
       "(56, 78, 29, 100)"
      ]
     },
     "execution_count": 112,
     "metadata": {},
     "output_type": "execute_result"
    }
   ],
   "source": [
    "x"
   ]
  },
  {
   "cell_type": "markdown",
   "id": "b275c260",
   "metadata": {},
   "source": [
    "### 5. 수정/삭제 할 수 없는 튜플"
   ]
  },
  {
   "cell_type": "code",
   "execution_count": 113,
   "id": "88597ce5",
   "metadata": {
    "collapsed": true
   },
   "outputs": [
    {
     "ename": "TypeError",
     "evalue": "'tuple' object does not support item assignment",
     "output_type": "error",
     "traceback": [
      "\u001b[1;31m---------------------------------------------------------------------------\u001b[0m",
      "\u001b[1;31mTypeError\u001b[0m                                 Traceback (most recent call last)",
      "Input \u001b[1;32mIn [113]\u001b[0m, in \u001b[0;36m<cell line: 2>\u001b[1;34m()\u001b[0m\n\u001b[0;32m      1\u001b[0m \u001b[38;5;66;03m# 수정하기 -> 인덱싱으로 하나의 아이템에 접근해서 수정\u001b[39;00m\n\u001b[1;32m----> 2\u001b[0m x[\u001b[38;5;241m0\u001b[39m] \u001b[38;5;241m=\u001b[39m \u001b[38;5;241m0\u001b[39m\n",
      "\u001b[1;31mTypeError\u001b[0m: 'tuple' object does not support item assignment"
     ]
    }
   ],
   "source": [
    "# 수정하기 -> 인덱싱으로 하나의 아이템에 접근해서 수정\n",
    "x[0] = 0"
   ]
  },
  {
   "cell_type": "code",
   "execution_count": 114,
   "id": "6652591b",
   "metadata": {
    "collapsed": true
   },
   "outputs": [
    {
     "ename": "TypeError",
     "evalue": "'tuple' object doesn't support item deletion",
     "output_type": "error",
     "traceback": [
      "\u001b[1;31m---------------------------------------------------------------------------\u001b[0m",
      "\u001b[1;31mTypeError\u001b[0m                                 Traceback (most recent call last)",
      "Input \u001b[1;32mIn [114]\u001b[0m, in \u001b[0;36m<cell line: 2>\u001b[1;34m()\u001b[0m\n\u001b[0;32m      1\u001b[0m \u001b[38;5;66;03m# 삭제하기 - del 키워드 + 인덱싱\u001b[39;00m\n\u001b[1;32m----> 2\u001b[0m \u001b[38;5;28;01mdel\u001b[39;00m x[\u001b[38;5;241m0\u001b[39m]\n",
      "\u001b[1;31mTypeError\u001b[0m: 'tuple' object doesn't support item deletion"
     ]
    }
   ],
   "source": [
    "# 삭제하기 - del 키워드 + 인덱싱\n",
    "del x[0]"
   ]
  },
  {
   "cell_type": "code",
   "execution_count": null,
   "id": "4b7f7027",
   "metadata": {},
   "outputs": [],
   "source": [
    " "
   ]
  }
 ],
 "metadata": {
  "kernelspec": {
   "display_name": "Python 3 (ipykernel)",
   "language": "python",
   "name": "python3"
  },
  "language_info": {
   "codemirror_mode": {
    "name": "ipython",
    "version": 3
   },
   "file_extension": ".py",
   "mimetype": "text/x-python",
   "name": "python",
   "nbconvert_exporter": "python",
   "pygments_lexer": "ipython3",
   "version": "3.9.12"
  }
 },
 "nbformat": 4,
 "nbformat_minor": 5
}
