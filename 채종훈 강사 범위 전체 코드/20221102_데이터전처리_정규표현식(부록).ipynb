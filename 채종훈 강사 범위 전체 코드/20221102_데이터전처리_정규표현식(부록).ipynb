{
 "cells": [
  {
   "cell_type": "markdown",
   "metadata": {},
   "source": [
    "### 정규표현식(Regular Expressions)\n",
    "\n",
    "- 정규식\n",
    "- 복잡한 문자열을 처리할 때 사용하는 프로그래밍 기법\n",
    "\n",
    "\n",
    "### 정규표현식의 메타 문자\n",
    "\n",
    "- 문자클래스 [] : [와 ] 사이의 문자들과 매치 \n",
    "- Dot(.) : 모든 문자\n",
    "- 반복(+) 정규식 \n",
    "- 반복(*) 정규식\n",
    "- ? 정규식\n",
    "- 반복({m,n}) 정규식"
   ]
  },
  {
   "cell_type": "code",
   "execution_count": 1,
   "metadata": {},
   "outputs": [],
   "source": [
    "# 정규표현식 라이브러리 가져오기\n",
    "import re"
   ]
  },
  {
   "cell_type": "code",
   "execution_count": null,
   "metadata": {},
   "outputs": [],
   "source": [
    "# 문자클래스 [] : [과 ] 사이에 있는 문자들을 패턴으로 정함\n",
    "# 예제1.\n",
    "# [abc] : 문자 a, b, c 중에 하나 매치\n",
    "# 'a' : 'a'가 하나 있으므로 매칭 O\n",
    "# 'before' : 'b'가 하나 있으므로 매칭 O\n",
    "# 'love' : a, b, c 중 아무것도 매칭되는게 없으므로 매칭 X"
   ]
  },
  {
   "cell_type": "code",
   "execution_count": null,
   "metadata": {},
   "outputs": [],
   "source": [
    "# 예제2.\n",
    "# [a-d] : from-to, a부터 d까지의 문자 중에 하나의 문자와 매치하는지 확인\n",
    "# [abcd] 와 [a-d]는 완전히 같은 의미\n",
    "# [a-zA-Z] : 알파벳(대소문자 구분 없이) 하나의 문자와 매치되는지 확인\n",
    "# [0-9] : 모든 숫자에 대해서 매치"
   ]
  },
  {
   "cell_type": "code",
   "execution_count": null,
   "metadata": {},
   "outputs": [],
   "source": [
    "# 반복(*) 정규식 : 왼쪽에 온 문자를 0~무한대(메모리문제로 약 2억개) 반복\n",
    "# 예제\n",
    "# pattern : ca*t  => c로 시작하고 t로 끝나되 a는 가운데 몇 개가 와도 됨\n",
    "# 'ct' : 매칭\n",
    "# 'caaat' : 매칭\n",
    "# 'cat' : 매칭\n",
    "# 'caaaaaaaaaaaaaaaaaaaaaaaat' : 매칭\n",
    "# 'coat' : 매칭X"
   ]
  },
  {
   "cell_type": "code",
   "execution_count": null,
   "metadata": {},
   "outputs": [],
   "source": [
    "# 반복(+) 정규식 : 바로 앞 문자가 최소 1번 최대 무한대 반복\n",
    "# 예제\n",
    "# pattern : ca+t\n",
    "# 'ct' : x\n",
    "# 'cat' : o\n",
    "# 'caaaaaaaaaaaat' : o"
   ]
  },
  {
   "cell_type": "code",
   "execution_count": null,
   "metadata": {},
   "outputs": [],
   "source": [
    "# 반복({m, n}) 정규식 : 왼쪽 문자의 반복횟수 지정. m이상 n이하\n",
    "# + : {1,}\n",
    "# * : {0,}\n",
    "# pattern : ca{2}t\n",
    "# 'ct' : x\n",
    "# 'cat' : x\n",
    "# 'caat' : o"
   ]
  },
  {
   "cell_type": "code",
   "execution_count": null,
   "metadata": {},
   "outputs": [],
   "source": [
    "# ? 정규식 : {0, 1}\n",
    "# 예제\n",
    "# pattern : ab?c == ab{0, 1}c\n",
    "# 'abc' : o\n",
    "# 'ac' : o"
   ]
  },
  {
   "cell_type": "markdown",
   "metadata": {},
   "source": [
    "###  정규식을 이용한 문자열 검색\n",
    "- pattern = re.compile('정규식')\n",
    "- pattern.match() : 문자열의 처음부터 정규식과 매치되는지 조사한다.\n",
    "    - 매치된 문자열 확인 : obj.group()\n",
    "- pattern.search() : 문자열 전체를 검색하여 정규식과 매치되는지 조사한다.\n",
    "    - 매치된 문자열 확인 : obj.group()\n",
    "- pattern.findall() : 정규식과 매치되는 모든 문자열(substring)을 리스트로 리턴한다\n",
    "    - 매치된 문자열 확인 : obj가 리스트로 반환"
   ]
  },
  {
   "cell_type": "code",
   "execution_count": 2,
   "metadata": {},
   "outputs": [],
   "source": [
    "# 정규식 필터링을 위한 컴파일 객체 생성\n",
    "# re.compile()\n",
    "# 소문자 알파벳 a부터 g까지의 문자열 중 하나와 매치여부를 확인하는 패턴\n",
    "pattern = re.compile('[a-g]')"
   ]
  },
  {
   "cell_type": "markdown",
   "metadata": {},
   "source": [
    "#### match()"
   ]
  },
  {
   "cell_type": "code",
   "execution_count": 4,
   "metadata": {},
   "outputs": [],
   "source": [
    "# 소문자 알파벳 a부터 g까지의 문자열 중 하나와 매치여부를 확인하는 패턴\n",
    "# 매치된 결과\n",
    "result = pattern.match('axy')"
   ]
  },
  {
   "cell_type": "code",
   "execution_count": 5,
   "metadata": {},
   "outputs": [
    {
     "data": {
      "text/plain": [
       "<re.Match object; span=(0, 1), match='a'>"
      ]
     },
     "execution_count": 5,
     "metadata": {},
     "output_type": "execute_result"
    }
   ],
   "source": [
    "result"
   ]
  },
  {
   "cell_type": "code",
   "execution_count": 6,
   "metadata": {},
   "outputs": [
    {
     "data": {
      "text/plain": [
       "'a'"
      ]
     },
     "execution_count": 6,
     "metadata": {},
     "output_type": "execute_result"
    }
   ],
   "source": [
    "# 적용한 문자열에서 패턴과 매칭된 결과물 반환\n",
    "result.group()"
   ]
  },
  {
   "cell_type": "code",
   "execution_count": 7,
   "metadata": {},
   "outputs": [],
   "source": [
    "# 매칭이 되지 않는다면\n",
    "result2 = pattern.match('xya')"
   ]
  },
  {
   "cell_type": "code",
   "execution_count": 8,
   "metadata": {},
   "outputs": [],
   "source": [
    "result2"
   ]
  },
  {
   "cell_type": "code",
   "execution_count": 9,
   "metadata": {},
   "outputs": [
    {
     "ename": "AttributeError",
     "evalue": "'NoneType' object has no attribute 'group'",
     "output_type": "error",
     "traceback": [
      "\u001b[1;31m---------------------------------------------------------------------------\u001b[0m",
      "\u001b[1;31mAttributeError\u001b[0m                            Traceback (most recent call last)",
      "\u001b[1;32m<ipython-input-9-a275b016577f>\u001b[0m in \u001b[0;36m<module>\u001b[1;34m\u001b[0m\n\u001b[0;32m      1\u001b[0m \u001b[1;31m# 매칭 결과 없음(match()는 첫 번째 문자 검사)\u001b[0m\u001b[1;33m\u001b[0m\u001b[1;33m\u001b[0m\u001b[1;33m\u001b[0m\u001b[0m\n\u001b[1;32m----> 2\u001b[1;33m \u001b[0mresult2\u001b[0m\u001b[1;33m.\u001b[0m\u001b[0mgroup\u001b[0m\u001b[1;33m(\u001b[0m\u001b[1;33m)\u001b[0m\u001b[1;33m\u001b[0m\u001b[1;33m\u001b[0m\u001b[0m\n\u001b[0m",
      "\u001b[1;31mAttributeError\u001b[0m: 'NoneType' object has no attribute 'group'"
     ]
    }
   ],
   "source": [
    "# 매칭 결과 없음(match()는 첫 번째 문자 검사)\n",
    "result2.group()"
   ]
  },
  {
   "cell_type": "code",
   "execution_count": 13,
   "metadata": {},
   "outputs": [
    {
     "data": {
      "text/plain": [
       "'Match Found : a'"
      ]
     },
     "execution_count": 13,
     "metadata": {},
     "output_type": "execute_result"
    }
   ],
   "source": [
    "# 정규식 반환 결과의 사용예제\n",
    "# 패턴 생성, 문자열 검색 작업 완료\n",
    "def match_check(result):\n",
    "    if result:\n",
    "        msg = 'Match Found : {}'.format(result.group())\n",
    "    else:\n",
    "        msg = 'No Match Found'\n",
    "    return msg\n",
    "match_check(result)"
   ]
  },
  {
   "cell_type": "markdown",
   "metadata": {},
   "source": [
    "#### search()"
   ]
  },
  {
   "cell_type": "code",
   "execution_count": 15,
   "metadata": {},
   "outputs": [],
   "source": [
    "# 예제 1\n",
    "result3 = pattern.search('xya')"
   ]
  },
  {
   "cell_type": "code",
   "execution_count": 16,
   "metadata": {},
   "outputs": [
    {
     "data": {
      "text/plain": [
       "<re.Match object; span=(2, 3), match='a'>"
      ]
     },
     "execution_count": 16,
     "metadata": {},
     "output_type": "execute_result"
    }
   ],
   "source": [
    "result3"
   ]
  },
  {
   "cell_type": "code",
   "execution_count": 17,
   "metadata": {},
   "outputs": [
    {
     "data": {
      "text/plain": [
       "'a'"
      ]
     },
     "execution_count": 17,
     "metadata": {},
     "output_type": "execute_result"
    }
   ],
   "source": [
    "# search() 의 결과물 역시 .group() 으로 확인가능\n",
    "result3.group()"
   ]
  },
  {
   "cell_type": "code",
   "execution_count": 18,
   "metadata": {},
   "outputs": [],
   "source": [
    "# 예제 2\n",
    "result4 = pattern.search('xyab')"
   ]
  },
  {
   "cell_type": "code",
   "execution_count": 19,
   "metadata": {},
   "outputs": [
    {
     "data": {
      "text/plain": [
       "'a'"
      ]
     },
     "execution_count": 19,
     "metadata": {},
     "output_type": "execute_result"
    }
   ],
   "source": [
    "# search같은 경우는 여러 문자(열)이 매칭이 되어도 가장 앞서는 인덱스 자료 하나만 반환\n",
    "result4.group()"
   ]
  },
  {
   "cell_type": "markdown",
   "metadata": {},
   "source": [
    "#### findall()"
   ]
  },
  {
   "cell_type": "code",
   "execution_count": 21,
   "metadata": {},
   "outputs": [],
   "source": [
    "# 예제\n",
    "# 결과를 리스트로 반환\n",
    "# abc, fg=>pattern [a-g] => a부터 g까지 알파벳중 하나와 매치\n",
    "result5 = pattern.findall('xyabc 123 fg')"
   ]
  },
  {
   "cell_type": "code",
   "execution_count": 22,
   "metadata": {},
   "outputs": [
    {
     "data": {
      "text/plain": [
       "['a', 'b', 'c', 'f', 'g']"
      ]
     },
     "execution_count": 22,
     "metadata": {},
     "output_type": "execute_result"
    }
   ],
   "source": [
    "# findall은 변수 그 자체에 리스트로 자료가 저장되기 때문에 .group()을 쓰지 않는다.\n",
    "result5"
   ]
  },
  {
   "cell_type": "markdown",
   "metadata": {},
   "source": [
    "### 정규식 예제 코드 작성"
   ]
  },
  {
   "cell_type": "code",
   "execution_count": null,
   "metadata": {},
   "outputs": [],
   "source": [
    "# [abc] : 문자 a, b, c 중 매치\n",
    "# \"a\"는 정규식과 일치하는 문자인 \"a\"가 있으므로 매치\n",
    "# \"before\"는 정규식과 일치하는 문자인 \"b\"가 있으므로 매치\n",
    "# \"dude\"는 정규식과 일치하는 문자인 a, b, c 중 어느 하나도 포함하고 있지 않으므로 매치X"
   ]
  },
  {
   "cell_type": "code",
   "execution_count": 24,
   "metadata": {},
   "outputs": [],
   "source": [
    "# 여러분들이 직접 p1 변수에 '[abc]' 패턴으로 정규식 변수를 생성해주세요.\n",
    "p1 = re.compile('[abc]')"
   ]
  },
  {
   "cell_type": "code",
   "execution_count": 26,
   "metadata": {},
   "outputs": [
    {
     "data": {
      "text/plain": [
       "<re.Match object; span=(0, 1), match='a'>"
      ]
     },
     "execution_count": 26,
     "metadata": {},
     "output_type": "execute_result"
    }
   ],
   "source": [
    "# match 메서드와 search 메서드를 활용해 'a'라는 문자가 패턴과 일치하는지 확인해주세요.\n",
    "p1.match('a')\n",
    "p1.search('a')"
   ]
  },
  {
   "cell_type": "code",
   "execution_count": 29,
   "metadata": {},
   "outputs": [
    {
     "data": {
      "text/plain": [
       "['b']"
      ]
     },
     "execution_count": 29,
     "metadata": {},
     "output_type": "execute_result"
    }
   ],
   "source": [
    "# 'before' 문자열은 match, search, findall 메서드를 순차적으로 사용해서 확인해보세요.\n",
    "p1.match('before')\n",
    "p1.search('before')\n",
    "p1.findall('before')"
   ]
  },
  {
   "cell_type": "code",
   "execution_count": 32,
   "metadata": {},
   "outputs": [
    {
     "data": {
      "text/plain": [
       "['c', 'c']"
      ]
     },
     "execution_count": 32,
     "metadata": {},
     "output_type": "execute_result"
    }
   ],
   "source": [
    "# 'coco' 패턴에 대해서 한 번 세 가지를 모두 사용해보세요.\n",
    "p1.match('coco')\n",
    "p1.search('coco')\n",
    "p1.findall('coco')"
   ]
  },
  {
   "cell_type": "markdown",
   "metadata": {},
   "source": [
    "### *, +를 이용하는 예시"
   ]
  },
  {
   "cell_type": "code",
   "execution_count": 39,
   "metadata": {},
   "outputs": [],
   "source": [
    "# 아무 글자나 3글자 매칭\n",
    "p2 = re.compile('...')"
   ]
  },
  {
   "cell_type": "code",
   "execution_count": 40,
   "metadata": {},
   "outputs": [
    {
     "data": {
      "text/plain": [
       "<re.Match object; span=(0, 3), match='...'>"
      ]
     },
     "execution_count": 40,
     "metadata": {},
     "output_type": "execute_result"
    }
   ],
   "source": [
    "p2.match('......')"
   ]
  },
  {
   "cell_type": "code",
   "execution_count": 61,
   "metadata": {},
   "outputs": [],
   "source": [
    "# 이메일 패턴 감지하기\n",
    "# .* -> 글자수 0~ 무한대, 문자 종류 상관 없음\n",
    "# .+ -> 글자수 1~ 무한대, 문자 종류 상관 없음\n",
    "# [a-zA-Z0-9] => 영문자, 숫자만 입력받기\n",
    "# [a-zA-Z0-9]+ => 영문자, 숫자만 1글자 이상 입력받기\n",
    "p3 = re.compile(\"[a-zA-Z0-9]+[@].+[.].+\")"
   ]
  },
  {
   "cell_type": "code",
   "execution_count": 62,
   "metadata": {},
   "outputs": [],
   "source": [
    "p3.search('파이썬파이썬@naver.com')"
   ]
  },
  {
   "cell_type": "code",
   "execution_count": null,
   "metadata": {},
   "outputs": [],
   "source": []
  }
 ],
 "metadata": {
  "kernelspec": {
   "display_name": "Python 3 (ipykernel)",
   "language": "python",
   "name": "python3"
  },
  "language_info": {
   "codemirror_mode": {
    "name": "ipython",
    "version": 3
   },
   "file_extension": ".py",
   "mimetype": "text/x-python",
   "name": "python",
   "nbconvert_exporter": "python",
   "pygments_lexer": "ipython3",
   "version": "3.9.12"
  }
 },
 "nbformat": 4,
 "nbformat_minor": 2
}
