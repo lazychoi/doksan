{
 "cells": [
  {
   "cell_type": "code",
   "execution_count": 1,
   "id": "42b13ab4",
   "metadata": {},
   "outputs": [],
   "source": [
    "# pandas, numpy, pyplot 라이브러리 가져오기\n",
    "import pandas as pd # 데이터타입, 데이터처리\n",
    "import numpy as np # 수학연산, 숫자데이터 생성\n",
    "import matplotlib.pyplot as plt # 시각화"
   ]
  },
  {
   "cell_type": "markdown",
   "id": "ac595d64",
   "metadata": {},
   "source": [
    "#### < 데이터셋 개요>\n",
    "- Survived: 생존 여부 \n",
    "    - 0 = No\n",
    "    - 1 = Yes\n",
    "- pclass: 티켓 등급 \n",
    "    - 1 = 1st\n",
    "    - 2 = 2nd\n",
    "    - 3 = 3rd\n",
    "- Sex: 성별\n",
    "- Age: 나이\n",
    "- Sibsp: 함께 탑승한 형제자매, 배우자의 수\n",
    "- Parch: 함께 탑승한 부모, 자식의 수\n",
    "- Ticket: 티켓 번호\n",
    "- Name : 이름, 사회적등급\n",
    "- Fare: 운임\n",
    "- Cabin: 객실 번호\n",
    "- Embarked: 탑승 항구 \n",
    "    - C = Cherbourg\n",
    "    - Q = Queenstown\n",
    "    - S = Southampton"
   ]
  },
  {
   "cell_type": "markdown",
   "id": "eb91b14a",
   "metadata": {},
   "source": [
    "#### 데이터 적재"
   ]
  },
  {
   "cell_type": "code",
   "execution_count": 2,
   "id": "7197e1fb",
   "metadata": {},
   "outputs": [
    {
     "data": {
      "text/html": [
       "<div>\n",
       "<style scoped>\n",
       "    .dataframe tbody tr th:only-of-type {\n",
       "        vertical-align: middle;\n",
       "    }\n",
       "\n",
       "    .dataframe tbody tr th {\n",
       "        vertical-align: top;\n",
       "    }\n",
       "\n",
       "    .dataframe thead th {\n",
       "        text-align: right;\n",
       "    }\n",
       "</style>\n",
       "<table border=\"1\" class=\"dataframe\">\n",
       "  <thead>\n",
       "    <tr style=\"text-align: right;\">\n",
       "      <th></th>\n",
       "      <th>PassengerId</th>\n",
       "      <th>Survived</th>\n",
       "      <th>Pclass</th>\n",
       "      <th>Name</th>\n",
       "      <th>Sex</th>\n",
       "      <th>Age</th>\n",
       "      <th>SibSp</th>\n",
       "      <th>Parch</th>\n",
       "      <th>Ticket</th>\n",
       "      <th>Fare</th>\n",
       "      <th>Cabin</th>\n",
       "      <th>Embarked</th>\n",
       "    </tr>\n",
       "  </thead>\n",
       "  <tbody>\n",
       "    <tr>\n",
       "      <th>0</th>\n",
       "      <td>1</td>\n",
       "      <td>0</td>\n",
       "      <td>3</td>\n",
       "      <td>Braund, Mr. Owen Harris</td>\n",
       "      <td>male</td>\n",
       "      <td>22.0</td>\n",
       "      <td>1</td>\n",
       "      <td>0</td>\n",
       "      <td>A/5 21171</td>\n",
       "      <td>7.2500</td>\n",
       "      <td>NaN</td>\n",
       "      <td>S</td>\n",
       "    </tr>\n",
       "    <tr>\n",
       "      <th>1</th>\n",
       "      <td>2</td>\n",
       "      <td>1</td>\n",
       "      <td>1</td>\n",
       "      <td>Cumings, Mrs. John Bradley (Florence Briggs Th...</td>\n",
       "      <td>female</td>\n",
       "      <td>38.0</td>\n",
       "      <td>1</td>\n",
       "      <td>0</td>\n",
       "      <td>PC 17599</td>\n",
       "      <td>71.2833</td>\n",
       "      <td>C85</td>\n",
       "      <td>C</td>\n",
       "    </tr>\n",
       "    <tr>\n",
       "      <th>2</th>\n",
       "      <td>3</td>\n",
       "      <td>1</td>\n",
       "      <td>3</td>\n",
       "      <td>Heikkinen, Miss. Laina</td>\n",
       "      <td>female</td>\n",
       "      <td>26.0</td>\n",
       "      <td>0</td>\n",
       "      <td>0</td>\n",
       "      <td>STON/O2. 3101282</td>\n",
       "      <td>7.9250</td>\n",
       "      <td>NaN</td>\n",
       "      <td>S</td>\n",
       "    </tr>\n",
       "    <tr>\n",
       "      <th>3</th>\n",
       "      <td>4</td>\n",
       "      <td>1</td>\n",
       "      <td>1</td>\n",
       "      <td>Futrelle, Mrs. Jacques Heath (Lily May Peel)</td>\n",
       "      <td>female</td>\n",
       "      <td>35.0</td>\n",
       "      <td>1</td>\n",
       "      <td>0</td>\n",
       "      <td>113803</td>\n",
       "      <td>53.1000</td>\n",
       "      <td>C123</td>\n",
       "      <td>S</td>\n",
       "    </tr>\n",
       "    <tr>\n",
       "      <th>4</th>\n",
       "      <td>5</td>\n",
       "      <td>0</td>\n",
       "      <td>3</td>\n",
       "      <td>Allen, Mr. William Henry</td>\n",
       "      <td>male</td>\n",
       "      <td>35.0</td>\n",
       "      <td>0</td>\n",
       "      <td>0</td>\n",
       "      <td>373450</td>\n",
       "      <td>8.0500</td>\n",
       "      <td>NaN</td>\n",
       "      <td>S</td>\n",
       "    </tr>\n",
       "  </tbody>\n",
       "</table>\n",
       "</div>"
      ],
      "text/plain": [
       "   PassengerId  Survived  Pclass  \\\n",
       "0            1         0       3   \n",
       "1            2         1       1   \n",
       "2            3         1       3   \n",
       "3            4         1       1   \n",
       "4            5         0       3   \n",
       "\n",
       "                                                Name     Sex   Age  SibSp  \\\n",
       "0                            Braund, Mr. Owen Harris    male  22.0      1   \n",
       "1  Cumings, Mrs. John Bradley (Florence Briggs Th...  female  38.0      1   \n",
       "2                             Heikkinen, Miss. Laina  female  26.0      0   \n",
       "3       Futrelle, Mrs. Jacques Heath (Lily May Peel)  female  35.0      1   \n",
       "4                           Allen, Mr. William Henry    male  35.0      0   \n",
       "\n",
       "   Parch            Ticket     Fare Cabin Embarked  \n",
       "0      0         A/5 21171   7.2500   NaN        S  \n",
       "1      0          PC 17599  71.2833   C85        C  \n",
       "2      0  STON/O2. 3101282   7.9250   NaN        S  \n",
       "3      0            113803  53.1000  C123        S  \n",
       "4      0            373450   8.0500   NaN        S  "
      ]
     },
     "execution_count": 2,
     "metadata": {},
     "output_type": "execute_result"
    }
   ],
   "source": [
    "data = pd.read_csv('data/train.csv')\n",
    "data.head()"
   ]
  },
  {
   "cell_type": "code",
   "execution_count": 12,
   "id": "b7380e14",
   "metadata": {},
   "outputs": [],
   "source": [
    "# 컬럼을 소문자로 만들어주세요.\n",
    "\n",
    "#### .rename을 활용\n",
    "data.rename(columns=str.lower)\n",
    "\n",
    "#### data.columns = data.columns.str.lower()\n",
    "data.columns = data.columns.str.lower()\n",
    "\n",
    "#### .map 활용\n",
    "data.columns = data.columns.map(str.lower)"
   ]
  },
  {
   "cell_type": "code",
   "execution_count": 4,
   "id": "e99e81b1",
   "metadata": {},
   "outputs": [
    {
     "data": {
      "text/html": [
       "<div>\n",
       "<style scoped>\n",
       "    .dataframe tbody tr th:only-of-type {\n",
       "        vertical-align: middle;\n",
       "    }\n",
       "\n",
       "    .dataframe tbody tr th {\n",
       "        vertical-align: top;\n",
       "    }\n",
       "\n",
       "    .dataframe thead th {\n",
       "        text-align: right;\n",
       "    }\n",
       "</style>\n",
       "<table border=\"1\" class=\"dataframe\">\n",
       "  <thead>\n",
       "    <tr style=\"text-align: right;\">\n",
       "      <th></th>\n",
       "      <th>passengerid</th>\n",
       "      <th>survived</th>\n",
       "      <th>pclass</th>\n",
       "      <th>name</th>\n",
       "      <th>sex</th>\n",
       "      <th>age</th>\n",
       "      <th>sibsp</th>\n",
       "      <th>parch</th>\n",
       "      <th>ticket</th>\n",
       "      <th>fare</th>\n",
       "      <th>cabin</th>\n",
       "      <th>embarked</th>\n",
       "    </tr>\n",
       "  </thead>\n",
       "  <tbody>\n",
       "    <tr>\n",
       "      <th>0</th>\n",
       "      <td>1</td>\n",
       "      <td>0</td>\n",
       "      <td>3</td>\n",
       "      <td>Braund, Mr. Owen Harris</td>\n",
       "      <td>male</td>\n",
       "      <td>22.0</td>\n",
       "      <td>1</td>\n",
       "      <td>0</td>\n",
       "      <td>A/5 21171</td>\n",
       "      <td>7.2500</td>\n",
       "      <td>NaN</td>\n",
       "      <td>S</td>\n",
       "    </tr>\n",
       "    <tr>\n",
       "      <th>1</th>\n",
       "      <td>2</td>\n",
       "      <td>1</td>\n",
       "      <td>1</td>\n",
       "      <td>Cumings, Mrs. John Bradley (Florence Briggs Th...</td>\n",
       "      <td>female</td>\n",
       "      <td>38.0</td>\n",
       "      <td>1</td>\n",
       "      <td>0</td>\n",
       "      <td>PC 17599</td>\n",
       "      <td>71.2833</td>\n",
       "      <td>C85</td>\n",
       "      <td>C</td>\n",
       "    </tr>\n",
       "    <tr>\n",
       "      <th>2</th>\n",
       "      <td>3</td>\n",
       "      <td>1</td>\n",
       "      <td>3</td>\n",
       "      <td>Heikkinen, Miss. Laina</td>\n",
       "      <td>female</td>\n",
       "      <td>26.0</td>\n",
       "      <td>0</td>\n",
       "      <td>0</td>\n",
       "      <td>STON/O2. 3101282</td>\n",
       "      <td>7.9250</td>\n",
       "      <td>NaN</td>\n",
       "      <td>S</td>\n",
       "    </tr>\n",
       "    <tr>\n",
       "      <th>3</th>\n",
       "      <td>4</td>\n",
       "      <td>1</td>\n",
       "      <td>1</td>\n",
       "      <td>Futrelle, Mrs. Jacques Heath (Lily May Peel)</td>\n",
       "      <td>female</td>\n",
       "      <td>35.0</td>\n",
       "      <td>1</td>\n",
       "      <td>0</td>\n",
       "      <td>113803</td>\n",
       "      <td>53.1000</td>\n",
       "      <td>C123</td>\n",
       "      <td>S</td>\n",
       "    </tr>\n",
       "    <tr>\n",
       "      <th>4</th>\n",
       "      <td>5</td>\n",
       "      <td>0</td>\n",
       "      <td>3</td>\n",
       "      <td>Allen, Mr. William Henry</td>\n",
       "      <td>male</td>\n",
       "      <td>35.0</td>\n",
       "      <td>0</td>\n",
       "      <td>0</td>\n",
       "      <td>373450</td>\n",
       "      <td>8.0500</td>\n",
       "      <td>NaN</td>\n",
       "      <td>S</td>\n",
       "    </tr>\n",
       "  </tbody>\n",
       "</table>\n",
       "</div>"
      ],
      "text/plain": [
       "   passengerid  survived  pclass  \\\n",
       "0            1         0       3   \n",
       "1            2         1       1   \n",
       "2            3         1       3   \n",
       "3            4         1       1   \n",
       "4            5         0       3   \n",
       "\n",
       "                                                name     sex   age  sibsp  \\\n",
       "0                            Braund, Mr. Owen Harris    male  22.0      1   \n",
       "1  Cumings, Mrs. John Bradley (Florence Briggs Th...  female  38.0      1   \n",
       "2                             Heikkinen, Miss. Laina  female  26.0      0   \n",
       "3       Futrelle, Mrs. Jacques Heath (Lily May Peel)  female  35.0      1   \n",
       "4                           Allen, Mr. William Henry    male  35.0      0   \n",
       "\n",
       "   parch            ticket     fare cabin embarked  \n",
       "0      0         A/5 21171   7.2500   NaN        S  \n",
       "1      0          PC 17599  71.2833   C85        C  \n",
       "2      0  STON/O2. 3101282   7.9250   NaN        S  \n",
       "3      0            113803  53.1000  C123        S  \n",
       "4      0            373450   8.0500   NaN        S  "
      ]
     },
     "execution_count": 4,
     "metadata": {},
     "output_type": "execute_result"
    }
   ],
   "source": [
    "data.head()"
   ]
  },
  {
   "cell_type": "markdown",
   "id": "6bba1cc2",
   "metadata": {},
   "source": [
    "### 결측치 확인\n",
    "- 컬럼별 갯수\n",
    "- 데이터셋의 크기가 작은 경우는 결측치가 있는 레코드를 삭제하지 않는다.\n",
    "    - 대체하는 방식으로 전처리"
   ]
  },
  {
   "cell_type": "code",
   "execution_count": 5,
   "id": "b7e8913f",
   "metadata": {},
   "outputs": [
    {
     "data": {
      "text/plain": [
       "(891, 12)"
      ]
     },
     "execution_count": 5,
     "metadata": {},
     "output_type": "execute_result"
    }
   ],
   "source": [
    "data.shape"
   ]
  },
  {
   "cell_type": "code",
   "execution_count": 7,
   "id": "28ff78ff",
   "metadata": {},
   "outputs": [
    {
     "data": {
      "text/plain": [
       "passengerid      0\n",
       "survived         0\n",
       "pclass           0\n",
       "name             0\n",
       "sex              0\n",
       "age            177\n",
       "sibsp            0\n",
       "parch            0\n",
       "ticket           0\n",
       "fare             0\n",
       "cabin          687\n",
       "embarked         2\n",
       "dtype: int64"
      ]
     },
     "execution_count": 7,
     "metadata": {},
     "output_type": "execute_result"
    }
   ],
   "source": [
    "# data.isnull()은 값이 있으면 False, 없으면 True를 셀에 배치하는데\n",
    "# 파이썬 특성상 True는 1로 간주하고 False는 0으로 간주하므로\n",
    "# isnull()에 대해 총합을 구하면, 결측치 개수를 구할 수 있습니다.\n",
    "data.isnull().sum()"
   ]
  },
  {
   "cell_type": "code",
   "execution_count": 10,
   "id": "57ab1bd6",
   "metadata": {},
   "outputs": [
    {
     "data": {
      "text/plain": [
       "passengerid     0.000000\n",
       "survived        0.000000\n",
       "pclass          0.000000\n",
       "name            0.000000\n",
       "sex             0.000000\n",
       "age            19.865320\n",
       "sibsp           0.000000\n",
       "parch           0.000000\n",
       "ticket          0.000000\n",
       "fare            0.000000\n",
       "cabin          77.104377\n",
       "embarked        0.224467\n",
       "dtype: float64"
      ]
     },
     "execution_count": 10,
     "metadata": {},
     "output_type": "execute_result"
    }
   ],
   "source": [
    "# 전체 데이터 대비 결측치의 비중\n",
    "# 결측치 / 891(전체 데이터 개수) * 100 = 비율\n",
    "data.isnull().sum() / 891 * 100"
   ]
  },
  {
   "cell_type": "markdown",
   "id": "5aedd5c6",
   "metadata": {},
   "source": [
    "#### 불필요한 변수 제거\n",
    "\n",
    "- ticket"
   ]
  },
  {
   "cell_type": "code",
   "execution_count": 13,
   "id": "79d34670",
   "metadata": {},
   "outputs": [],
   "source": [
    "# ticket 컬럼 누락시키기\n",
    "\n",
    "### .drop(axis=1, inplace=True)\n",
    "data.drop('ticket', axis=1, inplace=True)\n",
    "\n",
    "#del data['ticket']"
   ]
  },
  {
   "cell_type": "code",
   "execution_count": 14,
   "id": "97865e91",
   "metadata": {
    "collapsed": true
   },
   "outputs": [
    {
     "data": {
      "text/html": [
       "<div>\n",
       "<style scoped>\n",
       "    .dataframe tbody tr th:only-of-type {\n",
       "        vertical-align: middle;\n",
       "    }\n",
       "\n",
       "    .dataframe tbody tr th {\n",
       "        vertical-align: top;\n",
       "    }\n",
       "\n",
       "    .dataframe thead th {\n",
       "        text-align: right;\n",
       "    }\n",
       "</style>\n",
       "<table border=\"1\" class=\"dataframe\">\n",
       "  <thead>\n",
       "    <tr style=\"text-align: right;\">\n",
       "      <th></th>\n",
       "      <th>passengerid</th>\n",
       "      <th>survived</th>\n",
       "      <th>pclass</th>\n",
       "      <th>name</th>\n",
       "      <th>sex</th>\n",
       "      <th>age</th>\n",
       "      <th>sibsp</th>\n",
       "      <th>parch</th>\n",
       "      <th>fare</th>\n",
       "      <th>cabin</th>\n",
       "      <th>embarked</th>\n",
       "    </tr>\n",
       "  </thead>\n",
       "  <tbody>\n",
       "    <tr>\n",
       "      <th>0</th>\n",
       "      <td>1</td>\n",
       "      <td>0</td>\n",
       "      <td>3</td>\n",
       "      <td>Braund, Mr. Owen Harris</td>\n",
       "      <td>male</td>\n",
       "      <td>22.0</td>\n",
       "      <td>1</td>\n",
       "      <td>0</td>\n",
       "      <td>7.2500</td>\n",
       "      <td>NaN</td>\n",
       "      <td>S</td>\n",
       "    </tr>\n",
       "    <tr>\n",
       "      <th>1</th>\n",
       "      <td>2</td>\n",
       "      <td>1</td>\n",
       "      <td>1</td>\n",
       "      <td>Cumings, Mrs. John Bradley (Florence Briggs Th...</td>\n",
       "      <td>female</td>\n",
       "      <td>38.0</td>\n",
       "      <td>1</td>\n",
       "      <td>0</td>\n",
       "      <td>71.2833</td>\n",
       "      <td>C85</td>\n",
       "      <td>C</td>\n",
       "    </tr>\n",
       "    <tr>\n",
       "      <th>2</th>\n",
       "      <td>3</td>\n",
       "      <td>1</td>\n",
       "      <td>3</td>\n",
       "      <td>Heikkinen, Miss. Laina</td>\n",
       "      <td>female</td>\n",
       "      <td>26.0</td>\n",
       "      <td>0</td>\n",
       "      <td>0</td>\n",
       "      <td>7.9250</td>\n",
       "      <td>NaN</td>\n",
       "      <td>S</td>\n",
       "    </tr>\n",
       "    <tr>\n",
       "      <th>3</th>\n",
       "      <td>4</td>\n",
       "      <td>1</td>\n",
       "      <td>1</td>\n",
       "      <td>Futrelle, Mrs. Jacques Heath (Lily May Peel)</td>\n",
       "      <td>female</td>\n",
       "      <td>35.0</td>\n",
       "      <td>1</td>\n",
       "      <td>0</td>\n",
       "      <td>53.1000</td>\n",
       "      <td>C123</td>\n",
       "      <td>S</td>\n",
       "    </tr>\n",
       "    <tr>\n",
       "      <th>4</th>\n",
       "      <td>5</td>\n",
       "      <td>0</td>\n",
       "      <td>3</td>\n",
       "      <td>Allen, Mr. William Henry</td>\n",
       "      <td>male</td>\n",
       "      <td>35.0</td>\n",
       "      <td>0</td>\n",
       "      <td>0</td>\n",
       "      <td>8.0500</td>\n",
       "      <td>NaN</td>\n",
       "      <td>S</td>\n",
       "    </tr>\n",
       "  </tbody>\n",
       "</table>\n",
       "</div>"
      ],
      "text/plain": [
       "   passengerid  survived  pclass  \\\n",
       "0            1         0       3   \n",
       "1            2         1       1   \n",
       "2            3         1       3   \n",
       "3            4         1       1   \n",
       "4            5         0       3   \n",
       "\n",
       "                                                name     sex   age  sibsp  \\\n",
       "0                            Braund, Mr. Owen Harris    male  22.0      1   \n",
       "1  Cumings, Mrs. John Bradley (Florence Briggs Th...  female  38.0      1   \n",
       "2                             Heikkinen, Miss. Laina  female  26.0      0   \n",
       "3       Futrelle, Mrs. Jacques Heath (Lily May Peel)  female  35.0      1   \n",
       "4                           Allen, Mr. William Henry    male  35.0      0   \n",
       "\n",
       "   parch     fare cabin embarked  \n",
       "0      0   7.2500   NaN        S  \n",
       "1      0  71.2833   C85        C  \n",
       "2      0   7.9250   NaN        S  \n",
       "3      0  53.1000  C123        S  \n",
       "4      0   8.0500   NaN        S  "
      ]
     },
     "execution_count": 14,
     "metadata": {},
     "output_type": "execute_result"
    }
   ],
   "source": [
    "data.head()"
   ]
  },
  {
   "cell_type": "code",
   "execution_count": 18,
   "id": "5efd079c",
   "metadata": {},
   "outputs": [
    {
     "data": {
      "text/plain": [
       "False"
      ]
     },
     "execution_count": 18,
     "metadata": {},
     "output_type": "execute_result"
    }
   ],
   "source": [
    "# 누락 확인\n",
    "'ticket' in data.columns"
   ]
  },
  {
   "cell_type": "code",
   "execution_count": 20,
   "id": "3553ed43",
   "metadata": {},
   "outputs": [],
   "source": [
    "# ticket 컬럼을 누락시킨 csv 파일을 외부로 빼내기\n",
    "# ticket_deleted_titanic.csv\n",
    "# 단, 그냥 to_csv를 할 경우는 자동으로 csv에 로우명을 매겨주기 때문에\n",
    "# 추후 다시 import할때 Unnamed :0 컬럼이 들어옵니다.\n",
    "# 이를 방지하기 위해 index=False를 줄 수 있습니다.\n",
    "data.to_csv('ticket_deleted_titanic.csv', index=False)"
   ]
  },
  {
   "cell_type": "markdown",
   "id": "82b1ab11",
   "metadata": {},
   "source": [
    "#### Cabin 데이터를 활용하여 유도변수 생성\n",
    "\n",
    "- 개별 객실 번호는 의미가 없음(123, 456 ...)\n",
    "- cabin 데이터의 첫 글자가 deck(구역)을 의미\n",
    "- 유도변수 : deck컬럼 추가\n",
    "- deck 컬럼에 추가될 자료 : A, B, C, D, E, F, G, T, unknown"
   ]
  },
  {
   "cell_type": "markdown",
   "id": "ba843ee9",
   "metadata": {},
   "source": [
    "- cabin 컬럼의 각 값에 적용할 처리\n",
    "    - 1)\n",
    "        - 값의 첫 번째 문자가 deck list에 있으면 해당 deck을 반환\n",
    "        - 없으면(NaN) deck list의 unknown 반환\n",
    "    - 2)\n",
    "        - 첫 번째 문자 반환\n",
    "        - 없으면 다른 것 반환"
   ]
  },
  {
   "cell_type": "code",
   "execution_count": null,
   "id": "a3ea8ce4",
   "metadata": {},
   "outputs": [],
   "source": [
    "# NaN\n",
    "# 1. type = float\n",
    "# 2. 다른 값으로 대체해서 처리\n",
    "# 3. str으로 변경"
   ]
  },
  {
   "cell_type": "code",
   "execution_count": null,
   "id": "8f8552ce",
   "metadata": {},
   "outputs": [],
   "source": [
    "deck_list = ['A', 'B', 'C', 'D', 'E', 'F', 'G', 'T', 'unknown']\n",
    "sample = ['C123', np.nan, 'D201', np.nan, 'F999']\n",
    "# result = ['C', 'unknown', 'D', 'unknown', 'F']"
   ]
  },
  {
   "cell_type": "code",
   "execution_count": 22,
   "id": "6f4224cf",
   "metadata": {},
   "outputs": [
    {
     "data": {
      "text/plain": [
       "float"
      ]
     },
     "execution_count": 22,
     "metadata": {},
     "output_type": "execute_result"
    }
   ],
   "source": [
    "type(np.NaN)"
   ]
  },
  {
   "cell_type": "code",
   "execution_count": 26,
   "id": "9dd92371",
   "metadata": {},
   "outputs": [],
   "source": [
    "# 함수를 정의해서, apply나 map을 통해 유도변수로 교체해주세요.\n",
    "def cabin_to_deck(value):\n",
    "    deck_list = ['A', 'B', 'C', 'D', 'E', 'F', 'G', 'T', 'unknown']\n",
    "    # NaN인지 검사\n",
    "    if type(value)==type(np.nan):\n",
    "        return 'unknown'\n",
    "    # NaN가 아니면 덱 종류만 리턴\n",
    "    elif value[0] in deck_list:\n",
    "    # 덱 리스트에 분류된 덱이 맞는지 체크\n",
    "        return value[0]\n",
    "    else:\n",
    "        return 'unknown'"
   ]
  },
  {
   "cell_type": "code",
   "execution_count": 27,
   "id": "831845d4",
   "metadata": {},
   "outputs": [],
   "source": [
    "# 컬럼명은 'deck' 으로 해 주세요.\n",
    "data['deck'] = data['cabin'].map(cabin_to_deck)"
   ]
  },
  {
   "cell_type": "code",
   "execution_count": 28,
   "id": "be7ac5b1",
   "metadata": {},
   "outputs": [
    {
     "data": {
      "text/plain": [
       "0      unknown\n",
       "1            C\n",
       "2      unknown\n",
       "3            C\n",
       "4      unknown\n",
       "        ...   \n",
       "886    unknown\n",
       "887          B\n",
       "888    unknown\n",
       "889          C\n",
       "890    unknown\n",
       "Name: deck, Length: 891, dtype: object"
      ]
     },
     "execution_count": 28,
     "metadata": {},
     "output_type": "execute_result"
    }
   ],
   "source": [
    "data['deck']"
   ]
  },
  {
   "cell_type": "markdown",
   "id": "67920432",
   "metadata": {},
   "source": [
    "#### Name 데이터를 활용하여 유도변수 생성\n",
    "\n",
    "- 개별 이름은 모델 예측에 유의미한 변수가 아니다.\n",
    "- 대표 특성을 찾을 수 있는 범주 데이터를 추출할 수 있다.\n",
    "- Mr, Ms, Miss, Master ...\n",
    "- 추출 하여 title 컬럼으로 추가\n",
    "- 첫번째 방법. split() 두번 사용하여 처리\n",
    "- 두번째 방법. 정규식을 사용하여 처리\n",
    "    - ver1\n",
    "        - 정규식 패턴 생성에 사용할 문자열 : Sir, Mr, Don, Major, Capt, Jonkheer, Rev, Col, Dr, Mrs, Countess, Dona, Mme, Ms, Miss, Mlle, Master\n",
    "        - 정규식 사용 순서 : 원본 문자열에서 split 결과의 1번 인덱스 값\n",
    "    - ver2\n",
    "        - 정규식 패턴 : [a-zA-Z]+\\."
   ]
  },
  {
   "cell_type": "code",
   "execution_count": 33,
   "id": "d012327b",
   "metadata": {},
   "outputs": [],
   "source": [
    "# split을 활용해서, name컬럼의 값들을 칭호만 남겨서 저장해주세요.\n",
    "# 새로운 컬럼인 splited_name 컬럼에 저장해주시면 됩니다.\n",
    "def name_split(value):\n",
    "    return value.split(\", \")[1].split(\".\")[0]"
   ]
  },
  {
   "cell_type": "code",
   "execution_count": 34,
   "id": "381c922f",
   "metadata": {},
   "outputs": [],
   "source": [
    "data['splited_name'] = data['name'].apply(name_split)"
   ]
  },
  {
   "cell_type": "code",
   "execution_count": 36,
   "id": "d13530d7",
   "metadata": {},
   "outputs": [
    {
     "data": {
      "text/plain": [
       "array(['Mr', 'Mrs', 'Miss', 'Master', 'Don', 'Rev', 'Dr', 'Mme', 'Ms',\n",
       "       'Major', 'Lady', 'Sir', 'Mlle', 'Col', 'Capt', 'the Countess',\n",
       "       'Jonkheer'], dtype=object)"
      ]
     },
     "execution_count": 36,
     "metadata": {},
     "output_type": "execute_result"
    }
   ],
   "source": [
    "data['splited_name'].unique()"
   ]
  },
  {
   "cell_type": "code",
   "execution_count": 37,
   "id": "c3a40cf0",
   "metadata": {},
   "outputs": [],
   "source": [
    "# 정규표현식 사용을 위해 import re 실행\n",
    "# regular expression(정규 표현식)\n",
    "import re"
   ]
  },
  {
   "cell_type": "code",
   "execution_count": 68,
   "id": "a882ef16",
   "metadata": {},
   "outputs": [],
   "source": [
    "# 정규표현식은 re.compile('내부 패턴', re.I)를 이용하면 해당 단어만 뽑아줍니다.\n",
    "# 이를 위해서 반드시 먼저 import re 가 실행되어 있어야 합니다.\n",
    "# 단어 리스트를 가지고 정규식 패턴 적용\n",
    "def get_title(name):\n",
    "    # 둘 이상의 단어를 타겟으로 잡을때는 |(쉬프트 + 역슬래시)를 사용합니다.\n",
    "    pattern = re.compile('Sir|Mrs|Don|Major|Capt|Jonkheer|Rev|Col|Dr|Mr|Countess|Dona|Mme|Ms|Miss|Mlle|Master', re.I)\n",
    "    # 정규식변수.search(타겟) => 타겟에서 패턴에 해당하는 자료가 있는지 조사\n",
    "    result = pattern.search(name)\n",
    "    if result:\n",
    "        return result.group().lower()\n",
    "    else:\n",
    "        str(np.nan)"
   ]
  },
  {
   "cell_type": "code",
   "execution_count": 65,
   "id": "c11adb6c",
   "metadata": {
    "scrolled": true
   },
   "outputs": [
    {
     "name": "stdout",
     "output_type": "stream",
     "text": [
      "Capt\n"
     ]
    },
    {
     "data": {
      "text/plain": [
       "'capt'"
      ]
     },
     "execution_count": 65,
     "metadata": {},
     "output_type": "execute_result"
    }
   ],
   "source": [
    "get_title(\"the Capt, man\")"
   ]
  },
  {
   "cell_type": "code",
   "execution_count": 70,
   "id": "7c331a52",
   "metadata": {
    "collapsed": true
   },
   "outputs": [
    {
     "data": {
      "text/html": [
       "<div>\n",
       "<style scoped>\n",
       "    .dataframe tbody tr th:only-of-type {\n",
       "        vertical-align: middle;\n",
       "    }\n",
       "\n",
       "    .dataframe tbody tr th {\n",
       "        vertical-align: top;\n",
       "    }\n",
       "\n",
       "    .dataframe thead th {\n",
       "        text-align: right;\n",
       "    }\n",
       "</style>\n",
       "<table border=\"1\" class=\"dataframe\">\n",
       "  <thead>\n",
       "    <tr style=\"text-align: right;\">\n",
       "      <th></th>\n",
       "      <th>passengerid</th>\n",
       "      <th>survived</th>\n",
       "      <th>pclass</th>\n",
       "      <th>name</th>\n",
       "      <th>sex</th>\n",
       "      <th>age</th>\n",
       "      <th>sibsp</th>\n",
       "      <th>parch</th>\n",
       "      <th>fare</th>\n",
       "      <th>cabin</th>\n",
       "      <th>embarked</th>\n",
       "      <th>deck</th>\n",
       "      <th>splited_name</th>\n",
       "      <th>title</th>\n",
       "    </tr>\n",
       "  </thead>\n",
       "  <tbody>\n",
       "    <tr>\n",
       "      <th>0</th>\n",
       "      <td>1</td>\n",
       "      <td>0</td>\n",
       "      <td>3</td>\n",
       "      <td>Braund, Mr. Owen Harris</td>\n",
       "      <td>male</td>\n",
       "      <td>22.0</td>\n",
       "      <td>1</td>\n",
       "      <td>0</td>\n",
       "      <td>7.2500</td>\n",
       "      <td>NaN</td>\n",
       "      <td>S</td>\n",
       "      <td>unknown</td>\n",
       "      <td>Mr</td>\n",
       "      <td>mr</td>\n",
       "    </tr>\n",
       "    <tr>\n",
       "      <th>1</th>\n",
       "      <td>2</td>\n",
       "      <td>1</td>\n",
       "      <td>1</td>\n",
       "      <td>Cumings, Mrs. John Bradley (Florence Briggs Th...</td>\n",
       "      <td>female</td>\n",
       "      <td>38.0</td>\n",
       "      <td>1</td>\n",
       "      <td>0</td>\n",
       "      <td>71.2833</td>\n",
       "      <td>C85</td>\n",
       "      <td>C</td>\n",
       "      <td>C</td>\n",
       "      <td>Mrs</td>\n",
       "      <td>mrs</td>\n",
       "    </tr>\n",
       "    <tr>\n",
       "      <th>2</th>\n",
       "      <td>3</td>\n",
       "      <td>1</td>\n",
       "      <td>3</td>\n",
       "      <td>Heikkinen, Miss. Laina</td>\n",
       "      <td>female</td>\n",
       "      <td>26.0</td>\n",
       "      <td>0</td>\n",
       "      <td>0</td>\n",
       "      <td>7.9250</td>\n",
       "      <td>NaN</td>\n",
       "      <td>S</td>\n",
       "      <td>unknown</td>\n",
       "      <td>Miss</td>\n",
       "      <td>miss</td>\n",
       "    </tr>\n",
       "    <tr>\n",
       "      <th>3</th>\n",
       "      <td>4</td>\n",
       "      <td>1</td>\n",
       "      <td>1</td>\n",
       "      <td>Futrelle, Mrs. Jacques Heath (Lily May Peel)</td>\n",
       "      <td>female</td>\n",
       "      <td>35.0</td>\n",
       "      <td>1</td>\n",
       "      <td>0</td>\n",
       "      <td>53.1000</td>\n",
       "      <td>C123</td>\n",
       "      <td>S</td>\n",
       "      <td>C</td>\n",
       "      <td>Mrs</td>\n",
       "      <td>mrs</td>\n",
       "    </tr>\n",
       "    <tr>\n",
       "      <th>4</th>\n",
       "      <td>5</td>\n",
       "      <td>0</td>\n",
       "      <td>3</td>\n",
       "      <td>Allen, Mr. William Henry</td>\n",
       "      <td>male</td>\n",
       "      <td>35.0</td>\n",
       "      <td>0</td>\n",
       "      <td>0</td>\n",
       "      <td>8.0500</td>\n",
       "      <td>NaN</td>\n",
       "      <td>S</td>\n",
       "      <td>unknown</td>\n",
       "      <td>Mr</td>\n",
       "      <td>mr</td>\n",
       "    </tr>\n",
       "    <tr>\n",
       "      <th>...</th>\n",
       "      <td>...</td>\n",
       "      <td>...</td>\n",
       "      <td>...</td>\n",
       "      <td>...</td>\n",
       "      <td>...</td>\n",
       "      <td>...</td>\n",
       "      <td>...</td>\n",
       "      <td>...</td>\n",
       "      <td>...</td>\n",
       "      <td>...</td>\n",
       "      <td>...</td>\n",
       "      <td>...</td>\n",
       "      <td>...</td>\n",
       "      <td>...</td>\n",
       "    </tr>\n",
       "    <tr>\n",
       "      <th>886</th>\n",
       "      <td>887</td>\n",
       "      <td>0</td>\n",
       "      <td>2</td>\n",
       "      <td>Montvila, Rev. Juozas</td>\n",
       "      <td>male</td>\n",
       "      <td>27.0</td>\n",
       "      <td>0</td>\n",
       "      <td>0</td>\n",
       "      <td>13.0000</td>\n",
       "      <td>NaN</td>\n",
       "      <td>S</td>\n",
       "      <td>unknown</td>\n",
       "      <td>Rev</td>\n",
       "      <td>rev</td>\n",
       "    </tr>\n",
       "    <tr>\n",
       "      <th>887</th>\n",
       "      <td>888</td>\n",
       "      <td>1</td>\n",
       "      <td>1</td>\n",
       "      <td>Graham, Miss. Margaret Edith</td>\n",
       "      <td>female</td>\n",
       "      <td>19.0</td>\n",
       "      <td>0</td>\n",
       "      <td>0</td>\n",
       "      <td>30.0000</td>\n",
       "      <td>B42</td>\n",
       "      <td>S</td>\n",
       "      <td>B</td>\n",
       "      <td>Miss</td>\n",
       "      <td>miss</td>\n",
       "    </tr>\n",
       "    <tr>\n",
       "      <th>888</th>\n",
       "      <td>889</td>\n",
       "      <td>0</td>\n",
       "      <td>3</td>\n",
       "      <td>Johnston, Miss. Catherine Helen \"Carrie\"</td>\n",
       "      <td>female</td>\n",
       "      <td>NaN</td>\n",
       "      <td>1</td>\n",
       "      <td>2</td>\n",
       "      <td>23.4500</td>\n",
       "      <td>NaN</td>\n",
       "      <td>S</td>\n",
       "      <td>unknown</td>\n",
       "      <td>Miss</td>\n",
       "      <td>miss</td>\n",
       "    </tr>\n",
       "    <tr>\n",
       "      <th>889</th>\n",
       "      <td>890</td>\n",
       "      <td>1</td>\n",
       "      <td>1</td>\n",
       "      <td>Behr, Mr. Karl Howell</td>\n",
       "      <td>male</td>\n",
       "      <td>26.0</td>\n",
       "      <td>0</td>\n",
       "      <td>0</td>\n",
       "      <td>30.0000</td>\n",
       "      <td>C148</td>\n",
       "      <td>C</td>\n",
       "      <td>C</td>\n",
       "      <td>Mr</td>\n",
       "      <td>mr</td>\n",
       "    </tr>\n",
       "    <tr>\n",
       "      <th>890</th>\n",
       "      <td>891</td>\n",
       "      <td>0</td>\n",
       "      <td>3</td>\n",
       "      <td>Dooley, Mr. Patrick</td>\n",
       "      <td>male</td>\n",
       "      <td>32.0</td>\n",
       "      <td>0</td>\n",
       "      <td>0</td>\n",
       "      <td>7.7500</td>\n",
       "      <td>NaN</td>\n",
       "      <td>Q</td>\n",
       "      <td>unknown</td>\n",
       "      <td>Mr</td>\n",
       "      <td>mr</td>\n",
       "    </tr>\n",
       "  </tbody>\n",
       "</table>\n",
       "<p>891 rows × 14 columns</p>\n",
       "</div>"
      ],
      "text/plain": [
       "     passengerid  survived  pclass  \\\n",
       "0              1         0       3   \n",
       "1              2         1       1   \n",
       "2              3         1       3   \n",
       "3              4         1       1   \n",
       "4              5         0       3   \n",
       "..           ...       ...     ...   \n",
       "886          887         0       2   \n",
       "887          888         1       1   \n",
       "888          889         0       3   \n",
       "889          890         1       1   \n",
       "890          891         0       3   \n",
       "\n",
       "                                                  name     sex   age  sibsp  \\\n",
       "0                              Braund, Mr. Owen Harris    male  22.0      1   \n",
       "1    Cumings, Mrs. John Bradley (Florence Briggs Th...  female  38.0      1   \n",
       "2                               Heikkinen, Miss. Laina  female  26.0      0   \n",
       "3         Futrelle, Mrs. Jacques Heath (Lily May Peel)  female  35.0      1   \n",
       "4                             Allen, Mr. William Henry    male  35.0      0   \n",
       "..                                                 ...     ...   ...    ...   \n",
       "886                              Montvila, Rev. Juozas    male  27.0      0   \n",
       "887                       Graham, Miss. Margaret Edith  female  19.0      0   \n",
       "888           Johnston, Miss. Catherine Helen \"Carrie\"  female   NaN      1   \n",
       "889                              Behr, Mr. Karl Howell    male  26.0      0   \n",
       "890                                Dooley, Mr. Patrick    male  32.0      0   \n",
       "\n",
       "     parch     fare cabin embarked     deck splited_name title  \n",
       "0        0   7.2500   NaN        S  unknown           Mr    mr  \n",
       "1        0  71.2833   C85        C        C          Mrs   mrs  \n",
       "2        0   7.9250   NaN        S  unknown         Miss  miss  \n",
       "3        0  53.1000  C123        S        C          Mrs   mrs  \n",
       "4        0   8.0500   NaN        S  unknown           Mr    mr  \n",
       "..     ...      ...   ...      ...      ...          ...   ...  \n",
       "886      0  13.0000   NaN        S  unknown          Rev   rev  \n",
       "887      0  30.0000   B42        S        B         Miss  miss  \n",
       "888      2  23.4500   NaN        S  unknown         Miss  miss  \n",
       "889      0  30.0000  C148        C        C           Mr    mr  \n",
       "890      0   7.7500   NaN        Q  unknown           Mr    mr  \n",
       "\n",
       "[891 rows x 14 columns]"
      ]
     },
     "execution_count": 70,
     "metadata": {},
     "output_type": "execute_result"
    }
   ],
   "source": [
    "# 위 정규식 실행 함수를 name에 적용하면 호칭만 뽑혀나옴\n",
    "data['title'] = data['name'].apply(get_title)\n",
    "data"
   ]
  },
  {
   "cell_type": "code",
   "execution_count": 81,
   "id": "1c47b31d",
   "metadata": {},
   "outputs": [
    {
     "data": {
      "text/plain": [
       "0        Mr\n",
       "1       Mrs\n",
       "2      Miss\n",
       "3       Mrs\n",
       "4        Mr\n",
       "       ... \n",
       "886     Rev\n",
       "887    Miss\n",
       "888    Miss\n",
       "889      Mr\n",
       "890      Mr\n",
       "Name: name, Length: 891, dtype: object"
      ]
     },
     "execution_count": 81,
     "metadata": {},
     "output_type": "execute_result"
    }
   ],
   "source": [
    "# re를 사용하지 않는 경우는 팬더스에서 .str.extract('패턴')를 사용한다. \n",
    "# expand=False를 주지 않으면 DataFrame형으로 나옴\n",
    "data['name'].str.extract('([a-zA-Z]+)\\.', expand=False)"
   ]
  },
  {
   "cell_type": "code",
   "execution_count": 82,
   "id": "624299bd",
   "metadata": {},
   "outputs": [
    {
     "data": {
      "text/plain": [
       "mr          493\n",
       "miss        177\n",
       "mrs         123\n",
       "master       39\n",
       "dr           16\n",
       "col          12\n",
       "ms            8\n",
       "rev           6\n",
       "don           4\n",
       "mme           4\n",
       "sir           2\n",
       "major         2\n",
       "mlle          2\n",
       "capt          1\n",
       "countess      1\n",
       "jonkheer      1\n",
       "Name: title, dtype: int64"
      ]
     },
     "execution_count": 82,
     "metadata": {},
     "output_type": "execute_result"
    }
   ],
   "source": [
    "# 호칭별 개수\n",
    "data['title'].value_counts()"
   ]
  },
  {
   "cell_type": "markdown",
   "id": "1b2e5185",
   "metadata": {},
   "source": [
    "#### Name 데이터를 활용하여 생성한 유도변수 처리"
   ]
  },
  {
   "cell_type": "markdown",
   "id": "e3c5f46f",
   "metadata": {},
   "source": [
    "* 범주 재설정\n",
    "\n",
    "    capt - Officer\n",
    "    \n",
    "    col - Officer\n",
    "    \n",
    "    major - Officer\n",
    "    \n",
    "    dr - Officer\n",
    "    \n",
    "    jonkheer - Royalty\n",
    "    \n",
    "    rev - Officer\n",
    "    \n",
    "    countess - Royalty\n",
    "    \n",
    "    dona - Royalty\n",
    "    \n",
    "    lady - Royalty\n",
    "    \n",
    "    don - Royalty\n",
    "    \n",
    "    sir - Officer\n",
    "    \n",
    "    mr - Mr\n",
    "    \n",
    "    mme - Mrs\n",
    "    \n",
    "    ms - Mrs\n",
    "    \n",
    "    mrs - Mrs\n",
    "    \n",
    "    miss - Miss\n",
    "    \n",
    "    mlle - Miss\n",
    "    \n",
    "    master - Master\n",
    "    \n",
    "    nan - Mr(최빈값)"
   ]
  },
  {
   "cell_type": "code",
   "execution_count": 83,
   "id": "67b494da",
   "metadata": {},
   "outputs": [],
   "source": [
    "title_map = {\n",
    "    \"capt\":\"Officer\", \n",
    "    \"col\":\"Officer\", \n",
    "    \"major\":\"Officer\", \n",
    "    \"dr\":\"Officer\",\n",
    "    \"jonkheer\":\"Royalty\",\n",
    "    \"rev\":\"Officer\",\n",
    "    \"countess\":\"Royalty\",\n",
    "    \"dona\":\"Royalty\",\n",
    "    \"lady\":\"Royalty\",\n",
    "    \"don\":\"Royalty\",\n",
    "    'sir' : 'Officer',\n",
    "    \"mr\":\"Mr\",\n",
    "    \"mme\":\"Mrs\",\n",
    "    \"ms\":\"Mrs\",\n",
    "    \"mrs\":\"Mrs\",\n",
    "    \"miss\":\"Miss\",\n",
    "    \"mlle\":\"Miss\",\n",
    "    \"master\":\"Master\",\n",
    "    \"nan\":\"Mr\"\n",
    "}"
   ]
  },
  {
   "cell_type": "code",
   "execution_count": 84,
   "id": "f2c7e7a5",
   "metadata": {},
   "outputs": [
    {
     "data": {
      "text/plain": [
       "0           Mr\n",
       "1          Mrs\n",
       "2         Miss\n",
       "3          Mrs\n",
       "4           Mr\n",
       "        ...   \n",
       "886    Officer\n",
       "887       Miss\n",
       "888       Miss\n",
       "889         Mr\n",
       "890         Mr\n",
       "Name: title, Length: 891, dtype: object"
      ]
     },
     "execution_count": 84,
     "metadata": {},
     "output_type": "execute_result"
    }
   ],
   "source": [
    "# data['title'] 에 들어있던 요소를 위의 규칙을 따라서 내부요소 변경해주기\n",
    "data['title'] = data['title'].map(title_map)\n",
    "data['title']"
   ]
  },
  {
   "cell_type": "markdown",
   "id": "a2a8e29e",
   "metadata": {},
   "source": [
    "#### 결측치 처리 - Age\n",
    "\n",
    "- 미성년(Master, Miss)\n",
    "- title 별 평균으로 age 결측치 대체\n",
    "- transform\n",
    "- (참고)사용자정의함수 : 매개변수 3개(타이틀별평균, 데이터, 타이틀리스트)"
   ]
  },
  {
   "cell_type": "code",
   "execution_count": 85,
   "id": "ef6fefec",
   "metadata": {},
   "outputs": [
    {
     "data": {
      "text/plain": [
       "177"
      ]
     },
     "execution_count": 85,
     "metadata": {},
     "output_type": "execute_result"
    }
   ],
   "source": [
    "# age 컬럼 중 null이 들어온 컬럼 개수를 구해주세요\n",
    "data.age.isnull().sum()"
   ]
  },
  {
   "cell_type": "code",
   "execution_count": null,
   "id": "93a874e9",
   "metadata": {},
   "outputs": [],
   "source": [
    "# df['col'].transform(mean)\n",
    "# df['col'].mean()\n",
    "# df['col'].apply(lambda x : mean(x))\n",
    "# df['col'].apply(함수)"
   ]
  },
  {
   "cell_type": "code",
   "execution_count": 86,
   "id": "e2eea30a",
   "metadata": {},
   "outputs": [
    {
     "data": {
      "text/html": [
       "<div>\n",
       "<style scoped>\n",
       "    .dataframe tbody tr th:only-of-type {\n",
       "        vertical-align: middle;\n",
       "    }\n",
       "\n",
       "    .dataframe tbody tr th {\n",
       "        vertical-align: top;\n",
       "    }\n",
       "\n",
       "    .dataframe thead th {\n",
       "        text-align: right;\n",
       "    }\n",
       "</style>\n",
       "<table border=\"1\" class=\"dataframe\">\n",
       "  <thead>\n",
       "    <tr style=\"text-align: right;\">\n",
       "      <th></th>\n",
       "      <th>age</th>\n",
       "    </tr>\n",
       "    <tr>\n",
       "      <th>title</th>\n",
       "      <th></th>\n",
       "    </tr>\n",
       "  </thead>\n",
       "  <tbody>\n",
       "    <tr>\n",
       "      <th>Master</th>\n",
       "      <td>4.362000</td>\n",
       "    </tr>\n",
       "    <tr>\n",
       "      <th>Miss</th>\n",
       "      <td>21.555556</td>\n",
       "    </tr>\n",
       "    <tr>\n",
       "      <th>Mr</th>\n",
       "      <td>32.346457</td>\n",
       "    </tr>\n",
       "    <tr>\n",
       "      <th>Mrs</th>\n",
       "      <td>35.659292</td>\n",
       "    </tr>\n",
       "    <tr>\n",
       "      <th>Officer</th>\n",
       "      <td>37.742857</td>\n",
       "    </tr>\n",
       "    <tr>\n",
       "      <th>Royalty</th>\n",
       "      <td>45.666667</td>\n",
       "    </tr>\n",
       "  </tbody>\n",
       "</table>\n",
       "</div>"
      ],
      "text/plain": [
       "               age\n",
       "title             \n",
       "Master    4.362000\n",
       "Miss     21.555556\n",
       "Mr       32.346457\n",
       "Mrs      35.659292\n",
       "Officer  37.742857\n",
       "Royalty  45.666667"
      ]
     },
     "execution_count": 86,
     "metadata": {},
     "output_type": "execute_result"
    }
   ],
   "source": [
    "# title 별 age의 평균값\n",
    "# 그룹바이를 이용해 'title' 컬럼값별 나이 평균을 구해주세요.\n",
    "data.groupby('title')[['age']].mean()"
   ]
  },
  {
   "cell_type": "code",
   "execution_count": 88,
   "id": "0764a45a",
   "metadata": {},
   "outputs": [
    {
     "data": {
      "text/plain": [
       "0      22.0\n",
       "1      38.0\n",
       "2      26.0\n",
       "3      35.0\n",
       "4      35.0\n",
       "       ... \n",
       "886    27.0\n",
       "887    19.0\n",
       "888     NaN\n",
       "889    26.0\n",
       "890    32.0\n",
       "Name: age, Length: 891, dtype: float64"
      ]
     },
     "execution_count": 88,
     "metadata": {},
     "output_type": "execute_result"
    }
   ],
   "source": [
    "data['age']"
   ]
  },
  {
   "cell_type": "code",
   "execution_count": 94,
   "id": "e73b7e4c",
   "metadata": {},
   "outputs": [
    {
     "data": {
      "text/plain": [
       "0      22.000000\n",
       "1      38.000000\n",
       "2      26.000000\n",
       "3      35.000000\n",
       "4      35.000000\n",
       "         ...    \n",
       "886    27.000000\n",
       "887    19.000000\n",
       "888    21.555556\n",
       "889    26.000000\n",
       "890    32.000000\n",
       "Name: age, Length: 891, dtype: float64"
      ]
     },
     "execution_count": 94,
     "metadata": {},
     "output_type": "execute_result"
    }
   ],
   "source": [
    "# groupby 다음 사용하는 transform은 기존 값을 무시하고, 집계함수값으로 대체합니다.\n",
    "# data.groupby('title')['age'].transform('mean')\n",
    "# title 컬럼을 기준으로 묶은 자료들의 'age' 컬럼 평균치로\n",
    "# 원래 'age'에 있던 결측치를 대신하기 위해 fillna를 써서 채워주세요.\n",
    "data['age'].fillna(data.groupby('title')['age'].transform('mean'), inplace=True)\n",
    "data['age']"
   ]
  },
  {
   "cell_type": "code",
   "execution_count": 95,
   "id": "b2436118",
   "metadata": {},
   "outputs": [
    {
     "data": {
      "text/plain": [
       "0"
      ]
     },
     "execution_count": 95,
     "metadata": {},
     "output_type": "execute_result"
    }
   ],
   "source": [
    "# 결측치가 사라졌는데 isnull().sum()으로 확인해주세요.\n",
    "data['age'].isnull().sum()"
   ]
  },
  {
   "cell_type": "markdown",
   "id": "dfe1c9ac",
   "metadata": {},
   "source": [
    "#### Age 데이터를 범주형 데이터로 변경\n",
    "\n",
    "- 나이 숫자값 자체로는 의미가 적다.\n",
    "- 연령대로 구분하는 것이 더 의미가 있는 구분값\n",
    "- 구간\n",
    "    -  ~ 20\n",
    "    - 20 ~ 40\n",
    "    - 40 ~ 60\n",
    "    - 60 ~\n",
    "- 개수 : 4개"
   ]
  },
  {
   "cell_type": "code",
   "execution_count": 96,
   "id": "7176b469",
   "metadata": {},
   "outputs": [],
   "source": [
    "# 사용자 정의함수\n",
    "def age_class(value):\n",
    "    if value < 20:\n",
    "        return 'under20'\n",
    "    elif value < 40:\n",
    "        return '20-40'\n",
    "    elif value < 60:\n",
    "        return '40-60'\n",
    "    else:\n",
    "        return 'over60'"
   ]
  },
  {
   "cell_type": "code",
   "execution_count": 97,
   "id": "924bb15d",
   "metadata": {},
   "outputs": [
    {
     "data": {
      "text/plain": [
       "0        20-40\n",
       "1        20-40\n",
       "2        20-40\n",
       "3        20-40\n",
       "4        20-40\n",
       "        ...   \n",
       "886      20-40\n",
       "887    under20\n",
       "888      20-40\n",
       "889      20-40\n",
       "890      20-40\n",
       "Name: age_class, Length: 891, dtype: object"
      ]
     },
     "execution_count": 97,
     "metadata": {},
     "output_type": "execute_result"
    }
   ],
   "source": [
    "# data['age_class'] 를 만들어 저장해주세요.\n",
    "# 내부의 값 하나하나를 함수 age_class를 이용해서 나이대별로 분류해주세요.\n",
    "data['age_class'] = data['age'].map(age_class)\n",
    "data['age_class']"
   ]
  },
  {
   "cell_type": "code",
   "execution_count": null,
   "id": "3dacb7c4",
   "metadata": {},
   "outputs": [],
   "source": [
    "# 연령대별 생존 비율\n",
    "# stacked bar chart"
   ]
  },
  {
   "cell_type": "code",
   "execution_count": 98,
   "id": "e797c12b",
   "metadata": {},
   "outputs": [
    {
     "data": {
      "text/plain": [
       "20-40      560\n",
       "under20    168\n",
       "40-60      137\n",
       "over60      26\n",
       "Name: age_class, dtype: int64"
      ]
     },
     "execution_count": 98,
     "metadata": {},
     "output_type": "execute_result"
    }
   ],
   "source": [
    "# 연령대별로 데이터가 몇 개가 있는지\n",
    "data['age_class'].value_counts()"
   ]
  },
  {
   "cell_type": "code",
   "execution_count": 109,
   "id": "ed283224",
   "metadata": {},
   "outputs": [],
   "source": [
    "# 그룹바이를 이용해, 연령대별 생존/사망자별 인원수를 출력해보세요.\n",
    "age_classed_data = data.groupby(['age_class', 'survived', 'sex'])[['survived']].count().copy()"
   ]
  },
  {
   "cell_type": "code",
   "execution_count": 108,
   "id": "7e266980",
   "metadata": {},
   "outputs": [
    {
     "data": {
      "text/html": [
       "<div>\n",
       "<style scoped>\n",
       "    .dataframe tbody tr th:only-of-type {\n",
       "        vertical-align: middle;\n",
       "    }\n",
       "\n",
       "    .dataframe tbody tr th {\n",
       "        vertical-align: top;\n",
       "    }\n",
       "\n",
       "    .dataframe thead th {\n",
       "        text-align: right;\n",
       "    }\n",
       "</style>\n",
       "<table border=\"1\" class=\"dataframe\">\n",
       "  <thead>\n",
       "    <tr style=\"text-align: right;\">\n",
       "      <th></th>\n",
       "      <th></th>\n",
       "      <th></th>\n",
       "      <th>survived</th>\n",
       "    </tr>\n",
       "    <tr>\n",
       "      <th>title</th>\n",
       "      <th>survived</th>\n",
       "      <th>sex</th>\n",
       "      <th></th>\n",
       "    </tr>\n",
       "  </thead>\n",
       "  <tbody>\n",
       "    <tr>\n",
       "      <th rowspan=\"2\" valign=\"top\">Master</th>\n",
       "      <th>0</th>\n",
       "      <th>male</th>\n",
       "      <td>17</td>\n",
       "    </tr>\n",
       "    <tr>\n",
       "      <th>1</th>\n",
       "      <th>male</th>\n",
       "      <td>22</td>\n",
       "    </tr>\n",
       "    <tr>\n",
       "      <th rowspan=\"2\" valign=\"top\">Miss</th>\n",
       "      <th>0</th>\n",
       "      <th>female</th>\n",
       "      <td>55</td>\n",
       "    </tr>\n",
       "    <tr>\n",
       "      <th>1</th>\n",
       "      <th>female</th>\n",
       "      <td>124</td>\n",
       "    </tr>\n",
       "    <tr>\n",
       "      <th rowspan=\"2\" valign=\"top\">Mr</th>\n",
       "      <th>0</th>\n",
       "      <th>male</th>\n",
       "      <td>416</td>\n",
       "    </tr>\n",
       "    <tr>\n",
       "      <th>1</th>\n",
       "      <th>male</th>\n",
       "      <td>77</td>\n",
       "    </tr>\n",
       "    <tr>\n",
       "      <th rowspan=\"4\" valign=\"top\">Mrs</th>\n",
       "      <th rowspan=\"2\" valign=\"top\">0</th>\n",
       "      <th>female</th>\n",
       "      <td>26</td>\n",
       "    </tr>\n",
       "    <tr>\n",
       "      <th>male</th>\n",
       "      <td>7</td>\n",
       "    </tr>\n",
       "    <tr>\n",
       "      <th rowspan=\"2\" valign=\"top\">1</th>\n",
       "      <th>female</th>\n",
       "      <td>99</td>\n",
       "    </tr>\n",
       "    <tr>\n",
       "      <th>male</th>\n",
       "      <td>3</td>\n",
       "    </tr>\n",
       "    <tr>\n",
       "      <th rowspan=\"3\" valign=\"top\">Officer</th>\n",
       "      <th>0</th>\n",
       "      <th>male</th>\n",
       "      <td>25</td>\n",
       "    </tr>\n",
       "    <tr>\n",
       "      <th rowspan=\"2\" valign=\"top\">1</th>\n",
       "      <th>female</th>\n",
       "      <td>8</td>\n",
       "    </tr>\n",
       "    <tr>\n",
       "      <th>male</th>\n",
       "      <td>6</td>\n",
       "    </tr>\n",
       "    <tr>\n",
       "      <th rowspan=\"3\" valign=\"top\">Royalty</th>\n",
       "      <th>0</th>\n",
       "      <th>male</th>\n",
       "      <td>3</td>\n",
       "    </tr>\n",
       "    <tr>\n",
       "      <th rowspan=\"2\" valign=\"top\">1</th>\n",
       "      <th>female</th>\n",
       "      <td>2</td>\n",
       "    </tr>\n",
       "    <tr>\n",
       "      <th>male</th>\n",
       "      <td>1</td>\n",
       "    </tr>\n",
       "  </tbody>\n",
       "</table>\n",
       "</div>"
      ],
      "text/plain": [
       "                         survived\n",
       "title   survived sex             \n",
       "Master  0        male          17\n",
       "        1        male          22\n",
       "Miss    0        female        55\n",
       "        1        female       124\n",
       "Mr      0        male         416\n",
       "        1        male          77\n",
       "Mrs     0        female        26\n",
       "                 male           7\n",
       "        1        female        99\n",
       "                 male           3\n",
       "Officer 0        male          25\n",
       "        1        female         8\n",
       "                 male           6\n",
       "Royalty 0        male           3\n",
       "        1        female         2\n",
       "                 male           1"
      ]
     },
     "execution_count": 108,
     "metadata": {},
     "output_type": "execute_result"
    }
   ],
   "source": [
    "# 그룹바이를 이용해, 연령대별 생존/사망자별 인원수를 출력해보세요.\n",
    "data.groupby(['title', 'survived', 'sex'])[['survived']].count()"
   ]
  },
  {
   "cell_type": "code",
   "execution_count": 128,
   "id": "efcb4572",
   "metadata": {},
   "outputs": [],
   "source": [
    "# barplot 그리기, stacked 형태로 그리기\n",
    "# 데이터프레임에 바로 plot(), hist() 등을 사용하면 실제로 그려줍니다.\n",
    "# survived를 x축에(row로), 나이정보를 y축에(column)으로 두기 위해 unstack()실행\n",
    "barplot_data = age_classed_data.unstack(0)"
   ]
  },
  {
   "cell_type": "code",
   "execution_count": 135,
   "id": "760c91fd",
   "metadata": {},
   "outputs": [],
   "source": [
    "# 멀티인덱스로 인해 범례가 보기 좋지 않으므로 소거\n",
    "barplot_data.columns.names = [\"\", \"\"]"
   ]
  },
  {
   "cell_type": "code",
   "execution_count": 138,
   "id": "d7229b8a",
   "metadata": {},
   "outputs": [
    {
     "data": {
      "text/plain": [
       "<AxesSubplot:xlabel='survived,sex'>"
      ]
     },
     "execution_count": 138,
     "metadata": {},
     "output_type": "execute_result"
    },
    {
     "data": {
      "image/png": "[encoded data removed]",
      "text/plain": [
       "<Figure size 432x288 with 1 Axes>"
      ]
     },
     "metadata": {
      "needs_background": "light"
     },
     "output_type": "display_data"
    }
   ],
   "source": [
    "barplot_data.plot(kind='bar', stacked=True)"
   ]
  },
  {
   "cell_type": "markdown",
   "id": "b50b0f24",
   "metadata": {},
   "source": [
    "#### 성별별 생존자, 탑승표 등급별 생존자 분석"
   ]
  },
  {
   "cell_type": "code",
   "execution_count": null,
   "id": "323c817d",
   "metadata": {},
   "outputs": [],
   "source": [
    "# 탑승표 등급별 생존자/사망자를 시각화해주세요.\n",
    "# 1. 생존자와 사망자를 탑승표로 분류해서 가공합니다.\n",
    "# 2. 차트로 만들어주세요."
   ]
  },
  {
   "cell_type": "code",
   "execution_count": 143,
   "id": "03ca8b71",
   "metadata": {},
   "outputs": [],
   "source": [
    "# x축엔 생존여부(row 내지는 index에 survived가 와야함)\n",
    "# y축에는 탑승표 종류(column에 pclass가 와야함)\n",
    "pclassed_data = data.groupby(['pclass', 'survived'])[['survived']].count().copy()"
   ]
  },
  {
   "cell_type": "code",
   "execution_count": 146,
   "id": "d77b778c",
   "metadata": {},
   "outputs": [
    {
     "data": {
      "text/plain": [
       "<AxesSubplot:xlabel='survived'>"
      ]
     },
     "execution_count": 146,
     "metadata": {},
     "output_type": "execute_result"
    },
    {
     "data": {
      "image/png": "[encoded data removed]",
      "text/plain": [
       "<Figure size 432x288 with 1 Axes>"
      ]
     },
     "metadata": {
      "needs_background": "light"
     },
     "output_type": "display_data"
    }
   ],
   "source": [
    "pclassed_data.unstack(0).plot(kind='bar', stacked=True)"
   ]
  },
  {
   "cell_type": "code",
   "execution_count": null,
   "id": "5318bd3a",
   "metadata": {},
   "outputs": [],
   "source": []
  },
  {
   "cell_type": "code",
   "execution_count": null,
   "id": "847b70cd",
   "metadata": {},
   "outputs": [],
   "source": []
  }
 ],
 "metadata": {
  "kernelspec": {
   "display_name": "Python 3 (ipykernel)",
   "language": "python",
   "name": "python3"
  },
  "language_info": {
   "codemirror_mode": {
    "name": "ipython",
    "version": 3
   },
   "file_extension": ".py",
   "mimetype": "text/x-python",
   "name": "python",
   "nbconvert_exporter": "python",
   "pygments_lexer": "ipython3",
   "version": "3.9.12"
  }
 },
 "nbformat": 4,
 "nbformat_minor": 5
}
