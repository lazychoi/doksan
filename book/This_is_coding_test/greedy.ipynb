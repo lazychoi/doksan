{
 "cells": [
  {
   "cell_type": "markdown",
   "id": "87365c1a",
   "metadata": {},
   "source": [
    "### 거스름돈 동전 개수 p.87\n",
    "\n",
    "[python tutor](https://pythontutor.com/render.html#code=n%20%3D%201260%0Acount%20%3D%200%0A%0Acoin_types%20%3D%20%5B500,100,50,10%5D%0A%0Afor%20coin%20in%20coin_types%3A%0A%20%20%20%20count%20%2B%3D%20n%20//%20coin%0A%20%20%20%20n%20%25%3D%20coin%0A%20%20%20%20%0Aprint%28count%29&cumulative=false&curInstr=6&heapPrimitives=nevernest&mode=display&origin=opt-frontend.js&py=3&rawInputLstJSON=%5B%5D&textReferences=false)\n",
    "\n",
    "- n: 거스름돈, count: 동전 개수\n",
    "- 가장 큰 돈부터 내림차순으로 coin_types 리스트 만듦. 왜냐면, 거스름돈을 줄 때 큰 돈부터 세기 때문.\n",
    "- '//' 연산자는 몫 반환\n",
    "- '%' 연자자는 나머지 반환"
   ]
  },
  {
   "cell_type": "code",
   "execution_count": 1,
   "id": "84c9b4bd",
   "metadata": {
    "ExecuteTime": {
     "end_time": "2022-10-10T09:34:13.160811Z",
     "start_time": "2022-10-10T09:34:13.149944Z"
    }
   },
   "outputs": [
    {
     "name": "stdout",
     "output_type": "stream",
     "text": [
      "6\n"
     ]
    }
   ],
   "source": [
    "n = 1260\n",
    "count = 0\n",
    "\n",
    "coin_types = [500, 100, 50, 10]\n",
    "for coin in coin_types:\n",
    "    count += n // coin\n",
    "    n %= coin\n",
    "    \n",
    "print(count)"
   ]
  },
  {
   "cell_type": "markdown",
   "id": "20b9c8c5",
   "metadata": {},
   "source": [
    "### 큰 수의 법칙 p.92"
   ]
  },
  {
   "cell_type": "code",
   "execution_count": 12,
   "id": "711dae8d",
   "metadata": {
    "ExecuteTime": {
     "end_time": "2022-10-10T11:35:32.723243Z",
     "start_time": "2022-10-10T11:35:17.296421Z"
    }
   },
   "outputs": [
    {
     "name": "stdout",
     "output_type": "stream",
     "text": [
      "5 9 3\n",
      "2 4 5 4 6\n",
      "69\n"
     ]
    }
   ],
   "source": [
    "# 내가 푼 것 => 틀림\n",
    "# 나누어 떨어지지 않을 때를 고려 못 함\n",
    "\n",
    "n, m, k = map(int, input().split())\n",
    "x = list(map(int, input().split()))\n",
    "# n = 5\n",
    "# m = 8\n",
    "# k = 3\n",
    "# x = [2,4,5,4,6]\n",
    "result = 0\n",
    "\n",
    "x.sort(reverse=True)\n",
    "for _ in range(m//k):\n",
    "    result += x[0] * k\n",
    "    result += x[1]\n",
    "\n",
    "print(result)"
   ]
  },
  {
   "cell_type": "code",
   "execution_count": 13,
   "id": "caea320e",
   "metadata": {
    "ExecuteTime": {
     "end_time": "2022-10-10T11:35:42.377360Z",
     "start_time": "2022-10-10T11:35:35.338446Z"
    },
    "scrolled": true
   },
   "outputs": [
    {
     "name": "stdout",
     "output_type": "stream",
     "text": [
      "5 9 3\n",
      "2 4 5 4 6\n",
      "52\n"
     ]
    }
   ],
   "source": [
    "# 교재 풀이\n",
    "\n",
    "n, m, k = map(int, input().split())\n",
    "data = list(map(int, input().split()))\n",
    "\n",
    "data.sort()            # 오름차순 정렬\n",
    "first = data[n-1]      # 가장 큰 수 = 마지막 인덱스\n",
    "second = data[n-2]     # 두 번째로 큰 수\n",
    "\n",
    "count = int(m / (k+1)) * k   # 가장 큰 수가 곱해지는 횟수\n",
    "count += m % (k+1)           # k+1로 나누어 떨어지지 않을 때 나머지 만큼 큰 수가 더해짐\n",
    "\n",
    "result = 0\n",
    "result += count * first         # 큰 수가 더해짐\n",
    "result += (m - count) * second  # 큰 수가 더해지는 횟수에서 남은 만큼 두 번째 큰 수가 더해짐 \n",
    "\n",
    "print(result)"
   ]
  },
  {
   "cell_type": "markdown",
   "id": "781a6ae7",
   "metadata": {},
   "source": [
    "### 숫자 카드 게임 p96"
   ]
  },
  {
   "cell_type": "code",
   "execution_count": null,
   "id": "3224f06c",
   "metadata": {},
   "outputs": [],
   "source": []
  }
 ],
 "metadata": {
  "kernelspec": {
   "display_name": "Python 3 (ipykernel)",
   "language": "python",
   "name": "python3"
  },
  "language_info": {
   "codemirror_mode": {
    "name": "ipython",
    "version": 3
   },
   "file_extension": ".py",
   "mimetype": "text/x-python",
   "name": "python",
   "nbconvert_exporter": "python",
   "pygments_lexer": "ipython3",
   "version": "3.9.12"
  },
  "toc": {
   "base_numbering": 1,
   "nav_menu": {},
   "number_sections": true,
   "sideBar": true,
   "skip_h1_title": false,
   "title_cell": "Table of Contents",
   "title_sidebar": "Contents",
   "toc_cell": false,
   "toc_position": {},
   "toc_section_display": true,
   "toc_window_display": true
  },
  "varInspector": {
   "cols": {
    "lenName": 16,
    "lenType": 16,
    "lenVar": 40
   },
   "kernels_config": {
    "python": {
     "delete_cmd_postfix": "",
     "delete_cmd_prefix": "del ",
     "library": "var_list.py",
     "varRefreshCmd": "print(var_dic_list())"
    },
    "r": {
     "delete_cmd_postfix": ") ",
     "delete_cmd_prefix": "rm(",
     "library": "var_list.r",
     "varRefreshCmd": "cat(var_dic_list()) "
    }
   },
   "types_to_exclude": [
    "module",
    "function",
    "builtin_function_or_method",
    "instance",
    "_Feature"
   ],
   "window_display": false
  }
 },
 "nbformat": 4,
 "nbformat_minor": 5
}
