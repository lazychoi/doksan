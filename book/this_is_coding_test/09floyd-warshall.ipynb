{
 "cells": [
  {
   "cell_type": "markdown",
   "id": "0c65d37c",
   "metadata": {},
   "source": [
    "# Floyd-Warshall Algorithm p251\n",
    "\n",
    "created 2022-10-22\n",
    "\n",
    "- 모든 지점에서 다른 모든 지점까지의 최단 경로 구하는 알고리즘\n",
    "- 2차원 리스트에 최단 거리 정보 저장\n",
    "- O(N^3)"
   ]
  },
  {
   "cell_type": "code",
   "execution_count": 8,
   "id": "52ed7ade",
   "metadata": {},
   "outputs": [
    {
     "name": "stdout",
     "output_type": "stream",
     "text": [
      "0 4 8 6 \n",
      "3 0 7 9 \n",
      "5 9 0 4 \n",
      "7 11 2 0 \n"
     ]
    }
   ],
   "source": [
    "INF = int(1e9)  # 무한으로 10억 설정\n",
    "\n",
    "# 노드, 간선 개수 입력\n",
    "# n = int(input())\n",
    "# m = int(input())\n",
    "n, m = 4, 7\n",
    "\n",
    "# 2차원 리스트(그래프 표현) 만들고, 모든 값을 무한으로 초기화\n",
    "# graph = [ [INF] * (n + 1) for _ in range(n + 1)]\n",
    "\n",
    "# # 자가 자신에서 자기 자신으로 가는 비용 0으로 초기화\n",
    "# for a in range(1, n + 1):\n",
    "#     for b in range(1, n + 1):\n",
    "#         if a == b:\n",
    "#             graph[a][b] = 0\n",
    "\n",
    "# # 각 간선에 대한 정보를 입력받아, 그 값으로 초기화\n",
    "# for _ in range(m):\n",
    "#     # A에서 B로 가는 비용은 C라고 설정\n",
    "#     a, b, c = map(int, input().split())\n",
    "#     graph[a][b] = c\n",
    "\n",
    "graph = [[1000000000, 1000000000, 1000000000, 1000000000, 1000000000],\n",
    "         [1000000000, 0, 4, 1000000000, 6],\n",
    "         [1000000000, 3, 0, 7, 1000000000],\n",
    "         [1000000000, 5, 1000000000, 0, 4],\n",
    "         [1000000000, 1000000000, 1000000000, 2, 0]]\n",
    "\n",
    "# 점화식에 따라 플로이드 워셜 알고리즘 수행\n",
    "for k in range(1, n + 1):\n",
    "    for a in range(1, n + 1):\n",
    "        for b in range(1, n + 1):\n",
    "                graph[a][b] = min(graph[a][b], graph[a][k] + graph[k][b])\n",
    "\n",
    "# 수행 결과 출력\n",
    "for a in range(1, n + 1):\n",
    "    for b in range(1, n + 1):\n",
    "        # 도당할 수 없는 경우 INF 출력\n",
    "        if graph[a][b] == INF:\n",
    "            print('INFINITY', end=' ')\n",
    "        else:\n",
    "            print(graph[a][b], end=' ')\n",
    "    print()"
   ]
  },
  {
   "cell_type": "markdown",
   "id": "8b538249",
   "metadata": {},
   "source": [
    "## 미래 도시 p259\n",
    "\n",
    "- 입력 첫째 줄: 노드 개수, 간선 개수\n",
    "- 입력 둘째 줄 ~ 간선 개수: 서로 연결된 노드\n",
    "- 마지막 줄: 목적 노드(X), 목적 노드 도착 전에 꼭 들러야 하는 노드(K)"
   ]
  },
  {
   "cell_type": "code",
   "execution_count": 32,
   "id": "b5eeba8d",
   "metadata": {},
   "outputs": [
    {
     "name": "stdout",
     "output_type": "stream",
     "text": [
      "5 7\n",
      "1 2\n",
      "1 3\n",
      "1 4\n",
      "2 4\n",
      "3 4\n",
      "3 5\n",
      "4 5\n"
     ]
    },
    {
     "data": {
      "text/plain": [
       "[[1000000000, 1000000000, 1000000000, 1000000000, 1000000000, 1000000000],\n",
       " [1000000000, 0, 1, 1, 1, 1000000000],\n",
       " [1000000000, 1, 0, 1000000000, 1, 1000000000],\n",
       " [1000000000, 1, 1000000000, 0, 1, 1],\n",
       " [1000000000, 1, 1, 1, 0, 1],\n",
       " [1000000000, 1000000000, 1000000000, 1, 1, 0]]"
      ]
     },
     "execution_count": 32,
     "metadata": {},
     "output_type": "execute_result"
    }
   ],
   "source": [
    "# 입력 받은 간선 정보를 2차원 리스트로 만들기\n",
    "\n",
    "# 노드, 간선 개수 입력\n",
    "n, m = map(int, input().split())\n",
    "\n",
    "INF = int(1e9)\n",
    "graph = [[INF] * (n+1) for _ in range(n + 1)]\n",
    "\n",
    "# 자신 -> 자신 비용 0으로 초기화\n",
    "for i in range(1, n + 1):\n",
    "    for j in range(1, n + 1):\n",
    "        if i == j:\n",
    "            graph[i][j] = 0\n",
    "\n",
    "# 간선 정보 입력 -> 초기화\n",
    "# 간선 비용은 모두 1\n",
    "for _ in range(m):\n",
    "    a, b = map(int, input().split())\n",
    "    graph[a][b] = 1 # a -> b\n",
    "    graph[b][a] = 1 # b -> a\n",
    "\n",
    "\n",
    "graph"
   ]
  },
  {
   "cell_type": "code",
   "execution_count": 36,
   "id": "9b7c880a",
   "metadata": {},
   "outputs": [
    {
     "name": "stdout",
     "output_type": "stream",
     "text": [
      "4 5\n"
     ]
    },
    {
     "data": {
      "text/plain": [
       "(5, 4)"
      ]
     },
     "execution_count": 36,
     "metadata": {},
     "output_type": "execute_result"
    }
   ],
   "source": [
    "# 목적지, 경유지 입력 받기\n",
    "x, k = map(int, input().split())\n",
    "x, k"
   ]
  },
  {
   "cell_type": "code",
   "execution_count": 37,
   "id": "a775cb8c",
   "metadata": {},
   "outputs": [
    {
     "data": {
      "text/plain": [
       "[[1000000000, 1000000000, 1000000000, 1000000000, 1000000000, 1000000000],\n",
       " [1000000000, 0, 1, 1, 1, 2],\n",
       " [1000000000, 1, 0, 2, 1, 2],\n",
       " [1000000000, 1, 2, 0, 1, 1],\n",
       " [1000000000, 1, 1, 1, 0, 1],\n",
       " [1000000000, 2, 2, 1, 1, 0]]"
      ]
     },
     "execution_count": 37,
     "metadata": {},
     "output_type": "execute_result"
    }
   ],
   "source": [
    "# 모든 노드를 경유지로 설정하고\n",
    "# 각 노드에서 경유지를 거쳐 모든 노드로 가는 거리 계산\n",
    "\n",
    "for k in range(1, n + 1):\n",
    "    for i in range(1, n + 1): \n",
    "        for j in range(1, n + 1):\n",
    "            graph[i][j] = min(graph[i][j], graph[i][k] + graph[k][j])\n",
    "graph"
   ]
  },
  {
   "cell_type": "code",
   "execution_count": 38,
   "id": "69e5471f",
   "metadata": {},
   "outputs": [
    {
     "name": "stdout",
     "output_type": "stream",
     "text": [
      "2 1\n",
      "3\n"
     ]
    }
   ],
   "source": [
    "# 수행 결과 출력\n",
    "print(graph[1][k], graph[k][x])\n",
    "distance = graph[1][k] + graph[k][x]\n",
    "\n",
    "# 도달할 수 없는 경우 -1 출력\n",
    "if distance >= INF:\n",
    "    print('-1')\n",
    "else:\n",
    "    print(distance)"
   ]
  }
 ],
 "metadata": {
  "kernelspec": {
   "display_name": "Python 3 (ipykernel)",
   "language": "python",
   "name": "python3"
  },
  "language_info": {
   "codemirror_mode": {
    "name": "ipython",
    "version": 3
   },
   "file_extension": ".py",
   "mimetype": "text/x-python",
   "name": "python",
   "nbconvert_exporter": "python",
   "pygments_lexer": "ipython3",
   "version": "3.9.12"
  },
  "toc": {
   "base_numbering": 1,
   "nav_menu": {},
   "number_sections": true,
   "sideBar": true,
   "skip_h1_title": false,
   "title_cell": "Table of Contents",
   "title_sidebar": "Contents",
   "toc_cell": false,
   "toc_position": {},
   "toc_section_display": true,
   "toc_window_display": true
  },
  "varInspector": {
   "cols": {
    "lenName": 16,
    "lenType": 16,
    "lenVar": 40
   },
   "kernels_config": {
    "python": {
     "delete_cmd_postfix": "",
     "delete_cmd_prefix": "del ",
     "library": "var_list.py",
     "varRefreshCmd": "print(var_dic_list())"
    },
    "r": {
     "delete_cmd_postfix": ") ",
     "delete_cmd_prefix": "rm(",
     "library": "var_list.r",
     "varRefreshCmd": "cat(var_dic_list()) "
    }
   },
   "position": {
    "height": "438.844px",
    "left": "1107px",
    "right": "20px",
    "top": "120px",
    "width": "330px"
   },
   "types_to_exclude": [
    "module",
    "function",
    "builtin_function_or_method",
    "instance",
    "_Feature"
   ],
   "window_display": false
  }
 },
 "nbformat": 4,
 "nbformat_minor": 5
}
