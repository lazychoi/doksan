{
 "cells": [
  {
   "cell_type": "markdown",
   "id": "217e204f",
   "metadata": {},
   "source": [
    "# 10장 신장 트리(Spanning Tree) p280\n",
    "\n",
    "- 모든 노드를 포함하면서 사이클이 존재하지 않는 부분 그래프\n",
    "- 최소 신장 트리 알고리즘: 최소 비용으로 만들 수 있는 신장 트리를 찾는 알고리즘\n",
    "\n",
    "## 크루스칼(Kruskal) 알고리즘 \n",
    "\n",
    "1. 간선 데이터를 비용에 따라 오름차순 정렬\n",
    "2. 간선을 순회하며 사이클 발생 확인\n",
    "3. 사이클 발생하지 않을 때만 최소 신장 트리에 포함"
   ]
  },
  {
   "cell_type": "code",
   "execution_count": 3,
   "id": "25746aeb",
   "metadata": {},
   "outputs": [
    {
     "name": "stdout",
     "output_type": "stream",
     "text": [
      "159\n"
     ]
    }
   ],
   "source": [
    "# 특정 원소가 속한 집합 찾기\n",
    "def find_parent(parent, x):\n",
    "    if parent[x] != x:\n",
    "        parent[x] = find_parent(parent, parent[x])\n",
    "    return parent[x]\n",
    "\n",
    "# 두 원소가 속한 집합 합치기\n",
    "def union_parent(parent, a, b):\n",
    "    a = find_parent(parent, a)\n",
    "    b = find_parent(parent, b)\n",
    "    if a < b:\n",
    "        parent[b] = a\n",
    "    else:\n",
    "        parent[a] = b\n",
    "\n",
    "# 노드 개수와 간선 개수 입력. 부모 테이블 초기화\n",
    "v, e = map(int, input().split())\n",
    "# v, e = 7, 9\n",
    "\n",
    "parent = [0] * (v + 1)\n",
    "for i in range(1, v + 1):\n",
    "    parent[i] = i\n",
    "\n",
    "# 모든 간선을 담을 리스트와 최종 비용을 담을 변수\n",
    "edges = []\n",
    "result = 0\n",
    "\n",
    "# 모든 간선에 대한 정보 입력\n",
    "for _ in range(e):\n",
    "    \n",
    "    # 연결된 두 노드와 비용\n",
    "    a, b, cost = map(int, input().split())\n",
    "    \n",
    "    # 비용 순으로 정렬하기 위해 튜플의 첫 번째 노드를 비용으로 설정\n",
    "    edges.append((cost, a, b))\n",
    "# edges = [(29, 1, 2), (75, 1, 5), (35, 2, 3), (34, 2, 6), (7, 3, 4), (23, 4, 6), (13, 4, 7), (53, 5, 6), (25, 6, 7)]\n",
    "\n",
    "# 간선을 비용 순으로 정렬\n",
    "edges.sort()\n",
    "\n",
    "# 간선을 하나씩 확인하며\n",
    "for edge in edges:\n",
    "    cost, a, b = edge\n",
    "    \n",
    "    # 사이클이 발생하지 않은 경우에만 집합에 포함\n",
    "    if find_parent(parent, a) != find_parent(parent, b):\n",
    "        union_parent(parent, a, b)\n",
    "        result += cost\n",
    "\n",
    "print(result)"
   ]
  }
 ],
 "metadata": {
  "kernelspec": {
   "display_name": "Python 3 (ipykernel)",
   "language": "python",
   "name": "python3"
  },
  "language_info": {
   "codemirror_mode": {
    "name": "ipython",
    "version": 3
   },
   "file_extension": ".py",
   "mimetype": "text/x-python",
   "name": "python",
   "nbconvert_exporter": "python",
   "pygments_lexer": "ipython3",
   "version": "3.9.12"
  },
  "toc": {
   "base_numbering": 1,
   "nav_menu": {},
   "number_sections": true,
   "sideBar": true,
   "skip_h1_title": false,
   "title_cell": "Table of Contents",
   "title_sidebar": "Contents",
   "toc_cell": false,
   "toc_position": {},
   "toc_section_display": true,
   "toc_window_display": true
  },
  "varInspector": {
   "cols": {
    "lenName": 16,
    "lenType": 16,
    "lenVar": 40
   },
   "kernels_config": {
    "python": {
     "delete_cmd_postfix": "",
     "delete_cmd_prefix": "del ",
     "library": "var_list.py",
     "varRefreshCmd": "print(var_dic_list())"
    },
    "r": {
     "delete_cmd_postfix": ") ",
     "delete_cmd_prefix": "rm(",
     "library": "var_list.r",
     "varRefreshCmd": "cat(var_dic_list()) "
    }
   },
   "types_to_exclude": [
    "module",
    "function",
    "builtin_function_or_method",
    "instance",
    "_Feature"
   ],
   "window_display": false
  }
 },
 "nbformat": 4,
 "nbformat_minor": 5
}
