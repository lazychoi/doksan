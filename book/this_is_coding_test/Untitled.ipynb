{
 "cells": [
  {
   "cell_type": "code",
   "execution_count": 28,
   "id": "a43ee6e5",
   "metadata": {},
   "outputs": [
    {
     "name": "stdout",
     "output_type": "stream",
     "text": [
      "left_index 2, right_index 8\n",
      "position exchange  9 4 => [7, 5, 4, 0, 3, 1, 6, 2, 9, 8]\n",
      "left_index 8, right_index 7\n",
      "-----------------------------------\n",
      "pivot exchange  7 2 => [2, 5, 4, 0, 3, 1, 6, 7, 9, 8]\n",
      "left_index 1, right_index 5\n",
      "position exchange  5 1 => [2, 1, 4, 0, 3, 5, 6, 7, 9, 8]\n",
      "left_index 2, right_index 3\n",
      "position exchange  4 0 => [2, 1, 0, 4, 3, 5, 6, 7, 9, 8]\n",
      "left_index 3, right_index 2\n",
      "-----------------------------------\n",
      "pivot exchange  2 0 => [0, 1, 2, 4, 3, 5, 6, 7, 9, 8]\n",
      "left_index 1, right_index 0\n",
      "-----------------------------------\n",
      "pivot exchange  0 0 => [0, 1, 2, 4, 3, 5, 6, 7, 9, 8]\n",
      "left_index 5, right_index 4\n",
      "-----------------------------------\n",
      "pivot exchange  4 3 => [0, 1, 2, 3, 4, 5, 6, 7, 9, 8]\n",
      "left_index 6, right_index 5\n",
      "-----------------------------------\n",
      "pivot exchange  5 5 => [0, 1, 2, 3, 4, 5, 6, 7, 9, 8]\n",
      "left_index 10, right_index 9\n",
      "-----------------------------------\n",
      "pivot exchange  9 8 => [0, 1, 2, 3, 4, 5, 6, 7, 8, 9]\n",
      "[0, 1, 2, 3, 4, 5, 6, 7, 8, 9]\n"
     ]
    }
   ],
   "source": [
    "# array = list(map(int, input().split()))\n",
    "array = [7, 5, 9, 0, 3, 1, 6, 2, 4, 8]\n",
    "\n",
    "\n",
    "def quick_sort(array, start, end):\n",
    "    if start >= end:\n",
    "        return\n",
    "    pivot = start\n",
    "    left = start + 1\n",
    "    right = end\n",
    "    while left <= right:\n",
    "        while left <= end and array[left] <= array[pivot]:\n",
    "            left += 1\n",
    "        print('left_index', left, end=', ')\n",
    "        while right > start and array[right] >= array[pivot]:\n",
    "            right -= 1\n",
    "        print('right_index', right)\n",
    "        if left > right:\n",
    "            print('-----------------------------------')\n",
    "            print('pivot exchange ', array[pivot], array[right], end=' => ')\n",
    "            array[right], array[pivot] = array[pivot], array[right]\n",
    "            print(array)\n",
    "        else:\n",
    "            print('position exchange ', array[left], array[right], end=' => ')\n",
    "            array[left], array[right] = array[right], array[left]\n",
    "            print(array)\n",
    "    quick_sort(array, start, right-1)\n",
    "    quick_sort(array, right+1, end)\n",
    "    \n",
    "quick_sort(array, 0, len(array)-1)\n",
    "print(array)"
   ]
  },
  {
   "cell_type": "code",
   "execution_count": null,
   "id": "ef8de1e2",
   "metadata": {},
   "outputs": [],
   "source": []
  }
 ],
 "metadata": {
  "kernelspec": {
   "display_name": "Python 3 (ipykernel)",
   "language": "python",
   "name": "python3"
  },
  "language_info": {
   "codemirror_mode": {
    "name": "ipython",
    "version": 3
   },
   "file_extension": ".py",
   "mimetype": "text/x-python",
   "name": "python",
   "nbconvert_exporter": "python",
   "pygments_lexer": "ipython3",
   "version": "3.9.12"
  },
  "toc": {
   "base_numbering": 1,
   "nav_menu": {},
   "number_sections": true,
   "sideBar": true,
   "skip_h1_title": false,
   "title_cell": "Table of Contents",
   "title_sidebar": "Contents",
   "toc_cell": false,
   "toc_position": {},
   "toc_section_display": true,
   "toc_window_display": false
  },
  "varInspector": {
   "cols": {
    "lenName": 16,
    "lenType": 16,
    "lenVar": 40
   },
   "kernels_config": {
    "python": {
     "delete_cmd_postfix": "",
     "delete_cmd_prefix": "del ",
     "library": "var_list.py",
     "varRefreshCmd": "print(var_dic_list())"
    },
    "r": {
     "delete_cmd_postfix": ") ",
     "delete_cmd_prefix": "rm(",
     "library": "var_list.r",
     "varRefreshCmd": "cat(var_dic_list()) "
    }
   },
   "types_to_exclude": [
    "module",
    "function",
    "builtin_function_or_method",
    "instance",
    "_Feature"
   ],
   "window_display": false
  }
 },
 "nbformat": 4,
 "nbformat_minor": 5
}
