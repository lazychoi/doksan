{
 "cells": [
  {
   "cell_type": "markdown",
   "id": "d6718087",
   "metadata": {},
   "source": [
    "# 9장 다익스트라(Dijkstra) 최단 경로(Shortest Path) 알고리즘\n",
    "created: 22-10-20\n",
    "\n",
    "- jupyter 에서는 stdin 이 제대로 구성되어 있지 않기 때문에 stdin.readline()을 실행하면 입력을 받지 못하고 빈 문자열이 반환됨. input() 사용해야 함"
   ]
  },
  {
   "cell_type": "code",
   "execution_count": 24,
   "id": "3bbb49e6",
   "metadata": {},
   "outputs": [
    {
     "name": "stdout",
     "output_type": "stream",
     "text": [
      "0\n",
      "2\n",
      "3\n",
      "1\n",
      "2\n",
      "4\n"
     ]
    }
   ],
   "source": [
    "INF = int(1e9) # 무한을 의미하는 값으로 10억 설정\n",
    "\n",
    "# 노드의 개수, 간선의 개수 입력\n",
    "# n, m = map(int, input().split())\n",
    "n, m = 6, 11\n",
    "\n",
    "# 시작 노드 번호 입력\n",
    "# start = int(input())\n",
    "start = 1\n",
    "\n",
    "# 각 노드에 연결되어 있는 노드 정보 담는 리스트 만들기. 노드 개수 6\n",
    "graph = [[] for i in range(n + 1)]\n",
    "# 방문한 적이 있는지 체크하는 목적의 리스트 만들기. 노드 개수 6\n",
    "visited = [False] * (n + 1)\n",
    "# 최단 거리 테이블을 모두 무한으로 초기화. 노드 개수 6\n",
    "distance = [INF] * (n + 1)\n",
    "\n",
    "# 모든 간선의 정보 입력\n",
    "# for _ in range(m):\n",
    "#     a, b, c = map(int, input().split())\n",
    "#     # a번 노드에서 b번 노드로 가는 비용이 c라는 의미\n",
    "#     graph[a].append((b,c))\n",
    "graph = [[], [(2, 2), (3, 5), (4, 1)], [(3, 3), (4, 2)], [(2, 3), (6, 5)], [(3, 3), (5, 1)], [(3, 1), (6, 2)], []]\n",
    "\n",
    "# 방문하지 않은 노드 중에서 최단 거리가 가장 짧은 노드 번호 반환\n",
    "def get_smallest_node():\n",
    "    min_value = INF\n",
    "    index = 0 # 가장 최단 거리가 짧은 노드(인덱스)\n",
    "    for i in range(1, n + 1): # 모든 노드 순회\n",
    "        if distance[i] < min_value and not visited[i]: # 노드의 거리가 min_value보다 작고 방문하지 않은 곳이라면\n",
    "            min_value = distance[i]   # 노드 거리를 min_value에 저장하여 최소값으로 만듦\n",
    "            index = i                 # 최단 거리 노드 번호 반환\n",
    "    return index\n",
    "\n",
    "# 다익스트라 알고리즘\n",
    "def dijkstra(start):\n",
    "    distance[start] = 0\n",
    "    visited[start] = True\n",
    "    for j in graph[start]:      # start 노드와 연결된 노드 간의 \n",
    "        distance[j[0]] = j[1]  # 거리 입력\n",
    "    \n",
    "    # 시작 노드를 제외한 전체 n-1 개의 노드 반복\n",
    "    for _ in range(n - 1):\n",
    "        # 현재 최단거리가 가장 짧은 노드를 꺼내 방문 처리\n",
    "        now = get_smallest_node()\n",
    "        visited[now] = True\n",
    "        # 현재 노드와 연결된 다른 노드 확인\n",
    "        for j in graph[now]:\n",
    "            cost = distance[now] + j[1] # 현재 노드까지의 거리 + 연결된 다른 노드까지의 거리\n",
    "            # 현재 노드를 거쳐 다른 노드로 가는 거리(cost)가 기존 거리(distance[j[0]])보다 더 짧은 경우\n",
    "            if cost < distance[j[0]]:\n",
    "                distance[j[0]] = cost\n",
    "                \n",
    "# 다익스트라 알고리즘을 수행\n",
    "dijkstra(start)\n",
    "\n",
    "# 모든 노드로 가기 위한 최단 거리를 출력\n",
    "for i in range(1, n + 1):\n",
    "    # 도달할 수 없는 경우, 무한(INFINITY)이라고 출력\n",
    "    if distance[i] == INF:\n",
    "        print(\"INFINITY\")\n",
    "    # 도달할 수 있는 경우 거리를 출력\n",
    "    else:\n",
    "        print(distance[i])"
   ]
  },
  {
   "cell_type": "markdown",
   "id": "655b0920",
   "metadata": {},
   "source": [
    "## 우선순위 큐 이용"
   ]
  },
  {
   "cell_type": "code",
   "execution_count": 25,
   "id": "aa05dcda",
   "metadata": {},
   "outputs": [
    {
     "name": "stdout",
     "output_type": "stream",
     "text": [
      "0\n",
      "2\n",
      "3\n",
      "1\n",
      "2\n",
      "4\n"
     ]
    }
   ],
   "source": [
    "import heapq\n",
    "\n",
    "# n, m = map(int, input().split())\n",
    "# start = int(input())\n",
    "graph = [[] for i in range(n + 1)]  # 노드 개수\n",
    "distance = [INF] * (n + 1)\n",
    "n, m, start = 6, 11, 1\n",
    "\n",
    "# 모든 간선 정보\n",
    "graph = [[], [(2,2),(3,5),(4,1)],[(3,3),(4,2)],[(2,3),(6,5)],[(3,3),(5,1)],[(3,1),(6,2)],[]]\n",
    "# for _ in range(m):\n",
    "#     a, b, c = map(int, input().split())\n",
    "#     graph[a].append((b,c))\n",
    "\n",
    "\n",
    "def dijkstra(start):\n",
    "    q = []  # 우선순위 큐\n",
    "    # 시작 노드로 가기 위한 최단 경로는 0으로 설정. 큐에 삽입\n",
    "    heapq.heappush(q, (0, start))\n",
    "    distance[start] = 0\n",
    "    while q:  # 큐가 비어있지 않다면\n",
    "        # 최단거리가 가장 작은 노드에 대한 정보 꺼내기\n",
    "        dist, now = heapq.heappop(q)\n",
    "        # 현재 노드가 이미 처리된 적이 있으면 무시. 저장된 거리가 꺼낸 거리보다 짧은 경우\n",
    "        if distance[now] < dist:\n",
    "            continue\n",
    "        # 현재 노드와 연결된 다른 노드 확인\n",
    "        for i in graph[now]:\n",
    "            cost = dist + i[1]\n",
    "            # 현재 노드를 거쳐서 다른 노드로 이동하는 거리가 더 짧은 경우\n",
    "            if cost < distance[i[0]]:\n",
    "                distance[i[0]] = cost\n",
    "                heapq.heappush(q, (cost, i[0]))\n",
    "dijkstra(start)\n",
    "\n",
    "# 모든 노드로 가는 최단거리 출력\n",
    "for i in range(1, n + 1):\n",
    "    if distance[i] == INF:\n",
    "        print('INFINITY')\n",
    "    else:\n",
    "        print(distance[i])"
   ]
  }
 ],
 "metadata": {
  "kernelspec": {
   "display_name": "Python 3 (ipykernel)",
   "language": "python",
   "name": "python3"
  },
  "language_info": {
   "codemirror_mode": {
    "name": "ipython",
    "version": 3
   },
   "file_extension": ".py",
   "mimetype": "text/x-python",
   "name": "python",
   "nbconvert_exporter": "python",
   "pygments_lexer": "ipython3",
   "version": "3.9.12"
  }
 },
 "nbformat": 4,
 "nbformat_minor": 5
}
