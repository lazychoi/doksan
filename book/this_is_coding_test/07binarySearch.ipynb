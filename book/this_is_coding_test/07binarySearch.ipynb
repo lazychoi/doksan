{
 "cells": [
  {
   "cell_type": "markdown",
   "id": "2aacd5f2",
   "metadata": {},
   "source": [
    "# 이진 탐색(Binary Search) p188\n",
    "created: 22-10-18\n",
    "\n",
    "- 배열 내부의 데이터가 정렬되어 있어야 사용 가능\n",
    "- 탐색 범위를 절반씩 좁혀가며 탐색\n",
    "- 시간 복잡도 O(NlogN)"
   ]
  },
  {
   "cell_type": "code",
   "execution_count": 6,
   "id": "41c66d97",
   "metadata": {},
   "outputs": [
    {
     "name": "stdout",
     "output_type": "stream",
     "text": [
      "10 7\n",
      "1 2 3 4 5 6 7 8 9 10\n",
      "7\n"
     ]
    }
   ],
   "source": [
    "# 재귀 함수 이용 코드\n",
    "# 찾는 값의 인덱스를 반환\n",
    "\n",
    "def binary_search(array,target, start, end):\n",
    "    if start > end:\n",
    "        return None\n",
    "    mid = ( start + end ) // 2\n",
    "    if array[mid] == target:\n",
    "        return mid\n",
    "    elif array[mid] > target:\n",
    "        return binary_search(array,target, start, mid - 1)\n",
    "    else:\n",
    "        return binary_search(array,target, mid + 1, end)\n",
    "    \n",
    "n, target = list(map(int, input().split()))\n",
    "array = list(map(int, input().split()))\n",
    "\n",
    "result = binary_search(array, target, 0, n-1)\n",
    "if result == None:\n",
    "    print('원소가 존재하지 않습니다.')\n",
    "else:\n",
    "    print(result + 1)"
   ]
  },
  {
   "cell_type": "code",
   "execution_count": 11,
   "id": "1179e704",
   "metadata": {},
   "outputs": [
    {
     "name": "stdout",
     "output_type": "stream",
     "text": [
      "10 7\n",
      "1 2 3 4 5 6 7 8 9 10\n",
      "7\n"
     ]
    }
   ],
   "source": [
    "# 반복문으로 구현\n",
    "\n",
    "def binary_search(array, target, start, end):\n",
    "    while start <= end:\n",
    "        mid = (start + end) // 2\n",
    "        if array[mid] == target:\n",
    "             return mid\n",
    "        # 찾는 값이 중앙값보다 작으면 중앙값-1을 끝 인덱스에 담아 왼쪽 확인\n",
    "        elif array[mid] > target:\n",
    "            end = mid - 1\n",
    "        # 찾는 값이 중앙값보다 크면 중앙값+1을 시작 인덱스에 담아 오른쪽 확인\n",
    "        else:\n",
    "            start = mid + 1\n",
    "    return None\n",
    "\n",
    "n, target = list(map(int, input().split()))\n",
    "array = list(map(int, input().split()))\n",
    "\n",
    "result = binary_search(array, target, 0, n-1)\n",
    "if result == None:\n",
    "    print('찾는 숫자가 없습니다.')\n",
    "else:\n",
    "    print(result + 1)"
   ]
  },
  {
   "cell_type": "markdown",
   "id": "8a0aed01",
   "metadata": {},
   "source": [
    "## 부품 찾기 p197¶"
   ]
  },
  {
   "cell_type": "code",
   "execution_count": 13,
   "id": "4c788475",
   "metadata": {},
   "outputs": [
    {
     "name": "stdout",
     "output_type": "stream",
     "text": [
      "5\n",
      "8 3 7 9 2\n",
      "3 \n",
      "5 7 9\n",
      "no yes yes "
     ]
    }
   ],
   "source": [
    "# 내가 짠 것\n",
    "\n",
    "n = int(input())\n",
    "n_list = list(map(int, input().split()))\n",
    "              \n",
    "m = int(input())\n",
    "m_list = list(map(int, input().split()))\n",
    "              \n",
    "n_list.sort()\n",
    "\n",
    "def binary_search(n_list, target, start, end):\n",
    "    \n",
    "    while start <= end:\n",
    "        mid = (start + end) // 2\n",
    "        if n_list[mid] == target:\n",
    "            return 'yes'\n",
    "        elif n_list[mid] < target:\n",
    "            start = mid + 1\n",
    "        else:\n",
    "            end = mid - 1\n",
    "\n",
    "for target in m_list:\n",
    "    temp = binary_search(n_list, target, 0, n-1)\n",
    "    if temp == None:\n",
    "        temp = 'no'\n",
    "    print(temp, end=' ')"
   ]
  },
  {
   "cell_type": "code",
   "execution_count": 17,
   "id": "bbb5e54a",
   "metadata": {},
   "outputs": [
    {
     "name": "stdout",
     "output_type": "stream",
     "text": [
      "5\n",
      "8 3 7 9 2\n",
      "3\n",
      "5 7 9\n",
      "no yes yes "
     ]
    }
   ],
   "source": [
    "# 교재 코드\n",
    "\n",
    "def binary_search(array, target, start, end):\n",
    "    while start <= end:\n",
    "        mid = (start + end) // 2\n",
    "        if array[mid] == target:\n",
    "            return mid\n",
    "        elif array[mid] > target:\n",
    "            end = mid -1\n",
    "        else:\n",
    "            start = mid + 1\n",
    "            \n",
    "n = int(input())\n",
    "array = list(map(int, input().split()))\n",
    "array.sort()\n",
    "\n",
    "m = int(input())\n",
    "x = list(map(int, input().split()))\n",
    "\n",
    "for i in x:\n",
    "    result = binary_search(array, i, 0, n - 1)\n",
    "    if result != None:\n",
    "        print('yes', end=' ')\n",
    "    else:\n",
    "        print('no', end=' ')"
   ]
  },
  {
   "cell_type": "markdown",
   "id": "224ecc8a",
   "metadata": {},
   "source": [
    "## set 자료형 이용한 풀이"
   ]
  },
  {
   "cell_type": "code",
   "execution_count": 18,
   "id": "94aa1073",
   "metadata": {},
   "outputs": [
    {
     "name": "stdout",
     "output_type": "stream",
     "text": [
      "5\n",
      "8 3 7 9 2\n",
      "3 \n",
      "5 7 9\n",
      "no yes yes "
     ]
    }
   ],
   "source": [
    "n = int(input())\n",
    "# 가게의 전체 부품 번호를 입력받아 집합 자료형에 기록\n",
    "array = set(map(int, input().split()))\n",
    "\n",
    "m = int(input())\n",
    "x = list(map(int, input().split()))\n",
    "\n",
    "for i in x:\n",
    "    if i in array:\n",
    "        print('yes', end=' ')\n",
    "    else:\n",
    "        print('no', end=' ')"
   ]
  },
  {
   "cell_type": "code",
   "execution_count": null,
   "id": "2519c232",
   "metadata": {},
   "outputs": [],
   "source": [
    "케빈 머피, Machine Learning\n",
    "토머스 코멘, introduction to Algorithms"
   ]
  }
 ],
 "metadata": {
  "kernelspec": {
   "display_name": "Python 3 (ipykernel)",
   "language": "python",
   "name": "python3"
  },
  "language_info": {
   "codemirror_mode": {
    "name": "ipython",
    "version": 3
   },
   "file_extension": ".py",
   "mimetype": "text/x-python",
   "name": "python",
   "nbconvert_exporter": "python",
   "pygments_lexer": "ipython3",
   "version": "3.9.12"
  }
 },
 "nbformat": 4,
 "nbformat_minor": 5
}
