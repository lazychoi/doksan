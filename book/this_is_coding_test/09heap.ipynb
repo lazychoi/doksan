{
 "cells": [
  {
   "cell_type": "markdown",
   "id": "32f4720d",
   "metadata": {},
   "source": [
    "# 9장 Heap 자료 구조 \n",
    "created: 22-10-20\n",
    "\n",
    "- 최댓값과 최솟값을 찾아내는 연산을 빠르게 하기 위해 고안된 완전이진트리(complete binary tree)를 기본으로 한 자료구조\n",
    "- A가 B의 부모노드이면, A 키값과 B 키값 사이에는 대소관계가 성립한다.\n",
    "- 최대 힙: 부모노드 키값 > 자식노드 키값\n",
    "- 최소 힙: 부모노드 키값 < 자식노드 키값\n",
    "- 형제 사이에는 대소관계가 정해지지 않는다.\n",
    "\n",
    "## 파이썬 구현 p454\n",
    "\n",
    "- heapq 라이브러리\n",
    "- 최소 힙으로 구성\n",
    "- heappush(), heappop()"
   ]
  },
  {
   "cell_type": "markdown",
   "id": "83fdd05a",
   "metadata": {},
   "source": [
    "## Heap Sort 힙 정렬"
   ]
  },
  {
   "cell_type": "code",
   "execution_count": 4,
   "id": "b9abdd7d",
   "metadata": {},
   "outputs": [
    {
     "name": "stdout",
     "output_type": "stream",
     "text": [
      "push [1]\n",
      "push [1, 3]\n",
      "push [1, 3, 5]\n",
      "push [1, 3, 5, 7]\n",
      "push [1, 3, 5, 7, 9]\n",
      "push [1, 3, 2, 7, 9, 5]\n",
      "push [1, 3, 2, 7, 9, 5, 4]\n",
      "push [1, 3, 2, 6, 9, 5, 4, 7]\n",
      "push [1, 3, 2, 6, 9, 5, 4, 7, 8]\n",
      "pop [2, 3, 4, 6, 9, 5, 8, 7]\n",
      "pop [3, 6, 4, 7, 9, 5, 8]\n",
      "pop [4, 6, 5, 7, 9, 8]\n",
      "pop [5, 6, 8, 7, 9]\n",
      "pop [6, 7, 8, 9]\n",
      "pop [7, 9, 8]\n",
      "pop [8, 9]\n",
      "pop [9]\n",
      "pop []\n",
      "[1, 2, 3, 4, 5, 6, 7, 8, 9]\n"
     ]
    }
   ],
   "source": [
    "# 오름차순\n",
    "\n",
    "import heapq\n",
    "\n",
    "def heapsort(iterable):\n",
    "    h = []\n",
    "    result = []\n",
    "    for i in iterable:\n",
    "        heapq.heappush(h, i)   # 모든 원소를 h 변수에 삽입\n",
    "        print('push', h)\n",
    "    for _ in range(len(h)):\n",
    "        result.append(heapq.heappop(h)) # 힙에 삽입된 모든 변수를 차례대로 꺼내기\n",
    "        print('pop', h)\n",
    "    return result\n",
    "\n",
    "print( heapsort([1, 3, 5, 7, 9, 2, 4, 6, 8]) )"
   ]
  },
  {
   "cell_type": "markdown",
   "id": "40345bfa",
   "metadata": {},
   "source": [
    "## 최대 힙 구현"
   ]
  },
  {
   "cell_type": "code",
   "execution_count": 8,
   "id": "77718708",
   "metadata": {},
   "outputs": [
    {
     "name": "stdout",
     "output_type": "stream",
     "text": [
      "[9, 8, 7, 6, 5, 4, 3, 2, 1]\n"
     ]
    }
   ],
   "source": [
    "# 내림차순\n",
    "\n",
    "import heapq\n",
    "\n",
    "def heapsort(iterable):\n",
    "    h = []\n",
    "    result = []\n",
    "    for i in iterable:\n",
    "        heapq.heappush(h, -i) # 부호를 바꾸어서 입력\n",
    "    for _ in range(len(h)):\n",
    "        result.append( -heapq.heappop(h) )  # 출력값의 부호를 바꾸어 부호 원상 복귀\n",
    "    return result\n",
    "\n",
    "print(heapsort([1, 3, 5, 7, 9, 2, 4, 6, 8]))        "
   ]
  }
 ],
 "metadata": {
  "kernelspec": {
   "display_name": "Python 3 (ipykernel)",
   "language": "python",
   "name": "python3"
  },
  "language_info": {
   "codemirror_mode": {
    "name": "ipython",
    "version": 3
   },
   "file_extension": ".py",
   "mimetype": "text/x-python",
   "name": "python",
   "nbconvert_exporter": "python",
   "pygments_lexer": "ipython3",
   "version": "3.9.12"
  }
 },
 "nbformat": 4,
 "nbformat_minor": 5
}
