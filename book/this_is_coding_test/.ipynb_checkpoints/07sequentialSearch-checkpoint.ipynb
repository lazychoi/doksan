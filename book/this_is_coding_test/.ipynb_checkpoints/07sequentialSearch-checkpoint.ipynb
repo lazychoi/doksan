{
 "cells": [
  {
   "cell_type": "markdown",
   "id": "5b0f0b4b",
   "metadata": {},
   "source": [
    "# 7장 순차 탐색(Sequential Search)\n",
    "created: 22-10-18\n",
    "\n",
    "- 순차 탐색이란 리스트 안에 있는 특정한 데이터를 찾기 위해 앞에서부터 데이터를 하나씩 차례로 확인하는 방법\n",
    "- 시간 복잡도 O(N)"
   ]
  },
  {
   "cell_type": "code",
   "execution_count": 2,
   "id": "676abe14",
   "metadata": {},
   "outputs": [
    {
     "name": "stdout",
     "output_type": "stream",
     "text": [
      "생성할 원소 개수를 입력한 다음 한 칸 띄고 찾을 문자열을 입력하세요.\n",
      "5 world\n",
      "앞서 적은 원소 개수만큼 문자열을 입력하세요. 띄어쓰기 한 칸으로 구분합니다.\n",
      "hello world in our space\n",
      "2\n"
     ]
    }
   ],
   "source": [
    "# 입력된 단어들 중에 찾는 단어의 위치 반환\n",
    "\n",
    "def sequential_search(n, target, array):\n",
    "    for i in range(n):\n",
    "        if array[i] == target:\n",
    "            return i + 1 # 현재 위치 반환(인덱스는 0부터 시작하므로 1 더하기)\n",
    "        \n",
    "print('생성할 원소 개수를 입력한 다음 한 칸 띄고 찾을 문자열을 입력하세요.')\n",
    "input_data = input().split()\n",
    "n = int(input_data[0]) # 원소 개수\n",
    "target = input_data[1]\n",
    "\n",
    "print('앞서 적은 원소 개수만큼 문자열을 입력하세요. 띄어쓰기 한 칸으로 구분합니다.')\n",
    "array = input().split()\n",
    "\n",
    "# 순차 탐색 수행 결과 출력\n",
    "print(sequential_search(n, target, array))"
   ]
  },
  {
   "cell_type": "code",
   "execution_count": null,
   "id": "c858a73e",
   "metadata": {},
   "outputs": [],
   "source": []
  }
 ],
 "metadata": {
  "kernelspec": {
   "display_name": "Python 3 (ipykernel)",
   "language": "python",
   "name": "python3"
  },
  "language_info": {
   "codemirror_mode": {
    "name": "ipython",
    "version": 3
   },
   "file_extension": ".py",
   "mimetype": "text/x-python",
   "name": "python",
   "nbconvert_exporter": "python",
   "pygments_lexer": "ipython3",
   "version": "3.9.12"
  }
 },
 "nbformat": 4,
 "nbformat_minor": 5
}
