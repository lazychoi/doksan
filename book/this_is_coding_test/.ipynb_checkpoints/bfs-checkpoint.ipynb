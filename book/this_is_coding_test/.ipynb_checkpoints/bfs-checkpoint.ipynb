{
 "cells": [
  {
   "cell_type": "markdown",
   "id": "9206155a",
   "metadata": {},
   "source": [
    "## 넓이 우선 탐색(BFS, Breath first Search) p143"
   ]
  },
  {
   "cell_type": "code",
   "execution_count": 26,
   "id": "4ac44cff",
   "metadata": {
    "ExecuteTime": {
     "end_time": "2022-10-15T22:24:02.561878Z",
     "start_time": "2022-10-15T22:24:02.538004Z"
    }
   },
   "outputs": [
    {
     "name": "stdout",
     "output_type": "stream",
     "text": [
      "1 2 3 8 7 4 5 6 "
     ]
    }
   ],
   "source": [
    "from collections import deque\n",
    "\n",
    "# BFS 메서드 정의\n",
    "def bfs(graph, start, visited):\n",
    "    \n",
    "    # 큐 구현을 위해 deque 라이브러리 사용\n",
    "    queue = deque([start])\n",
    "    # 현재 노드 방문 처리\n",
    "    visited[start] = True\n",
    "    \n",
    "    while queue:\n",
    "        # 큐에서 하나의 원소를 뽑아 출력\n",
    "        v = queue.popleft()\n",
    "        print(v, end=' ')\n",
    "        \n",
    "        # 뽑은 원소와 연결된 아직 방문하지 않은 원소들을 큐에 삽입\n",
    "        for i in graph[v]:\n",
    "            if not visited[i]:\n",
    "                queue.append(i)\n",
    "                visited[i] = True\n",
    "\n",
    "graph = [\n",
    "    [],\n",
    "    [2, 3, 8],\n",
    "    [1, 7],\n",
    "    [1, 4, 5],\n",
    "    [3, 5],\n",
    "    [3, 4],\n",
    "    [7],\n",
    "    [2, 6, 8],\n",
    "    [1, 7],\n",
    "]\n",
    "\n",
    "visited = [False] * 9\n",
    "\n",
    "bfs(graph, 1, visited)"
   ]
  },
  {
   "cell_type": "markdown",
   "id": "434e6925",
   "metadata": {},
   "source": [
    "### 실행 추적\n",
    "\n",
    "```text\n",
    "pop(1) -> v = 1 -> [2, 3, 8]\n",
    "    i = 2(visited) -> [2]\n",
    "    i = 3(visited) -> [2, 3]\n",
    "    i = 8(visited) -> [2, 3, 8]\n",
    "pop(2) -> v= 2 -> [1, 7]\n",
    "    i = 1 -> visited\n",
    "    i = 7 -> [3, 8, 7]\n",
    "pop(3) -> v = 3 -> [1, 4, 5]\n",
    "    i = 1 -> visited\n",
    "    i = 4 -> [8, 7, 4]\n",
    "    i = 5 -> [8, 7, 4, 5]\n",
    "pop(8) -> v = 8 -> [1, 7]\n",
    "    i = 1 -> visited\n",
    "    i = 7 -> visited\n",
    "pop(7) -> v = 7 -> [2, 6, 8]\n",
    "    i = 2 -> visited\n",
    "    i = 6 -> [4, 5, 6]\n",
    "    i = 8 -> visited\n",
    "pop(4) -> v = 4 -> [3, 5]\n",
    "    i = 3 -> visited\n",
    "    i = 5 -> visited\n",
    "pop(5) -> v = 5 -> [3, 4]\n",
    "    i = 3 -> visited\n",
    "    i = 4 -> visited\n",
    "pop(6) -> v = 6 -> [7]\n",
    "    i = 7 -> visited\n",
    "```"
   ]
  },
  {
   "cell_type": "markdown",
   "id": "03bc75ea",
   "metadata": {},
   "source": [
    "### 오류 확인 deque( 1 ) vs deque( [1] )"
   ]
  },
  {
   "cell_type": "code",
   "execution_count": 29,
   "id": "2a4d839c",
   "metadata": {
    "ExecuteTime": {
     "end_time": "2022-10-15T22:26:05.512515Z",
     "start_time": "2022-10-15T22:26:05.494327Z"
    }
   },
   "outputs": [
    {
     "ename": "TypeError",
     "evalue": "'int' object is not iterable",
     "output_type": "error",
     "traceback": [
      "\u001b[0;31m---------------------------------------------------------------------------\u001b[0m",
      "\u001b[0;31mTypeError\u001b[0m                                 Traceback (most recent call last)",
      "Input \u001b[0;32mIn [29]\u001b[0m, in \u001b[0;36m<cell line: 1>\u001b[0;34m()\u001b[0m\n\u001b[0;32m----> 1\u001b[0m a \u001b[38;5;241m=\u001b[39m \u001b[43mdeque\u001b[49m\u001b[43m(\u001b[49m\u001b[38;5;241;43m1\u001b[39;49m\u001b[43m)\u001b[49m\n\u001b[1;32m      2\u001b[0m a\n",
      "\u001b[0;31mTypeError\u001b[0m: 'int' object is not iterable"
     ]
    }
   ],
   "source": [
    "a = deque(1)\n",
    "a"
   ]
  },
  {
   "cell_type": "code",
   "execution_count": 32,
   "id": "e38d4ac7",
   "metadata": {
    "ExecuteTime": {
     "end_time": "2022-10-15T22:26:27.740178Z",
     "start_time": "2022-10-15T22:26:27.735715Z"
    }
   },
   "outputs": [
    {
     "data": {
      "text/plain": [
       "deque([1])"
      ]
     },
     "execution_count": 32,
     "metadata": {},
     "output_type": "execute_result"
    }
   ],
   "source": [
    "b = deque([1])\n",
    "b"
   ]
  },
  {
   "cell_type": "markdown",
   "id": "daa9b5df",
   "metadata": {},
   "source": [
    "## 미로 탈출 p152"
   ]
  },
  {
   "cell_type": "code",
   "execution_count": 4,
   "id": "8ddf5b1a",
   "metadata": {},
   "outputs": [
    {
     "name": "stdout",
     "output_type": "stream",
     "text": [
      "5\n"
     ]
    }
   ],
   "source": [
    "from collections import deque\n",
    "\n",
    "# n, m을 공백으로 구분하여 입력받기\n",
    "# n, m = map(int, input().split())\n",
    "\n",
    "# 2차원 리스트 맵 정보 입력받기\n",
    "# graph = []\n",
    "# for i in range(n):\n",
    "#     graph.append(\n",
    "#         list(map(int, input()))\n",
    "#     )\n",
    "\n",
    "n, m = 3, 3\n",
    "graph = [[1, 1, 0], [0, 1, 0], [0, 1, 1]]\n",
    "\n",
    "# 이동할 네 방향 정의(상, 하, 좌, 우)\n",
    "dx = [-1, 1, 0, 0]\n",
    "dy = [0, 0, -1, 1]\n",
    "\n",
    "# BFS 구현\n",
    "def bfs(x, y):\n",
    "    \n",
    "    # deque 객체 선언\n",
    "    queue = deque()\n",
    "    queue.append((x, y))\n",
    "    \n",
    "    # 큐가 빌 때까지 반복\n",
    "    while queue:\n",
    "        x, y = queue.popleft()\n",
    "        \n",
    "        # 현재 위치에서 상,하,좌,우 확인\n",
    "        for i in range(4):\n",
    "            nx = x + dx[i]\n",
    "            ny = y + dy[i]\n",
    "            \n",
    "            # 맵 공간을 벗어나면 무시. 괄호 안은 시작점으로 돌아가는 문제 수정. 수정하지 않아도 정답에는 영향 무\n",
    "            if nx < 0 or nx >= n or ny < 0 or ny >= m or ( nx == 0 and ny == 0 ):\n",
    "                continue\n",
    "            # 벽인 경우 무시\n",
    "            if graph[nx][ny] == 0:\n",
    "                continue\n",
    "            \n",
    "            # 해당 노드를 처음 방문한 경우에만 최단 거리 기록\n",
    "            if graph[nx][ny] == 1:\n",
    "                graph[nx][ny] = graph[x][y] + 1\n",
    "                queue.append((nx, ny))\n",
    "                \n",
    "    # 가장 오른쪽 아래까지의 최단 거리 반환\n",
    "    return graph[n-1][m-1]   # n, m 행렬의 끝 인덱스는 각각의 크기 - 1\n",
    "\n",
    "print( bfs(0, 0) )"
   ]
  },
  {
   "cell_type": "code",
   "execution_count": 5,
   "id": "b788aacf",
   "metadata": {},
   "outputs": [
    {
     "data": {
      "text/plain": [
       "[[1, 2, 0], [0, 3, 0], [0, 4, 5]]"
      ]
     },
     "execution_count": 5,
     "metadata": {},
     "output_type": "execute_result"
    }
   ],
   "source": [
    "graph"
   ]
  },
  {
   "cell_type": "markdown",
   "id": "04f4874e",
   "metadata": {},
   "source": [
    "### 실행 추적\n",
    "\n",
    "```text\n",
    "popleft(0,0) -> 상 -> 지도 밖 무시\n",
    "             -> 하 -> 0 만나 무시\n",
    "             -> 좌 -> 지도 밖 무시\n",
    "             -> 우(0,1) -> graph[0][1] = 2 -> [(0, 1)]\n",
    "popleft(0,1) -> 상 -> 지도 밖 무시\n",
    "             -> 하(1,1) -> graph[1][1] = 2 -> [(1,1)]\n",
    "             -> 좌(0,0) -> graph[0][0] = 2 -> [(1,1), (0,0)]\n",
    "             -> 우 -> 0 만나 무시\n",
    "popleft(1,1) -> 상 -> 2 만나 무시\n",
    "             -> 하(2,1) -> graph[2][1] = 3 -> [(0, 0), (2,1)]\n",
    "             -> 좌 -> 0 만나 무시\n",
    "             -> 우 -> 0 만나 무시\n",
    "popleft(0,0) -> 상 -> 지도 밖 무시\n",
    "             -> 하 -> 0 만나 무시\n",
    "             -> 좌 -> 지도 밖 무시\n",
    "             -> 우 -> 2 만나 무시\n",
    "popleft(2,1) -> 상 -> 2 만나 무시\n",
    "             -> 하 -> 지도 밖 무시\n",
    "             -> 좌 -> 0 만나 무시\n",
    "             -> 우 -> graph[2][2] = 4 -> [(2,2)]\n",
    "popleft(2,2) -> 상 -> 0 만나 무시\n",
    "             -> 하 -> 지도 밖 무시\n",
    "             -> 좌 -> 3 만나 무시\n",
    "             -> 우 -> 지도 밖 무시\n",
    "```\n",
    "\n",
    "이동 가능한 모든 셀, 즉 값이 1인 셀을 방문하여 2로 바꾼다. 그러면, 이미 방문한 셀을 재방문하지 않게 된다."
   ]
  }
 ],
 "metadata": {
  "kernelspec": {
   "display_name": "Python 3 (ipykernel)",
   "language": "python",
   "name": "python3"
  },
  "language_info": {
   "codemirror_mode": {
    "name": "ipython",
    "version": 3
   },
   "file_extension": ".py",
   "mimetype": "text/x-python",
   "name": "python",
   "nbconvert_exporter": "python",
   "pygments_lexer": "ipython3",
   "version": "3.9.12"
  },
  "toc": {
   "base_numbering": 1,
   "nav_menu": {},
   "number_sections": true,
   "sideBar": true,
   "skip_h1_title": false,
   "title_cell": "Table of Contents",
   "title_sidebar": "Contents",
   "toc_cell": false,
   "toc_position": {},
   "toc_section_display": true,
   "toc_window_display": false
  },
  "varInspector": {
   "cols": {
    "lenName": 16,
    "lenType": 16,
    "lenVar": 40
   },
   "kernels_config": {
    "python": {
     "delete_cmd_postfix": "",
     "delete_cmd_prefix": "del ",
     "library": "var_list.py",
     "varRefreshCmd": "print(var_dic_list())"
    },
    "r": {
     "delete_cmd_postfix": ") ",
     "delete_cmd_prefix": "rm(",
     "library": "var_list.r",
     "varRefreshCmd": "cat(var_dic_list()) "
    }
   },
   "position": {
    "height": "330.844px",
    "left": "1544px",
    "right": "20px",
    "top": "114px",
    "width": "373px"
   },
   "types_to_exclude": [
    "module",
    "function",
    "builtin_function_or_method",
    "instance",
    "_Feature"
   ],
   "window_display": false
  }
 },
 "nbformat": 4,
 "nbformat_minor": 5
}
