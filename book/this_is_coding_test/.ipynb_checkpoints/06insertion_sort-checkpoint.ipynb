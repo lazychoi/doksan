{
 "cells": [
  {
   "cell_type": "markdown",
   "id": "e532e13a",
   "metadata": {},
   "source": [
    "# 6장 삽입 정렬(Insertion Sort) 알고리즘\n",
    "\n",
    "created: 2022-10-16\n",
    "    \n",
    "- 특정 데이터가 들어갈 위치 앞까지는 이미 정렬되어 있다고 가정한다.\n",
    "- 필요할 때만 위치를 바꾸므로 데이터가 거의 정렬되어 있을 때 훨씬 효율적이다. = 최선의 경우 O(N)\n",
    "- 시간 복잡도 O(N^2)"
   ]
  },
  {
   "cell_type": "code",
   "execution_count": 11,
   "id": "8da7c8f3",
   "metadata": {},
   "outputs": [
    {
     "name": "stdout",
     "output_type": "stream",
     "text": [
      "[7, 5, 9, 0, 3, 1, 6, 2, 4, 8]\n",
      "삽입지점= 5\n",
      "7 5\n",
      "교환=> [5, 7, 9, 0, 3, 1, 6, 2, 4, 8]\n",
      "삽입지점= 9\n",
      "7 9\n",
      "[5, 7, 9, 0, 3, 1, 6, 2, 4, 8]\n",
      "삽입지점= 0\n",
      "9 0\n",
      "교환=> [5, 7, 0, 9, 3, 1, 6, 2, 4, 8]\n",
      "7 0\n",
      "교환=> [5, 0, 7, 9, 3, 1, 6, 2, 4, 8]\n",
      "5 0\n",
      "교환=> [0, 5, 7, 9, 3, 1, 6, 2, 4, 8]\n",
      "삽입지점= 3\n",
      "9 3\n",
      "교환=> [0, 5, 7, 3, 9, 1, 6, 2, 4, 8]\n",
      "7 3\n",
      "교환=> [0, 5, 3, 7, 9, 1, 6, 2, 4, 8]\n",
      "5 3\n",
      "교환=> [0, 3, 5, 7, 9, 1, 6, 2, 4, 8]\n",
      "0 3\n",
      "[0, 3, 5, 7, 9, 1, 6, 2, 4, 8]\n",
      "삽입지점= 1\n",
      "9 1\n",
      "교환=> [0, 3, 5, 7, 1, 9, 6, 2, 4, 8]\n",
      "7 1\n",
      "교환=> [0, 3, 5, 1, 7, 9, 6, 2, 4, 8]\n",
      "5 1\n",
      "교환=> [0, 3, 1, 5, 7, 9, 6, 2, 4, 8]\n",
      "3 1\n",
      "교환=> [0, 1, 3, 5, 7, 9, 6, 2, 4, 8]\n",
      "0 1\n",
      "[0, 1, 3, 5, 7, 9, 6, 2, 4, 8]\n",
      "삽입지점= 6\n",
      "9 6\n",
      "교환=> [0, 1, 3, 5, 7, 6, 9, 2, 4, 8]\n",
      "7 6\n",
      "교환=> [0, 1, 3, 5, 6, 7, 9, 2, 4, 8]\n",
      "5 6\n",
      "[0, 1, 3, 5, 6, 7, 9, 2, 4, 8]\n",
      "삽입지점= 2\n",
      "9 2\n",
      "교환=> [0, 1, 3, 5, 6, 7, 2, 9, 4, 8]\n",
      "7 2\n",
      "교환=> [0, 1, 3, 5, 6, 2, 7, 9, 4, 8]\n",
      "6 2\n",
      "교환=> [0, 1, 3, 5, 2, 6, 7, 9, 4, 8]\n",
      "5 2\n",
      "교환=> [0, 1, 3, 2, 5, 6, 7, 9, 4, 8]\n",
      "3 2\n",
      "교환=> [0, 1, 2, 3, 5, 6, 7, 9, 4, 8]\n",
      "1 2\n",
      "[0, 1, 2, 3, 5, 6, 7, 9, 4, 8]\n",
      "삽입지점= 4\n",
      "9 4\n",
      "교환=> [0, 1, 2, 3, 5, 6, 7, 4, 9, 8]\n",
      "7 4\n",
      "교환=> [0, 1, 2, 3, 5, 6, 4, 7, 9, 8]\n",
      "6 4\n",
      "교환=> [0, 1, 2, 3, 5, 4, 6, 7, 9, 8]\n",
      "5 4\n",
      "교환=> [0, 1, 2, 3, 4, 5, 6, 7, 9, 8]\n",
      "3 4\n",
      "[0, 1, 2, 3, 4, 5, 6, 7, 9, 8]\n",
      "삽입지점= 8\n",
      "9 8\n",
      "교환=> [0, 1, 2, 3, 4, 5, 6, 7, 8, 9]\n",
      "7 8\n",
      "[0, 1, 2, 3, 4, 5, 6, 7, 8, 9]\n",
      "[0, 1, 2, 3, 4, 5, 6, 7, 8, 9]\n"
     ]
    }
   ],
   "source": [
    "array = [7, 5, 9, 0, 3, 1, 6, 2, 4, 8]\n",
    "print(array)\n",
    "for i in range(1, len(array)):\n",
    "    print( '삽입지점=', array[i] )\n",
    "    \n",
    "    for j in range(i, 0, -1): # 인덱스 i부터 1까지 감소\n",
    "    \n",
    "        print( array[j-1], array[j] )\n",
    "        \n",
    "        if array[j] < array[j-1]: # 한 칸씩 왼쪽으로 이동\n",
    "            array[j], array[j-1] = array[j-1], array[j]\n",
    "            print('교환=>', array)\n",
    "        else:        # 자신보다 작은 값을 만나면 멈춤\n",
    "            print(array)\n",
    "            break\n",
    "            \n",
    "print(array)"
   ]
  }
 ],
 "metadata": {
  "kernelspec": {
   "display_name": "Python 3 (ipykernel)",
   "language": "python",
   "name": "python3"
  },
  "language_info": {
   "codemirror_mode": {
    "name": "ipython",
    "version": 3
   },
   "file_extension": ".py",
   "mimetype": "text/x-python",
   "name": "python",
   "nbconvert_exporter": "python",
   "pygments_lexer": "ipython3",
   "version": "3.9.12"
  },
  "toc": {
   "base_numbering": 1,
   "nav_menu": {},
   "number_sections": true,
   "sideBar": true,
   "skip_h1_title": false,
   "title_cell": "Table of Contents",
   "title_sidebar": "Contents",
   "toc_cell": false,
   "toc_position": {},
   "toc_section_display": true,
   "toc_window_display": true
  },
  "varInspector": {
   "cols": {
    "lenName": 16,
    "lenType": 16,
    "lenVar": 40
   },
   "kernels_config": {
    "python": {
     "delete_cmd_postfix": "",
     "delete_cmd_prefix": "del ",
     "library": "var_list.py",
     "varRefreshCmd": "print(var_dic_list())"
    },
    "r": {
     "delete_cmd_postfix": ") ",
     "delete_cmd_prefix": "rm(",
     "library": "var_list.r",
     "varRefreshCmd": "cat(var_dic_list()) "
    }
   },
   "types_to_exclude": [
    "module",
    "function",
    "builtin_function_or_method",
    "instance",
    "_Feature"
   ],
   "window_display": false
  }
 },
 "nbformat": 4,
 "nbformat_minor": 5
}
