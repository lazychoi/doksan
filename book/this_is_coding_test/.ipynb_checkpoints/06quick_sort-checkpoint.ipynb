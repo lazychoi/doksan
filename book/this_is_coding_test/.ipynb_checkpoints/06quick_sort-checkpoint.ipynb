{
 "cells": [
  {
   "cell_type": "markdown",
   "id": "db3ec916",
   "metadata": {},
   "source": [
    "# 6장 퀵 정렬(Quick Sort) 알고리즘\n",
    "\n",
    "created: 22-10-16\n",
    "\n",
    "- 가장 많이 사용되는 알고리즘\n",
    "- 기준값(피벗) 설정 -> 피벗보다 큰 수와 작은 수를 교환한 후 리스트를 반으로 나눔\n",
    "- 호어 분할(Hoare Partition) 방식\n",
    "- 리스트의 첫 번째 값을 피벗으로 정한다.\n",
    "- 왼쪽부터 피벗보다 큰 값을 찾고, 오른쪽부터 피벗보다 작은 값을 찾아 서로 자리를 바꾼다.\n",
    "- 계속 바꾸기를 진행하다 두 값이 엇갈리는 지점에서 작은 값과 피벗을 교환한다.\n",
    "- 피벗을 기준으로 왼쪽 리스트와 오른쪽 리스트로 분리된다.(분할Divide, 파티션Partition)\n",
    "- 리스트 원소가 1개가 될 때까지 각 리스트에 대해 분할 작업을 진행한다."
   ]
  },
  {
   "cell_type": "code",
   "execution_count": 9,
   "id": "42eb8164",
   "metadata": {},
   "outputs": [
    {
     "name": "stdout",
     "output_type": "stream",
     "text": [
      "[0, 1, 1, 2, 4, 5, 6, 7, 8, 9]\n",
      "CPU times: user 309 µs, sys: 132 µs, total: 441 µs\n",
      "Wall time: 402 µs\n"
     ]
    }
   ],
   "source": [
    "%%time\n",
    "# array = list(map(int, input().split()))\n",
    "array = [5, 7, 9, 0, 1, 1, 6, 2, 4, 8]\n",
    "# print(array)\n",
    "\n",
    "def quick_sort(array, start, end):\n",
    "    if start >= end:   # 원소가 1개일 경우 종료\n",
    "        return\n",
    "    pivot = start      # 첫번째 인덱스 = 피벗 인덱스\n",
    "    left = start + 1   # 우측으로 이동할 인덱스\n",
    "    right = end        # 좌측으로 이동할 인덱스\n",
    "    while left <= right:        # left와 right이 교차하면 반복 중지\n",
    "        while left <= end and array[left] <= array[pivot]:    # 피벗보다 큰 값을 찾을 때까지 우측 이동\n",
    "            left += 1\n",
    "#         print('left_index', left, end=', ')\n",
    "        while right > start and array[right] >= array[pivot]: # 피벗보다 작은 값을 찾을 때까지 좌측 이동\n",
    "            right -= 1\n",
    "#         print('right_index', right)\n",
    "        if left > right:     # 좌우측 인덱스가 교차하면\n",
    "#             print('-----------------------------------')\n",
    "#             print('pivot exchange ', array[pivot], array[right], end=' => ')  \n",
    "            array[right], array[pivot] = array[pivot], array[right]  # 피벗값과 우측인덱스값(작은 값) 교환\n",
    "#             print(array)\n",
    "        else:\n",
    "#             print('>> position exchange ', array[left], array[right], end=' => ')\n",
    "            array[left], array[right] = array[right], array[left]  # 피벗보다 큰 값(좌측 인덱스)과 작은 값(우측 인덱스) 교환\n",
    "#             print(array)\n",
    "    quick_sort(array, start, right-1) # 분할 후 좌측 그룹\n",
    "    quick_sort(array, right+1, end)   # 분할 후 우측 그룹\n",
    "    \n",
    "quick_sort(array, 0, len(array)-1)\n",
    "print(array)"
   ]
  },
  {
   "cell_type": "code",
   "execution_count": 6,
   "id": "259023f5",
   "metadata": {},
   "outputs": [
    {
     "name": "stdout",
     "output_type": "stream",
     "text": [
      "[0, 1, 2, 3, 4, 5, 6, 7, 8, 9]\n"
     ]
    }
   ],
   "source": [
    "array = [5, 7, 9, 0, 3, 1, 6, 2, 4, 8]\n",
    "\n",
    "def quick_sort2(array):\n",
    "    # 리스트의 원소가 하나 이하이면 종료\n",
    "    if len(array) <= 1:\n",
    "        return array\n",
    "    \n",
    "    pivot = array[0] # 피벗은 첫 번째 원소\n",
    "    tail = array[1:] # 피벗을 제외한 리스트\n",
    "    \n",
    "    left_side = [x for x in tail if x <= pivot] # 분할된 왼쪽 부분\n",
    "    right_side = [x for x in tail if x > pivot] # 분할된 오른쪽 부분\n",
    "    \n",
    "    # 분할 이후 왼쪽 부분과 오른쪽 부분에서 각각 정렬 수행 후 전체 리스트 반환\n",
    "    return quick_sort2(left_side) + [pivot] + quick_sort2(right_side)\n",
    "\n",
    "print( quick_sort2(array) )"
   ]
  },
  {
   "cell_type": "code",
   "execution_count": 11,
   "id": "d52ec000",
   "metadata": {},
   "outputs": [
    {
     "name": "stdout",
     "output_type": "stream",
     "text": [
      "[0, 1, 2, 3, 4, 5, 6, 7, 8, 9]\n",
      "CPU times: user 78 µs, sys: 15 µs, total: 93 µs\n",
      "Wall time: 87 µs\n"
     ]
    }
   ],
   "source": [
    "%%time\n",
    "array = [5, 7, 9, 0, 3, 1, 6, 2, 4, 8]\n",
    "\n",
    "def quick_sorttt(array):\n",
    "    if len(array) <= 1:\n",
    "        return array\n",
    "    pivot = array[0]\n",
    "    tail = array[1:]\n",
    "    \n",
    "    left_array = [ i for i in tail if i < pivot]\n",
    "    right_array = [ i for i in tail if i >= pivot]\n",
    "    \n",
    "    return quick_sorttt(left_array)+[pivot]+quick_sorttt(right_array)\n",
    "print(quick_sorttt(array))"
   ]
  },
  {
   "cell_type": "code",
   "execution_count": 12,
   "id": "95806749",
   "metadata": {},
   "outputs": [
    {
     "name": "stdout",
     "output_type": "stream",
     "text": [
      "CPU times: user 19 µs, sys: 1e+03 ns, total: 20 µs\n",
      "Wall time: 22.6 µs\n"
     ]
    }
   ],
   "source": [
    "%%time\n",
    "array = [5, 7, 9, 0, 3, 1, 6, 2, 4, 8]\n",
    "array.sort()"
   ]
  }
 ],
 "metadata": {
  "kernelspec": {
   "display_name": "Python 3 (ipykernel)",
   "language": "python",
   "name": "python3"
  },
  "language_info": {
   "codemirror_mode": {
    "name": "ipython",
    "version": 3
   },
   "file_extension": ".py",
   "mimetype": "text/x-python",
   "name": "python",
   "nbconvert_exporter": "python",
   "pygments_lexer": "ipython3",
   "version": "3.9.12"
  },
  "toc": {
   "base_numbering": 1,
   "nav_menu": {},
   "number_sections": true,
   "sideBar": true,
   "skip_h1_title": false,
   "title_cell": "Table of Contents",
   "title_sidebar": "Contents",
   "toc_cell": false,
   "toc_position": {},
   "toc_section_display": true,
   "toc_window_display": false
  },
  "varInspector": {
   "cols": {
    "lenName": 16,
    "lenType": 16,
    "lenVar": 40
   },
   "kernels_config": {
    "python": {
     "delete_cmd_postfix": "",
     "delete_cmd_prefix": "del ",
     "library": "var_list.py",
     "varRefreshCmd": "print(var_dic_list())"
    },
    "r": {
     "delete_cmd_postfix": ") ",
     "delete_cmd_prefix": "rm(",
     "library": "var_list.r",
     "varRefreshCmd": "cat(var_dic_list()) "
    }
   },
   "types_to_exclude": [
    "module",
    "function",
    "builtin_function_or_method",
    "instance",
    "_Feature"
   ],
   "window_display": false
  }
 },
 "nbformat": 4,
 "nbformat_minor": 5
}
