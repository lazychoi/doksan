{
 "cells": [
  {
   "cell_type": "markdown",
   "id": "4afb28c8",
   "metadata": {},
   "source": [
    "# 10장 위상 정렬(Topology Sort) p290\n",
    "\n",
    "- 방향 그래프의모든 노드를 방향성을 거스르지 않도록 순서대로 나열하는 것\n",
    "- eg. 선수과목을 고려한 학습 순서 설정\n",
    "- 진입차수(Indegree): 특정한 노드로 들어오는 간선의 개수\n",
    "- 답이 여러 가지가 될 수 있다."
   ]
  },
  {
   "cell_type": "code",
   "execution_count": 2,
   "id": "465311b8",
   "metadata": {},
   "outputs": [
    {
     "name": "stdout",
     "output_type": "stream",
     "text": [
      "7 8\n"
     ]
    },
    {
     "data": {
      "text/plain": [
       "([0, 0, 0, 0, 0, 0, 0, 0], [[], [], [], [], [], [], [], []])"
      ]
     },
     "execution_count": 2,
     "metadata": {},
     "output_type": "execute_result"
    }
   ],
   "source": [
    "from collections import deque\n",
    "\n",
    "# 노드, 간선 개수 입력\n",
    "v, e = map(int, input().split())\n",
    "\n",
    "# 모든 노드의 진입차수를 0으로 초기화\n",
    "indegree = [0] * (v + 1)\n",
    "\n",
    "# 각 노드에 연결된 간선 정보를 담기 위한 연결 리스트(그래프) 초기화\n",
    "graph = [[] for _ in range(v + 1)]\n",
    "\n",
    "indegree, graph"
   ]
  },
  {
   "cell_type": "code",
   "execution_count": 3,
   "id": "475a3810",
   "metadata": {},
   "outputs": [
    {
     "name": "stdout",
     "output_type": "stream",
     "text": [
      "1 2\n",
      "1 5\n",
      "2 3\n",
      "2 6\n",
      "3 4\n",
      "4 7\n",
      "5 6\n",
      "6 4\n"
     ]
    }
   ],
   "source": [
    "# 방향 그래프의 모든 간선 정보 입력\n",
    "for _ in range(e):\n",
    "    \n",
    "    a, b = map(int, input().split())\n",
    "    graph[a].append(b) # 정점 A에서 B로 이동 가능\n",
    "\n",
    "    # 진입차수 1 증가\n",
    "    indegree[b] += 1"
   ]
  },
  {
   "cell_type": "code",
   "execution_count": 4,
   "id": "05d1a5bd",
   "metadata": {},
   "outputs": [
    {
     "data": {
      "text/plain": [
       "[[], [2, 5], [3, 6], [4], [7], [6], [4], []]"
      ]
     },
     "execution_count": 4,
     "metadata": {},
     "output_type": "execute_result"
    }
   ],
   "source": [
    "graph"
   ]
  },
  {
   "cell_type": "code",
   "execution_count": 5,
   "id": "690daed4",
   "metadata": {},
   "outputs": [
    {
     "data": {
      "text/plain": [
       "[0, 0, 1, 1, 2, 1, 2, 1]"
      ]
     },
     "execution_count": 5,
     "metadata": {},
     "output_type": "execute_result"
    }
   ],
   "source": [
    "indegree"
   ]
  },
  {
   "cell_type": "code",
   "execution_count": 9,
   "id": "a1c33702",
   "metadata": {},
   "outputs": [
    {
     "name": "stdout",
     "output_type": "stream",
     "text": [
      "1 2 5 3 6 4 7 "
     ]
    }
   ],
   "source": [
    "# 위상 정렬 함수\n",
    "\n",
    "def topology_sort():\n",
    "    result = []\n",
    "    q = deque()\n",
    "    \n",
    "    # 처음 시작할 때 진입차수가 0인 노드를 큐에 삽입\n",
    "    for i in range(1, v + 1):\n",
    "        if indegree[i] == 0:\n",
    "            q.append(i)\n",
    "\n",
    "    # 큐가 빌 때까지 반복\n",
    "    while q:\n",
    "        \n",
    "        # 큐에서 원소 꺼내기 -> result에 삽입\n",
    "        now = q.popleft()\n",
    "        result.append(now)\n",
    "        \n",
    "        # now와 연결된 노드들의 진입차수 -1\n",
    "        for i in graph[now]:\n",
    "            indegree[i] -= 1\n",
    "            \n",
    "            # 새로 진입차수가 0이 되는 노드를 큐에 삽입\n",
    "            if indegree[i] == 0:\n",
    "                q.append(i)\n",
    "\n",
    "    # 위상 정렬 수행 결과 출력\n",
    "    for i in result:\n",
    "        print(i, end=' ')\n",
    "\n",
    "topology_sort()"
   ]
  }
 ],
 "metadata": {
  "kernelspec": {
   "display_name": "Python 3 (ipykernel)",
   "language": "python",
   "name": "python3"
  },
  "language_info": {
   "codemirror_mode": {
    "name": "ipython",
    "version": 3
   },
   "file_extension": ".py",
   "mimetype": "text/x-python",
   "name": "python",
   "nbconvert_exporter": "python",
   "pygments_lexer": "ipython3",
   "version": "3.9.12"
  },
  "toc": {
   "base_numbering": 1,
   "nav_menu": {},
   "number_sections": true,
   "sideBar": true,
   "skip_h1_title": false,
   "title_cell": "Table of Contents",
   "title_sidebar": "Contents",
   "toc_cell": false,
   "toc_position": {},
   "toc_section_display": true,
   "toc_window_display": true
  },
  "varInspector": {
   "cols": {
    "lenName": 16,
    "lenType": 16,
    "lenVar": 40
   },
   "kernels_config": {
    "python": {
     "delete_cmd_postfix": "",
     "delete_cmd_prefix": "del ",
     "library": "var_list.py",
     "varRefreshCmd": "print(var_dic_list())"
    },
    "r": {
     "delete_cmd_postfix": ") ",
     "delete_cmd_prefix": "rm(",
     "library": "var_list.r",
     "varRefreshCmd": "cat(var_dic_list()) "
    }
   },
   "types_to_exclude": [
    "module",
    "function",
    "builtin_function_or_method",
    "instance",
    "_Feature"
   ],
   "window_display": false
  }
 },
 "nbformat": 4,
 "nbformat_minor": 5
}
