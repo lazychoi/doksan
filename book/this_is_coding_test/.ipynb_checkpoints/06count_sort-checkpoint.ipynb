{
 "cells": [
  {
   "cell_type": "markdown",
   "id": "0fa0e2f8",
   "metadata": {},
   "source": [
    "# 6장 계수 정렬(Count Sort) 알고리즘¶\n",
    "\n",
    "created: 22-10-17\n",
    "\n",
    "- 최악의 경우에도 O(N+K)를 보장. N=데이터 개수, K=최대값 크기\n",
    "- 특정 조건에 부합할 때만 사용할 수 있지만 매우 빠름\n",
    "- 일반적으로 가장 큰 데이터와 가장 작은 데이터의 차이가 1,000,000을 넘지 않을 때 효과적임\n",
    "- 계수 정렬을 이용할 때는 '모든 범위를 담을 수 있는 크기의 리스트(배열)를 선언해야 함' \n",
    "- 선언할 리스트 크기는 모든 범위 + 1. 왜냐면 0부터 시작하기 때문\n",
    "\n",
    "\n",
    "- 기존 리스트의 값을 새로운 리스트의 인덱스로 사용하여 +1 저장.\n",
    "- 새로운 리스트의 인덱스를 이용해 정렬하기 때문에 저장과 동시에 자동 정렬됨"
   ]
  },
  {
   "cell_type": "code",
   "execution_count": 7,
   "id": "b268c0f9",
   "metadata": {},
   "outputs": [
    {
     "name": "stdout",
     "output_type": "stream",
     "text": [
      "0 0 1 1 2 2 3 4 5 5 6 7 8 9 9 "
     ]
    }
   ],
   "source": [
    "# 모든 원소의 값이 0보다 크거나 같다고 가정\n",
    "array = [7, 5, 9, 0, 3, 1, 6, 2, 9, 1, 4, 8, 0, 5, 2]\n",
    "\n",
    "# 모든 범위를 포함하는 리스트 선언(모든 값은 0으로 초기화)\n",
    "count = [0] * ( max(array) + 1 )\n",
    "\n",
    "for i in range(len(array)):\n",
    "    count[array[i]] += 1 # 각 데이터에 해당하는 인덱스의 값 증가\n",
    "    \n",
    "for i in range(len(count)):   # 새로운 리스트의 인덱스\n",
    "    for j in range(count[i]): # 인덱스에 저장된 값 만큼 반복(같은 숫자가 여러 개일 경우)\n",
    "        print(i, end=' ')     # 인덱스 출력"
   ]
  },
  {
   "cell_type": "markdown",
   "id": "e0e02e53",
   "metadata": {},
   "source": [
    "## 부품 찾기 p199"
   ]
  },
  {
   "cell_type": "code",
   "execution_count": 14,
   "id": "683d24cf",
   "metadata": {},
   "outputs": [
    {
     "name": "stdout",
     "output_type": "stream",
     "text": [
      "[2, 3, 7, 8, 9]\n",
      "no yes yes "
     ]
    }
   ],
   "source": [
    "# me\n",
    "\n",
    "# n = int(input())\n",
    "# n_list = list(map(int, input().split()))\n",
    "              \n",
    "# m = int(input())\n",
    "# m_list = list(map(int, input().split()))\n",
    "\n",
    "n = 5\n",
    "n_list = [8,3,7,9,2]\n",
    "m = 3\n",
    "m_list = [5,7,9]\n",
    "\n",
    "# n_list 계수정렬\n",
    "result = [0] * ( max(n_list)+1 )\n",
    "for i in n_list:\n",
    "    result[i] += 1\n",
    "\n",
    "sorted = []\n",
    "for i in range(len(result)):\n",
    "    if result[i] > 0:\n",
    "        sorted.append(i)\n",
    "print(sorted)\n",
    "\n",
    "def binary_search(n_list, target, start, end):\n",
    "    \n",
    "    while start <= end:\n",
    "        mid = (start + end) // 2\n",
    "        if n_list[mid] == target:\n",
    "            return 'yes'\n",
    "        elif n_list[mid] < target:\n",
    "            start = mid + 1\n",
    "        else:\n",
    "            end = mid - 1\n",
    "\n",
    "for target in m_list:\n",
    "    temp = binary_search(sorted, target, 0, n-1)\n",
    "    if temp == None:\n",
    "        temp = 'no'\n",
    "    print(temp, end=' ')"
   ]
  },
  {
   "cell_type": "code",
   "execution_count": 15,
   "id": "c5ec277f",
   "metadata": {},
   "outputs": [
    {
     "name": "stdout",
     "output_type": "stream",
     "text": [
      "5\n",
      "8 3 7 9 2\n",
      "3\n",
      "5 7 9\n",
      "no yes yes "
     ]
    }
   ],
   "source": [
    "# 교재\n",
    "\n",
    "# 가게의 부품 개수 입력받기\n",
    "n = int(input())\n",
    "array = [0] * 1000001\n",
    "\n",
    "# 가게에 있는 전체 부품 번호를 입력받아서 기록\n",
    "for i in input().split():\n",
    "    array[int(i)] = 1\n",
    "    \n",
    "# 손님이 요청한 부품 개수 입력받기\n",
    "m = int(input())\n",
    "# 손님이 확인 요청한 전체 부품 번호를 공백으로 구분하여 입력\n",
    "x = list(map(int, input().split()))\n",
    "\n",
    "# 손님이 확인 요청한 부품 번호를 하나씩 확인\n",
    "for i in x:\n",
    "    # 해당 부품이 존재하는지 확인\n",
    "    if array[i] == 1:\n",
    "        print('yes', end=' ')\n",
    "    else:\n",
    "        print('no', end=' ')"
   ]
  },
  {
   "cell_type": "code",
   "execution_count": null,
   "id": "5e7157c8",
   "metadata": {},
   "outputs": [],
   "source": []
  }
 ],
 "metadata": {
  "kernelspec": {
   "display_name": "Python 3 (ipykernel)",
   "language": "python",
   "name": "python3"
  },
  "language_info": {
   "codemirror_mode": {
    "name": "ipython",
    "version": 3
   },
   "file_extension": ".py",
   "mimetype": "text/x-python",
   "name": "python",
   "nbconvert_exporter": "python",
   "pygments_lexer": "ipython3",
   "version": "3.9.12"
  }
 },
 "nbformat": 4,
 "nbformat_minor": 5
}
