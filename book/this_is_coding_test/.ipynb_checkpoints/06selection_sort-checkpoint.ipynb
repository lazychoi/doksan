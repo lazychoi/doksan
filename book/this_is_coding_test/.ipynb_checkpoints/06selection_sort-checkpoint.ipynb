{
 "cells": [
  {
   "cell_type": "markdown",
   "id": "68996099",
   "metadata": {},
   "source": [
    "# 5장 선택 정렬(Selection Sort) 알고리즘\n",
    "\n",
    "created: 2022-10-16\n",
    "\n",
    "\n",
    "- 가장 작은 데이터를 선택해 맨 앞의 데이터와 바꾸고 그다음 작은 데이터를 선택해 두 번째 데이터와 바꾸는 과정을 반복한다. \n",
    "- 매번 가장 작은 데이터를 선택한다는 의미에서 선택 정렬이다.\n",
    "- 이중 for문으로 구현한다. 가장 작은 데이터를 N-1번 반복하면 정렬이 완료된다.\n",
    "- 따라서 선택 정렬의 시간 복잡도는 O(N^2)이다. => 데이터 개수가 늘어날수록 효율성이 급격히 떨어진다."
   ]
  },
  {
   "cell_type": "code",
   "execution_count": 32,
   "id": "8d54fdd6",
   "metadata": {},
   "outputs": [
    {
     "name": "stdout",
     "output_type": "stream",
     "text": [
      "[7, 5, 9, 0, 3, 1, 6, 2, 4, 8]\n",
      "정렬 안 된 첫 번째 값= 7\n",
      "기존 최소값= 7 => j= 5 바뀐 최소값= 5\n",
      "\n",
      "기존 최소값= 5 => j= 9 \n",
      "기존 최소값= 5 => j= 0 바뀐 최소값= 0\n",
      "\n",
      "기존 최소값= 0 => j= 3 \n",
      "기존 최소값= 0 => j= 1 \n",
      "기존 최소값= 0 => j= 6 \n",
      "기존 최소값= 0 => j= 2 \n",
      "기존 최소값= 0 => j= 4 \n",
      "기존 최소값= 0 => j= 8 \n",
      "\n",
      " [0, 5, 9, 7, 3, 1, 6, 2, 4, 8] \n",
      "\n",
      "정렬 안 된 첫 번째 값= 5\n",
      "기존 최소값= 5 => j= 9 \n",
      "기존 최소값= 5 => j= 7 \n",
      "기존 최소값= 5 => j= 3 바뀐 최소값= 3\n",
      "\n",
      "기존 최소값= 3 => j= 1 바뀐 최소값= 1\n",
      "\n",
      "기존 최소값= 1 => j= 6 \n",
      "기존 최소값= 1 => j= 2 \n",
      "기존 최소값= 1 => j= 4 \n",
      "기존 최소값= 1 => j= 8 \n",
      "\n",
      " [0, 1, 9, 7, 3, 5, 6, 2, 4, 8] \n",
      "\n",
      "정렬 안 된 첫 번째 값= 9\n",
      "기존 최소값= 9 => j= 7 바뀐 최소값= 7\n",
      "\n",
      "기존 최소값= 7 => j= 3 바뀐 최소값= 3\n",
      "\n",
      "기존 최소값= 3 => j= 5 \n",
      "기존 최소값= 3 => j= 6 \n",
      "기존 최소값= 3 => j= 2 바뀐 최소값= 2\n",
      "\n",
      "기존 최소값= 2 => j= 4 \n",
      "기존 최소값= 2 => j= 8 \n",
      "\n",
      " [0, 1, 2, 7, 3, 5, 6, 9, 4, 8] \n",
      "\n",
      "정렬 안 된 첫 번째 값= 7\n",
      "기존 최소값= 7 => j= 3 바뀐 최소값= 3\n",
      "\n",
      "기존 최소값= 3 => j= 5 \n",
      "기존 최소값= 3 => j= 6 \n",
      "기존 최소값= 3 => j= 9 \n",
      "기존 최소값= 3 => j= 4 \n",
      "기존 최소값= 3 => j= 8 \n",
      "\n",
      " [0, 1, 2, 3, 7, 5, 6, 9, 4, 8] \n",
      "\n",
      "정렬 안 된 첫 번째 값= 7\n",
      "기존 최소값= 7 => j= 5 바뀐 최소값= 5\n",
      "\n",
      "기존 최소값= 5 => j= 6 \n",
      "기존 최소값= 5 => j= 9 \n",
      "기존 최소값= 5 => j= 4 바뀐 최소값= 4\n",
      "\n",
      "기존 최소값= 4 => j= 8 \n",
      "\n",
      " [0, 1, 2, 3, 4, 5, 6, 9, 7, 8] \n",
      "\n",
      "정렬 안 된 첫 번째 값= 5\n",
      "기존 최소값= 5 => j= 6 \n",
      "기존 최소값= 5 => j= 9 \n",
      "기존 최소값= 5 => j= 7 \n",
      "기존 최소값= 5 => j= 8 \n",
      "\n",
      " [0, 1, 2, 3, 4, 5, 6, 9, 7, 8] \n",
      "\n",
      "정렬 안 된 첫 번째 값= 6\n",
      "기존 최소값= 6 => j= 9 \n",
      "기존 최소값= 6 => j= 7 \n",
      "기존 최소값= 6 => j= 8 \n",
      "\n",
      " [0, 1, 2, 3, 4, 5, 6, 9, 7, 8] \n",
      "\n",
      "정렬 안 된 첫 번째 값= 9\n",
      "기존 최소값= 9 => j= 7 바뀐 최소값= 7\n",
      "\n",
      "기존 최소값= 7 => j= 8 \n",
      "\n",
      " [0, 1, 2, 3, 4, 5, 6, 7, 9, 8] \n",
      "\n",
      "정렬 안 된 첫 번째 값= 9\n",
      "기존 최소값= 9 => j= 8 바뀐 최소값= 8\n",
      "\n",
      "\n",
      " [0, 1, 2, 3, 4, 5, 6, 7, 8, 9] \n",
      "\n",
      "정렬 안 된 첫 번째 값= 9\n",
      "\n",
      " [0, 1, 2, 3, 4, 5, 6, 7, 8, 9] \n",
      "\n"
     ]
    },
    {
     "data": {
      "text/plain": [
       "[0, 1, 2, 3, 4, 5, 6, 7, 8, 9]"
      ]
     },
     "execution_count": 32,
     "metadata": {},
     "output_type": "execute_result"
    }
   ],
   "source": [
    "array = [7, 5, 9, 0, 3, 1, 6, 2, 4, 8]\n",
    "print(array)\n",
    "\n",
    "for i in range(len(array)):\n",
    "    print('정렬 안 된 첫 번째 값=', array[i])\n",
    "    \n",
    "    # 왼쪽부터 비교하기 때문에 시작할 때는 첫 번째 인덱스를 최소값으로 가정한다.\n",
    "    # 교환이 이루어진 뒤에는 최소값이 가장 왼쪽에 온다.\n",
    "    min_index = i  \n",
    "    \n",
    "    for j in range(i+1, len(array)):\n",
    "        print('기존 최소값=', array[min_index], end=' => ')\n",
    "        print('j=', array[j], end=' ')\n",
    "        \n",
    "        # 첫 번째 인덱스값이 뒤의 인덱스값보다 크면 뒤의 인덱스를 최소값 인덱스(min_index)에 넣는다.\n",
    "        # 새로 부여한 최소값과 이후 숫자를 비교하여 더 작은 수가 나오면 최소값 인덱스(min_index)에 넣는다.\n",
    "        if array[min_index] > array[j]:\n",
    "            min_index = j\n",
    "            print('바뀐 최소값=', array[min_index])\n",
    "        print()\n",
    "    \n",
    "    # 첫 번째 인덱스와 두 번째 이후 인덱스 중 최소값의 인덱스 교환\n",
    "    array[i], array[min_index] = array[min_index], array[i]\n",
    "    print('\\n', array, '\\n')\n",
    "\n",
    "array"
   ]
  },
  {
   "cell_type": "code",
   "execution_count": null,
   "id": "4f25633b",
   "metadata": {},
   "outputs": [],
   "source": []
  }
 ],
 "metadata": {
  "kernelspec": {
   "display_name": "Python 3 (ipykernel)",
   "language": "python",
   "name": "python3"
  },
  "language_info": {
   "codemirror_mode": {
    "name": "ipython",
    "version": 3
   },
   "file_extension": ".py",
   "mimetype": "text/x-python",
   "name": "python",
   "nbconvert_exporter": "python",
   "pygments_lexer": "ipython3",
   "version": "3.9.12"
  },
  "toc": {
   "base_numbering": 1,
   "nav_menu": {},
   "number_sections": true,
   "sideBar": true,
   "skip_h1_title": false,
   "title_cell": "Table of Contents",
   "title_sidebar": "Contents",
   "toc_cell": false,
   "toc_position": {},
   "toc_section_display": true,
   "toc_window_display": true
  },
  "varInspector": {
   "cols": {
    "lenName": 16,
    "lenType": 16,
    "lenVar": 40
   },
   "kernels_config": {
    "python": {
     "delete_cmd_postfix": "",
     "delete_cmd_prefix": "del ",
     "library": "var_list.py",
     "varRefreshCmd": "print(var_dic_list())"
    },
    "r": {
     "delete_cmd_postfix": ") ",
     "delete_cmd_prefix": "rm(",
     "library": "var_list.r",
     "varRefreshCmd": "cat(var_dic_list()) "
    }
   },
   "types_to_exclude": [
    "module",
    "function",
    "builtin_function_or_method",
    "instance",
    "_Feature"
   ],
   "window_display": false
  }
 },
 "nbformat": 4,
 "nbformat_minor": 5
}
