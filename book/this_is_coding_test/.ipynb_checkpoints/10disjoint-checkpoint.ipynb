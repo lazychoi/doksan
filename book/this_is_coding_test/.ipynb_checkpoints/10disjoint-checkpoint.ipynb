{
 "cells": [
  {
   "cell_type": "markdown",
   "id": "9798d77a",
   "metadata": {},
   "source": [
    "# 10장 서로소 집합 p268\n",
    "created: 2022-10-23\n",
    "\n",
    "- union-find 자료구조\n",
    "- union 연산: 2개의 원소가 포함된 집합을 하나의 집합으로 합치는 연산\n",
    "- find 연산: 특정한 원소가 속한 집합이 어떤 집합인지 알려주는 연산\n",
    "- 트리 자료구조 이용"
   ]
  },
  {
   "cell_type": "code",
   "execution_count": 50,
   "id": "2a0bc01f",
   "metadata": {},
   "outputs": [],
   "source": [
    "# 특정 원소가 속한 집합 찾기(parent = 부모 테이블, x = 노드 번호)\n",
    "\n",
    "def find_parent(parent, x):\n",
    "\n",
    "    # 루트 노드가 아니면, 루트 노드를 찾을 때까지(원소가 자신을 부모로 가질 때까지) 재귀적으로 호출\n",
    "    if parent[x] != x:   # 부모 테이블 인덱스가 자기 자신을 부모로 가지지 않으면 \n",
    "        return find_parent(parent, parent[x])  # 부모의 노드 번호를 인자로 입력\n",
    "    \n",
    "    return x"
   ]
  },
  {
   "cell_type": "code",
   "execution_count": null,
   "id": "e0bbea78",
   "metadata": {},
   "outputs": [],
   "source": [
    "# 경로 압축 기법 - 집합 내의 모든 노드의 부모 노드에 루트 노드를 저장하는 방법\n",
    "\n",
    "def find_parent(parent, x):\n",
    "    \n",
    "    if parent[x] != x:\n",
    "        parent[x] = find_parent(parent, parent[x])\n",
    "    \n",
    "    return parent[x]"
   ]
  },
  {
   "cell_type": "code",
   "execution_count": 51,
   "id": "c9d09259",
   "metadata": {},
   "outputs": [],
   "source": [
    "# 두 원소가 속한 집합 합치기\n",
    "\n",
    "def union_parent(parent, a, b):\n",
    "    a = find_parent(parent, a)\n",
    "    b = find_parent(parent, b)\n",
    "    if a < b:\n",
    "        parent[b] = a\n",
    "    else:\n",
    "        parent[a] = b"
   ]
  },
  {
   "cell_type": "code",
   "execution_count": 52,
   "id": "8bb0c1be",
   "metadata": {},
   "outputs": [
    {
     "name": "stdout",
     "output_type": "stream",
     "text": [
      "6 4\n"
     ]
    },
    {
     "data": {
      "text/plain": [
       "[0, 1, 2, 3, 4, 5, 6]"
      ]
     },
     "execution_count": 52,
     "metadata": {},
     "output_type": "execute_result"
    }
   ],
   "source": [
    "# 노드 개수와 간선(union 연산) 개수 입력 받기\n",
    "\n",
    "v, e = map(int, input().split())\n",
    "parent = [0] * (v + 1)    # 부모 테이블 초기화\n",
    "\n",
    "# 부모 테이블을 자기 자신으로 초기화\n",
    "for i in range(1, v + 1):\n",
    "    parent[i] = i\n",
    "\n",
    "parent"
   ]
  },
  {
   "cell_type": "code",
   "execution_count": 53,
   "id": "20c33427",
   "metadata": {},
   "outputs": [
    {
     "name": "stdout",
     "output_type": "stream",
     "text": [
      "1 4\n",
      "2 3\n",
      "2 4\n",
      "5 6\n"
     ]
    }
   ],
   "source": [
    "# union 연산 수행할 값 입력\n",
    "\n",
    "for i in range(e):\n",
    "    a, b = map(int, input().split())\n",
    "    union_parent(parent, a, b)"
   ]
  },
  {
   "cell_type": "code",
   "execution_count": 54,
   "id": "367070d5",
   "metadata": {},
   "outputs": [
    {
     "data": {
      "text/plain": [
       "[0, 1, 1, 2, 1, 5, 5]"
      ]
     },
     "execution_count": 54,
     "metadata": {},
     "output_type": "execute_result"
    }
   ],
   "source": [
    "parent"
   ]
  },
  {
   "cell_type": "code",
   "execution_count": 55,
   "id": "4d00bed0",
   "metadata": {},
   "outputs": [
    {
     "name": "stdout",
     "output_type": "stream",
     "text": [
      "각 원소가 속한 집합:  1 1 1 1 5 5 \n"
     ]
    }
   ],
   "source": [
    "# 각 원소가 속한 집합 출력\n",
    "\n",
    "print('각 원소가 속한 집합: ', end=' ')\n",
    "for i in range(1, v + 1):\n",
    "    print(find_parent(parent, i), end=' ')\n",
    "print()"
   ]
  },
  {
   "cell_type": "code",
   "execution_count": 56,
   "id": "41395c50",
   "metadata": {},
   "outputs": [
    {
     "name": "stdout",
     "output_type": "stream",
     "text": [
      "부모 테이블:  1 1 2 1 5 5 "
     ]
    }
   ],
   "source": [
    "# 부모 테이블 내용 출력\n",
    "\n",
    "print('부모 테이블: ', end=' ')\n",
    "for i in range(1, v + 1):\n",
    "    print(parent[i], end=' ')\n",
    "    \n",
    "# 부모 테이블: 1 1 2 1 5 5 \n",
    "# 경로 압축 적용시\n",
    "# 부모 테이블: 1 1 1 1 5 5 "
   ]
  },
  {
   "cell_type": "markdown",
   "id": "b47a5be3",
   "metadata": {},
   "source": [
    "## 사이클 판별\n",
    "\n",
    "- 간선에 방향성이 없는 무향 그래프에서만 적용 가능"
   ]
  },
  {
   "cell_type": "code",
   "execution_count": 57,
   "id": "a39b3b70",
   "metadata": {},
   "outputs": [
    {
     "name": "stdout",
     "output_type": "stream",
     "text": [
      "3 3\n",
      "1 2\n",
      "1 3\n",
      "2 3\n",
      "사이클이 발생했습니다.\n"
     ]
    }
   ],
   "source": [
    "# 특정 원소가 속한 집합 찾기\n",
    "def find_parent(parent, x):\n",
    "    if parent[x] != x:\n",
    "        parent[x] = find_parent(parent, parent[x])\n",
    "    return parent[x]\n",
    "\n",
    "# 두 원소가 속한 집합 합치기\n",
    "def union_parent(parent, a, b):\n",
    "    a = find_parent(parent, a)\n",
    "    b = find_parent(parent, b)\n",
    "    if a < b:\n",
    "        parent[b] = a\n",
    "    else:\n",
    "        parent[a] = b\n",
    "        \n",
    "# 노드 개수와 간선(union 연산) 개수 입력\n",
    "v, e = map(int, input().split())\n",
    "\n",
    "# 부모 테이블 초기화\n",
    "parent = [0] * (v + 1)\n",
    "for i in range(1, v + 1):\n",
    "    parent[i] = i       # 부모를 자기 자신으로 \n",
    "\n",
    "# 사이클 발생 여부 저장 - 초기값은 False\n",
    "cycle = False\n",
    "\n",
    "# 간선(union 연산) 개수만큼 부모 확인\n",
    "for i in range(e):\n",
    "    a, b = map(int, input().split())\n",
    "\n",
    "    # 사이클이 발생하면 종료\n",
    "    if find_parent(parent, a) == find_parent(parent, b):\n",
    "        cycle = True\n",
    "        break\n",
    "    \n",
    "    # 사이클이 발생하지 않았으면 합집합 수행\n",
    "    else:\n",
    "        union_parent(parent, a, b)\n",
    "\n",
    "# 결과 출력\n",
    "if cycle:\n",
    "    print('사이클이 발생했습니다.')\n",
    "else:\n",
    "    print('사이클이 발생하지 않았습니다.')"
   ]
  }
 ],
 "metadata": {
  "kernelspec": {
   "display_name": "Python 3 (ipykernel)",
   "language": "python",
   "name": "python3"
  },
  "language_info": {
   "codemirror_mode": {
    "name": "ipython",
    "version": 3
   },
   "file_extension": ".py",
   "mimetype": "text/x-python",
   "name": "python",
   "nbconvert_exporter": "python",
   "pygments_lexer": "ipython3",
   "version": "3.9.12"
  },
  "toc": {
   "base_numbering": 1,
   "nav_menu": {},
   "number_sections": true,
   "sideBar": true,
   "skip_h1_title": false,
   "title_cell": "Table of Contents",
   "title_sidebar": "Contents",
   "toc_cell": false,
   "toc_position": {},
   "toc_section_display": true,
   "toc_window_display": true
  },
  "varInspector": {
   "cols": {
    "lenName": 16,
    "lenType": 16,
    "lenVar": 40
   },
   "kernels_config": {
    "python": {
     "delete_cmd_postfix": "",
     "delete_cmd_prefix": "del ",
     "library": "var_list.py",
     "varRefreshCmd": "print(var_dic_list())"
    },
    "r": {
     "delete_cmd_postfix": ") ",
     "delete_cmd_prefix": "rm(",
     "library": "var_list.r",
     "varRefreshCmd": "cat(var_dic_list()) "
    }
   },
   "types_to_exclude": [
    "module",
    "function",
    "builtin_function_or_method",
    "instance",
    "_Feature"
   ],
   "window_display": false
  }
 },
 "nbformat": 4,
 "nbformat_minor": 5
}
