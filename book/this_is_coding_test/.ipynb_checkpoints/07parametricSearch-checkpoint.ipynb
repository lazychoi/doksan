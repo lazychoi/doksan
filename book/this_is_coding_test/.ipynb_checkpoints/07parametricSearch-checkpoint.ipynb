{
 "cells": [
  {
   "cell_type": "markdown",
   "id": "b9d365ab",
   "metadata": {},
   "source": [
    "# Parametric Search p202\n",
    "created: 22-10-18\n",
    "\n",
    "- 원하는 조건을 만족하는 가장 알맞은 값을 찾는 문제\n",
    "- 보통 이진 탐색을 이용해 해결"
   ]
  },
  {
   "cell_type": "markdown",
   "id": "95ddb280",
   "metadata": {},
   "source": [
    "# 떡볶이 떡 만들기 p201"
   ]
  },
  {
   "cell_type": "code",
   "execution_count": 7,
   "id": "29289bec",
   "metadata": {},
   "outputs": [
    {
     "name": "stdout",
     "output_type": "stream",
     "text": [
      "15\n"
     ]
    }
   ],
   "source": [
    "# 교재 설명 읽고 짠 코드\n",
    "\n",
    "n, m = 4, 6\n",
    "array = [19,15,10,17]\n",
    "\n",
    "start = 0\n",
    "end = max(array)\n",
    "\n",
    "def remainder(array, mid):\n",
    "    result = []\n",
    "    for i in array:\n",
    "        if i > mid:\n",
    "            result.append(i - mid)\n",
    "    return sum(result)\n",
    "\n",
    "def bi_search(array, m, start, end):\n",
    "    while start <= end:\n",
    "        mid = (start + end) // 2\n",
    "        if remainder(array, mid) == m:\n",
    "            return mid\n",
    "        elif remainder(array, mid) > m:\n",
    "            start = mid + 1\n",
    "        else:\n",
    "            end = mid - 1\n",
    "        \n",
    "print(bi_search(array, m, start, end))"
   ]
  },
  {
   "cell_type": "code",
   "execution_count": 8,
   "id": "b2d113bf",
   "metadata": {},
   "outputs": [
    {
     "name": "stdout",
     "output_type": "stream",
     "text": [
      "4 6\n",
      "19 15 10 17\n",
      "15\n"
     ]
    }
   ],
   "source": [
    "# 교재 코드\n",
    "\n",
    "# 떡의 개수(n)와 요청한 떡의 길이(m) 입력받기\n",
    "n, m = list(map(int, input().split()))\n",
    "# 각 떡의 개별 높이 정보 입력받기\n",
    "array = list(map(int, input().split()))\n",
    "\n",
    "# 이진 탐색 위한 시작점, 끝점 설정\n",
    "start = 0\n",
    "end = max(array)\n",
    "\n",
    "# 이진 탐색 수행\n",
    "result = 0\n",
    "while(start <= end):\n",
    "    total = 0\n",
    "    mid = (start + end) // 2\n",
    "    for x in array:\n",
    "        # 잘랐을 때의 양 계산\n",
    "        if x > mid:\n",
    "            total += x - mid\n",
    "    # 떡의 양이 부족한 경우 더 많이 자르기(왼쪽 부분 탐색)\n",
    "    if total < m:\n",
    "        end = mid - 1\n",
    "    # 떡의 양이 충분한 경우 덜 자르기(오른쪽 부분 탐색)\n",
    "    else:\n",
    "        result = mid # 최대한 덜 잘랐을 때가 정답이므로 여기에서 result 기록\n",
    "        start = mid + 1\n",
    "        \n",
    "print(result)"
   ]
  },
  {
   "cell_type": "code",
   "execution_count": null,
   "id": "0f2acd37",
   "metadata": {},
   "outputs": [],
   "source": []
  }
 ],
 "metadata": {
  "kernelspec": {
   "display_name": "Python 3 (ipykernel)",
   "language": "python",
   "name": "python3"
  },
  "language_info": {
   "codemirror_mode": {
    "name": "ipython",
    "version": 3
   },
   "file_extension": ".py",
   "mimetype": "text/x-python",
   "name": "python",
   "nbconvert_exporter": "python",
   "pygments_lexer": "ipython3",
   "version": "3.9.12"
  }
 },
 "nbformat": 4,
 "nbformat_minor": 5
}
