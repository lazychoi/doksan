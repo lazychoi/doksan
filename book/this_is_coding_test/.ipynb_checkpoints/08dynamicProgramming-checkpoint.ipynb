{
 "cells": [
  {
   "cell_type": "markdown",
   "id": "89aa9bc1",
   "metadata": {},
   "source": [
    "# 8장 Dynamic Programming(동적 계획법) p208\n",
    "created: 22-10-19\n",
    "\n",
    "- 메모리 공간을 약간 더 사용하면 연산 속도를 비약적으로 증가시킬 수 있는 방법 중 하나\n",
    "- 피보나치 수열 => 재귀함수를 사용하면 큰 수가 입력되면 시간 복잡도가 기하급수적으로 증가\n",
    "- 메모이제이션(Memoization) 기법 = Caching : 한 번 구한 결과를 메모리 공간에 저장해두고 같은 식을 다시 호출하면 저장한 결과를 가져오는 기법\n",
    "- meoization 구현 = 구한 정보를 리스트에 저장\n",
    "- Top-Donw 방식 : 큰 문제 해결 위해 작은 문제 호출. **재귀함수** 이용\n",
    "- Bottom-Up 방식 : 작은 문제부터 차근차근 답을 도출. **반복문** 이용"
   ]
  },
  {
   "cell_type": "code",
   "execution_count": 26,
   "id": "3e752266",
   "metadata": {},
   "outputs": [
    {
     "name": "stdout",
     "output_type": "stream",
     "text": [
      "102334155\n",
      "19.516452312469482\n"
     ]
    }
   ],
   "source": [
    "# 피보나치 수열 => 아래 코드는 O(2^N) 시간 소요\n",
    "\n",
    "import time \n",
    "\n",
    "def fibo(x):\n",
    "    if x == 1 or x == 2:\n",
    "        return 1\n",
    "    return fibo(x - 1) + fibo(x - 2)\n",
    "\n",
    "start = time.time()\n",
    "print( fibo(40) )\n",
    "end = time.time()\n",
    "\n",
    "print(end - start)"
   ]
  },
  {
   "cell_type": "code",
   "execution_count": 27,
   "id": "d54d7113",
   "metadata": {},
   "outputs": [
    {
     "name": "stdout",
     "output_type": "stream",
     "text": [
      "102334155\n",
      "0.0010139942169189453\n"
     ]
    }
   ],
   "source": [
    "# 피보나치 수열 메모이제이션 구현(탑다운)\n",
    "\n",
    "# 피보나치 수열로 계산할 숫자 + 1 => 0으로 시작하는 인덱스를 숫자와 매칭시키기 위해\n",
    "import time\n",
    "\n",
    "def fibo(x):\n",
    "    if x == 1 or x == 2:\n",
    "        return 1\n",
    "    \n",
    "    if d[x] != 0:\n",
    "        return d[x]\n",
    "    \n",
    "    d[x] = fibo(x - 1) + fibo(x - 2)\n",
    "    return d[x]\n",
    "\n",
    "start = time.time()\n",
    "print( fibo(40) )\n",
    "end = time.time()\n",
    "\n",
    "print(end - start)"
   ]
  },
  {
   "cell_type": "code",
   "execution_count": 34,
   "id": "7fc721d7",
   "metadata": {},
   "outputs": [
    {
     "name": "stdout",
     "output_type": "stream",
     "text": [
      "102334155\n",
      "0.0001983642578125\n"
     ]
    }
   ],
   "source": [
    "# 피보나치 수열 DP table(보텀업)\n",
    "\n",
    "start = time.time()\n",
    "d = [0] * 100\n",
    "d[1] = 1\n",
    "d[2] = 1\n",
    "n = 40\n",
    "\n",
    "for i in range(3, n+1):\n",
    "    d[i] = d[i - 1] + d[i - 2]\n",
    "end = time.time()\n",
    "print(d[n])\n",
    "print(end-start)"
   ]
  },
  {
   "cell_type": "markdown",
   "id": "d43b4045",
   "metadata": {},
   "source": [
    "## 1로 만들기 p217\n",
    "\n",
    "답을 보고 유추한 풀이 과정\n",
    "\n",
    "1. 계산 횟수가 0인 리스트를 만든다. 크기는 입력 허용 범위 + 1 (0인덱스 제외하여 숫자와 인덱스 일치시키기 위해)\n",
    "2. 2부터 차례대로 1이 될 때까지의 계산횟수를 입력한다.\n",
    "3. 기본 계산 횟수는 문제 조건에 따라 \"숫자 - 1\"의 계산횟수에 1을 더한 것이다. 1을 더하는 까닭은 자신을 계산한 횟수를 포함하기 위해서다.\n",
    "4. 문제에서 제시된 수(2 or 3 or 5)로 나누어 떨어지면 \"몫 + 1\" 한 계산횟수와 \"숫자 - 1\"의 계산횟수를 비교하여 작은 것을 계산횟수로 입력한다.\n",
    "\n",
    "=> 위 과정을 2부터 \"계산할 수 + 1\"까지 반복한다."
   ]
  },
  {
   "cell_type": "code",
   "execution_count": 53,
   "id": "b5456960",
   "metadata": {},
   "outputs": [
    {
     "name": "stdout",
     "output_type": "stream",
     "text": [
      "2\n"
     ]
    }
   ],
   "source": [
    "x = 6\n",
    "\n",
    "# 앞서 계산된 결과를 저장하기 위햔 DP table 초기화\n",
    "# 문제에 제시된 입력범위 30000\n",
    "# d 리스트에는 계산 횟수가 입력됨\n",
    "d = [0] * 30001 \n",
    "\n",
    "\n",
    "# 1이 나올 때까지 빼는 것이기 때문에 2부터 시작\n",
    "for i in range(2, x+1):\n",
    "    \n",
    "    # 현재 수에서 1을 빼는 경우\n",
    "    # 자신보다 1 작은 수의 계산횟수 + 자신을 호출한 횟수(1) 더하기\n",
    "    d[i] = d[i - 1] + 1\n",
    "    \n",
    "    \n",
    "    # 나누어 떨어지는 수가 없으면 자신의 인덱스를 그대로 추가하고,\n",
    "    # 2로 나누어 떨어지면 몫에 해당하는 값에 횟수를 가리키는 +1 \n",
    "    \n",
    "    # 현재 수가 2로 나누어 떨어지는 경우\n",
    "    if i % 2 == 0:\n",
    "        d[i] = min(d[i], d[i // 2] + 1)\n",
    "\n",
    "    # 현재 수가 3으로 나누어 떨어지는 경우\n",
    "    if i % 3 == 0:\n",
    "        d[i] = min(d[i], d[i // 3] + 1)\n",
    "    \n",
    "    # 현재 수가 5로 나누어 떨어지는 경우\n",
    "    if i % 5 == 0:\n",
    "        d[i] = min(d[i], d[i // 5] + 1)\n",
    "        \n",
    "print(d[x])"
   ]
  },
  {
   "cell_type": "markdown",
   "id": "3e36807c",
   "metadata": {},
   "source": [
    "d 변수의 각 인덱스에 1로 만드는 최소한의 횟수가 저장됨 \n",
    "\n",
    "```\n",
    "d1 = 0\n",
    "d2 : d1 + 1 -> 1 -> 2로 나누어 떨어짐 min(d2, d1+1) -> (1, 1) -> 1\n",
    "d3 : d2 + 1 -> 2 -> 3으로 나누어 떨어짐 min(d3, d1 + 1) -> (2, 1) -> 1\n",
    "d4 : d3 + 1 -> 2 -> 2로 나누어 떨어짐 min(d4, d2 + 1) -> (2, 2) -> 2\n",
    "d5 : d4 + 1 -> 3 -> 5로 나누어 떨어짐 min(d5, d1 + 1) -> (3, 1) -> 1\n",
    "d6 : d5 + 1 -> 2 -> 2로 나누어 떨어짐 min(d6, d3 + 1) -> (2, 2) -> 2\n",
    "                    3으로 나누어 떨어짐 min(d6, d2 + 1) -> (2, 2) -> 2\n",
    "d7 : d6 + 1 -> 3\n",
    "d8 : d7 + 1 -> 4 -> 2로 나누어 떨어짐 min(d8, d4 + 1) -> (4, 3) -> 3\n",
    "d9 : d8 + 1 -> 4 -> 3으로 나누어 떨어짐 min(d9, d3 + 1) -> (4, 2) -> 2\n",
    "```"
   ]
  },
  {
   "cell_type": "markdown",
   "id": "0e7d1251",
   "metadata": {},
   "source": [
    "## 개미 전사 p220\n",
    "\n",
    "d <- 이전까지 숫자 합계 중 가장 큰 합계 저장\n",
    "\n",
    "1. d[0] <- 변수의 초기값\n",
    "2. d[1] <- d[0], d[1] 중 큰 값\n",
    "3. d[n] <- d[n-1]과 d[n-2]+d[n] 중 큰 값 저장 왜냐면, -1 인덱스를 쓰거나(자신을 더할 수 없음) -2 인덱스를 써야하기(자신 더할 수 있음) 때문에"
   ]
  },
  {
   "cell_type": "code",
   "execution_count": 61,
   "id": "ecc9f440",
   "metadata": {},
   "outputs": [
    {
     "name": "stdout",
     "output_type": "stream",
     "text": [
      "8\n"
     ]
    }
   ],
   "source": [
    "# 내 코드 -> 틀림\n",
    "# 입력 숫자 크기 +1의 리스트 변수 만들기\n",
    "# 3부터 크기 만큼 반복\n",
    "# 인덱스에 -2까지의 합계 저장\n",
    "\n",
    "\n",
    "k = [1,3,1,5, 1, 1, 5]\n",
    "n = len(k)\n",
    "\n",
    "d = [0] * (n + 1)\n",
    "\n",
    "for i in range(2, n):\n",
    "    \n",
    "    d[1] = k[0] + k[1]\n",
    "    d[i] = k[i-2] + k[i]\n",
    "    d[i] = max( d[i], d[i-1])\n",
    "    \n",
    "print(d[n-1])"
   ]
  },
  {
   "cell_type": "code",
   "execution_count": 63,
   "id": "b7df049f",
   "metadata": {},
   "outputs": [
    {
     "name": "stdout",
     "output_type": "stream",
     "text": [
      "7\n",
      "1 3 1 5 1 1 5\n",
      "13\n"
     ]
    }
   ],
   "source": [
    "# 교재 코드\n",
    "\n",
    "n = int(input())\n",
    "# 모든 식량 정보 입력\n",
    "array = list(map(int, input().split()))\n",
    "\n",
    "# 앞서 계산된 결과를 저장하기 위한 DP 테이블 초기화\n",
    "d = [0] * 100\n",
    "\n",
    "d[0] = array[0]\n",
    "d[1] = max(array[0], array[1])\n",
    "for i in range(2, n):\n",
    "    d[i] = max(d[i-1], d[i-2]+array[i])\n",
    "    \n",
    "print(d[n-1])"
   ]
  },
  {
   "cell_type": "markdown",
   "id": "7c79ca64",
   "metadata": {},
   "source": [
    "## 바닥 공사 P223\n"
   ]
  },
  {
   "cell_type": "code",
   "execution_count": 68,
   "id": "3eea8d91",
   "metadata": {},
   "outputs": [
    {
     "name": "stdout",
     "output_type": "stream",
     "text": [
      "3\n",
      "4\n"
     ]
    }
   ],
   "source": [
    "# 못 품\n",
    "n = int(input())\n",
    "\n",
    "d = [0] * 1001\n",
    "d[1] = 1  # 세로 1개\n",
    "d[2] = 3  # 가로 2개, 세로 2개, 정방형 1개\n",
    "\n",
    "for i in range(3, n+1):\n",
    "    \n",
    "    if i % 2 == 1:\n",
    "        d[i] = d[i-1] + 1 # 홀수번째는 세로 1개 넣을 공간만 남음\n",
    "    else:\n",
    "        d[i] = d[i-2] + 3\n",
    "\n",
    "print(d[n])"
   ]
  },
  {
   "cell_type": "code",
   "execution_count": 70,
   "id": "42433ab6",
   "metadata": {},
   "outputs": [
    {
     "name": "stdout",
     "output_type": "stream",
     "text": [
      "4\n",
      "11\n"
     ]
    }
   ],
   "source": [
    "# 교재 풀이\n",
    "\n",
    "n = int(input())\n",
    "\n",
    "d = [0] * 1001\n",
    "d[1] = 1  # 세로 1개\n",
    "d[2] = 3  # 가로 2개, 세로 2개, 정방형 1개\n",
    "\n",
    "for i in range(3, n+1):\n",
    "    d[i] = ( d[i-1] + 2 * d[i-2] ) % 796796 \n",
    "\n",
    "print(d[n])"
   ]
  },
  {
   "cell_type": "markdown",
   "id": "fc448e59",
   "metadata": {},
   "source": [
    "## 효율적인 화폐 구성 p226"
   ]
  },
  {
   "cell_type": "code",
   "execution_count": 102,
   "id": "19175c37",
   "metadata": {},
   "outputs": [
    {
     "name": "stdout",
     "output_type": "stream",
     "text": [
      "2 10000\n",
      "2\n",
      "3\n",
      "-1\n"
     ]
    }
   ],
   "source": [
    "# 화폐 가치가 큰 것부터 정렬\n",
    "# 3으로 나눈 나머지가 2로 나누어 떨어져야 함\n",
    "\n",
    "n, m = map(int, input().split())\n",
    "p = [ int(input()) for _ in range(n) ]\n",
    "\n",
    "result = 0\n",
    "p.sort(reverse=True)\n",
    "\n",
    "for i in range(0, len(p)-1):\n",
    "    a = (m % p[i])\n",
    "    b = p[i+1]\n",
    "    if a % b == 0:\n",
    "        result += ( (m // p[i]) + (m % p[i]) // p[i+1] )\n",
    "    else:\n",
    "        result = -1\n",
    "\n",
    "print(result)"
   ]
  },
  {
   "cell_type": "code",
   "execution_count": 104,
   "id": "929af0df",
   "metadata": {},
   "outputs": [
    {
     "name": "stdout",
     "output_type": "stream",
     "text": [
      "2 15\n",
      "2\n",
      "3\n",
      "5\n"
     ]
    }
   ],
   "source": [
    "# 교재 답\n",
    "\n",
    "n, m = map(int, input().split())\n",
    "\n",
    "# n 개의 화폐 단위\n",
    "array = []\n",
    "for i in range(n):\n",
    "    array.append(int(input()))\n",
    "    \n",
    "# 한 번 계산된 결과를 저장하기 위한 DP table 초기화\n",
    "d = [10001] * (m + 1) # 인덱스와 숫자를 맞추기 위해 + 1\n",
    "\n",
    "d[0] = 0\n",
    "for i in range(n): # 화폐 단위 작은 것부터 \n",
    "    for j in range(array[i], m + 1): #  화폐 단위(array)마다 합계 금액(m)을 0부터 순회하여 화폐 개수 입력\n",
    "        if d[j-array[i]] != 10001:\n",
    "            d[j] = min(d[j], d[j-array[i]] + 1)\n",
    "            \n",
    "# 계산된 결과 출력\n",
    "if d[m] == 10001: # 최종적으로 m원을 만들 방법이 없으면\n",
    "    print(-1)\n",
    "else:\n",
    "    print(d[m])"
   ]
  },
  {
   "cell_type": "code",
   "execution_count": null,
   "id": "b03a3251",
   "metadata": {},
   "outputs": [],
   "source": []
  }
 ],
 "metadata": {
  "kernelspec": {
   "display_name": "Python 3 (ipykernel)",
   "language": "python",
   "name": "python3"
  },
  "language_info": {
   "codemirror_mode": {
    "name": "ipython",
    "version": 3
   },
   "file_extension": ".py",
   "mimetype": "text/x-python",
   "name": "python",
   "nbconvert_exporter": "python",
   "pygments_lexer": "ipython3",
   "version": "3.9.12"
  }
 },
 "nbformat": 4,
 "nbformat_minor": 5
}
