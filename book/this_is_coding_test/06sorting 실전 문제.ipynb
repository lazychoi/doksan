{
 "cells": [
  {
   "cell_type": "markdown",
   "id": "826edfb5",
   "metadata": {},
   "source": [
    "# 정렬 실전 문제\n",
    "\n",
    "created : 22-10-17\n",
    "\n",
    "## 위에서 아래로 p178"
   ]
  },
  {
   "cell_type": "code",
   "execution_count": 7,
   "id": "a28e674c",
   "metadata": {},
   "outputs": [
    {
     "name": "stdout",
     "output_type": "stream",
     "text": [
      "3\n",
      "15\n",
      "27\n",
      "12\n",
      "27 15 12 "
     ]
    }
   ],
   "source": [
    "n = int(input())\n",
    "per = []\n",
    "for _ in range(n):\n",
    "    per.append(int(input()))\n",
    "\n",
    "for i in sorted(per, reverse=True):\n",
    "    print(i, end=' ')"
   ]
  },
  {
   "cell_type": "markdown",
   "id": "7865d986",
   "metadata": {},
   "source": [
    "## 성적이 낮은 순서로 학생 출력하기 p180\n",
    "\n",
    "- 리스트 내 리스트의 두 번째 변수 기준으로 오름차순 정렬\n",
    "\n",
    "==기억할 것== : sorted(리스트, **key= 정렬기준 지정 함수**)"
   ]
  },
  {
   "cell_type": "code",
   "execution_count": 23,
   "id": "171d34c2",
   "metadata": {},
   "outputs": [
    {
     "name": "stdout",
     "output_type": "stream",
     "text": [
      "3\n",
      "홍길동 80\n",
      "이순신 70\n",
      "김구 90\n",
      "이순신 홍길동 김구 "
     ]
    }
   ],
   "source": [
    "n = int(input())\n",
    "array = []\n",
    "for _ in range(n):\n",
    "    name, score = input().split()\n",
    "    array.append((name, int(score)))\n",
    "\n",
    "def sort_key(data):\n",
    "    return data[1]\n",
    "    \n",
    "sorted_scores = sorted(array, key = sort_key)\n",
    "\n",
    "for stu in sorted_scores:\n",
    "    print(stu[0], end=' ')"
   ]
  },
  {
   "cell_type": "code",
   "execution_count": 19,
   "id": "1e6e0b79",
   "metadata": {},
   "outputs": [
    {
     "name": "stdout",
     "output_type": "stream",
     "text": [
      "3\n",
      "홍길도 60\n",
      "이순신 75\n",
      "김구 90\n",
      "홍길도 이순신 김구 "
     ]
    }
   ],
   "source": [
    "# 함수를 별도로 만들지 않고 람다함수 이용\n",
    "\n",
    "n = int(input())\n",
    "\n",
    "array = []\n",
    "for i in range(n):\n",
    "    input_data = input().split()\n",
    "    array.append( (input_data[0], int(input_data[1])))\n",
    "    \n",
    "array = sorted(array, key=lambda student:student[1])\n",
    "\n",
    "for student in array:\n",
    "    print(student[0], end=' ')"
   ]
  },
  {
   "cell_type": "markdown",
   "id": "fc9c114e",
   "metadata": {},
   "source": [
    "## 두 배열의 원소 교체 p182\n",
    "\n"
   ]
  },
  {
   "cell_type": "code",
   "execution_count": 33,
   "id": "3c1419ea",
   "metadata": {},
   "outputs": [
    {
     "name": "stdout",
     "output_type": "stream",
     "text": [
      "5 3\n",
      "12543\n",
      "55665\n"
     ]
    },
    {
     "data": {
      "text/plain": [
       "26"
      ]
     },
     "execution_count": 33,
     "metadata": {},
     "output_type": "execute_result"
    }
   ],
   "source": [
    "# k 번만큼 A의 가장 작은 숫자와 B의 가장 큰 숫자를 교환\n",
    "\n",
    "n, k = map(int, input().split())\n",
    "a = [ int(i) for i in input() ]\n",
    "b = [ int(i) for i in input() ]\n",
    "\n",
    "a, b = sorted(a), sorted(b, reverse=True)\n",
    "\n",
    "for i in range(k):\n",
    "    a[i], b[i] = b[i], a[i]       # <- a[i] 가 a[i] 보다 큰 경우를 생각하지 못함.\n",
    "    \n",
    "sum(a)"
   ]
  },
  {
   "cell_type": "code",
   "execution_count": 35,
   "id": "115ee1ca",
   "metadata": {},
   "outputs": [
    {
     "name": "stdout",
     "output_type": "stream",
     "text": [
      "5 3\n",
      "1 2 5 4 3\n",
      "5 5 6 6 5\n",
      "26\n"
     ]
    }
   ],
   "source": [
    "# 교재 코드\n",
    "\n",
    "n, k = map(int, input().split())\n",
    "a = list(map(int, input().split()))\n",
    "b = list(map(int, input().split()))\n",
    "\n",
    "a.sort()\n",
    "b.sort(reverse=True)\n",
    "\n",
    "for i in range(k):\n",
    "    # A의 원소가 B의 원소보다 작은 경우\n",
    "    if a[i] < b[i]:\n",
    "        a[i], b[i] = b[i], a[i]\n",
    "    else:\n",
    "        break\n",
    "\n",
    "print(sum(a))"
   ]
  },
  {
   "cell_type": "code",
   "execution_count": null,
   "id": "312e5adc",
   "metadata": {},
   "outputs": [],
   "source": []
  }
 ],
 "metadata": {
  "kernelspec": {
   "display_name": "Python 3 (ipykernel)",
   "language": "python",
   "name": "python3"
  },
  "language_info": {
   "codemirror_mode": {
    "name": "ipython",
    "version": 3
   },
   "file_extension": ".py",
   "mimetype": "text/x-python",
   "name": "python",
   "nbconvert_exporter": "python",
   "pygments_lexer": "ipython3",
   "version": "3.10.6"
  }
 },
 "nbformat": 4,
 "nbformat_minor": 5
}
