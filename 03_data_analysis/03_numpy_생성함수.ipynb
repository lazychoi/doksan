{
 "cells": [
  {
   "cell_type": "markdown",
   "id": "6b76dd55",
   "metadata": {},
   "source": [
    "# 범위와 조건이 있는 데이터를 가지는 1차원 배열 생성\n",
    "\n",
    "- np.linspace()\n",
    "- np.arange()\n",
    "- np.logspace()\n",
    "\n",
    "## np.linspace(start, stop, num=50, endpoint=True, retstep=False, dtype=None)\n",
    "\n",
    "- 시작값(start)부터 마지막값(stop) 사이의 범위에서 균등한 간격으로 일정 개수(num)개의 데이터를 가지는 배열 생성\n",
    "- num : 데이터 개수, 기본값 = 50\n",
    "- endpoint : 마지막값에 stop을 포함/제외하는 조건 지정, 기본값 = True(포함)\n",
    "- retstep : True로 전달하면 (배열, 데이터 사이의 간격)의 데이터를 담은 tuple을 반환\n",
    "- dtype : 배열의 데이터 타입을 지정, 기본값 = None"
   ]
  },
  {
   "cell_type": "code",
   "execution_count": 1,
   "id": "17cd133a",
   "metadata": {},
   "outputs": [],
   "source": [
    "import numpy as np\n",
    "\n",
    "def np_print(arr):\n",
    "    text = '''\n",
    "    type : {}\n",
    "    shape : {}\n",
    "    ndim : {}\n",
    "    dtype : {}\n",
    "    array data : \\n {}'''.format(type(arr), arr.shape, arr.ndim, arr.dtype, arr)\n",
    "    print(text)"
   ]
  },
  {
   "cell_type": "code",
   "execution_count": 6,
   "id": "64dcb3e9",
   "metadata": {},
   "outputs": [
    {
     "name": "stdout",
     "output_type": "stream",
     "text": [
      "\n",
      "    type : <class 'numpy.ndarray'>\n",
      "    shape : (5,)\n",
      "    ndim : 1\n",
      "    dtype : float64\n",
      "    array data : \n",
      " [0.   0.25 0.5  0.75 1.  ]\n"
     ]
    }
   ],
   "source": [
    "# 0 이상 1 이하의 범위에서 발생한 숫자 5개를 포함하는 배열\n",
    "arr = np.linspace(0, 1, num=5)\n",
    "np_print(arr)"
   ]
  },
  {
   "cell_type": "code",
   "execution_count": 7,
   "id": "e8422ff4",
   "metadata": {},
   "outputs": [
    {
     "name": "stdout",
     "output_type": "stream",
     "text": [
      "\n",
      "    type : <class 'numpy.ndarray'>\n",
      "    shape : (5,)\n",
      "    ndim : 1\n",
      "    dtype : float64\n",
      "    array data : \n",
      " [0.  0.2 0.4 0.6 0.8]\n"
     ]
    }
   ],
   "source": [
    "# endpoint = False -> endpoint 포함 안 함\n",
    "arr = np.linspace(0, 1, num=5, endpoint=False)\n",
    "np_print(arr)"
   ]
  },
  {
   "cell_type": "code",
   "execution_count": 9,
   "id": "4de88f68",
   "metadata": {},
   "outputs": [
    {
     "name": "stdout",
     "output_type": "stream",
     "text": [
      "(array([0.  , 0.25, 0.5 , 0.75, 1.  ]), 0.25)\n"
     ]
    }
   ],
   "source": [
    "# retstep 설정 -> 반환값 tuple -> (배열객체, 간격값)\n",
    "\n",
    "arr = np.linspace(0, 1, num=5, retstep=True)\n",
    "print(arr)"
   ]
  },
  {
   "cell_type": "markdown",
   "id": "98bec8f6",
   "metadata": {},
   "source": [
    "## np.arange(start=0, stop, step=1,  dtype=None)\n",
    "\n",
    "- 시작값(start)부터 마지막값(stop) 사이의 범위에서 지정한 간격(step)으로 일정 개수(num)개의 데이터를 가지는 배열 생성\n",
    "- 파이썬 내장함수 range()와 유사\n",
    "- start : 시작값, 기본값 = 0\n",
    "- stop : 마지막값으로 범위에 포함되지 않음\n",
    "- step : 데이터 사이의 간격, 기본값 = 1\n",
    "- dtype : 배열의 데이터 타입을 지정, 기본값 = None"
   ]
  },
  {
   "cell_type": "code",
   "execution_count": 10,
   "id": "739fd3c8",
   "metadata": {},
   "outputs": [
    {
     "data": {
      "text/plain": [
       "[0, 1, 2, 3, 4]"
      ]
     },
     "execution_count": 10,
     "metadata": {},
     "output_type": "execute_result"
    }
   ],
   "source": [
    "list(range(5))"
   ]
  },
  {
   "cell_type": "code",
   "execution_count": 11,
   "id": "8eb17cfb",
   "metadata": {},
   "outputs": [
    {
     "name": "stdout",
     "output_type": "stream",
     "text": [
      "\n",
      "    type : <class 'numpy.ndarray'>\n",
      "    shape : (5,)\n",
      "    ndim : 1\n",
      "    dtype : int64\n",
      "    array data : \n",
      " [0 1 2 3 4]\n"
     ]
    }
   ],
   "source": [
    "# 0 이상 5 미만의 범위에서 1씩 증가하는 숫자(정수)를 가지는 배열\n",
    "\n",
    "arr = np.arange(5)\n",
    "np_print(arr)"
   ]
  },
  {
   "cell_type": "code",
   "execution_count": 12,
   "id": "998f641c",
   "metadata": {},
   "outputs": [
    {
     "name": "stdout",
     "output_type": "stream",
     "text": [
      "\n",
      "    type : <class 'numpy.ndarray'>\n",
      "    shape : (10,)\n",
      "    ndim : 1\n",
      "    dtype : float64\n",
      "    array data : \n",
      " [0.  0.5 1.  1.5 2.  2.5 3.  3.5 4.  4.5]\n"
     ]
    }
   ],
   "source": [
    "# 시작, 끝, 간격\n",
    "# 0 이상  5 미만의 범위에서 0.5씩 증가하는 숫자(정수)를 가지는 배열\n",
    "\n",
    "arr = np.arange(0, 5, 0.5)\n",
    "np_print(arr)"
   ]
  },
  {
   "cell_type": "code",
   "execution_count": 13,
   "id": "a17aec71",
   "metadata": {},
   "outputs": [
    {
     "name": "stdout",
     "output_type": "stream",
     "text": [
      "\n",
      "    type : <class 'numpy.ndarray'>\n",
      "    shape : (4,)\n",
      "    ndim : 1\n",
      "    dtype : int64\n",
      "    array data : \n",
      " [1 2 3 4]\n"
     ]
    }
   ],
   "source": [
    "# arange() 메서드로 생성된 배열과 shape(1, 5)인 배열은 동일해 보이지만\n",
    "# shape와 dimension이 다르다\n",
    "\n",
    "arr = np.arange(1, 5)\n",
    "np_print(arr)"
   ]
  },
  {
   "cell_type": "code",
   "execution_count": 14,
   "id": "272959eb",
   "metadata": {},
   "outputs": [
    {
     "name": "stdout",
     "output_type": "stream",
     "text": [
      "\n",
      "    type : <class 'numpy.ndarray'>\n",
      "    shape : (1, 4)\n",
      "    ndim : 2\n",
      "    dtype : int64\n",
      "    array data : \n",
      " [[1 2 3 4]]\n"
     ]
    }
   ],
   "source": [
    "arr = arr.reshape(1,4)\n",
    "np_print(arr)"
   ]
  },
  {
   "cell_type": "markdown",
   "id": "c7350ef0",
   "metadata": {},
   "source": [
    "## np.logspace(start, stop, num=50, endpoint=True, dtype=None)\n",
    "\n",
    "- 시작값(start)부터 마지막값(stop) 사이의 로그 스케일로 지정된 범위에서 균등한 간격으로 일정 개수(num)의 데이터를 가지는 배열 생성\n",
    "- num : 데이터 개수, 기본값 = 50\n",
    "- endpoint : 마지막 값에 stop을 포함/제외하는 조건 지정. 기본값 True(포함)\n",
    "- dtype : 배열의 데이터 타입을 지정. 기본값 None"
   ]
  },
  {
   "cell_type": "code",
   "execution_count": 15,
   "id": "92a4efee",
   "metadata": {},
   "outputs": [
    {
     "name": "stdout",
     "output_type": "stream",
     "text": [
      "\n",
      "    type : <class 'numpy.ndarray'>\n",
      "    shape : (50,)\n",
      "    ndim : 1\n",
      "    dtype : float64\n",
      "    array data : \n",
      " [ 1.          1.04811313  1.09854114  1.1513954   1.20679264  1.26485522\n",
      "  1.32571137  1.38949549  1.45634848  1.52641797  1.59985872  1.67683294\n",
      "  1.75751062  1.84206997  1.93069773  2.02358965  2.12095089  2.22299648\n",
      "  2.32995181  2.44205309  2.55954792  2.6826958   2.8117687   2.9470517\n",
      "  3.0888436   3.23745754  3.39322177  3.55648031  3.72759372  3.90693994\n",
      "  4.09491506  4.29193426  4.49843267  4.71486636  4.94171336  5.17947468\n",
      "  5.42867544  5.68986603  5.96362332  6.25055193  6.55128557  6.86648845\n",
      "  7.19685673  7.54312006  7.90604321  8.28642773  8.68511374  9.10298178\n",
      "  9.54095476 10.        ]\n"
     ]
    }
   ],
   "source": [
    "# 0 이상 1 이하의 범위에서 로그스케일을 적용한 값(50개)을 가지는 배열\n",
    "# 밑 10인 로그 기준으로 만들어짐\n",
    "\n",
    "arr = np.logspace(0, 1)\n",
    "np_print(arr)"
   ]
  },
  {
   "cell_type": "code",
   "execution_count": 16,
   "id": "f686099b",
   "metadata": {},
   "outputs": [
    {
     "name": "stdout",
     "output_type": "stream",
     "text": [
      "\n",
      "    type : <class 'numpy.ndarray'>\n",
      "    shape : (4,)\n",
      "    ndim : 1\n",
      "    dtype : float64\n",
      "    array data : \n",
      " [   1.   10.  100. 1000.]\n"
     ]
    }
   ],
   "source": [
    "arr = np.logspace(0, 3, 4)\n",
    "np_print(arr)"
   ]
  },
  {
   "cell_type": "code",
   "execution_count": 17,
   "id": "3c545174",
   "metadata": {},
   "outputs": [
    {
     "name": "stdout",
     "output_type": "stream",
     "text": [
      "\n",
      "    type : <class 'numpy.ndarray'>\n",
      "    shape : (40,)\n",
      "    ndim : 1\n",
      "    dtype : float64\n",
      "    array data : \n",
      " [1.00000000e+00 1.80472177e+00 3.25702066e+00 5.87801607e+00\n",
      " 1.06081836e+01 1.91448198e+01 3.45510729e+01 6.23550734e+01\n",
      " 1.12533558e+02 2.03091762e+02 3.66524124e+02 6.61474064e+02\n",
      " 1.19377664e+03 2.15443469e+03 3.88815518e+03 7.01703829e+03\n",
      " 1.26638017e+04 2.28546386e+04 4.12462638e+04 7.44380301e+04\n",
      " 1.34339933e+05 2.42446202e+05 4.37547938e+05 7.89652287e+05\n",
      " 1.42510267e+06 2.57191381e+06 4.64158883e+06 8.37677640e+06\n",
      " 1.51177507e+07 2.72833338e+07 4.92388263e+07 8.88623816e+07\n",
      " 1.60371874e+08 2.89426612e+08 5.22334507e+08 9.42668455e+08\n",
      " 1.70125428e+09 3.07029063e+09 5.54102033e+09 1.00000000e+10]\n"
     ]
    }
   ],
   "source": [
    "# 시작, 끝, 개수 40개로 만들기\n",
    "arr = np.logspace(0, 10, 40)\n",
    "np_print(arr)"
   ]
  },
  {
   "cell_type": "code",
   "execution_count": 18,
   "id": "38c08f13",
   "metadata": {},
   "outputs": [
    {
     "name": "stdout",
     "output_type": "stream",
     "text": [
      "\n",
      "    type : <class 'numpy.ndarray'>\n",
      "    shape : (40,)\n",
      "    ndim : 1\n",
      "    dtype : float64\n",
      "    array data : \n",
      " [1.         1.05925373 1.12201845 1.18850223 1.25892541 1.33352143\n",
      " 1.41253754 1.49623566 1.58489319 1.67880402 1.77827941 1.88364909\n",
      " 1.99526231 2.11348904 2.23872114 2.37137371 2.51188643 2.66072506\n",
      " 2.81838293 2.98538262 3.16227766 3.34965439 3.54813389 3.75837404\n",
      " 3.98107171 4.21696503 4.46683592 4.73151259 5.01187234 5.30884444\n",
      " 5.62341325 5.95662144 6.30957344 6.68343918 7.07945784 7.49894209\n",
      " 7.94328235 8.41395142 8.91250938 9.44060876]\n"
     ]
    }
   ],
   "source": [
    "# endpoint 설정\n",
    "\n",
    "arr = np.logspace(0, 1, 40, endpoint = False)\n",
    "np_print(arr)"
   ]
  }
 ],
 "metadata": {
  "kernelspec": {
   "display_name": "Python 3 (ipykernel)",
   "language": "python",
   "name": "python3"
  },
  "language_info": {
   "codemirror_mode": {
    "name": "ipython",
    "version": 3
   },
   "file_extension": ".py",
   "mimetype": "text/x-python",
   "name": "python",
   "nbconvert_exporter": "python",
   "pygments_lexer": "ipython3",
   "version": "3.9.12"
  }
 },
 "nbformat": 4,
 "nbformat_minor": 5
}
