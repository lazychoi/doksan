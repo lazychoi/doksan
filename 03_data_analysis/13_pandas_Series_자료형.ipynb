{
 "cells": [
  {
   "cell_type": "markdown",
   "id": "ad17bde4",
   "metadata": {},
   "source": [
    "# Series 자료형\n",
    "\n",
    "dictionary와 유사"
   ]
  },
  {
   "cell_type": "code",
   "execution_count": 1,
   "id": "d042cac0",
   "metadata": {},
   "outputs": [],
   "source": [
    "import pandas as pd"
   ]
  },
  {
   "cell_type": "code",
   "execution_count": 2,
   "id": "72cb3d2e",
   "metadata": {},
   "outputs": [
    {
     "name": "stdout",
     "output_type": "stream",
     "text": [
      "{'서울': 100, '경기': 200, '강원': 300, '부산': 400}\n",
      "서울    100\n",
      "경기    200\n",
      "강원    300\n",
      "부산    400\n",
      "dtype: int64\n"
     ]
    }
   ],
   "source": [
    "# dictionary 자료형으로 Series 생성\n",
    "\n",
    "data = {'서울':100, '경기':200, '강원':300, '부산':400}\n",
    "sample = pd.Series(data)\n",
    "print(data)\n",
    "print(sample)"
   ]
  },
  {
   "cell_type": "code",
   "execution_count": 3,
   "id": "100465a9",
   "metadata": {},
   "outputs": [
    {
     "name": "stdout",
     "output_type": "stream",
     "text": [
      "True\n",
      "True\n"
     ]
    }
   ],
   "source": [
    "# Series 객체와 in 연산자\n",
    "# in 연산자를 사용해 내부 요소 존재 유무 검사\n",
    "# key에 해당하는 라벨을 이용해 해당 요소가 존재 유무를 True, False로 출력\n",
    "print('서울' in data)\n",
    "print('서울' in sample)"
   ]
  },
  {
   "cell_type": "code",
   "execution_count": 6,
   "id": "6df6b8e1",
   "metadata": {},
   "outputs": [
    {
     "name": "stdout",
     "output_type": "stream",
     "text": [
      "서울\n",
      "경기\n",
      "강원\n",
      "부산\n",
      "------------\n",
      "서울\n",
      "경기\n",
      "강원\n",
      "부산\n",
      "------------\n",
      "100\n",
      "200\n",
      "300\n",
      "400\n",
      "------------\n",
      "100\n",
      "200\n",
      "300\n",
      "400\n"
     ]
    }
   ],
   "source": [
    "# for 문에서 in 연산자로 접근 : Series의 value 참조\n",
    "for key in data:\n",
    "    print(key)\n",
    "print('------------')\n",
    "for index in sample.index:\n",
    "    print(index)\n",
    "print('------------')\n",
    "for value in sample.values:  # sample만 입력해도 같은 결과\n",
    "    print(value)\n",
    "print('------------')\n",
    "for value in sample:  # sample만 입력해도 같은 결과\n",
    "    print(value)"
   ]
  },
  {
   "cell_type": "code",
   "execution_count": 7,
   "id": "12c9bda7",
   "metadata": {},
   "outputs": [
    {
     "data": {
      "text/plain": [
       "서울    100.0\n",
       "경기    200.0\n",
       "강원    300.0\n",
       "제주      NaN\n",
       "dtype: float64"
      ]
     },
     "execution_count": 7,
     "metadata": {},
     "output_type": "execute_result"
    }
   ],
   "source": [
    "# 서울, 경기, 강원, 부산 => 서울, 경기, 강원, 제주로 인덱스 변경\n",
    "# 지정한 index 기준으로 Series 생성\n",
    "# 사용된 index에 값이 없을 때는 NaN 저장\n",
    "# NaN: Not a Number -> numpy 에서 해당 위치가 비었음을 의미하는 자료(null)\n",
    "# None : 파이썬 기본 자료형에서 값이 없음을 의미\n",
    "\n",
    "index2 = ['서울', '경기', '강원', '제주']\n",
    "sample2 = pd.Series(data, index=index2)\n",
    "sample2"
   ]
  }
 ],
 "metadata": {
  "kernelspec": {
   "display_name": "Python 3 (ipykernel)",
   "language": "python",
   "name": "python3"
  },
  "language_info": {
   "codemirror_mode": {
    "name": "ipython",
    "version": 3
   },
   "file_extension": ".py",
   "mimetype": "text/x-python",
   "name": "python",
   "nbconvert_exporter": "python",
   "pygments_lexer": "ipython3",
   "version": "3.9.12"
  }
 },
 "nbformat": 4,
 "nbformat_minor": 5
}
