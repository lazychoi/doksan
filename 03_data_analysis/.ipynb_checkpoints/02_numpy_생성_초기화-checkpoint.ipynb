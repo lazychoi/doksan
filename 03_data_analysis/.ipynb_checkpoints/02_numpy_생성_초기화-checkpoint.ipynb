{
 "cells": [
  {
   "cell_type": "markdown",
   "id": "b05ba2a1",
   "metadata": {},
   "source": [
    "# 생성 및 초기화\n",
    "\n",
    "- np.zeros()\n",
    "- np.ones()\n",
    "- np.full()\n",
    "- np.eye()\n",
    "- np.empty()"
   ]
  },
  {
   "cell_type": "markdown",
   "id": "63412164",
   "metadata": {},
   "source": [
    "## np.zeros(shape, dtype=float)\n",
    "\n",
    "- 지정된 구조의 배열을 생성하고 모든 요소를 0으로 초기화\n",
    "- shape: tuple 형태로 행, 열 지정\n",
    "- dtype: 데이터 타입 지정. 기본값은 numpy.float64"
   ]
  },
  {
   "cell_type": "code",
   "execution_count": 4,
   "id": "6eb915e2",
   "metadata": {},
   "outputs": [],
   "source": [
    "import numpy as np\n",
    "\n",
    "def np_print(arr):\n",
    "    text = '''\n",
    "    type : {}\n",
    "    shape : {}\n",
    "    ndim : {}\n",
    "    dtype : {}\n",
    "    array data : \\n {}'''.format(type(arr), arr.shape, arr.ndim, arr.dtype, arr)\n",
    "    print(text)"
   ]
  },
  {
   "cell_type": "code",
   "execution_count": 5,
   "id": "e253f177",
   "metadata": {},
   "outputs": [
    {
     "name": "stdout",
     "output_type": "stream",
     "text": [
      "\n",
      "    type : <class 'numpy.ndarray'>\n",
      "    shape : (3, 4)\n",
      "    ndim : 2\n",
      "    dtype : float64\n",
      "    array data : \n",
      " [[0. 0. 0. 0.]\n",
      " [0. 0. 0. 0.]\n",
      " [0. 0. 0. 0.]]\n"
     ]
    }
   ],
   "source": [
    "# 3행 4열 구조 안에 모든 값이 0으로 채워짐\n",
    "# 구조는 튜플에 묶어 넘김\n",
    "arr = np.zeros((3,4))\n",
    "np_print(arr)"
   ]
  },
  {
   "cell_type": "code",
   "execution_count": 6,
   "id": "521c6f49",
   "metadata": {},
   "outputs": [
    {
     "name": "stdout",
     "output_type": "stream",
     "text": [
      "\n",
      "    type : <class 'numpy.ndarray'>\n",
      "    shape : (3, 4)\n",
      "    ndim : 2\n",
      "    dtype : int64\n",
      "    array data : \n",
      " [[0 0 0 0]\n",
      " [0 0 0 0]\n",
      " [0 0 0 0]]\n"
     ]
    }
   ],
   "source": [
    "# dtype만 int로 바꿔서 생성\n",
    "arr = np.zeros((3,4), dtype=int)\n",
    "np_print(arr)"
   ]
  },
  {
   "cell_type": "markdown",
   "id": "707138ea",
   "metadata": {},
   "source": [
    "## np.ones(shape, dtype=float)\n",
    "\n",
    "- 지정한 구조로 배열을 생성하고 모든 요소를 1로 초기화\n",
    "- shape: tuple 형태로 행, 열 지정\n",
    "- dtype: 데이터 타입 지정. 기본값은 numpy.float64"
   ]
  },
  {
   "cell_type": "code",
   "execution_count": 7,
   "id": "0a2677b3",
   "metadata": {},
   "outputs": [
    {
     "data": {
      "text/plain": [
       "array([[1., 1., 1., 1.],\n",
       "       [1., 1., 1., 1.],\n",
       "       [1., 1., 1., 1.]])"
      ]
     },
     "execution_count": 7,
     "metadata": {},
     "output_type": "execute_result"
    }
   ],
   "source": [
    "# 3행 4열 구조. 초기값은 모두 1\n",
    "arr = np.ones((3, 4))\n",
    "arr"
   ]
  },
  {
   "cell_type": "markdown",
   "id": "dbe02d26",
   "metadata": {},
   "source": [
    "## np.full(shape, fill_value, dtype)\n",
    "\n",
    "- 지정한 구조로 배열을 생성하고 모든 요소를 fill_value로 초기화\n",
    "- shape: tuple 형태로 행, 열 지정\n",
    "- dtype: 데이터 타입 지정. 기본값은 들어오는 데이터의 자료형"
   ]
  },
  {
   "cell_type": "code",
   "execution_count": 8,
   "id": "98043822",
   "metadata": {},
   "outputs": [
    {
     "name": "stdout",
     "output_type": "stream",
     "text": [
      "\n",
      "    type : <class 'numpy.ndarray'>\n",
      "    shape : (3, 4)\n",
      "    ndim : 2\n",
      "    dtype : int64\n",
      "    array data : \n",
      " [[5 5 5 5]\n",
      " [5 5 5 5]\n",
      " [5 5 5 5]]\n"
     ]
    }
   ],
   "source": [
    "# 3행 4열 구조 안에서 초기값을 5로 가지는 배열\n",
    "\n",
    "arr = np.full((3, 4), 5)\n",
    "np_print(arr)"
   ]
  },
  {
   "cell_type": "markdown",
   "id": "2e3c6bfb",
   "metadata": {},
   "source": [
    "# np.eye(n, M=None, dtype=float)\n",
    "\n",
    "- (N, M) 구조로 단위 행렬을 생성\n",
    "- M: 열 개수를 지정, 기본값 = N\n",
    "- dtype: 데이터 타입 지정. 기본값 = numpy.float64"
   ]
  },
  {
   "cell_type": "code",
   "execution_count": 9,
   "id": "25b3582c",
   "metadata": {},
   "outputs": [
    {
     "name": "stdout",
     "output_type": "stream",
     "text": [
      "\n",
      "    type : <class 'numpy.ndarray'>\n",
      "    shape : (3, 3)\n",
      "    ndim : 2\n",
      "    dtype : float64\n",
      "    array data : \n",
      " [[1. 0. 0.]\n",
      " [0. 1. 0.]\n",
      " [0. 0. 1.]]\n"
     ]
    }
   ],
   "source": [
    "# 3행 3열의 단위행렬\n",
    "arr = np.eye(3)\n",
    "np_print(arr)"
   ]
  },
  {
   "cell_type": "code",
   "execution_count": 10,
   "id": "898b89f3",
   "metadata": {},
   "outputs": [
    {
     "name": "stdout",
     "output_type": "stream",
     "text": [
      "\n",
      "    type : <class 'numpy.ndarray'>\n",
      "    shape : (5, 3)\n",
      "    ndim : 2\n",
      "    dtype : float64\n",
      "    array data : \n",
      " [[1. 0. 0.]\n",
      " [0. 1. 0.]\n",
      " [0. 0. 1.]\n",
      " [0. 0. 0.]\n",
      " [0. 0. 0.]]\n"
     ]
    }
   ],
   "source": [
    "# row 5, column 3 인 단위행렬 .eye()로 만들기\n",
    "\n",
    "arr = np.eye(5,3)\n",
    "np_print(arr)"
   ]
  },
  {
   "cell_type": "markdown",
   "id": "885f7bce",
   "metadata": {},
   "source": [
    "## np.empty(shape, dtype=float)\n",
    "\n",
    "- 직전 메모리에 저장된 값을 사용\n",
    "- 배열을 생성하는 데 가장 빠르고 효율적인 방법\n",
    "- shape: tuple type으로 행, 열 구조 지정\n",
    "- dtype: 데이터 타입 지정. 기본값 numpy.float64"
   ]
  },
  {
   "cell_type": "code",
   "execution_count": 11,
   "id": "0338825b",
   "metadata": {},
   "outputs": [
    {
     "name": "stdout",
     "output_type": "stream",
     "text": [
      "\n",
      "    type : <class 'numpy.ndarray'>\n",
      "    shape : (7, 2)\n",
      "    ndim : 2\n",
      "    dtype : float64\n",
      "    array data : \n",
      " [[4.64250099e-310 0.00000000e+000]\n",
      " [0.00000000e+000 0.00000000e+000]\n",
      " [0.00000000e+000 0.00000000e+000]\n",
      " [0.00000000e+000 0.00000000e+000]\n",
      " [0.00000000e+000 0.00000000e+000]\n",
      " [0.00000000e+000 0.00000000e+000]\n",
      " [0.00000000e+000 0.00000000e+000]]\n"
     ]
    }
   ],
   "source": [
    "# 직전의 메모리 저장값을 사용하기 위해 직전에 만들었던 것과 동일한 shape 배열 생성\n",
    "# 7 * 2\n",
    "arr = np.empty((7,2))\n",
    "np_print(arr)"
   ]
  },
  {
   "cell_type": "code",
   "execution_count": 12,
   "id": "9de60529",
   "metadata": {
    "scrolled": true
   },
   "outputs": [
    {
     "name": "stdout",
     "output_type": "stream",
     "text": [
      "\n",
      "    type : <class 'numpy.ndarray'>\n",
      "    shape : (3, 4)\n",
      "    ndim : 2\n",
      "    dtype : float64\n",
      "    array data : \n",
      " [[0. 0. 0. 0.]\n",
      " [0. 0. 0. 0.]\n",
      " [0. 0. 0. 0.]]\n"
     ]
    }
   ],
   "source": [
    "# 3 * 4 구조로 다시 만들자\n",
    "\n",
    "arr = np.empty((3,4))\n",
    "np_print(arr)"
   ]
  },
  {
   "cell_type": "markdown",
   "id": "9222991e",
   "metadata": {},
   "source": [
    "# like 함수\n",
    "\n",
    "- 전달받은 배열과 동일한 shape로 초기값을 설정하여 새로운 배열 생성\n",
    "- np.zeros_like(): 초기값 0인 배열 생성\n",
    "- np.ones_like(): 초기값 1인 배열 생성\n",
    "- np.full_like(): 초기값 fill_value인 배열 생성"
   ]
  },
  {
   "cell_type": "code",
   "execution_count": 13,
   "id": "4125fa7f",
   "metadata": {},
   "outputs": [
    {
     "name": "stdout",
     "output_type": "stream",
     "text": [
      "\n",
      "    type : <class 'numpy.ndarray'>\n",
      "    shape : (2, 3)\n",
      "    ndim : 2\n",
      "    dtype : int64\n",
      "    array data : \n",
      " [[1 2 3]\n",
      " [4 5 6]]\n",
      "\n",
      "    type : <class 'numpy.ndarray'>\n",
      "    shape : (2, 3)\n",
      "    ndim : 2\n",
      "    dtype : int64\n",
      "    array data : \n",
      " [[1 1 1]\n",
      " [1 1 1]]\n"
     ]
    }
   ],
   "source": [
    "# ones_like()\n",
    "# 2행 3열 구조에서 1~6으로 구성된 배열\n",
    "\n",
    "data = [[1,2,3],\n",
    "        [4,5,6]]\n",
    "arr = np.array(data)\n",
    "np_print(arr)\n",
    "arr1 = np.ones_like(arr)\n",
    "np_print(arr1)"
   ]
  }
 ],
 "metadata": {
  "kernelspec": {
   "display_name": "Python 3 (ipykernel)",
   "language": "python",
   "name": "python3"
  },
  "language_info": {
   "codemirror_mode": {
    "name": "ipython",
    "version": 3
   },
   "file_extension": ".py",
   "mimetype": "text/x-python",
   "name": "python",
   "nbconvert_exporter": "python",
   "pygments_lexer": "ipython3",
   "version": "3.9.12"
  }
 },
 "nbformat": 4,
 "nbformat_minor": 5
}
