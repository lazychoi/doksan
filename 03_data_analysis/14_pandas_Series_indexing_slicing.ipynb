{
 "cells": [
  {
   "cell_type": "markdown",
   "id": "48eb64a3",
   "metadata": {},
   "source": [
    "# 인덱싱\n",
    "\n",
    "- 하나의 특정 값은 선택하거나 변경\n",
    "- 참조하는 인덱스: 기본 숫자 인덱스, 라벨 인덱스\n",
    "- 새로운 인덱스를 설정해도 기본 숫자 인덱스 사용 가능"
   ]
  },
  {
   "cell_type": "code",
   "execution_count": 2,
   "id": "ecda7a0f",
   "metadata": {},
   "outputs": [],
   "source": [
    "import pandas as pd"
   ]
  },
  {
   "cell_type": "code",
   "execution_count": 3,
   "id": "852dac6c",
   "metadata": {},
   "outputs": [
    {
     "data": {
      "text/plain": [
       "a    10\n",
       "b    20\n",
       "c    30\n",
       "dtype: int64"
      ]
     },
     "execution_count": 3,
     "metadata": {},
     "output_type": "execute_result"
    }
   ],
   "source": [
    "data = {'a':10, 'b':20, 'c':30}\n",
    "s1 = pd.Series(data)\n",
    "s1"
   ]
  },
  {
   "cell_type": "code",
   "execution_count": 7,
   "id": "9ef084d5",
   "metadata": {},
   "outputs": [
    {
     "data": {
      "text/plain": [
       "c    30\n",
       "a    10\n",
       "dtype: int64"
      ]
     },
     "execution_count": 7,
     "metadata": {},
     "output_type": "execute_result"
    }
   ],
   "source": [
    "# 이중 리스트로 조회해야 함 => s1['c','a'] 오류\n",
    "# 튜플로 조회할 수 없음 => s1[('c','a')]\n",
    "\n",
    "s1[['c','a']]"
   ]
  },
  {
   "cell_type": "markdown",
   "id": "cf28b79c",
   "metadata": {},
   "source": [
    "## 슬라이싱(Slicing)\n",
    "\n",
    "- Series객체[시작인덱스 : 끝인덱스 : 간격]\n",
    "- 특정 범위의 값을 선택하거나 변경\n",
    "- 기본 숫자 인덱스 또는 새로운 인덱스 모두 사용 가능\n",
    "- 기본 숫자 인덱스를 사용해서 슬라이싱 할 때는 끝 인덱스 미포함\n",
    "- 라벨 인덱스를 사용해서 슬라이싱 할 때 끝 인덱스까지 모두 포함"
   ]
  },
  {
   "cell_type": "code",
   "execution_count": 10,
   "id": "6e0ba150",
   "metadata": {},
   "outputs": [
    {
     "data": {
      "text/plain": [
       "a    10\n",
       "b    20\n",
       "c    30\n",
       "d    40\n",
       "e    50\n",
       "dtype: int64"
      ]
     },
     "execution_count": 10,
     "metadata": {},
     "output_type": "execute_result"
    }
   ],
   "source": [
    "s1  = pd.Series([10,20,30,40,50], index=list('abcde'))\n",
    "s1"
   ]
  },
  {
   "cell_type": "code",
   "execution_count": 12,
   "id": "03022379",
   "metadata": {},
   "outputs": [
    {
     "data": {
      "text/plain": [
       "a    10\n",
       "b    20\n",
       "dtype: int64"
      ]
     },
     "execution_count": 12,
     "metadata": {},
     "output_type": "execute_result"
    }
   ],
   "source": [
    "# RangeIndex: 0, 1\n",
    "s1[0:2]"
   ]
  },
  {
   "cell_type": "code",
   "execution_count": 13,
   "id": "a300253a",
   "metadata": {},
   "outputs": [
    {
     "data": {
      "text/plain": [
       "a    10\n",
       "b    20\n",
       "c    30\n",
       "dtype: int64"
      ]
     },
     "execution_count": 13,
     "metadata": {},
     "output_type": "execute_result"
    }
   ],
   "source": [
    "# 라벨 인덱스는 뒷쪽 인수가 포함\n",
    "s1['a':'c']"
   ]
  },
  {
   "cell_type": "code",
   "execution_count": 15,
   "id": "585cfb93",
   "metadata": {},
   "outputs": [
    {
     "data": {
      "text/plain": [
       "a    10\n",
       "c    30\n",
       "dtype: int64"
      ]
     },
     "execution_count": 15,
     "metadata": {},
     "output_type": "execute_result"
    }
   ],
   "source": [
    "# 0 ~ 3 범위를 2개 간격으로 인덱싱\n",
    "s1[0:4:2]"
   ]
  },
  {
   "cell_type": "code",
   "execution_count": 17,
   "id": "5a698b10",
   "metadata": {},
   "outputs": [
    {
     "data": {
      "text/plain": [
       "b    20\n",
       "d    40\n",
       "dtype: int64"
      ]
     },
     "execution_count": 17,
     "metadata": {},
     "output_type": "execute_result"
    }
   ],
   "source": [
    "# index 'b' ~ 'd' 2개 간격으로\n",
    "s1['b':'d':2]"
   ]
  },
  {
   "cell_type": "markdown",
   "id": "974b2a63",
   "metadata": {},
   "source": [
    "## 조건 색인(Boolean Indexing)\n",
    "\n",
    "- 객체에 벡터와 스칼라 연산을 적용하여 True인 데이터만 반환\n",
    "\n",
    "<img src=\"img/conditional_index.png\" width=\"700\" align=\"center\">"
   ]
  },
  {
   "cell_type": "code",
   "execution_count": 18,
   "id": "f5e79670",
   "metadata": {},
   "outputs": [
    {
     "data": {
      "text/plain": [
       "0     10\n",
       "1     -3\n",
       "2     14\n",
       "3     70\n",
       "4    -44\n",
       "5    -18\n",
       "6     -5\n",
       "7      1\n",
       "8     -2\n",
       "9     12\n",
       "10     5\n",
       "dtype: int64"
      ]
     },
     "execution_count": 18,
     "metadata": {},
     "output_type": "execute_result"
    }
   ],
   "source": [
    "# 양수와 음수 데이터를 저장하고 있는 Series 생성\n",
    "s2 = pd.Series([10, -3, 14, 70, -44, -18, -5, 1, -2, 12, 5])\n",
    "s2"
   ]
  },
  {
   "cell_type": "code",
   "execution_count": 19,
   "id": "5ba8b06f",
   "metadata": {},
   "outputs": [
    {
     "data": {
      "text/plain": [
       "0     False\n",
       "1      True\n",
       "2     False\n",
       "3     False\n",
       "4      True\n",
       "5      True\n",
       "6      True\n",
       "7     False\n",
       "8      True\n",
       "9     False\n",
       "10    False\n",
       "dtype: bool"
      ]
     },
     "execution_count": 19,
     "metadata": {},
     "output_type": "execute_result"
    }
   ],
   "source": [
    "s2 < 0"
   ]
  },
  {
   "cell_type": "code",
   "execution_count": 20,
   "id": "5bc4bfaa",
   "metadata": {},
   "outputs": [
    {
     "data": {
      "text/plain": [
       "1    -3\n",
       "4   -44\n",
       "5   -18\n",
       "6    -5\n",
       "8    -2\n",
       "dtype: int64"
      ]
     },
     "execution_count": 20,
     "metadata": {},
     "output_type": "execute_result"
    }
   ],
   "source": [
    "s2[s2<0]"
   ]
  },
  {
   "cell_type": "code",
   "execution_count": 23,
   "id": "ee8a2c49",
   "metadata": {},
   "outputs": [
    {
     "data": {
      "text/plain": [
       "7     1\n",
       "10    5\n",
       "dtype: int64"
      ]
     },
     "execution_count": 23,
     "metadata": {},
     "output_type": "execute_result"
    }
   ],
   "source": [
    "# 양수이면서 10보다 작은 값 출력하는 조건식\n",
    "\n",
    "s2[(s2 > 0) & (s2 < 10)]"
   ]
  }
 ],
 "metadata": {
  "kernelspec": {
   "display_name": "Python 3 (ipykernel)",
   "language": "python",
   "name": "python3"
  },
  "language_info": {
   "codemirror_mode": {
    "name": "ipython",
    "version": 3
   },
   "file_extension": ".py",
   "mimetype": "text/x-python",
   "name": "python",
   "nbconvert_exporter": "python",
   "pygments_lexer": "ipython3",
   "version": "3.9.12"
  }
 },
 "nbformat": 4,
 "nbformat_minor": 5
}
