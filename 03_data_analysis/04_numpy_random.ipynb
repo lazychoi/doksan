{
 "cells": [
  {
   "cell_type": "markdown",
   "id": "30252eb3",
   "metadata": {},
   "source": [
    "## 난수(특정한 순서나 규칙을 가지지 않는 무작위의 수)를 데이터로 가지는 배열을 생성\n",
    "\n",
    "- np.random.normal()\n",
    "- np.random.rand()\n",
    "- np.random.randn()\n",
    "- np.random.randint()\n",
    "- np.random.random()\n",
    "\n",
    "### np.random.normal(loc=0.0, scale=1.0, size=None)\n",
    "\n",
    "- 정규 분포 확률 밀도에서 표본을 추출하여 데이터로 가지는 배열을 생성\n",
    "- loc : 정규분포의 평균, 기본값 = 0.0\n",
    "- scale : 정규분포의 표준편차, 기본값 = 1.0\n",
    "- size : (행,열,차원)의 배열 구조, 기본값 = single value(배열이 아닌 하나의 값을 반환)"
   ]
  },
  {
   "cell_type": "code",
   "execution_count": 2,
   "id": "cc6c5e6e",
   "metadata": {},
   "outputs": [
    {
     "data": {
      "text/plain": [
       "2.1233064800566495"
      ]
     },
     "execution_count": 2,
     "metadata": {},
     "output_type": "execute_result"
    }
   ],
   "source": [
    "import numpy as np\n",
    "\n",
    "import numpy as np\n",
    "\n",
    "def np_print(arr):\n",
    "    text = '''\n",
    "    type : {}\n",
    "    shape : {}\n",
    "    ndim : {}\n",
    "    dtype : {}\n",
    "    array data : \\n {}'''.format(type(arr), arr.shape, arr.ndim, arr.dtype, arr)\n",
    "    print(text)\n",
    "    \n",
    "# 평균 0, 표준편차 1인 난수 뽑기\n",
    "v = np.random.normal(0, 1) \n",
    "v"
   ]
  },
  {
   "cell_type": "code",
   "execution_count": 3,
   "id": "5b5e82ea",
   "metadata": {},
   "outputs": [
    {
     "name": "stdout",
     "output_type": "stream",
     "text": [
      "\n",
      "    type : <class 'numpy.ndarray'>\n",
      "    shape : (2, 3)\n",
      "    ndim : 2\n",
      "    dtype : float64\n",
      "    array data : \n",
      " [[ 0.74507517 -0.25349875  0.52773281]\n",
      " [-0.43706142 -0.18633668 -1.07534048]]\n"
     ]
    }
   ],
   "source": [
    "# size 설정 : 2행, 3열의 구조 설정\n",
    "arr = np.random.normal(0, 1, size = (2, 3))\n",
    "np_print(arr)"
   ]
  },
  {
   "cell_type": "code",
   "execution_count": 7,
   "id": "f8705f2f",
   "metadata": {},
   "outputs": [
    {
     "name": "stdout",
     "output_type": "stream",
     "text": [
      "\n",
      "    type : <class 'numpy.ndarray'>\n",
      "    shape : (10000,)\n",
      "    ndim : 1\n",
      "    dtype : float64\n",
      "    array data : \n",
      " [10.12785729  6.84127612 12.18244975 ... 11.83519461  8.67141645\n",
      " 12.63458642]\n"
     ]
    }
   ],
   "source": [
    "# 정규분포 데이터로 이루어진 배열에 대한 시각화\n",
    "# 평균 10, 표준편차 2인 정규분포에서 추출한 10000개의 데이터\n",
    "\n",
    "data = np.random.normal(10, 2, 10000)\n",
    "np_print(data)"
   ]
  },
  {
   "cell_type": "code",
   "execution_count": 8,
   "id": "a9d65940",
   "metadata": {},
   "outputs": [
    {
     "data": {
      "image/png": "[encoded data removed]",
      "text/plain": [
       "<Figure size 432x288 with 1 Axes>"
      ]
     },
     "metadata": {
      "needs_background": "light"
     },
     "output_type": "display_data"
    }
   ],
   "source": [
    "# 100개 구간으로 구분한 분포\n",
    "import matplotlib.pyplot as plt\n",
    "\n",
    "plt.hist(data, bins=100) # bins 구간의 개수 -> bins가 거치면 막대폭이 작아짐\n",
    "plt.show()"
   ]
  },
  {
   "cell_type": "markdown",
   "id": "dbc097b5",
   "metadata": {},
   "source": [
    "## np.random.rand(d0, d1, ...., dn)\n",
    "\n",
    "- 지정한 shape(d0, d1, ...)에 따라 배열을 생성한 후 난수로 초기화\n",
    "- 사용되는 난수는 0 이상 1 미만의 범위에서 균등 분포로 추출"
   ]
  },
  {
   "cell_type": "code",
   "execution_count": 9,
   "id": "47cc3b6d",
   "metadata": {},
   "outputs": [
    {
     "name": "stdout",
     "output_type": "stream",
     "text": [
      "\n",
      "    type : <class 'numpy.ndarray'>\n",
      "    shape : (2, 3)\n",
      "    ndim : 2\n",
      "    dtype : float64\n",
      "    array data : \n",
      " [[0.95650737 0.82403439 0.87431521]\n",
      " [0.57151153 0.27100413 0.36716292]]\n"
     ]
    }
   ],
   "source": [
    "# 2행 3열 구조\n",
    "arr = np.random.rand(2, 3)\n",
    "np_print(arr)"
   ]
  },
  {
   "cell_type": "code",
   "execution_count": 10,
   "id": "4624fbae",
   "metadata": {},
   "outputs": [
    {
     "name": "stdout",
     "output_type": "stream",
     "text": [
      "\n",
      "    type : <class 'numpy.ndarray'>\n",
      "    shape : (10000,)\n",
      "    ndim : 1\n",
      "    dtype : float64\n",
      "    array data : \n",
      " [0.37822872 0.40542998 0.34770083 ... 0.85013021 0.53510378 0.13550085]\n"
     ]
    }
   ],
   "source": [
    "# 균등분포 데이터로 이루어진 배열 시각화\n",
    "# 10000개 데이터로 이루어진 배열을 10개 구간으로 구분한 분포\n",
    "\n",
    "arr = np.random.rand(10000)\n",
    "np_print(arr)"
   ]
  },
  {
   "cell_type": "code",
   "execution_count": 11,
   "id": "59129683",
   "metadata": {},
   "outputs": [
    {
     "data": {
      "text/plain": [
       "(array([ 990.,  968.,  997., 1076.,  988., 1074.,  976.,  941.,  991.,\n",
       "         999.]),\n",
       " array([9.75748848e-05, 1.00085738e-01, 2.00073902e-01, 3.00062065e-01,\n",
       "        4.00050229e-01, 5.00038392e-01, 6.00026555e-01, 7.00014719e-01,\n",
       "        8.00002882e-01, 8.99991046e-01, 9.99979209e-01]),\n",
       " <BarContainer object of 10 artists>)"
      ]
     },
     "execution_count": 11,
     "metadata": {},
     "output_type": "execute_result"
    },
    {
     "data": {
      "image/png": "[encoded data removed]",
      "text/plain": [
       "<Figure size 432x288 with 1 Axes>"
      ]
     },
     "metadata": {
      "needs_background": "light"
     },
     "output_type": "display_data"
    }
   ],
   "source": [
    "plt.hist(arr, bins=10)"
   ]
  },
  {
   "cell_type": "code",
   "execution_count": 13,
   "id": "910fafd2",
   "metadata": {},
   "outputs": [
    {
     "data": {
      "text/plain": [
       "(array([ 990.,  968.,  997., 1076.,  988., 1074.,  976.,  941.,  991.,\n",
       "         999.]),\n",
       " array([1.00087817, 1.90077164, 2.80066512, 3.70055859, 4.60045206,\n",
       "        5.50034553, 6.400239  , 7.30013247, 8.20002594, 9.09991941,\n",
       "        9.99981288]),\n",
       " <BarContainer object of 10 artists>)"
      ]
     },
     "execution_count": 13,
     "metadata": {},
     "output_type": "execute_result"
    },
    {
     "data": {
      "image/png": "[encoded data removed]",
      "text/plain": [
       "<Figure size 432x288 with 1 Axes>"
      ]
     },
     "metadata": {
      "needs_background": "light"
     },
     "output_type": "display_data"
    }
   ],
   "source": [
    "# 1 ~ 10 사이로 변환\n",
    "plt.hist(arr * 9 + 1, bins=10)"
   ]
  },
  {
   "cell_type": "code",
   "execution_count": 14,
   "id": "7ba77f30",
   "metadata": {},
   "outputs": [
    {
     "data": {
      "text/plain": [
       "array([10, 20, 30, 40])"
      ]
     },
     "execution_count": 14,
     "metadata": {},
     "output_type": "execute_result"
    }
   ],
   "source": [
    "# 넘파이 배열은 곱했을 때 반복해서 연장하지 않고\n",
    "# 내부 데이터 하나하나에 곱해준다.\n",
    "np.array([1,2,3,4]) * 10"
   ]
  },
  {
   "cell_type": "markdown",
   "id": "51bdbe47",
   "metadata": {},
   "source": [
    "## np.random.randn(d0, d1, ...., dn)\n",
    "\n",
    "- 지정한 shape(d0, d1, ...)에 따라 배열을 생성한 후 난수로 초기화\n",
    "- 사용되는 난수는 표준정규분포에서 추출"
   ]
  },
  {
   "cell_type": "code",
   "execution_count": 15,
   "id": "2bb3c9a7",
   "metadata": {},
   "outputs": [
    {
     "name": "stdout",
     "output_type": "stream",
     "text": [
      "\n",
      "    type : <class 'numpy.ndarray'>\n",
      "    shape : (2, 4)\n",
      "    ndim : 2\n",
      "    dtype : float64\n",
      "    array data : \n",
      " [[-1.2541394  -0.30589749  1.00277426  0.92456828]\n",
      " [ 0.04825605  0.02670951  0.22811177 -0.43817629]]\n"
     ]
    }
   ],
   "source": [
    "arr = np.random.randn(2,4)\n",
    "np_print(arr)"
   ]
  },
  {
   "cell_type": "code",
   "execution_count": 17,
   "id": "f1182e6d",
   "metadata": {},
   "outputs": [
    {
     "data": {
      "image/png": "[encoded data removed]",
      "text/plain": [
       "<Figure size 432x288 with 1 Axes>"
      ]
     },
     "metadata": {
      "needs_background": "light"
     },
     "output_type": "display_data"
    }
   ],
   "source": [
    "data = np.random.randn(10000)\n",
    "plt.hist(data, bins=100)\n",
    "plt.show()"
   ]
  },
  {
   "cell_type": "markdown",
   "id": "2c0a6e48",
   "metadata": {},
   "source": [
    "## np.random.randint(low, high=None, size=None, dtype='i')\n",
    "\n",
    "- low 이상 high 미만의 범위에서 정수 데이터로 지정한 size의 배열 생성\n",
    "- low : high 값이 지정되지 않으면 low값이 최대값\n",
    "- high : 최대값(포함되지 않음)"
   ]
  },
  {
   "cell_type": "code",
   "execution_count": 18,
   "id": "ea1561fa",
   "metadata": {},
   "outputs": [
    {
     "data": {
      "text/plain": [
       "0"
      ]
     },
     "execution_count": 18,
     "metadata": {},
     "output_type": "execute_result"
    }
   ],
   "source": [
    "a = np.random.randint(1)\n",
    "a"
   ]
  },
  {
   "cell_type": "code",
   "execution_count": 20,
   "id": "6662b389",
   "metadata": {},
   "outputs": [
    {
     "name": "stdout",
     "output_type": "stream",
     "text": [
      "\n",
      "    type : <class 'numpy.ndarray'>\n",
      "    shape : (10,)\n",
      "    ndim : 1\n",
      "    dtype : int64\n",
      "    array data : \n",
      " [0 0 0 0 0 0 0 0 0 0]\n"
     ]
    }
   ],
   "source": [
    "# 1미만의 정수 10개 추출\n",
    "arr = np.random.randint(1, size=10)\n",
    "np_print(arr)"
   ]
  },
  {
   "cell_type": "code",
   "execution_count": 27,
   "id": "095472ff",
   "metadata": {},
   "outputs": [
    {
     "name": "stdout",
     "output_type": "stream",
     "text": [
      "\n",
      "    type : <class 'numpy.ndarray'>\n",
      "    shape : (10,)\n",
      "    ndim : 1\n",
      "    dtype : int64\n",
      "    array data : \n",
      " [0 0 1 1 0 1 1 2 2 1]\n"
     ]
    }
   ],
   "source": [
    "# 3만의 양수 10개 추출\n",
    "arr = np.random.randint(0, 3, size=10)\n",
    "np_print(arr)"
   ]
  },
  {
   "cell_type": "code",
   "execution_count": 28,
   "id": "1fc2903b",
   "metadata": {},
   "outputs": [
    {
     "data": {
      "text/plain": [
       "array([[4, 6, 7, 7],\n",
       "       [8, 8, 4, 6]])"
      ]
     },
     "execution_count": 28,
     "metadata": {},
     "output_type": "execute_result"
    }
   ],
   "source": [
    "# 3 초과 10 미만의 정수로 구성된 2행 4열 배열\n",
    "arr = np.random.randint(4, 10, size=(2,4))\n",
    "arr"
   ]
  },
  {
   "cell_type": "code",
   "execution_count": 32,
   "id": "0e729a30",
   "metadata": {},
   "outputs": [
    {
     "data": {
      "image/png": "[encoded data removed]",
      "text/plain": [
       "<Figure size 432x288 with 1 Axes>"
      ]
     },
     "metadata": {
      "needs_background": "light"
     },
     "output_type": "display_data"
    }
   ],
   "source": [
    "# 균등분포로 이루어진 배열 시각화\n",
    "# -100 ~ 100의 범위에서 추출한 10000개의 데이터를 5개 구간의 히스토그램으로 출력\n",
    "\n",
    "arr = np.random.randint(-100, 101, 10000)\n",
    "plt.hist(arr, bins=5)\n",
    "plt.show()"
   ]
  },
  {
   "cell_type": "markdown",
   "id": "1bc94669",
   "metadata": {},
   "source": [
    "## 동일한 난수 생성: np.random.seed()\n",
    "\n",
    "- 프로그램에서 추출된 난수는 무작위로 만들어진 것처럼 보이지만 실제로는 고정된 기준(시작점)을 가지고 규칙적으로 생성\n",
    "- 시작점을 설정하면 동일한 난수 생성"
   ]
  },
  {
   "cell_type": "code",
   "execution_count": 38,
   "id": "7f279454",
   "metadata": {},
   "outputs": [
    {
     "data": {
      "text/plain": [
       "array([[0.54340494, 0.27836939, 0.42451759],\n",
       "       [0.84477613, 0.00471886, 0.12156912],\n",
       "       [0.67074908, 0.82585276, 0.13670659]])"
      ]
     },
     "execution_count": 38,
     "metadata": {},
     "output_type": "execute_result"
    }
   ],
   "source": [
    "np.random.seed(100)\n",
    "arr = np.random.random((3,3))\n",
    "arr"
   ]
  },
  {
   "cell_type": "code",
   "execution_count": 39,
   "id": "02d8607d",
   "metadata": {},
   "outputs": [
    {
     "data": {
      "text/plain": [
       "array([[0, 4],\n",
       "       [3, 4]])"
      ]
     },
     "execution_count": 39,
     "metadata": {},
     "output_type": "execute_result"
    }
   ],
   "source": [
    "np.random.randint(0, 5, (2,2))"
   ]
  },
  {
   "cell_type": "code",
   "execution_count": 40,
   "id": "9ecef943",
   "metadata": {},
   "outputs": [],
   "source": [
    "# 시작점 초기화하여 seed 값 없애기\n",
    "np.random.seed()"
   ]
  },
  {
   "cell_type": "code",
   "execution_count": 41,
   "id": "ccd6ebd2",
   "metadata": {},
   "outputs": [
    {
     "data": {
      "text/plain": [
       "array([[0.16806281, 0.54065762, 0.08363602],\n",
       "       [0.44181793, 0.43404671, 0.48746866],\n",
       "       [0.93394261, 0.56393595, 0.72103669]])"
      ]
     },
     "execution_count": 41,
     "metadata": {},
     "output_type": "execute_result"
    }
   ],
   "source": [
    "np.random.random((3,3))"
   ]
  },
  {
   "cell_type": "code",
   "execution_count": null,
   "id": "703d7617",
   "metadata": {},
   "outputs": [],
   "source": []
  }
 ],
 "metadata": {
  "kernelspec": {
   "display_name": "Python 3 (ipykernel)",
   "language": "python",
   "name": "python3"
  },
  "language_info": {
   "codemirror_mode": {
    "name": "ipython",
    "version": 3
   },
   "file_extension": ".py",
   "mimetype": "text/x-python",
   "name": "python",
   "nbconvert_exporter": "python",
   "pygments_lexer": "ipython3",
   "version": "3.9.12"
  }
 },
 "nbformat": 4,
 "nbformat_minor": 5
}
