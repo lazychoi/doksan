{
 "cells": [
  {
   "cell_type": "markdown",
   "id": "4d84fd33",
   "metadata": {},
   "source": [
    "## 브로드캐스팅(BroadCasting)\n",
    "\n",
    "- 서로 다른 구조(shape)를 가진 배열에 대해 연산을 수행할 때 구조를 맞추는 과정\n",
    "- 배열과 스칼라값 간의 연산\n",
    "- 배열과 배열 간의 연산\n",
    "- 브로드캐스팅 규칙 : 축의 길이가 일치하거나 둘 중 하나의 길이가 1인 두 배열에 대해 호환성을 가짐\n",
    "\n",
    "\n",
    "<img src='img/broadcast.png' width='600' height='400' align='left'>"
   ]
  },
  {
   "cell_type": "code",
   "execution_count": 1,
   "id": "720e64d7",
   "metadata": {},
   "outputs": [],
   "source": [
    "import numpy as np"
   ]
  },
  {
   "cell_type": "code",
   "execution_count": 2,
   "id": "afbea294",
   "metadata": {},
   "outputs": [
    {
     "data": {
      "text/plain": [
       "(array([[1, 2, 3],\n",
       "        [4, 5, 6],\n",
       "        [7, 8, 9]]),\n",
       " array([[11, 12, 13],\n",
       "        [14, 15, 16],\n",
       "        [17, 18, 19]]))"
      ]
     },
     "execution_count": 2,
     "metadata": {},
     "output_type": "execute_result"
    }
   ],
   "source": [
    "a = np.arange(1,10).reshape(3,3)\n",
    "b = np.arange(11,20).reshape(3,3)\n",
    "a, b"
   ]
  },
  {
   "cell_type": "markdown",
   "id": "079b1e64",
   "metadata": {},
   "source": [
    "## 배열과 값(single value, scala)\n",
    "\n",
    "- 스칼라 값을 배열의 구조와 동일한 배열로 변형하여 연산 수행\n"
   ]
  },
  {
   "cell_type": "code",
   "execution_count": 3,
   "id": "54ae4d4a",
   "metadata": {},
   "outputs": [
    {
     "data": {
      "text/plain": [
       "array([[11, 12, 13],\n",
       "       [14, 15, 16],\n",
       "       [17, 18, 19]])"
      ]
     },
     "execution_count": 3,
     "metadata": {},
     "output_type": "execute_result"
    }
   ],
   "source": [
    "# 구조가 다른 배열간의 연산\n",
    "# a의 모든 원소에 각각 10 더하기\n",
    "\n",
    "a + 10"
   ]
  },
  {
   "cell_type": "code",
   "execution_count": 5,
   "id": "91c94bc0",
   "metadata": {},
   "outputs": [
    {
     "data": {
      "text/plain": [
       "array([[10, 10, 10],\n",
       "       [10, 10, 10],\n",
       "       [10, 10, 10]])"
      ]
     },
     "execution_count": 5,
     "metadata": {},
     "output_type": "execute_result"
    }
   ],
   "source": [
    "# 스칼라 -> 배열 변형\n",
    "# 3행 3열 구조. 모든 요소가 10인 배열\n",
    "\n",
    "scalar_arr = np.full_like(a, 10)\n",
    "scalar_arr"
   ]
  },
  {
   "cell_type": "code",
   "execution_count": 6,
   "id": "96a96524",
   "metadata": {},
   "outputs": [
    {
     "data": {
      "text/plain": [
       "array([[10, 10, 10],\n",
       "       [10, 10, 10],\n",
       "       [10, 10, 10]])"
      ]
     },
     "execution_count": 6,
     "metadata": {},
     "output_type": "execute_result"
    }
   ],
   "source": [
    "np.full((3,3), 10)"
   ]
  },
  {
   "cell_type": "code",
   "execution_count": 7,
   "id": "ea0a40c6",
   "metadata": {},
   "outputs": [
    {
     "data": {
      "text/plain": [
       "array([[11, 12, 13],\n",
       "       [14, 15, 16],\n",
       "       [17, 18, 19]])"
      ]
     },
     "execution_count": 7,
     "metadata": {},
     "output_type": "execute_result"
    }
   ],
   "source": [
    "a + scalar_arr # a + 10 과 같음"
   ]
  },
  {
   "cell_type": "markdown",
   "id": "77d7bc6d",
   "metadata": {},
   "source": [
    "## 서로 다른 구조의 배열\n",
    "\n",
    "- 행, 열의 최대 길이를 기준으로 구조를 생성한 배열로 변형하여 연산 수행\n",
    "- 확장된 행, 열에 대해서 기존 배열과 동일한 데이터로 구성"
   ]
  },
  {
   "cell_type": "code",
   "execution_count": 36,
   "id": "c83765ae",
   "metadata": {},
   "outputs": [
    {
     "name": "stdout",
     "output_type": "stream",
     "text": [
      "[[1 2 3 4]]\n",
      "[[1]\n",
      " [2]\n",
      " [3]\n",
      " [4]]\n",
      "[[ 1  2  3  4]\n",
      " [ 2  4  6  8]\n",
      " [ 3  6  9 12]\n",
      " [ 4  8 12 16]]\n"
     ]
    }
   ],
   "source": [
    "# 1행 4열, 1,2,3,4\n",
    "# 4행 1열 1,2,3,4\n",
    "\n",
    "x = np.array([1,2,3,4]).reshape(1,4)\n",
    "y = np.array([1,2,3,4]).reshape(4,1)\n",
    "print(x)\n",
    "print(y)\n",
    "print(x * y)"
   ]
  },
  {
   "cell_type": "code",
   "execution_count": 23,
   "id": "652a56a1",
   "metadata": {},
   "outputs": [
    {
     "data": {
      "text/plain": [
       "array([[1, 2, 3, 4],\n",
       "       [1, 2, 3, 4]])"
      ]
     },
     "execution_count": 23,
     "metadata": {},
     "output_type": "execute_result"
    }
   ],
   "source": [
    "# 배열 x를 동일한 값으로 4행으로 확장한 새로운 배열 생성\n",
    "# 행 방향으로 배열 추가(세로 길이 증가) : np.append(arr1, arr2, axis=0)\n",
    "\n",
    "new_x = np.append(x, x, axis=0)\n",
    "new_x"
   ]
  },
  {
   "cell_type": "code",
   "execution_count": 24,
   "id": "bb519ea8",
   "metadata": {},
   "outputs": [
    {
     "data": {
      "text/plain": [
       "array([[1, 2, 3, 4],\n",
       "       [1, 2, 3, 4],\n",
       "       [1, 2, 3, 4],\n",
       "       [1, 2, 3, 4]])"
      ]
     },
     "execution_count": 24,
     "metadata": {},
     "output_type": "execute_result"
    }
   ],
   "source": [
    "# 이걸 다시 4줄로 만든다.\n",
    "\n",
    "new_x = np.append(new_x, new_x, axis=0)\n",
    "new_x"
   ]
  },
  {
   "cell_type": "code",
   "execution_count": 37,
   "id": "c6970b51",
   "metadata": {},
   "outputs": [
    {
     "data": {
      "text/plain": [
       "array([[1, 1, 1, 1],\n",
       "       [2, 2, 2, 2],\n",
       "       [3, 3, 3, 3],\n",
       "       [4, 4, 4, 4]])"
      ]
     },
     "execution_count": 37,
     "metadata": {},
     "output_type": "execute_result"
    }
   ],
   "source": [
    "new_y = np.append(y,y,axis=1)\n",
    "new_y = np.append(new_y,new_y,axis=1)\n",
    "new_y"
   ]
  },
  {
   "cell_type": "code",
   "execution_count": 29,
   "id": "c860f977",
   "metadata": {},
   "outputs": [
    {
     "data": {
      "text/plain": [
       "array([[2, 3, 4, 5],\n",
       "       [3, 4, 5, 6],\n",
       "       [4, 5, 6, 7],\n",
       "       [5, 6, 7, 8]])"
      ]
     },
     "execution_count": 29,
     "metadata": {},
     "output_type": "execute_result"
    }
   ],
   "source": [
    "x + y"
   ]
  },
  {
   "cell_type": "code",
   "execution_count": 38,
   "id": "0d11b409",
   "metadata": {},
   "outputs": [
    {
     "data": {
      "text/plain": [
       "array([[2, 3, 4, 5],\n",
       "       [3, 4, 5, 6],\n",
       "       [4, 5, 6, 7],\n",
       "       [5, 6, 7, 8]])"
      ]
     },
     "execution_count": 38,
     "metadata": {},
     "output_type": "execute_result"
    }
   ],
   "source": [
    "new_x + new_y"
   ]
  },
  {
   "cell_type": "code",
   "execution_count": null,
   "id": "0dd2bf63",
   "metadata": {},
   "outputs": [],
   "source": []
  }
 ],
 "metadata": {
  "kernelspec": {
   "display_name": "Python 3 (ipykernel)",
   "language": "python",
   "name": "python3"
  },
  "language_info": {
   "codemirror_mode": {
    "name": "ipython",
    "version": 3
   },
   "file_extension": ".py",
   "mimetype": "text/x-python",
   "name": "python",
   "nbconvert_exporter": "python",
   "pygments_lexer": "ipython3",
   "version": "3.9.12"
  }
 },
 "nbformat": 4,
 "nbformat_minor": 5
}
