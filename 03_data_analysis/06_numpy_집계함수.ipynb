{
 "cells": [
  {
   "cell_type": "markdown",
   "id": "7a2259fb",
   "metadata": {},
   "source": [
    "# Numpy 집계 함수\n",
    "\n",
    "- Numpy 배열에 대해 집계 함수를 적용할 때는 반드시 axis로 설정된 기준에 따라 연산 수행\n",
    "- 별도로 값을 지정하지 않으면 기본값은 axis = None으로 지정\n",
    "- axis\n",
    "    - axis = None <br>\n",
    "    전체 데이터를 하나의 배열로 간주하고 집계 함수의 연산 범위를 전체 배열로 지정\n",
    "    <br>\n",
    "    <img src='img/axis_none.jpg' width='150' height='150' align='left'>\n",
    "    <br>\n",
    "    <br>\n",
    "    <br>\n",
    "    <br>\n",
    "    <br>\n",
    "    <br>\n",
    "    <br>\n",
    "    <br>\n",
    "    <br>\n",
    "    <br>\n",
    "    - axis = 0 <br>\n",
    "    열을 기준으로 동일한 열에 있는 요소를 하나의 그룹으로 묶어 집계 함수의 연산 범위로 지정\n",
    "    <br>\n",
    "    <img src='img/axis_0.jpg' width='150' height='150' align='left'>\n",
    "    <br>\n",
    "    <br>\n",
    "    <br>\n",
    "    <br>\n",
    "    <br>\n",
    "    <br>\n",
    "    <br>\n",
    "    <br>\n",
    "    <br>\n",
    "    <br>\n",
    "    - axis = 1 <br>\n",
    "    행을 기준으로 동일한 행에 있는 요소를 하나의 그룹으로 묶어 집계 함수의 연산 범위로 지정\n",
    "    <br>\n",
    "    <img src='img/axis_1.jpg' width='150' height='150' align='left'>\n",
    "    <br>\n",
    "    <br>\n",
    "    <br>\n",
    "    <br>\n",
    "    <br>\n",
    "    <br>\n",
    "    <br>\n",
    "    <br>\n",
    "    <br>\n",
    "    <br>\n",
    "- 집계 함수 : 배열객체에 대한 메소드로 사용하거나 Numpy 라이브러리의 메소드로 사용하는 두 가지 방법\n",
    "    - 합계 : sum()\n",
    "    - 최소값 : min()\n",
    "    - 최대값 : max()\n",
    "    - 누적 합계 : cumsum()\n",
    "    - 평균 : mean()\n",
    "    - 중앙값 : median()\n",
    "        - 크기 순으로 나열된 데이터에 대해 중앙에 위치하는 값\n",
    "    - 상관계수 : corrcoef()\n",
    "        - 데이터 간의 상관관계를 나타내는 수치(-1 <= r <= 1)\n",
    "    - 표준편차 : std()\n",
    "        - 분산의 제곱근, 데이터가 평균으로부터 흩어져 있는 정도\n",
    "        - 분산 = 편차(요소-전체평균)제곱의 평균\n",
    "    - 고유값 : unique()"
   ]
  },
  {
   "cell_type": "code",
   "execution_count": 2,
   "id": "d9d17c64",
   "metadata": {},
   "outputs": [],
   "source": [
    "import numpy as np\n",
    "\n",
    "a = np.arange(1,10).reshape(3,3)\n",
    "b = np.arange(11,20).reshape(3,3)"
   ]
  },
  {
   "cell_type": "code",
   "execution_count": 5,
   "id": "96eec102",
   "metadata": {},
   "outputs": [
    {
     "data": {
      "text/plain": [
       "(45, 45)"
      ]
     },
     "execution_count": 5,
     "metadata": {},
     "output_type": "execute_result"
    }
   ],
   "source": [
    "# 합계 - 전체 기준 => 모든 요소에 대한 합\n",
    "# 1) 배열 타입 메서드 : arr.sum()\n",
    "# 2) numpy 함수 : np.sum(arr)\n",
    "a.sum(), np.sum(a)"
   ]
  },
  {
   "cell_type": "code",
   "execution_count": 13,
   "id": "ef7e1a11",
   "metadata": {},
   "outputs": [
    {
     "data": {
      "text/plain": [
       "array([[10, 10, 10, 10],\n",
       "       [10, 10, 10, 10],\n",
       "       [10, 10, 10, 10]])"
      ]
     },
     "execution_count": 13,
     "metadata": {},
     "output_type": "execute_result"
    }
   ],
   "source": [
    "c = np.full((3,4), 10)\n",
    "c"
   ]
  },
  {
   "cell_type": "code",
   "execution_count": 14,
   "id": "87bdc700",
   "metadata": {},
   "outputs": [
    {
     "name": "stdout",
     "output_type": "stream",
     "text": [
      "[[10 10 10 10]\n",
      " [10 10 10 10]\n",
      " [10 10 10 10]]\n",
      "[40 40 40]\n",
      "[30 30 30 30]\n"
     ]
    }
   ],
   "source": [
    "# 합계 - row 행별 합산\n",
    "# 메서드, np 함수의 파라미터값 axis = 1\n",
    "# 결과값: [0번 row 합계, 1번 행 합계, 3번 행 합계, ...]\n",
    "print(c)\n",
    "print( c.sum(axis=1) ) # 행 1의 한자 표기로 암기(-)\n",
    "print(c.sum(axis=0)) # 열"
   ]
  },
  {
   "cell_type": "code",
   "execution_count": 15,
   "id": "decac495",
   "metadata": {},
   "outputs": [
    {
     "data": {
      "text/plain": [
       "(1, 1)"
      ]
     },
     "execution_count": 15,
     "metadata": {},
     "output_type": "execute_result"
    }
   ],
   "source": [
    "# 최솟값\n",
    "# 파이썬 min()보다 넘파이가 더 빠름\n",
    "a.min(), np.min(a)"
   ]
  },
  {
   "cell_type": "code",
   "execution_count": 20,
   "id": "7f35338e",
   "metadata": {},
   "outputs": [
    {
     "name": "stdout",
     "output_type": "stream",
     "text": [
      "[1 4 7]\n",
      "[[1 2 3]\n",
      " [4 5 6]\n",
      " [7 8 9]]\n",
      "[1 4 7]\n"
     ]
    }
   ],
   "source": [
    "# 최솟값 - 행별 최솟값 찾기\n",
    "\n",
    "print(a.min(axis=1))\n",
    "print(a)\n",
    "print(np.min(a, axis=1))"
   ]
  },
  {
   "cell_type": "code",
   "execution_count": 22,
   "id": "d0ab0657",
   "metadata": {},
   "outputs": [
    {
     "name": "stdout",
     "output_type": "stream",
     "text": [
      "[1 2 3]\n",
      "[[1 2 3]\n",
      " [4 5 6]\n",
      " [7 8 9]]\n",
      "[1 2 3]\n"
     ]
    }
   ],
   "source": [
    "# 최솟값 - 열별 최솟값 찾기\n",
    "print(a.min(axis=0))\n",
    "print(a)\n",
    "print(np.min(a, axis=0))"
   ]
  },
  {
   "cell_type": "code",
   "execution_count": 23,
   "id": "9cec585a",
   "metadata": {},
   "outputs": [
    {
     "data": {
      "text/plain": [
       "(9, 0)"
      ]
     },
     "execution_count": 23,
     "metadata": {},
     "output_type": "execute_result"
    }
   ],
   "source": [
    "# 최댓값\n",
    "a.max(), np.max(0)"
   ]
  },
  {
   "cell_type": "code",
   "execution_count": 27,
   "id": "e4585b3e",
   "metadata": {},
   "outputs": [
    {
     "name": "stdout",
     "output_type": "stream",
     "text": [
      "[[1 2 3]\n",
      " [4 5 6]\n",
      " [7 8 9]]\n"
     ]
    },
    {
     "data": {
      "text/plain": [
       "(array([3, 6, 9]), array([3, 6, 9]), array([7, 8, 9]), array([7, 8, 9]))"
      ]
     },
     "execution_count": 27,
     "metadata": {},
     "output_type": "execute_result"
    }
   ],
   "source": [
    "# 행별, 열별 최댓값\n",
    "print(a)\n",
    "a.max(axis=1), np.max(a, axis=1), a.max(axis=0), np.max(a, axis=0)"
   ]
  },
  {
   "cell_type": "code",
   "execution_count": 30,
   "id": "d8e99da0",
   "metadata": {},
   "outputs": [
    {
     "name": "stdout",
     "output_type": "stream",
     "text": [
      "[[10 10 10 10]\n",
      " [10 10 10 10]\n",
      " [10 10 10 10]]\n"
     ]
    },
    {
     "data": {
      "text/plain": [
       "(120, array([ 10,  20,  30,  40,  50,  60,  70,  80,  90, 100, 110, 120]))"
      ]
     },
     "execution_count": 30,
     "metadata": {},
     "output_type": "execute_result"
    }
   ],
   "source": [
    "# 누적합계 - 전체 기준\n",
    "print(c)\n",
    "c.sum(), c.cumsum()"
   ]
  },
  {
   "cell_type": "code",
   "execution_count": 31,
   "id": "9514dd4e",
   "metadata": {},
   "outputs": [
    {
     "data": {
      "text/plain": [
       "array([[10, 20, 30, 40],\n",
       "       [10, 20, 30, 40],\n",
       "       [10, 20, 30, 40]])"
      ]
     },
     "execution_count": 31,
     "metadata": {},
     "output_type": "execute_result"
    }
   ],
   "source": [
    "c.cumsum(axis=1)"
   ]
  },
  {
   "cell_type": "code",
   "execution_count": 32,
   "id": "27dda778",
   "metadata": {},
   "outputs": [
    {
     "data": {
      "text/plain": [
       "array([[10, 10, 10, 10],\n",
       "       [20, 20, 20, 20],\n",
       "       [30, 30, 30, 30]])"
      ]
     },
     "execution_count": 32,
     "metadata": {},
     "output_type": "execute_result"
    }
   ],
   "source": [
    "c.cumsum(axis=0)"
   ]
  },
  {
   "cell_type": "code",
   "execution_count": 34,
   "id": "2df1ecdc",
   "metadata": {},
   "outputs": [
    {
     "data": {
      "text/plain": [
       "(5.0, 5.0)"
      ]
     },
     "execution_count": 34,
     "metadata": {},
     "output_type": "execute_result"
    }
   ],
   "source": [
    "# 평균\n",
    "a.mean(), np.mean(a)"
   ]
  },
  {
   "cell_type": "code",
   "execution_count": 43,
   "id": "ca869b63",
   "metadata": {},
   "outputs": [
    {
     "data": {
      "text/plain": [
       "array([[ 1,  2,  3,  4],\n",
       "       [ 5,  6,  7,  8],\n",
       "       [ 9, 10, 11, 12]])"
      ]
     },
     "execution_count": 43,
     "metadata": {},
     "output_type": "execute_result"
    }
   ],
   "source": [
    "a = np.arange(1,13).reshape(3,4)\n",
    "a"
   ]
  },
  {
   "cell_type": "code",
   "execution_count": 44,
   "id": "95f4bcc8",
   "metadata": {},
   "outputs": [
    {
     "data": {
      "text/plain": [
       "(array([ 2.5,  6.5, 10.5]), array([ 2.5,  6.5, 10.5]))"
      ]
     },
     "execution_count": 44,
     "metadata": {},
     "output_type": "execute_result"
    }
   ],
   "source": [
    "a.mean(axis=1), np.mean(a, axis=1)"
   ]
  },
  {
   "cell_type": "code",
   "execution_count": 45,
   "id": "85d80d37",
   "metadata": {},
   "outputs": [
    {
     "data": {
      "text/plain": [
       "(array([5., 6., 7., 8.]), array([5., 6., 7., 8.]))"
      ]
     },
     "execution_count": 45,
     "metadata": {},
     "output_type": "execute_result"
    }
   ],
   "source": [
    "a.mean(axis=0), np.mean(a, axis=0)"
   ]
  },
  {
   "cell_type": "code",
   "execution_count": 46,
   "id": "7aa50d20",
   "metadata": {},
   "outputs": [
    {
     "data": {
      "text/plain": [
       "array([ 2.5,  6.5, 10.5])"
      ]
     },
     "execution_count": 46,
     "metadata": {},
     "output_type": "execute_result"
    }
   ],
   "source": [
    "# 중앙값\n",
    "# arr.median() 쓸 수 없음\n",
    "\n",
    "np.median(a, axis=1)"
   ]
  },
  {
   "cell_type": "code",
   "execution_count": 48,
   "id": "c1bc75fc",
   "metadata": {},
   "outputs": [
    {
     "data": {
      "text/plain": [
       "array([[1.        , 0.72615657],\n",
       "       [0.72615657, 1.        ]])"
      ]
     },
     "execution_count": 48,
     "metadata": {},
     "output_type": "execute_result"
    }
   ],
   "source": [
    "# 상관계수\n",
    "# np.corrcoef(arr1, arr2)\n",
    "# 반환 : 대칭형 매트릭스(대각선을 경계로 상위, 하위 삼각형 중 하나만 해석해도 됨다)\n",
    "# 대각선은 자신과의 상관관계(항상 1)\n",
    "\n",
    "x = np.array([15,12,27,37,29])\n",
    "y = np.array([1,4,2,9,7])\n",
    "np.corrcoef(x, y)"
   ]
  },
  {
   "cell_type": "code",
   "execution_count": 49,
   "id": "18b1af50",
   "metadata": {},
   "outputs": [],
   "source": [
    "# numpy는 3개 요소 사이의 상관계수 구하는 게 불가능\n",
    "# pandas는 인자를 3개 넣으면 2개씩 쌍으로 모든 경우의 상관계수를 구해준다."
   ]
  },
  {
   "cell_type": "code",
   "execution_count": 50,
   "id": "96aa7204",
   "metadata": {},
   "outputs": [
    {
     "data": {
      "text/plain": [
       "(3.452052529534663, 3.452052529534663)"
      ]
     },
     "execution_count": 50,
     "metadata": {},
     "output_type": "execute_result"
    }
   ],
   "source": [
    "# 표준편차\n",
    "a.std(), np.std(a)"
   ]
  },
  {
   "cell_type": "code",
   "execution_count": 51,
   "id": "b2b3c9c1",
   "metadata": {},
   "outputs": [
    {
     "data": {
      "text/plain": [
       "(array([1.11803399, 1.11803399, 1.11803399]),\n",
       " array([1.11803399, 1.11803399, 1.11803399]))"
      ]
     },
     "execution_count": 51,
     "metadata": {},
     "output_type": "execute_result"
    }
   ],
   "source": [
    "a.std(axis=1), np.std(a, axis=1)"
   ]
  },
  {
   "cell_type": "code",
   "execution_count": 52,
   "id": "52624ff3",
   "metadata": {},
   "outputs": [
    {
     "data": {
      "text/plain": [
       "(array([3.26598632, 3.26598632, 3.26598632, 3.26598632]),\n",
       " array([3.26598632, 3.26598632, 3.26598632, 3.26598632]))"
      ]
     },
     "execution_count": 52,
     "metadata": {},
     "output_type": "execute_result"
    }
   ],
   "source": [
    "a.std(axis=0), np.std(a, axis=0)"
   ]
  },
  {
   "cell_type": "markdown",
   "id": "a2513806",
   "metadata": {},
   "source": [
    "- 요소들에 대한 연산을 벡터 연산으로 처리하면 일반 for문으로 연산하는 것보다 월등히 뛰어난 속도 "
   ]
  },
  {
   "cell_type": "code",
   "execution_count": 3,
   "id": "ab94c925",
   "metadata": {},
   "outputs": [
    {
     "data": {
      "text/plain": [
       "array([       0,        1,        2, ..., 99999997, 99999998, 99999999])"
      ]
     },
     "execution_count": 3,
     "metadata": {},
     "output_type": "execute_result"
    }
   ],
   "source": [
    "x = np.arange(100000000)\n",
    "x"
   ]
  },
  {
   "cell_type": "code",
   "execution_count": 5,
   "id": "d59c8cf2",
   "metadata": {},
   "outputs": [
    {
     "name": "stdout",
     "output_type": "stream",
     "text": [
      "4999999950000000\n",
      "CPU times: user 15.8 s, sys: 0 ns, total: 15.8 s\n",
      "Wall time: 15.8 s\n"
     ]
    }
   ],
   "source": [
    "%%time\n",
    "# 해당 셀을 수행하는 데 소요된 시간을 표시해주는 주피터 명령어\n",
    "# 셀의 가장 상단에 위치해야 함(주석 포함)\n",
    "\n",
    "# 반복문으로 합계 구하기\n",
    "# 시간단위 : 1s = 1,000ms = 1,000,000㎲ 마이크로 세컨드\n",
    "\n",
    "loop_result = 0\n",
    "for i in x:\n",
    "    loop_result += i\n",
    "print(loop_result)"
   ]
  },
  {
   "cell_type": "code",
   "execution_count": 6,
   "id": "0d8f5405",
   "metadata": {},
   "outputs": [
    {
     "name": "stdout",
     "output_type": "stream",
     "text": [
      "CPU times: user 86.4 ms, sys: 0 ns, total: 86.4 ms\n",
      "Wall time: 82.9 ms\n"
     ]
    },
    {
     "data": {
      "text/plain": [
       "4999999950000000"
      ]
     },
     "execution_count": 6,
     "metadata": {},
     "output_type": "execute_result"
    }
   ],
   "source": [
    "%%time\n",
    "np.sum(x)"
   ]
  },
  {
   "cell_type": "code",
   "execution_count": 7,
   "id": "9672c056",
   "metadata": {},
   "outputs": [
    {
     "name": "stdout",
     "output_type": "stream",
     "text": [
      "CPU times: user 87.6 ms, sys: 180 µs, total: 87.8 ms\n",
      "Wall time: 84.9 ms\n"
     ]
    },
    {
     "data": {
      "text/plain": [
       "4999999950000000"
      ]
     },
     "execution_count": 7,
     "metadata": {},
     "output_type": "execute_result"
    }
   ],
   "source": [
    "%%time\n",
    "x.sum()"
   ]
  }
 ],
 "metadata": {
  "kernelspec": {
   "display_name": "Python 3 (ipykernel)",
   "language": "python",
   "name": "python3"
  },
  "language_info": {
   "codemirror_mode": {
    "name": "ipython",
    "version": 3
   },
   "file_extension": ".py",
   "mimetype": "text/x-python",
   "name": "python",
   "nbconvert_exporter": "python",
   "pygments_lexer": "ipython3",
   "version": "3.9.12"
  }
 },
 "nbformat": 4,
 "nbformat_minor": 5
}
