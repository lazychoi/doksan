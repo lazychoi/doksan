{
 "cells": [
  {
   "cell_type": "markdown",
   "id": "94c18f0f",
   "metadata": {},
   "source": [
    "# Series 인덱스 지정"
   ]
  },
  {
   "cell_type": "code",
   "execution_count": 3,
   "id": "2bb288ea",
   "metadata": {},
   "outputs": [],
   "source": [
    "import pandas as pd"
   ]
  },
  {
   "cell_type": "code",
   "execution_count": 4,
   "id": "b31fc42f",
   "metadata": {},
   "outputs": [
    {
     "data": {
      "text/plain": [
       "0    1\n",
       "1    2\n",
       "2    3\n",
       "3    4\n",
       "4    5\n",
       "5    6\n",
       "dtype: int64"
      ]
     },
     "execution_count": 4,
     "metadata": {},
     "output_type": "execute_result"
    }
   ],
   "source": [
    "# 인덱스를 새롭게 지정할 때는 RangeIdex 범위만큼의 길이를 가지는 리스트 사용\n",
    "\n",
    "s1 = pd.Series((1,2,3,4,5,6))\n",
    "s1"
   ]
  },
  {
   "cell_type": "code",
   "execution_count": 5,
   "id": "fce9c802",
   "metadata": {},
   "outputs": [
    {
     "data": {
      "text/plain": [
       "2017    1\n",
       "2018    2\n",
       "2019    3\n",
       "2020    4\n",
       "2021    5\n",
       "2022    6\n",
       "dtype: int64"
      ]
     },
     "execution_count": 5,
     "metadata": {},
     "output_type": "execute_result"
    }
   ],
   "source": [
    "s1.index = [2017, 2018, 2019, 2020, 2021, 2022]\n",
    "s1"
   ]
  },
  {
   "cell_type": "code",
   "execution_count": 6,
   "id": "76c6e520",
   "metadata": {},
   "outputs": [
    {
     "data": {
      "text/plain": [
       "2020"
      ]
     },
     "execution_count": 6,
     "metadata": {},
     "output_type": "execute_result"
    }
   ],
   "source": [
    "# 인덱스를 지정하여 객체 생성\n",
    "# 인덱스 객체에 대해서 아이템 참조 가능\n",
    "s1.index[3]"
   ]
  },
  {
   "cell_type": "code",
   "execution_count": 7,
   "id": "dec1c724",
   "metadata": {},
   "outputs": [
    {
     "ename": "TypeError",
     "evalue": "Index does not support mutable operations",
     "output_type": "error",
     "traceback": [
      "\u001b[0;31m---------------------------------------------------------------------------\u001b[0m",
      "\u001b[0;31mTypeError\u001b[0m                                 Traceback (most recent call last)",
      "Input \u001b[0;32mIn [7]\u001b[0m, in \u001b[0;36m<cell line: 2>\u001b[0;34m()\u001b[0m\n\u001b[1;32m      1\u001b[0m \u001b[38;5;66;03m# 인덱스 하나만 수정하는 것은 불가능 -> 하나만 수정하려 해도 전체를 입력해야 한다.\u001b[39;00m\n\u001b[0;32m----> 2\u001b[0m s1\u001b[38;5;241m.\u001b[39mindex[\u001b[38;5;241m0\u001b[39m] \u001b[38;5;241m=\u001b[39m \u001b[38;5;241m1111\u001b[39m\n",
      "File \u001b[0;32m~/anaconda3/lib/python3.9/site-packages/pandas/core/indexes/base.py:5021\u001b[0m, in \u001b[0;36mIndex.__setitem__\u001b[0;34m(self, key, value)\u001b[0m\n\u001b[1;32m   5019\u001b[0m \u001b[38;5;129m@final\u001b[39m\n\u001b[1;32m   5020\u001b[0m \u001b[38;5;28;01mdef\u001b[39;00m \u001b[38;5;21m__setitem__\u001b[39m(\u001b[38;5;28mself\u001b[39m, key, value):\n\u001b[0;32m-> 5021\u001b[0m     \u001b[38;5;28;01mraise\u001b[39;00m \u001b[38;5;167;01mTypeError\u001b[39;00m(\u001b[38;5;124m\"\u001b[39m\u001b[38;5;124mIndex does not support mutable operations\u001b[39m\u001b[38;5;124m\"\u001b[39m)\n",
      "\u001b[0;31mTypeError\u001b[0m: Index does not support mutable operations"
     ]
    }
   ],
   "source": [
    "# 인덱스 하나만 수정하는 것은 불가능 -> 하나만 수정하려 해도 전체를 입력해야 한다.\n",
    "s1.index[0] = 1111"
   ]
  },
  {
   "cell_type": "code",
   "execution_count": 8,
   "id": "2e692412",
   "metadata": {},
   "outputs": [
    {
     "data": {
      "text/plain": [
       "mon     10\n",
       "tue     20\n",
       "wed     30\n",
       "thur    40\n",
       "dtype: int64"
      ]
     },
     "execution_count": 8,
     "metadata": {},
     "output_type": "execute_result"
    }
   ],
   "source": [
    "# 딕셔너리 없이 시리즈에 인덱스 부여하고자 할 때\n",
    "# Series 생성 시 index를 파라미터로 준다.\n",
    "# pd.Series(data, index=[...])\n",
    "\n",
    "s2 = pd.Series([10,20,30,40], index=['mon','tue','wed','thur'])\n",
    "s2"
   ]
  }
 ],
 "metadata": {
  "kernelspec": {
   "display_name": "Python 3 (ipykernel)",
   "language": "python",
   "name": "python3"
  },
  "language_info": {
   "codemirror_mode": {
    "name": "ipython",
    "version": 3
   },
   "file_extension": ".py",
   "mimetype": "text/x-python",
   "name": "python",
   "nbconvert_exporter": "python",
   "pygments_lexer": "ipython3",
   "version": "3.9.12"
  }
 },
 "nbformat": 4,
 "nbformat_minor": 5
}
