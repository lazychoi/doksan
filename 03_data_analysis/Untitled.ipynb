{
 "cells": [
  {
   "cell_type": "code",
   "execution_count": 2,
   "id": "01bd4646",
   "metadata": {},
   "outputs": [],
   "source": [
    "import pandas as pd\n",
    "import numpy as np\n",
    "\n",
    "superheroes = [\n",
    "    \"Batman\",\n",
    "    \"Superman\",\n",
    "    \"Spider-Man\",\n",
    "    \"Iron Man\",\n",
    "    \"Captain America\",\n",
    "    \"Wonder Woman\"\n",
    "]\n",
    "strength_levels = (100, 120, 90, 95, 110, 120)"
   ]
  },
  {
   "cell_type": "code",
   "execution_count": 3,
   "id": "1f14ad46",
   "metadata": {},
   "outputs": [],
   "source": [
    "superheros_s = pd.Series(superheroes)\n",
    "strength_s = pd.Series(strength_levels)"
   ]
  },
  {
   "cell_type": "code",
   "execution_count": 5,
   "id": "f661859b",
   "metadata": {},
   "outputs": [],
   "source": [
    "heroes = pd.Series(strength_levels, index=superheroes)"
   ]
  },
  {
   "cell_type": "code",
   "execution_count": 7,
   "id": "86df210b",
   "metadata": {},
   "outputs": [
    {
     "data": {
      "text/plain": [
       "Batman      100\n",
       "Superman    120\n",
       "dtype: int64"
      ]
     },
     "execution_count": 7,
     "metadata": {},
     "output_type": "execute_result"
    }
   ],
   "source": [
    "heroes[:2]"
   ]
  },
  {
   "cell_type": "code",
   "execution_count": 8,
   "id": "8c02e0d4",
   "metadata": {},
   "outputs": [
    {
     "data": {
      "text/plain": [
       "Spider-Man          90\n",
       "Iron Man            95\n",
       "Captain America    110\n",
       "Wonder Woman       120\n",
       "dtype: int64"
      ]
     },
     "execution_count": 8,
     "metadata": {},
     "output_type": "execute_result"
    }
   ],
   "source": [
    "heroes[-4:]"
   ]
  },
  {
   "cell_type": "code",
   "execution_count": 9,
   "id": "2d19c19c",
   "metadata": {},
   "outputs": [
    {
     "data": {
      "text/plain": [
       "array([100, 120,  90,  95, 110])"
      ]
     },
     "execution_count": 9,
     "metadata": {},
     "output_type": "execute_result"
    }
   ],
   "source": [
    "heros.unique()"
   ]
  },
  {
   "cell_type": "code",
   "execution_count": 10,
   "id": "65da3ce7",
   "metadata": {},
   "outputs": [
    {
     "data": {
      "text/plain": [
       "105.83333333333333"
      ]
     },
     "execution_count": 10,
     "metadata": {},
     "output_type": "execute_result"
    }
   ],
   "source": [
    "heros.mean()"
   ]
  },
  {
   "cell_type": "code",
   "execution_count": 11,
   "id": "3a103598",
   "metadata": {},
   "outputs": [
    {
     "data": {
      "text/plain": [
       "120"
      ]
     },
     "execution_count": 11,
     "metadata": {},
     "output_type": "execute_result"
    }
   ],
   "source": [
    "heros.max()"
   ]
  },
  {
   "cell_type": "code",
   "execution_count": 12,
   "id": "a8cf65c2",
   "metadata": {},
   "outputs": [
    {
     "data": {
      "text/plain": [
       "90"
      ]
     },
     "execution_count": 12,
     "metadata": {},
     "output_type": "execute_result"
    }
   ],
   "source": [
    "heros.min()"
   ]
  },
  {
   "cell_type": "code",
   "execution_count": 13,
   "id": "60ca1e1b",
   "metadata": {},
   "outputs": [
    {
     "data": {
      "text/plain": [
       "Batman             200\n",
       "Superman           240\n",
       "Spider-Man         180\n",
       "Iron Man           190\n",
       "Captain America    220\n",
       "Wonder Woman       240\n",
       "dtype: int64"
      ]
     },
     "execution_count": 13,
     "metadata": {},
     "output_type": "execute_result"
    }
   ],
   "source": [
    "heros * 2"
   ]
  },
  {
   "cell_type": "code",
   "execution_count": 14,
   "id": "71cf6bd1",
   "metadata": {},
   "outputs": [
    {
     "data": {
      "text/plain": [
       "{'Batman': 100,\n",
       " 'Superman': 120,\n",
       " 'Spider-Man': 90,\n",
       " 'Iron Man': 95,\n",
       " 'Captain America': 110,\n",
       " 'Wonder Woman': 120}"
      ]
     },
     "execution_count": 14,
     "metadata": {},
     "output_type": "execute_result"
    }
   ],
   "source": [
    "dict(heroes)"
   ]
  },
  {
   "cell_type": "code",
   "execution_count": null,
   "id": "c072a1bb",
   "metadata": {},
   "outputs": [],
   "source": []
  }
 ],
 "metadata": {
  "kernelspec": {
   "display_name": "Python 3 (ipykernel)",
   "language": "python",
   "name": "python3"
  },
  "language_info": {
   "codemirror_mode": {
    "name": "ipython",
    "version": 3
   },
   "file_extension": ".py",
   "mimetype": "text/x-python",
   "name": "python",
   "nbconvert_exporter": "python",
   "pygments_lexer": "ipython3",
   "version": "3.9.12"
  }
 },
 "nbformat": 4,
 "nbformat_minor": 5
}
