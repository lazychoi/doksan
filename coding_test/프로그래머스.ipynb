{
 "cells": [
  {
   "cell_type": "code",
   "execution_count": 5,
   "id": "a56bdd14",
   "metadata": {},
   "outputs": [],
   "source": [
    "# 두 정수 사이의 합\n",
    "\n",
    "def solution(a, b):\n",
    "    answer = 0\n",
    "    if a > b:\n",
    "        a, b = b, a\n",
    "    nums = [ i for i in range(a, b + 1)]\n",
    "    answer = sum(nums)    \n",
    "    \n",
    "    return answer"
   ]
  },
  {
   "cell_type": "code",
   "execution_count": 6,
   "id": "d1eb98fa",
   "metadata": {},
   "outputs": [
    {
     "name": "stdout",
     "output_type": "stream",
     "text": [
      "12\n"
     ]
    }
   ],
   "source": [
    "print(solution(5, 3))"
   ]
  },
  {
   "cell_type": "code",
   "execution_count": 1,
   "id": "b5a506c1",
   "metadata": {},
   "outputs": [
    {
     "data": {
      "text/plain": [
       "'수박수'"
      ]
     },
     "execution_count": 1,
     "metadata": {},
     "output_type": "execute_result"
    }
   ],
   "source": [
    "# 수박수박수\n",
    "\n",
    "def solution(n):\n",
    "    answer = ''\n",
    "    for i in range(1, n + 1):\n",
    "        if i % 2 == 0:\n",
    "            answer += '박'\n",
    "        else:\n",
    "            answer += '수'\n",
    "    return answer\n",
    "\n",
    "solution(3)"
   ]
  },
  {
   "cell_type": "code",
   "execution_count": 2,
   "id": "2b08da79",
   "metadata": {},
   "outputs": [
    {
     "data": {
      "text/plain": [
       "'김서방은 1에 있다'"
      ]
     },
     "execution_count": 2,
     "metadata": {},
     "output_type": "execute_result"
    }
   ],
   "source": [
    "# 서울에서 김서방 찾기\n",
    "\n",
    "def solution(seoul):\n",
    "    answer = ''\n",
    "    for i in range(len(seoul)):\n",
    "        if 'Kim' == seoul[i]:\n",
    "            answer = f'김서방은 {i}에 있다'\n",
    "    return answer\n",
    "solution([\"Jane\", \"Kim\"])\n"
   ]
  },
  {
   "cell_type": "code",
   "execution_count": null,
   "id": "21f34e4d",
   "metadata": {},
   "outputs": [],
   "source": [
    "# 더 좋은 코드\n",
    "def findKim(seoul):\n",
    "    return \"김서방은 {}에 있다\".format(seoul.index('Kim'))"
   ]
  },
  {
   "cell_type": "code",
   "execution_count": 48,
   "id": "37dfdfa2",
   "metadata": {},
   "outputs": [
    {
     "name": "stdout",
     "output_type": "stream",
     "text": [
      "CPU times: user 24 µs, sys: 5 µs, total: 29 µs\n",
      "Wall time: 32.2 µs\n"
     ]
    },
    {
     "data": {
      "text/plain": [
       "1092"
      ]
     },
     "execution_count": 48,
     "metadata": {},
     "output_type": "execute_result"
    }
   ],
   "source": [
    "%%time\n",
    "# 약수의 합\n",
    "# 제곱근 + 1 까지만 반복\n",
    "def solution(n):\n",
    "    result = []\n",
    "    for i in range(1, int(n**.5)+1):\n",
    "        if n % i == 0:\n",
    "            result.extend([i, n//i])\n",
    "    return sum(result)\n",
    "solution(500)"
   ]
  },
  {
   "cell_type": "code",
   "execution_count": 47,
   "id": "d3c0e5a2",
   "metadata": {},
   "outputs": [
    {
     "name": "stdout",
     "output_type": "stream",
     "text": [
      "CPU times: user 79 µs, sys: 16 µs, total: 95 µs\n",
      "Wall time: 101 µs\n"
     ]
    },
    {
     "data": {
      "text/plain": [
       "1092"
      ]
     },
     "execution_count": 47,
     "metadata": {},
     "output_type": "execute_result"
    }
   ],
   "source": [
    "%%time\n",
    "# 숫자 전체를 반복\n",
    "# 중간을 넘어가면 중복되기 때문에 집합 자료형으로 설정\n",
    "def solution(n):\n",
    "    result = set()\n",
    "    for i in range(1, n+1):\n",
    "        if n % i == 0:\n",
    "            result.update([i, n//i])\n",
    "    return sum(result)\n",
    "solution(500)"
   ]
  },
  {
   "cell_type": "code",
   "execution_count": null,
   "id": "6b51e7c5",
   "metadata": {},
   "outputs": [],
   "source": []
  },
  {
   "cell_type": "code",
   "execution_count": null,
   "id": "73bfbf29",
   "metadata": {},
   "outputs": [],
   "source": []
  },
  {
   "cell_type": "code",
   "execution_count": null,
   "id": "15098227",
   "metadata": {},
   "outputs": [],
   "source": []
  },
  {
   "cell_type": "code",
   "execution_count": null,
   "id": "aba8f93b",
   "metadata": {},
   "outputs": [],
   "source": []
  }
 ],
 "metadata": {
  "kernelspec": {
   "display_name": "Python 3 (ipykernel)",
   "language": "python",
   "name": "python3"
  },
  "language_info": {
   "codemirror_mode": {
    "name": "ipython",
    "version": 3
   },
   "file_extension": ".py",
   "mimetype": "text/x-python",
   "name": "python",
   "nbconvert_exporter": "python",
   "pygments_lexer": "ipython3",
   "version": "3.9.12"
  }
 },
 "nbformat": 4,
 "nbformat_minor": 5
}
