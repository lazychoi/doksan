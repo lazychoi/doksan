{
 "cells": [
  {
   "cell_type": "code",
   "execution_count": 5,
   "id": "a56bdd14",
   "metadata": {},
   "outputs": [],
   "source": [
    "# 두 정수 사이의 합\n",
    "\n",
    "def solution(a, b):\n",
    "    answer = 0\n",
    "    if a > b:\n",
    "        a, b = b, a\n",
    "    nums = [ i for i in range(a, b + 1)]\n",
    "    answer = sum(nums)    \n",
    "    \n",
    "    return answer"
   ]
  },
  {
   "cell_type": "code",
   "execution_count": 6,
   "id": "d1eb98fa",
   "metadata": {},
   "outputs": [
    {
     "name": "stdout",
     "output_type": "stream",
     "text": [
      "12\n"
     ]
    }
   ],
   "source": [
    "print(solution(5, 3))"
   ]
  },
  {
   "cell_type": "code",
   "execution_count": 1,
   "id": "b5a506c1",
   "metadata": {},
   "outputs": [
    {
     "data": {
      "text/plain": [
       "'수박수'"
      ]
     },
     "execution_count": 1,
     "metadata": {},
     "output_type": "execute_result"
    }
   ],
   "source": [
    "# 수박수박수\n",
    "\n",
    "def solution(n):\n",
    "    answer = ''\n",
    "    for i in range(1, n + 1):\n",
    "        if i % 2 == 0:\n",
    "            answer += '박'\n",
    "        else:\n",
    "            answer += '수'\n",
    "    return answer\n",
    "\n",
    "solution(3)"
   ]
  },
  {
   "cell_type": "code",
   "execution_count": 2,
   "id": "2b08da79",
   "metadata": {},
   "outputs": [
    {
     "data": {
      "text/plain": [
       "'김서방은 1에 있다'"
      ]
     },
     "execution_count": 2,
     "metadata": {},
     "output_type": "execute_result"
    }
   ],
   "source": [
    "# 서울에서 김서방 찾기\n",
    "\n",
    "def solution(seoul):\n",
    "    answer = ''\n",
    "    for i in range(len(seoul)):\n",
    "        if 'Kim' == seoul[i]:\n",
    "            answer = f'김서방은 {i}에 있다'\n",
    "    return answer\n",
    "solution([\"Jane\", \"Kim\"])\n"
   ]
  },
  {
   "cell_type": "code",
   "execution_count": null,
   "id": "21f34e4d",
   "metadata": {},
   "outputs": [],
   "source": [
    "# 더 좋은 코드\n",
    "def findKim(seoul):\n",
    "    return \"김서방은 {}에 있다\".format(seoul.index('Kim'))"
   ]
  },
  {
   "cell_type": "code",
   "execution_count": 48,
   "id": "37dfdfa2",
   "metadata": {},
   "outputs": [
    {
     "name": "stdout",
     "output_type": "stream",
     "text": [
      "CPU times: user 24 µs, sys: 5 µs, total: 29 µs\n",
      "Wall time: 32.2 µs\n"
     ]
    },
    {
     "data": {
      "text/plain": [
       "1092"
      ]
     },
     "execution_count": 48,
     "metadata": {},
     "output_type": "execute_result"
    }
   ],
   "source": [
    "%%time\n",
    "# 약수의 합\n",
    "# 제곱근 + 1 까지만 반복\n",
    "def solution(n):\n",
    "    result = []\n",
    "    for i in range(1, int(n**.5)+1):\n",
    "        if n % i == 0:\n",
    "            result.extend([i, n//i])\n",
    "    return sum(result)\n",
    "solution(500)"
   ]
  },
  {
   "cell_type": "code",
   "execution_count": 47,
   "id": "d3c0e5a2",
   "metadata": {},
   "outputs": [
    {
     "name": "stdout",
     "output_type": "stream",
     "text": [
      "CPU times: user 79 µs, sys: 16 µs, total: 95 µs\n",
      "Wall time: 101 µs\n"
     ]
    },
    {
     "data": {
      "text/plain": [
       "1092"
      ]
     },
     "execution_count": 47,
     "metadata": {},
     "output_type": "execute_result"
    }
   ],
   "source": [
    "%%time\n",
    "# 숫자 전체를 반복\n",
    "# 중간을 넘어가면 중복되기 때문에 집합 자료형으로 설정\n",
    "def solution(n):\n",
    "    result = set()\n",
    "    for i in range(1, n+1):\n",
    "        if n % i == 0:\n",
    "            result.update([i, n//i])\n",
    "    return sum(result)\n",
    "solution(500)"
   ]
  },
  {
   "cell_type": "code",
   "execution_count": 7,
   "id": "6b51e7c5",
   "metadata": {},
   "outputs": [
    {
     "name": "stdout",
     "output_type": "stream",
     "text": [
      "CPU times: user 25 µs, sys: 17 µs, total: 42 µs\n",
      "Wall time: 47.4 µs\n"
     ]
    },
    {
     "data": {
      "text/plain": [
       "True"
      ]
     },
     "execution_count": 7,
     "metadata": {},
     "output_type": "execute_result"
    }
   ],
   "source": [
    "%%time\n",
    "# 문자열 내 p와 y의 개수\n",
    "\n",
    "def solution(s):\n",
    "    p_num, y_num = 0, 0\n",
    "    for i in s:\n",
    "        if 'p' == i.lower():\n",
    "            p_num += 1\n",
    "        elif 'y' == i.lower():\n",
    "            y_num += 1\n",
    "    return p_num == y_num\n",
    "solution('Hello Python')"
   ]
  },
  {
   "cell_type": "code",
   "execution_count": 6,
   "id": "73bfbf29",
   "metadata": {},
   "outputs": [
    {
     "name": "stdout",
     "output_type": "stream",
     "text": [
      "CPU times: user 6 µs, sys: 4 µs, total: 10 µs\n",
      "Wall time: 14.8 µs\n"
     ]
    },
    {
     "data": {
      "text/plain": [
       "True"
      ]
     },
     "execution_count": 6,
     "metadata": {},
     "output_type": "execute_result"
    }
   ],
   "source": [
    "%%time\n",
    "s.lower().count('p') == s.lower().count('y')"
   ]
  },
  {
   "cell_type": "code",
   "execution_count": 16,
   "id": "15098227",
   "metadata": {},
   "outputs": [
    {
     "data": {
      "text/plain": [
       "[1, 3, 0, 1]"
      ]
     },
     "execution_count": 16,
     "metadata": {},
     "output_type": "execute_result"
    }
   ],
   "source": [
    "# 같은 숫자는 싫어\n",
    "\n",
    "arr = [1, 1, 3, 3, 0, 1, 1]\n",
    "\n",
    "def solution(arr):\n",
    "    result = [arr[0]]\n",
    "    for i in range(1, len(arr)):\n",
    "        if result[-1] != arr[i]:\n",
    "            result.append(arr[i])\n",
    "    return result\n",
    "solution(arr)"
   ]
  },
  {
   "cell_type": "code",
   "execution_count": 24,
   "id": "aba8f93b",
   "metadata": {
    "scrolled": true
   },
   "outputs": [
    {
     "name": "stdout",
     "output_type": "stream",
     "text": [
      "CPU times: user 12 µs, sys: 8 µs, total: 20 µs\n",
      "Wall time: 24.8 µs\n"
     ]
    },
    {
     "data": {
      "text/plain": [
       "'we'"
      ]
     },
     "execution_count": 24,
     "metadata": {},
     "output_type": "execute_result"
    }
   ],
   "source": [
    "%%time\n",
    "# 가운데 글자 가져오기\n",
    "\n",
    "s = \"qwer\"\n",
    "a = ''\n",
    "if len(s) % 2 == 1:\n",
    "    a = s[(len(s)//2)]\n",
    "else:\n",
    "    a = s[(len(s)//2)-1]+s[(len(s)//2)]\n",
    "a"
   ]
  },
  {
   "cell_type": "code",
   "execution_count": 23,
   "id": "6e3f37d3",
   "metadata": {},
   "outputs": [
    {
     "name": "stdout",
     "output_type": "stream",
     "text": [
      "CPU times: user 16 µs, sys: 11 µs, total: 27 µs\n",
      "Wall time: 32.4 µs\n"
     ]
    },
    {
     "data": {
      "text/plain": [
       "'we'"
      ]
     },
     "execution_count": 23,
     "metadata": {},
     "output_type": "execute_result"
    }
   ],
   "source": [
    "%%time\n",
    "# 와, 슬라이싱 이용해 한 줄로 완성하다니...\n",
    "# 홀수이면 가운데(인덱스가 0부터 시작하니): ( 5-1 ) // 2 = 2 (3번째)\n",
    "# 짝수이면 (4-1) //2 = 1(2번째), 2(3번째)\n",
    "\n",
    "str = \"qwer\"\n",
    "a = str[(len(str)-1)//2:len(str)//2+1]\n",
    "a"
   ]
  },
  {
   "cell_type": "code",
   "execution_count": 40,
   "id": "e46b1190",
   "metadata": {},
   "outputs": [
    {
     "name": "stdout",
     "output_type": "stream",
     "text": [
      "999998999\n",
      "999999998"
     ]
    }
   ],
   "source": [
    "a = list(map(int, input()))\n",
    "\n",
    "for i in range(1, len(a)):\n",
    "    for j in range(i, 0, -1):\n",
    "        if a[j-1] < a[j]:\n",
    "            a[j-1], a[j] = a[j], a[j-1]\n",
    "for i in a:\n",
    "    print(i, end='')"
   ]
  },
  {
   "cell_type": "code",
   "execution_count": 46,
   "id": "8dca50e5",
   "metadata": {},
   "outputs": [
    {
     "data": {
      "text/html": [
       "<div>\n",
       "<style scoped>\n",
       "    .dataframe tbody tr th:only-of-type {\n",
       "        vertical-align: middle;\n",
       "    }\n",
       "\n",
       "    .dataframe tbody tr th {\n",
       "        vertical-align: top;\n",
       "    }\n",
       "\n",
       "    .dataframe thead th {\n",
       "        text-align: right;\n",
       "    }\n",
       "</style>\n",
       "<table border=\"1\" class=\"dataframe\">\n",
       "  <thead>\n",
       "    <tr style=\"text-align: right;\">\n",
       "      <th></th>\n",
       "      <th>0</th>\n",
       "      <th>1</th>\n",
       "    </tr>\n",
       "  </thead>\n",
       "  <tbody>\n",
       "    <tr>\n",
       "      <th>0</th>\n",
       "      <td>True</td>\n",
       "      <td>True</td>\n",
       "    </tr>\n",
       "    <tr>\n",
       "      <th>1</th>\n",
       "      <td>True</td>\n",
       "      <td>False</td>\n",
       "    </tr>\n",
       "  </tbody>\n",
       "</table>\n",
       "</div>"
      ],
      "text/plain": [
       "      0      1\n",
       "0  True   True\n",
       "1  True  False"
      ]
     },
     "execution_count": 46,
     "metadata": {},
     "output_type": "execute_result"
    }
   ],
   "source": [
    "a = pd.DataFrame([[1, 2], [3, np.nan]])\n",
    "b = a\n",
    "a == b"
   ]
  },
  {
   "cell_type": "code",
   "execution_count": null,
   "id": "5260b223",
   "metadata": {},
   "outputs": [],
   "source": []
  }
 ],
 "metadata": {
  "kernelspec": {
   "display_name": "Python 3 (ipykernel)",
   "language": "python",
   "name": "python3"
  },
  "language_info": {
   "codemirror_mode": {
    "name": "ipython",
    "version": 3
   },
   "file_extension": ".py",
   "mimetype": "text/x-python",
   "name": "python",
   "nbconvert_exporter": "python",
   "pygments_lexer": "ipython3",
   "version": "3.9.12"
  }
 },
 "nbformat": 4,
 "nbformat_minor": 5
}
