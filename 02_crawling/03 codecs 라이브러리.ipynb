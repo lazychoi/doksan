{
 "cells": [
  {
   "cell_type": "markdown",
   "id": "2c05df67",
   "metadata": {},
   "source": [
    "# codecs 라이브러리\n",
    "\n",
    "- 파이썬 3.5버전 들어서 내장 라이브러리로 바뀜(예전에는 pip로 설치해야 했었음)\n",
    "- 파이썬으로 텍스트파일을 제어할 수 있도록(읽어오기, 쓰기) 도와줌\n",
    "- 콘솔창에 출력된 내용을 txt파일로 옮겨서 출력할때 사용\n",
    "<br><br>\n",
    "- 특이사항\n",
    "    - 개행은 \\r\\n으로 처리함\n",
    "    - mode => w(기존에 있던 자료 없애고 새 파일 입력)\n",
    "    - mode => a(기존에 있던 자료에 이어서 계속 입력)\n",
    "    - mode => r(텍스트파일에 있던 내용 읽어오기)"
   ]
  },
  {
   "cell_type": "code",
   "execution_count": 1,
   "id": "3bee5928",
   "metadata": {},
   "outputs": [],
   "source": [
    "import codecs"
   ]
  },
  {
   "cell_type": "code",
   "execution_count": 10,
   "id": "592110b7",
   "metadata": {},
   "outputs": [],
   "source": [
    "# f 변수가 텍스트파일 그 자체처럼 사용됨\n",
    "# .open(파일경로(파일이 존재하지 않으면 새 텍스트 파일 생성), encoding='인코딩 방식', mode='모드')\n",
    "\n",
    "f = codecs.open(\"C:/Users/Playdata/Documents/test.txt\", mode='w')\n",
    "\n",
    "# .write('적을 내용')을 실행하면 텍스트 파일 내부에 작성됨\n",
    "# 'hello world'를 10번 작성\n",
    "\n",
    "for i in range(10):\n",
    "    f.write(f'{i}. Hello World\\n')\n",
    "\n",
    "# 반드시 종료를 해주어야 함\n",
    "f.close()"
   ]
  },
  {
   "cell_type": "code",
   "execution_count": 19,
   "id": "6c3beb2b",
   "metadata": {},
   "outputs": [
    {
     "name": "stdout",
     "output_type": "stream",
     "text": [
      "['0. Hello World\\n', '1. Hello World\\n', '2. Hello World\\n', '3. Hello World\\n', '4. Hello World\\n', '5. Hello World\\n', '6. Hello World\\n', '7. Hello World\\n', '8. Hello World\\n', '9. Hello World\\n']\n",
      "두 번째 명령어 \n",
      "\n",
      "0. Hello World\n",
      "\n",
      "1. Hello World\n",
      "2. Hello World\n",
      "3. Hello World\n",
      "4. Hello World\n",
      "5. Hello World\n",
      "6. Hello World\n",
      "7. Hello World\n",
      "8. Hello World\n",
      "9. Hello World\n",
      "\n"
     ]
    }
   ],
   "source": [
    "# 기존에 작성된 텍스트 자료 읽어오기\n",
    "\n",
    "f = codecs.open(\"C:/Users/Playdata/Documents/test.txt\", mode='r')\n",
    "\n",
    "# 줄 단위로 하나하나의 자료를 나누기 => 리스트로 반환\n",
    "# 한 번만 실행 가능\n",
    "\n",
    "print(f.readlines()) \n",
    "\n",
    "# 맨 윗 줄 한 줄만 읽어오기 \n",
    "\n",
    "print('두 번째 명령어', f.readline())  # 위 명령으로 포인터가 맨 끝으로 가서 다시 읽어올 수 없음\n",
    "print()\n",
    "\n",
    "f = codecs.open(\"C:/Users/Playdata/Documents/test.txt\", mode='r')\n",
    "\n",
    "# 한 줄씩 읽어오기 \n",
    "\n",
    "print(f.readline())\n",
    "print(f.readline())\n",
    "\n",
    "# 전체 데이터를 단일 문자열로 가져오기 => 이미 가져온 첫 번째 줄은 가져오지 않음\n",
    "print(f.read())\n",
    "\n",
    "f.close()"
   ]
  },
  {
   "cell_type": "code",
   "execution_count": null,
   "id": "a629a4c3",
   "metadata": {},
   "outputs": [],
   "source": []
  }
 ],
 "metadata": {
  "kernelspec": {
   "display_name": "Python 3 (ipykernel)",
   "language": "python",
   "name": "python3"
  },
  "language_info": {
   "codemirror_mode": {
    "name": "ipython",
    "version": 3
   },
   "file_extension": ".py",
   "mimetype": "text/x-python",
   "name": "python",
   "nbconvert_exporter": "python",
   "pygments_lexer": "ipython3",
   "version": "3.9.12"
  }
 },
 "nbformat": 4,
 "nbformat_minor": 5
}
