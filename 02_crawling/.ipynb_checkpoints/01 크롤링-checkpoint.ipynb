{
 "cells": [
  {
   "cell_type": "markdown",
   "id": "3eb3a366",
   "metadata": {},
   "source": [
    "# 크롤링\n",
    "\n",
    "- 웹에서 원하는 자료를 컴퓨터에게 수집해오도록 하는 기술\n",
    "- requests 라이브러리를 활용한 브라우저 없는 크롤링\n",
    "- selenium 라이브러리를 활용한 물리 드라이버 크롤링\n",
    "- urllib 라이브러리를 활용한 api 크롤링\n",
    "- 크롤러의 역할은 원하는 정보를 포함한 자료를 수집해오는 것까지며\n",
    "- 실제로 원하는 데이터를 용도에 맞게 처리하는 것은 Beautifulsoup가 담당한다."
   ]
  },
  {
   "cell_type": "code",
   "execution_count": 3,
   "id": "60362d07",
   "metadata": {
    "collapsed": true
   },
   "outputs": [
    {
     "ename": "ModuleNotFoundError",
     "evalue": "No module named 'selenium'",
     "output_type": "error",
     "traceback": [
      "\u001b[0;31m---------------------------------------------------------------------------\u001b[0m",
      "\u001b[0;31mModuleNotFoundError\u001b[0m                       Traceback (most recent call last)",
      "Cell \u001b[0;32mIn [3], line 4\u001b[0m\n\u001b[1;32m      1\u001b[0m \u001b[38;5;66;03m# 크롤링 작업 위한 라이브러리 임포트\u001b[39;00m\n\u001b[1;32m      3\u001b[0m \u001b[38;5;28;01mfrom\u001b[39;00m \u001b[38;5;21;01mbs4\u001b[39;00m \u001b[38;5;28;01mimport\u001b[39;00m BeautifulSoup\n\u001b[0;32m----> 4\u001b[0m \u001b[38;5;28;01mfrom\u001b[39;00m \u001b[38;5;21;01mselenium\u001b[39;00m \u001b[38;5;28;01mimport\u001b[39;00m webdriver\n\u001b[1;32m      5\u001b[0m \u001b[38;5;28;01mimport\u001b[39;00m \u001b[38;5;21;01mrequests\u001b[39;00m\n",
      "\u001b[0;31mModuleNotFoundError\u001b[0m: No module named 'selenium'"
     ]
    }
   ],
   "source": [
    "# 크롤링 작업 위한 라이브러리 임포트\n",
    "\n",
    "from bs4 import BeautifulSoup\n",
    "from selenium import webdriver\n",
    "import requests"
   ]
  },
  {
   "cell_type": "markdown",
   "id": "bea97f11",
   "metadata": {},
   "source": [
    "# selenuim 설치\n",
    "\n",
    "1. anaconda navigator에서 좌측 environments 선택\n",
    "2. 중간에 base(root) 우측에 붙어있는 재생버튼 클릭 -> open terminal 선택\n",
    "3. 열리는 cmd 창에서 pip install selenium 입력\n"
   ]
  },
  {
   "cell_type": "markdown",
   "id": "3f767b7c",
   "metadata": {},
   "source": [
    "## 크롬드라이버 다운받기\n",
    "\n",
    "1. 크롬창 우측 상단 메뉴 클릭\n",
    "2. 밑에서 두 번째에 있는 \"도움말\" 항목에 마우스 갖다대기\n",
    "3. Chrome정보 클릭하기\n",
    "4. Chrome정보에 나온 버전(강사 컴퓨터는 현재 크롬 101버전 사용중) 확인하기\n",
    "5. https://chromedriver.chromium.org/downloads\n",
    "   위 주소로 접속해서 버전에 맞는 다운로드 링크로 가기\n",
    "6. chromedriver zip파일 받아서 내부 chromedriver.exe파일에 대한 압축을 주피터노트북 코드가 있는 쪽에 풀기\n",
    "   (window -> win32, 리눅스 맥 등은 맞는버전으로)"
   ]
  },
  {
   "cell_type": "code",
   "execution_count": 1,
   "id": "47b9abdc",
   "metadata": {
    "collapsed": true
   },
   "outputs": [
    {
     "ename": "NameError",
     "evalue": "name 'webdriver' is not defined",
     "output_type": "error",
     "traceback": [
      "\u001b[0;31m---------------------------------------------------------------------------\u001b[0m",
      "\u001b[0;31mNameError\u001b[0m                                 Traceback (most recent call last)",
      "Cell \u001b[0;32mIn [1], line 3\u001b[0m\n\u001b[1;32m      1\u001b[0m \u001b[38;5;66;03m# driver라는 변수를 이용해 물리 브라우저를 제어합니다.\u001b[39;00m\n\u001b[0;32m----> 3\u001b[0m driver \u001b[38;5;241m=\u001b[39m webdriver\u001b[38;5;241m.\u001b[39mChrome(\u001b[38;5;124m'\u001b[39m\u001b[38;5;124mchromedriver\u001b[39m\u001b[38;5;124m'\u001b[39m)\n\u001b[1;32m      5\u001b[0m \u001b[38;5;66;03m# 브라우저를 다 쓰면 닫아야 메모리가 절약된다.\u001b[39;00m\n\u001b[1;32m      6\u001b[0m driver\u001b[38;5;241m.\u001b[39mclose()\n",
      "\u001b[0;31mNameError\u001b[0m: name 'webdriver' is not defined"
     ]
    }
   ],
   "source": [
    "# driver라는 변수를 이용해 물리 브라우저를 제어합니다.\n",
    "\n",
    "driver = webdriver.Chrome('chromedriver')\n",
    "\n",
    "# 딜레이 1초\n",
    "# time.sleep(지연시간(초)) 입력시 해당시간만큼 코드 시연이 지연됨\n",
    "time.sleep(1)\n",
    "\n",
    "# .get(접속주소)를 입력하면 브라우저가 해당 주소로 접속\n",
    "driver.get('https://naver.com')\n",
    "\n",
    "# \n",
    "\n",
    "# 브라우저를 다 쓰면 닫아야 메모리가 절약된다.\n",
    "driver.close()"
   ]
  },
  {
   "cell_type": "code",
   "execution_count": null,
   "id": "2ee8440e",
   "metadata": {},
   "outputs": [],
   "source": []
  }
 ],
 "metadata": {
  "kernelspec": {
   "display_name": "Python 3 (ipykernel)",
   "language": "python",
   "name": "python3"
  },
  "language_info": {
   "codemirror_mode": {
    "name": "ipython",
    "version": 3
   },
   "file_extension": ".py",
   "mimetype": "text/x-python",
   "name": "python",
   "nbconvert_exporter": "python",
   "pygments_lexer": "ipython3",
   "version": "3.10.6"
  }
 },
 "nbformat": 4,
 "nbformat_minor": 5
}
