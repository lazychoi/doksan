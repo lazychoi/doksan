{
 "cells": [
  {
   "cell_type": "markdown",
   "id": "26794139",
   "metadata": {},
   "source": [
    "## > 연산자\n",
    "\n",
    "- 산술 : +, -, *, /, //(몫), %(나머지)\n",
    "- 비교 : ==(값이 같은지), !=(값이 다른지), <=, >=, <, >\n",
    "- 논리 : and, or\n",
    "- 할당 : =, +=(누적합), -=(누적차), *=(누적곱), /=(몫만 남기기), %=(나머지만 남기기)"
   ]
  },
  {
   "cell_type": "markdown",
   "id": "9c03a251",
   "metadata": {},
   "source": [
    "### 산술연산자 : 숫자를 계산하기 위한 문법 기호"
   ]
  },
  {
   "cell_type": "code",
   "execution_count": 1,
   "id": "fb21965f",
   "metadata": {},
   "outputs": [
    {
     "data": {
      "text/plain": [
       "13"
      ]
     },
     "execution_count": 1,
     "metadata": {},
     "output_type": "execute_result"
    }
   ],
   "source": [
    "# 더하기 : +\n",
    "# 정수 + 정수 => 정수로 출력\n",
    "10+3"
   ]
  },
  {
   "cell_type": "code",
   "execution_count": 2,
   "id": "99fa6ff2",
   "metadata": {},
   "outputs": [
    {
     "data": {
      "text/plain": [
       "15.700000000000001"
      ]
     },
     "execution_count": 2,
     "metadata": {},
     "output_type": "execute_result"
    }
   ],
   "source": [
    "# 실수 + 실수 => 실수로 출력 => 계산할 때는 실수로 변환 후 계산됨\n",
    "13.3+2.4"
   ]
  },
  {
   "cell_type": "markdown",
   "id": "4e507a3f",
   "metadata": {},
   "source": [
    "#### 실수 => 2진수 변환  \n",
    "\n",
    "- 0.3, 0.4는 2진수로 떨어지지 않음  \n",
    "- 0.3 = 0.01001......  \n",
    "- 0.4 = 0.01100110...\n",
    "\n",
    "십진수 -> 2진수 변환 방법: https://kimi10.tistory.com/4  \n",
    "변환기 : https://ourcalc.com/2%EC%A7%84%EC%88%98-%EB%B3%80%ED%99%98%EA%B8%B0/"
   ]
  },
  {
   "cell_type": "code",
   "execution_count": 3,
   "id": "965a7fe9",
   "metadata": {
    "scrolled": true
   },
   "outputs": [
    {
     "data": {
      "text/plain": [
       "13.4"
      ]
     },
     "execution_count": 3,
     "metadata": {},
     "output_type": "execute_result"
    }
   ],
   "source": [
    "# 정수 + 실수 => 실수로 출력\n",
    "10 + 3.4"
   ]
  },
  {
   "cell_type": "code",
   "execution_count": 4,
   "id": "59025b6c",
   "metadata": {},
   "outputs": [
    {
     "data": {
      "text/plain": [
       "7"
      ]
     },
     "execution_count": 4,
     "metadata": {},
     "output_type": "execute_result"
    }
   ],
   "source": [
    "# 빼기 : -\n",
    "# 주피터노트북은 print() 구문을 쓰지 않을 시 가장 마지막 줄의 결과만 화면에 보여줍니다.\n",
    "# 만약 모든 줄의 결과를 화면에 보여주고 싶다면 매 구문마다 print() 구문을 써야 합니다.\n",
    "10-3"
   ]
  },
  {
   "cell_type": "code",
   "execution_count": 6,
   "id": "a7019b55",
   "metadata": {},
   "outputs": [
    {
     "data": {
      "text/plain": [
       "-4.7"
      ]
     },
     "execution_count": 6,
     "metadata": {},
     "output_type": "execute_result"
    }
   ],
   "source": [
    "3 - 7.7 # 3을 먼저 3.0으로 바꾼 뒤 계산됨"
   ]
  },
  {
   "cell_type": "code",
   "execution_count": 8,
   "id": "0cdae959",
   "metadata": {},
   "outputs": [
    {
     "data": {
      "text/plain": [
       "1.0"
      ]
     },
     "execution_count": 8,
     "metadata": {},
     "output_type": "execute_result"
    }
   ],
   "source": [
    "# 나누기 : /\n",
    "# 다른 언어와 달리 파이썬에서는 정수 나누기 정수도 실수로 출력. \n",
    "# 자바, cpp 등 대다수 언어는 정수/정수는 정수로 나온다.\n",
    "3 / 3"
   ]
  },
  {
   "cell_type": "code",
   "execution_count": 9,
   "id": "4630870a",
   "metadata": {},
   "outputs": [
    {
     "data": {
      "text/plain": [
       "(12, -15)"
      ]
     },
     "execution_count": 9,
     "metadata": {},
     "output_type": "execute_result"
    }
   ],
   "source": [
    "# 곱하기 : *\n",
    "3 * 4, -3 * 5"
   ]
  },
  {
   "cell_type": "code",
   "execution_count": 11,
   "id": "e5720b07",
   "metadata": {},
   "outputs": [
    {
     "data": {
      "text/plain": [
       "-5"
      ]
     },
     "execution_count": 11,
     "metadata": {},
     "output_type": "execute_result"
    }
   ],
   "source": [
    "# 파이썬에서도 사칙연산의 우선순위를 ()로 조절할 수 있다.\n",
    "( 3 - 4 ) * 5"
   ]
  },
  {
   "cell_type": "code",
   "execution_count": 13,
   "id": "5a2d1c88",
   "metadata": {},
   "outputs": [
    {
     "data": {
      "text/plain": [
       "1"
      ]
     },
     "execution_count": 13,
     "metadata": {},
     "output_type": "execute_result"
    }
   ],
   "source": [
    "# 정수 몫 반환 : //\n",
    "# 나눗셈 결과값보다 작은 정수 중에서 가장 큰 정수\n",
    "5 // 4 "
   ]
  },
  {
   "cell_type": "code",
   "execution_count": 14,
   "id": "7f2dcf20",
   "metadata": {},
   "outputs": [
    {
     "data": {
      "text/plain": [
       "(-1.25, -2)"
      ]
     },
     "execution_count": 14,
     "metadata": {},
     "output_type": "execute_result"
    }
   ],
   "source": [
    "-5 / 4, -5 // 4"
   ]
  },
  {
   "cell_type": "code",
   "execution_count": 15,
   "id": "1326cff3",
   "metadata": {},
   "outputs": [
    {
     "data": {
      "text/plain": [
       "3"
      ]
     },
     "execution_count": 15,
     "metadata": {},
     "output_type": "execute_result"
    }
   ],
   "source": [
    "# 정수 몫을 구하고 남은 나머지만 반환 : %\n",
    "3 % 4"
   ]
  },
  {
   "cell_type": "code",
   "execution_count": 16,
   "id": "67e66c0d",
   "metadata": {},
   "outputs": [
    {
     "data": {
      "text/plain": [
       "8"
      ]
     },
     "execution_count": 16,
     "metadata": {},
     "output_type": "execute_result"
    }
   ],
   "source": [
    "# 지수 : **\n",
    "2 ** 3"
   ]
  },
  {
   "cell_type": "code",
   "execution_count": 17,
   "id": "890cdee4",
   "metadata": {},
   "outputs": [
    {
     "data": {
      "text/plain": [
       "1.4142135623730951"
      ]
     },
     "execution_count": 17,
     "metadata": {},
     "output_type": "execute_result"
    }
   ],
   "source": [
    "# 제곱근, 세제곱근 등도 계산 가능\n",
    "2 ** 0.5"
   ]
  },
  {
   "cell_type": "markdown",
   "id": "523302af",
   "metadata": {},
   "source": [
    "## 비교연산자: 자료를 비교하기 위한 문법 기호\n",
    "\n",
    "- 결과가 숫자가 아니라 bool type\n",
    "- bool type\n",
    "    - True : 0이 아닌 숫자, 참인 조건식 등\n",
    "    - False : 0, 거짓인 조건식 등\n",
    "- 값에 대한 비교 : ==, !=\n",
    "- 크기에 대한 비교 : >, <, >=, <=\n"
   ]
  },
  {
   "cell_type": "code",
   "execution_count": 18,
   "id": "1a2dcce3",
   "metadata": {},
   "outputs": [
    {
     "data": {
      "text/plain": [
       "True"
      ]
     },
     "execution_count": 18,
     "metadata": {},
     "output_type": "execute_result"
    }
   ],
   "source": [
    "# 두 값이 같은지 비교 : ==\n",
    "0 == 0.0"
   ]
  },
  {
   "cell_type": "code",
   "execution_count": 19,
   "id": "9f33dfdf",
   "metadata": {},
   "outputs": [
    {
     "data": {
      "text/plain": [
       "True"
      ]
     },
     "execution_count": 19,
     "metadata": {},
     "output_type": "execute_result"
    }
   ],
   "source": [
    "1 == 1.0"
   ]
  },
  {
   "cell_type": "code",
   "execution_count": 20,
   "id": "03b37c8f",
   "metadata": {},
   "outputs": [
    {
     "data": {
      "text/plain": [
       "False"
      ]
     },
     "execution_count": 20,
     "metadata": {},
     "output_type": "execute_result"
    }
   ],
   "source": [
    "type(1) == type(1.0)"
   ]
  },
  {
   "cell_type": "code",
   "execution_count": null,
   "id": "04250fb5",
   "metadata": {},
   "outputs": [
    {
     "ename": "",
     "evalue": "",
     "output_type": "error",
     "traceback": [
      "\u001b[1;31mJupyter를 시작할 수 없습니다. Jupyter를 찾는 중 오류: Jupyter를 시작할 인터프리터 선택\n",
      "\u001b[1;31m다음 명령어를 실행하여 Python 환경에 'jupyter 및 notebook'을(를) 설치합니다. \n",
      "\u001b[1;31m 명령: 'python -m pip install jupyter notebook -U\n",
      "\u001b[1;31mor\n",
      "\u001b[1;31mconda install jupyter notebook -U'\n",
      "\u001b[1;31m자세한 내용을 보려면 <a href='https://aka.ms/installJupyterForVSCode'>여기</a>를 클릭합니다."
     ]
    }
   ],
   "source": [
    "1==1"
   ]
  },
  {
   "cell_type": "code",
   "execution_count": null,
   "id": "487eca0b",
   "metadata": {},
   "outputs": [],
   "source": []
  }
 ],
 "metadata": {
  "kernelspec": {
   "display_name": "Python 3.9.12 ('base')",
   "language": "python",
   "name": "python3"
  },
  "language_info": {
   "codemirror_mode": {
    "name": "ipython",
    "version": 3
   },
   "file_extension": ".py",
   "mimetype": "text/x-python",
   "name": "python",
   "nbconvert_exporter": "python",
   "pygments_lexer": "ipython3",
   "version": "3.9.12"
  },
  "vscode": {
   "interpreter": {
    "hash": "ad2bdc8ecc057115af97d19610ffacc2b4e99fae6737bb82f5d7fb13d2f2c186"
   }
  }
 },
 "nbformat": 4,
 "nbformat_minor": 5
}
