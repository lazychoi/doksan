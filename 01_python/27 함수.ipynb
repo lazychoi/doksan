{
 "cells": [
  {
   "cell_type": "markdown",
   "id": "62a8476d",
   "metadata": {},
   "source": [
    "# 함수\n",
    "\n",
    "\n",
    "## 함수의 종류 \n",
    "\n",
    "- 사용자 정의함수 \n",
    "- 내장 함수 (print(), input(), type(), len() ....)\n",
    "- 외장 함수 \n",
    "    - import 명령을 이용해서 문서에 로딩해서 사용 \n",
    "    - pip install 패키지|모듈 \n",
    "\n",
    "\n",
    "## 사용자정의 함수\n",
    "\n",
    "반복적으로 사용하는 기능을 묶어서 함수로 정의하면 간편하게 사용할 수 있다.\n",
    "\n",
    "- 기본 문법\n",
    "```\n",
    " def 함수이름(매개변수) :\n",
    "     <수행할 내용1>\n",
    "     <수행할 내용2>\n",
    "     <수행할 내용3>\n",
    "     return\n",
    "```\n",
    "- 매개변수\n",
    "    - 함수 안에서 사용할 값을 전달하는 변수로 <수행할 내용> 문장에서 변수로 사용된다.\n",
    "    - 함수 정의문에서는 매개변수로서 선언되며 실제로 함수를 호출할 때는 인자값으로 전달된다.\n",
    "- 용어\n",
    "    - def : 함수를 정의할 때 사용하는 키워드\n",
    "    - return : 함수의 결과값을 반환하는 키워드\n",
    "    - 입력값 = 인수, 입력 인수, 인자\n",
    "    - 결과값 = 출력값, 리턴값, 돌려주는 값, 반환 값"
   ]
  },
  {
   "cell_type": "code",
   "execution_count": null,
   "id": "72220847",
   "metadata": {},
   "outputs": [],
   "source": [
    "# 완전한 실행문 : 인수 X, 반환 X"
   ]
  },
  {
   "cell_type": "code",
   "execution_count": 1,
   "id": "7d66a894",
   "metadata": {},
   "outputs": [
    {
     "name": "stdout",
     "output_type": "stream",
     "text": [
      "4\n"
     ]
    }
   ],
   "source": [
    "# 기본적인 함수 예제(불완전한 실행문)\n",
    "\n",
    "def plus(a):\n",
    "    print(a + 1)\n",
    "plus(3)"
   ]
  },
  {
   "cell_type": "code",
   "execution_count": 2,
   "id": "14dbd956",
   "metadata": {
    "scrolled": true
   },
   "outputs": [
    {
     "ename": "NameError",
     "evalue": "name 'a' is not defined",
     "output_type": "error",
     "traceback": [
      "\u001b[0;31m---------------------------------------------------------------------------\u001b[0m",
      "\u001b[0;31mNameError\u001b[0m                                 Traceback (most recent call last)",
      "Cell \u001b[0;32mIn [2], line 4\u001b[0m\n\u001b[1;32m      1\u001b[0m \u001b[38;5;66;03m# 함수 내부에 선언된 변수는 함수 외부에서 호출할 수 없다.\u001b[39;00m\n\u001b[1;32m      2\u001b[0m \u001b[38;5;66;03m# 함수나 기타 블록 내부에 선언된 변수를 '지역변수'라고 부른다.\u001b[39;00m\n\u001b[0;32m----> 4\u001b[0m \u001b[38;5;28mprint\u001b[39m(a)\n",
      "\u001b[0;31mNameError\u001b[0m: name 'a' is not defined"
     ]
    }
   ],
   "source": [
    "# 함수 내부에 선언된 변수는 함수 외부에서 호출할 수 없다.\n",
    "# 함수나 기타 블록 내부에 선언된 변수를 '지역변수'라고 부른다.\n",
    "\n",
    "print(a)"
   ]
  },
  {
   "cell_type": "code",
   "execution_count": 3,
   "id": "6c863b10",
   "metadata": {},
   "outputs": [
    {
     "name": "stdout",
     "output_type": "stream",
     "text": [
      "6\n",
      "None\n"
     ]
    }
   ],
   "source": [
    "print(plus(5))"
   ]
  },
  {
   "cell_type": "code",
   "execution_count": 6,
   "id": "37e0073d",
   "metadata": {},
   "outputs": [],
   "source": [
    "# return 구문은 함수 내 마지막 지점에 사용\n",
    "# return 구문이 실행되면, 함수가 종료되며 동시에 해당 함수의 결과값이\n",
    "# 호출한 위치에 할당됨\n",
    "\n",
    "def plus2(a):\n",
    "    return a + 1"
   ]
  },
  {
   "cell_type": "markdown",
   "id": "a16e0b12",
   "metadata": {},
   "source": [
    "## 매개변수와 인수\n",
    "\n",
    "- 매개변수(parameter, 입력인자, 입력값): 함수에 전달된 값을 저장하는 변수 / 함수를 선언할 때 정의하는 변수\n",
    "- 인수 / 인자(argument): 함수를 호출(사용)할 때 전달하는 입력값"
   ]
  },
  {
   "cell_type": "code",
   "execution_count": 17,
   "id": "544d4a02",
   "metadata": {},
   "outputs": [
    {
     "data": {
      "text/plain": [
       "3"
      ]
     },
     "execution_count": 17,
     "metadata": {},
     "output_type": "execute_result"
    }
   ],
   "source": [
    "# 매개변수를 2개 이상 받는 케이스\n",
    "# sum_func 라는 이름으로 함수 선언\n",
    "# 이 함수는 num1, num2 2개 변수를 입력받고\n",
    "# 둘을 합산한 값을 반환\n",
    "\n",
    "def sum_func(num1, num2):\n",
    "    return num1 + num2\n",
    "\n",
    "sum_func(1,2)"
   ]
  },
  {
   "cell_type": "markdown",
   "id": "fb0a1940",
   "metadata": {},
   "source": [
    "## 매개변수가 있는 함수\n",
    "\n",
    "- 인자값을 전달할 때 값만 입력하면 순서대로 매개변수에 할당된다.\n",
    "- 매개변수명을 지정하여 전달할 수 있다."
   ]
  },
  {
   "cell_type": "code",
   "execution_count": 22,
   "id": "d6fda68b",
   "metadata": {},
   "outputs": [
    {
     "name": "stdout",
     "output_type": "stream",
     "text": [
      "num1:  1\n",
      "num2:  2\n",
      "num3:  3\n"
     ]
    },
    {
     "data": {
      "text/plain": [
       "6"
      ]
     },
     "execution_count": 22,
     "metadata": {},
     "output_type": "execute_result"
    }
   ],
   "source": [
    "# 매개변수가 3개인 함수 설정\n",
    "# 매개변수명 3개는 임의로\n",
    "# print()로 매개변수 3개 출력\n",
    "# result 변수에 3개합을 저장한 뒤 리턴\n",
    "# 함수명 test1\n",
    "\n",
    "def test1(num1, num2, num3):\n",
    "    print('num1: ', num1)\n",
    "    print('num2: ', num2)\n",
    "    print('num3: ', num3)\n",
    "    result = num1 + num2 + num3\n",
    "    return result\n",
    "\n",
    "test1(1,2,3)"
   ]
  },
  {
   "cell_type": "code",
   "execution_count": 23,
   "id": "49fdf94d",
   "metadata": {},
   "outputs": [
    {
     "data": {
      "text/plain": [
       "(139812918756208, 139812918756176)"
      ]
     },
     "execution_count": 23,
     "metadata": {},
     "output_type": "execute_result"
    }
   ],
   "source": [
    "x = 20\n",
    "y = x\n",
    "x += 1\n",
    "id(x), id(y)"
   ]
  },
  {
   "cell_type": "code",
   "execution_count": 25,
   "id": "763c58c0",
   "metadata": {},
   "outputs": [
    {
     "data": {
      "text/plain": [
       "(21, 20)"
      ]
     },
     "execution_count": 25,
     "metadata": {},
     "output_type": "execute_result"
    }
   ],
   "source": [
    "x, y"
   ]
  },
  {
   "cell_type": "code",
   "execution_count": 27,
   "id": "409db9b6",
   "metadata": {},
   "outputs": [
    {
     "name": "stdout",
     "output_type": "stream",
     "text": [
      "num1:  1\n",
      "num2:  3\n",
      "num3:  2\n"
     ]
    },
    {
     "data": {
      "text/plain": [
       "6"
      ]
     },
     "execution_count": 27,
     "metadata": {},
     "output_type": "execute_result"
    }
   ],
   "source": [
    "# 매개변수에 순서를 다르게 전달하고 싶다면 매개변수를 지목해 값을 대입한다.\n",
    "\n",
    "\n",
    "test1(num2=3, num1=1, num3=2)"
   ]
  },
  {
   "cell_type": "markdown",
   "id": "1ba6b289",
   "metadata": {},
   "source": [
    "## 매개변수 초기값 설정\n",
    "\n",
    "- 함수 정의문에서 매개변수값을 할당하면 초기값으로 설정\n",
    "- 함수 호출시 값을 입력하지 않으면 초기값을 사용\n",
    "- 초기화시키고 싶은 매개변수들을 항상 뒤쪽에 위치  \n",
    "(참고) 포맷팅함수에서 인덱스번호, 변수명 사용 규칙과 유사"
   ]
  },
  {
   "cell_type": "code",
   "execution_count": 29,
   "id": "5e9af3db",
   "metadata": {},
   "outputs": [
    {
     "data": {
      "text/plain": [
       "6"
      ]
     },
     "execution_count": 29,
     "metadata": {},
     "output_type": "execute_result"
    }
   ],
   "source": [
    "# 디폴트값 선언 사용\n",
    "\n",
    "def test2(a=1, b=2, c=3):\n",
    "    result = a + b + c\n",
    "    return result\n",
    "\n",
    "test2()"
   ]
  },
  {
   "cell_type": "code",
   "execution_count": 31,
   "id": "2f630fa5",
   "metadata": {},
   "outputs": [
    {
     "ename": "SyntaxError",
     "evalue": "non-default argument follows default argument (4009753815.py, line 3)",
     "output_type": "error",
     "traceback": [
      "\u001b[0;36m  Cell \u001b[0;32mIn [31], line 3\u001b[0;36m\u001b[0m\n\u001b[0;31m    def test3(a=0, b=1, c):\u001b[0m\n\u001b[0m                        ^\u001b[0m\n\u001b[0;31mSyntaxError\u001b[0m\u001b[0;31m:\u001b[0m non-default argument follows default argument\n"
     ]
    }
   ],
   "source": [
    "# 디폴트값 설정은 반드시 오른쪽 요소부터 지정한다.\n",
    "\n",
    "def test3(a=0, b=1, c):\n",
    "    return a+b+c"
   ]
  },
  {
   "cell_type": "markdown",
   "id": "2a426069",
   "metadata": {},
   "source": [
    "## 가변인자 리스트\n",
    "\n",
    "- 입력할 파라미터 개수가 몇 개인지 모를 때 사용\n",
    "- 파리미터명 왼쪽에 *을 붙인다.\n"
   ]
  },
  {
   "cell_type": "code",
   "execution_count": 37,
   "id": "37d33318",
   "metadata": {},
   "outputs": [
    {
     "name": "stdout",
     "output_type": "stream",
     "text": [
      "('aa', 'b', 'c', 'd', 'e', 'f', 'g', 'h', 'i')\n",
      "<class 'tuple'>\n"
     ]
    },
    {
     "data": {
      "text/plain": [
       "('aa', 'b', 'c', 'd', 'e', 'f', 'g', 'h', 'i')"
      ]
     },
     "execution_count": 37,
     "metadata": {},
     "output_type": "execute_result"
    }
   ],
   "source": [
    "def get_members(*stu):\n",
    "    print(stu)\n",
    "    print(type(stu))\n",
    "    return stu\n",
    "\n",
    "get_members('aa','b', 'c', 'd', 'e','f','g','h','i')"
   ]
  },
  {
   "cell_type": "code",
   "execution_count": 36,
   "id": "a43a05a9",
   "metadata": {},
   "outputs": [
    {
     "data": {
      "text/plain": [
       "()"
      ]
     },
     "execution_count": 36,
     "metadata": {},
     "output_type": "execute_result"
    }
   ],
   "source": [
    "get_members()"
   ]
  },
  {
   "cell_type": "code",
   "execution_count": 45,
   "id": "2bea81cc",
   "metadata": {},
   "outputs": [
    {
     "data": {
      "text/plain": [
       "55.0"
      ]
     },
     "execution_count": 45,
     "metadata": {},
     "output_type": "execute_result"
    }
   ],
   "source": [
    "# 가변 파라미터(*변수명)를 이용해서 학생들의 점수를 입력받는대로 저장해서\n",
    "# 총점, 평균값 리턴\n",
    "\n",
    "def get_avg(*scores):\n",
    "    total = 0\n",
    "    for score in scores:\n",
    "        total += score\n",
    "    \n",
    "    return total/len(scores)\n",
    "\n",
    "get_avg(10,20,30,40,50, 60, 70, 80, 90, 100)"
   ]
  },
  {
   "cell_type": "markdown",
   "id": "858dd3af",
   "metadata": {},
   "source": [
    "## 키워드 파라미터 kwargs(keyword arguments)\n",
    "\n",
    "딕셔너리 형태로 저장되는 매개변수로 정의"
   ]
  },
  {
   "cell_type": "code",
   "execution_count": 46,
   "id": "3566b394",
   "metadata": {},
   "outputs": [
    {
     "data": {
      "text/plain": [
       "{'name': '홍길동', 'age': 19}"
      ]
     },
     "execution_count": 46,
     "metadata": {},
     "output_type": "execute_result"
    }
   ],
   "source": [
    "# ** 두 개가 붙으면 딕셔너리 형태로 가변인자를 받음\n",
    "# 이 경우 변수명=값 형식으로 호출해야 전달됨\n",
    "\n",
    "def test4(**kwargs):\n",
    "    return kwargs\n",
    "\n",
    "test4(name='홍길동', age=19)"
   ]
  },
  {
   "cell_type": "markdown",
   "id": "01977990",
   "metadata": {},
   "source": [
    "## 함수의 결과 값\n",
    "\n",
    "- 함수의 결과 값은 항상 1개\n",
    "- 여러 개의 결과를 가질 수 있지만 하나의 튜플로 전달\n",
    "\n",
    "- 기본 문법\n",
    "```  \n",
    "def 함수이름(매개변수이름):\n",
    "    return 결과값 1 , 결과값 2\n",
    "```"
   ]
  },
  {
   "cell_type": "code",
   "execution_count": 48,
   "id": "a8455162",
   "metadata": {},
   "outputs": [
    {
     "name": "stdout",
     "output_type": "stream",
     "text": [
      "(7, 12)\n"
     ]
    }
   ],
   "source": [
    "# return 키워드는 전달받은 결과들을 하나의 튜플로 묶어서 반환\n",
    "# 최종적으로 '하나의 변수'에 담을 수 있는 '하나의 값'으로 처리된다.\n",
    "\n",
    "def test(a, b):\n",
    "    sum_ = a + b\n",
    "    mul = a * b\n",
    "    return sum_, mul\n",
    "\n",
    "a = test(3, 4)\n",
    "print(a)"
   ]
  },
  {
   "cell_type": "code",
   "execution_count": 49,
   "id": "96c9a8dd",
   "metadata": {},
   "outputs": [
    {
     "name": "stdout",
     "output_type": "stream",
     "text": [
      "11\n",
      "30\n"
     ]
    }
   ],
   "source": [
    "# 결과를 개별 변수에 쪼개서 가져오기\n",
    "# 튜플 리턴시 좌변에 튜플 내부요소 개수만큼 변수를 선언하면 따로 저장\n",
    "\n",
    "s, m = test(5, 6)\n",
    "print(s)\n",
    "print(m)"
   ]
  },
  {
   "cell_type": "code",
   "execution_count": 60,
   "id": "5702d41a",
   "metadata": {},
   "outputs": [
    {
     "data": {
      "text/plain": [
       "<list_reverseiterator at 0x7f289d107670>"
      ]
     },
     "execution_count": 60,
     "metadata": {},
     "output_type": "execute_result"
    }
   ],
   "source": [
    "a = [3,2,1,4,56]\n",
    "reversed(a)"
   ]
  },
  {
   "cell_type": "code",
   "execution_count": 63,
   "id": "58973dab",
   "metadata": {},
   "outputs": [
    {
     "data": {
      "text/plain": [
       "[1, 2, 10]"
      ]
     },
     "execution_count": 63,
     "metadata": {},
     "output_type": "execute_result"
    }
   ],
   "source": [
    "# 리스트로 입력받은 수들에 대해 양수만 필터링해서 반환\n",
    "# 조건1. 입력값은 인자값으로 가변인자 리스트를 전달\n",
    "# 조건2. 결과값은 양수로만 구성된 새로운 리스트\n",
    "\n",
    "def get_positive(*numbers):\n",
    "    result = []\n",
    "    for num in numbers:\n",
    "        if num > 0:\n",
    "            result.append(num)\n",
    "    return result\n",
    "\n",
    "get_positive(1,2, -4, 0, 10)"
   ]
  },
  {
   "cell_type": "code",
   "execution_count": null,
   "id": "f1aab06f",
   "metadata": {},
   "outputs": [],
   "source": []
  }
 ],
 "metadata": {
  "kernelspec": {
   "display_name": "Python 3 (ipykernel)",
   "language": "python",
   "name": "python3"
  },
  "language_info": {
   "codemirror_mode": {
    "name": "ipython",
    "version": 3
   },
   "file_extension": ".py",
   "mimetype": "text/x-python",
   "name": "python",
   "nbconvert_exporter": "python",
   "pygments_lexer": "ipython3",
   "version": "3.10.6"
  }
 },
 "nbformat": 4,
 "nbformat_minor": 5
}
