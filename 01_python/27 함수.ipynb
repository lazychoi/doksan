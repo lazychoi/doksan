{
 "cells": [
  {
   "cell_type": "markdown",
   "id": "ef23fc7b",
   "metadata": {},
   "source": [
    "# 함수\n",
    "\n",
    "\n",
    "## 함수의 종류 \n",
    "\n",
    "- 사용자 정의함수 \n",
    "- 내장 함수 (print(), input(), type(), len() ....)\n",
    "- 외장 함수 \n",
    "    - import 명령을 이용해서 문서에 로딩해서 사용 \n",
    "    - pip install 패키지|모듈 \n",
    "\n",
    "\n",
    "## 사용자정의 함수\n",
    "\n",
    "반복적으로 사용하는 기능을 묶어서 함수로 정의하면 간편하게 사용할 수 있다.\n",
    "\n",
    "- 기본 문법\n",
    "```\n",
    " def 함수이름(매개변수) :\n",
    "     <수행할 내용1>\n",
    "     <수행할 내용2>\n",
    "     <수행할 내용3>\n",
    "     return\n",
    "```\n",
    "- 매개변수\n",
    "    - 함수 안에서 사용할 값을 전달하는 변수로 <수행할 내용> 문장에서 변수로 사용된다.\n",
    "    - 함수 정의문에서는 매개변수로서 선언되며 실제로 함수를 호출할 때는 인자값으로 전달된다.\n",
    "- 용어\n",
    "    - def : 함수를 정의할 때 사용하는 키워드\n",
    "    - return : 함수의 결과값을 반환하는 키워드\n",
    "    - 입력값 = 인수, 입력 인수, 인자\n",
    "    - 결과값 = 출력값, 리턴값, 돌려주는 값, 반환 값"
   ]
  },
  {
   "cell_type": "code",
   "execution_count": null,
   "id": "d509bf3e",
   "metadata": {},
   "outputs": [],
   "source": [
    "# 완전한 실행문 : 인수 X, 반환 X"
   ]
  },
  {
   "cell_type": "code",
   "execution_count": 1,
   "id": "d56862ed",
   "metadata": {},
   "outputs": [
    {
     "name": "stdout",
     "output_type": "stream",
     "text": [
      "4\n"
     ]
    }
   ],
   "source": [
    "# 기본적인 함수 예제(불완전한 실행문)\n",
    "\n",
    "def plus(a):\n",
    "    print(a + 1)\n",
    "plus(3)"
   ]
  },
  {
   "cell_type": "code",
   "execution_count": null,
   "id": "9089cbc9",
   "metadata": {},
   "outputs": [],
   "source": []
  },
  {
   "cell_type": "code",
   "execution_count": null,
   "id": "648fc984",
   "metadata": {},
   "outputs": [],
   "source": []
  },
  {
   "cell_type": "code",
   "execution_count": null,
   "id": "862f9725",
   "metadata": {},
   "outputs": [],
   "source": []
  },
  {
   "cell_type": "code",
   "execution_count": null,
   "id": "1faf2d88",
   "metadata": {},
   "outputs": [],
   "source": []
  },
  {
   "cell_type": "code",
   "execution_count": null,
   "id": "94232e5f",
   "metadata": {},
   "outputs": [],
   "source": []
  },
  {
   "cell_type": "code",
   "execution_count": null,
   "id": "bd773c79",
   "metadata": {},
   "outputs": [],
   "source": []
  }
 ],
 "metadata": {
  "kernelspec": {
   "display_name": "Python 3 (ipykernel)",
   "language": "python",
   "name": "python3"
  },
  "language_info": {
   "codemirror_mode": {
    "name": "ipython",
    "version": 3
   },
   "file_extension": ".py",
   "mimetype": "text/x-python",
   "name": "python",
   "nbconvert_exporter": "python",
   "pygments_lexer": "ipython3",
   "version": "3.10.6"
  }
 },
 "nbformat": 4,
 "nbformat_minor": 5
}
