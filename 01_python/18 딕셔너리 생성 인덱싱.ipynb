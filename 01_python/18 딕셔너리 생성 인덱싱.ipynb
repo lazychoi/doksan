{
 "cells": [
  {
   "cell_type": "markdown",
   "id": "17271ffb",
   "metadata": {},
   "source": [
    "# 3. 딕셔너리(Dictionary)\n",
    "\n",
    "- 문법 기호/함수 : {key1 : value1, key2 : value2, key3 : value3 ... } / 함수 : dict()\n",
    "- key로 가질 수 있는 데이터 타입 : 문자, 숫자, 튜플(Tuple)\n",
    "- value로 가질 수 있는 데이터 타입 : 문자, 숫자, 리스트(List), 딕셔너리(Dict) ...\n",
    "- 아이템 = key&value 하나의 쌍\n",
    "- 종류\n",
    "     * 아이템이 없는 딕셔너리\n",
    "     * 1차원 딕셔너리\n",
    "     * 다차원 딕셔너리\n",
    "- 특징\n",
    "     * key, value의 차이점\n",
    "     * 인덱스 번호를 가지지 않는다.\n",
    "     \n",
    "## 생성"
   ]
  },
  {
   "cell_type": "code",
   "execution_count": 1,
   "id": "fc028d53",
   "metadata": {},
   "outputs": [
    {
     "data": {
      "text/plain": [
       "dict"
      ]
     },
     "execution_count": 1,
     "metadata": {},
     "output_type": "execute_result"
    }
   ],
   "source": [
    "# 문법 기호 : {k1:v1, k2:v2, ....}\n",
    "\n",
    "d1 = {1:10, 2:20, 3:30}\n",
    "type(d1)"
   ]
  },
  {
   "cell_type": "code",
   "execution_count": 2,
   "id": "3d5c8898",
   "metadata": {},
   "outputs": [
    {
     "data": {
      "text/plain": [
       "{}"
      ]
     },
     "execution_count": 2,
     "metadata": {},
     "output_type": "execute_result"
    }
   ],
   "source": [
    "# dict()를 이용해 생성\n",
    "\n",
    "d2 = dict()\n",
    "d2"
   ]
  },
  {
   "cell_type": "code",
   "execution_count": 3,
   "id": "8d5c6046",
   "metadata": {},
   "outputs": [],
   "source": [
    "# 2차원 리스트 => 딕셔너리\n",
    "\n",
    "x = [['a', 'b'],\n",
    "     ['a1','b1'],\n",
    "     ['a2','b2']]"
   ]
  },
  {
   "cell_type": "code",
   "execution_count": 4,
   "id": "de891a51",
   "metadata": {},
   "outputs": [
    {
     "data": {
      "text/plain": [
       "{'a': 'b', 'a1': 'b1', 'a2': 'b2'}"
      ]
     },
     "execution_count": 4,
     "metadata": {},
     "output_type": "execute_result"
    }
   ],
   "source": [
    "dict(x)"
   ]
  },
  {
   "cell_type": "code",
   "execution_count": 5,
   "id": "cd4bc388",
   "metadata": {},
   "outputs": [
    {
     "data": {
      "text/plain": [
       "{1: [1, 2, 3], 2: {'a': 'b'}}"
      ]
     },
     "execution_count": 5,
     "metadata": {},
     "output_type": "execute_result"
    }
   ],
   "source": [
    "# 딕셔너리의 value에 들어갈 수 있는 자료에는 제약이 없다.\n",
    "\n",
    "{1:[1,2,3], 2:{'a':'b'}}"
   ]
  },
  {
   "cell_type": "code",
   "execution_count": 7,
   "id": "ef7b080e",
   "metadata": {},
   "outputs": [
    {
     "data": {
      "text/plain": [
       "{'name': '임꺽정', 'name2': '임꺽정'}"
      ]
     },
     "execution_count": 7,
     "metadata": {},
     "output_type": "execute_result"
    }
   ],
   "source": [
    "# key와 value의 차이\n",
    "# key에는 중복된 자료가 못 들어가며\n",
    "# 만약 선언단계에서 중복된 key로 선언 시 가장 마지막 하나만 반영됨\n",
    "\n",
    "{\"name\":\"홍길동\", \"name\":\"임꺽정\",\"name2\":\"임꺽정\"}"
   ]
  },
  {
   "cell_type": "markdown",
   "id": "1945e8fd",
   "metadata": {},
   "source": [
    "## 인덱싱\n",
    "\n",
    "- 인덱싱 문법 기호\n",
    "- 일차원 vs 다차원 인덱싱\n",
    "- 딕셔너리 내장함수로 인덱싱"
   ]
  },
  {
   "cell_type": "code",
   "execution_count": 8,
   "id": "89eba3ff",
   "metadata": {},
   "outputs": [
    {
     "data": {
      "text/plain": [
       "1"
      ]
     },
     "execution_count": 8,
     "metadata": {},
     "output_type": "execute_result"
    }
   ],
   "source": [
    "# 기존의 인덱싱 방법: 객체[인덱싱번호]\n",
    "\n",
    "a = [1,2,3]\n",
    "a[0]"
   ]
  },
  {
   "cell_type": "code",
   "execution_count": 9,
   "id": "270d86bd",
   "metadata": {},
   "outputs": [
    {
     "data": {
      "text/plain": [
       "10"
      ]
     },
     "execution_count": 9,
     "metadata": {},
     "output_type": "execute_result"
    }
   ],
   "source": [
    "# 문자, 리스트타입 인덱싱과의 차이점 : 인덱스번호가 아닌 key 사용\n",
    "\n",
    "d1 = {'a':10, 'b':20, 'c':30}\n",
    "d1['a']"
   ]
  },
  {
   "cell_type": "code",
   "execution_count": 11,
   "id": "bc3f287d",
   "metadata": {},
   "outputs": [],
   "source": [
    "# 내장함수 .get()을 사용하면, 없는 키로 조회해도 에러가 나지 않는다.\n",
    "\n",
    "d1.get('z')"
   ]
  },
  {
   "cell_type": "code",
   "execution_count": 12,
   "id": "9c967913",
   "metadata": {},
   "outputs": [
    {
     "ename": "TypeError",
     "evalue": "unhashable type: 'slice'",
     "output_type": "error",
     "traceback": [
      "\u001b[0;31m---------------------------------------------------------------------------\u001b[0m",
      "\u001b[0;31mTypeError\u001b[0m                                 Traceback (most recent call last)",
      "Cell \u001b[0;32mIn [12], line 4\u001b[0m\n\u001b[1;32m      1\u001b[0m \u001b[38;5;66;03m# 딕셔너리는 슬라이싱이 불가능하다.\u001b[39;00m\n\u001b[1;32m      2\u001b[0m \u001b[38;5;66;03m# 슬라이싱 대신 반복문을 사용해야 한다.\u001b[39;00m\n\u001b[0;32m----> 4\u001b[0m d1[\u001b[38;5;124m'\u001b[39m\u001b[38;5;124ma\u001b[39m\u001b[38;5;124m'\u001b[39m:\u001b[38;5;124m'\u001b[39m\u001b[38;5;124mc\u001b[39m\u001b[38;5;124m'\u001b[39m]\n",
      "\u001b[0;31mTypeError\u001b[0m: unhashable type: 'slice'"
     ]
    }
   ],
   "source": [
    "# 딕셔너리는 슬라이싱이 불가능하다.\n",
    "# 슬라이싱 대신 반복문을 사용해야 한다.\n",
    "# error\n",
    "\n",
    "d1['a':'c']"
   ]
  },
  {
   "cell_type": "markdown",
   "id": "50342212",
   "metadata": {},
   "source": [
    "## 연습문제\n",
    "\n",
    "아래와 같은 다차원 딕셔너리를 만들고 제시한 값을 출력해보세요.\n",
    "\n",
    "{'a' : [1, 2, 3], 'b' : 100, 'c' : {'key1' : ['파인애플', '포도', '바나나'], 'key2' : (55, 66)}}\n",
    "\n",
    "* 1) 3 출력하기\n",
    "* 2) ['파인애플', '포도', '바나나']\n",
    "* 3) 포도 출력하기\n",
    "* 4) 55 출력하기"
   ]
  },
  {
   "cell_type": "code",
   "execution_count": 13,
   "id": "fb11d139",
   "metadata": {},
   "outputs": [],
   "source": [
    "d1= {'a' : [1, 2, 3],\n",
    "     'b' : 100,\n",
    "     'c' : {'key1' : ['파인애플', '포도', '바나나'],\n",
    "            'key2' : (55, 66)}}"
   ]
  },
  {
   "cell_type": "code",
   "execution_count": 17,
   "id": "eda26465",
   "metadata": {},
   "outputs": [
    {
     "name": "stdout",
     "output_type": "stream",
     "text": [
      "3\n",
      "['파인애플', '포도', '바나나']\n",
      "포도\n",
      "55\n"
     ]
    }
   ],
   "source": [
    "# 3 출력\n",
    "\n",
    "print( d1['a'][2] )\n",
    "\n",
    "# ['파인애플', '포도', '바나나']  출력\n",
    "\n",
    "print( d1['c']['key1'] )\n",
    "\n",
    "# 포도 출력\n",
    "\n",
    "print( d1['c']['key1'][1] )\n",
    "\n",
    "# 55 출력\n",
    "\n",
    "print( d1['c']['key2'][0] )"
   ]
  },
  {
   "cell_type": "code",
   "execution_count": null,
   "id": "c439e8db",
   "metadata": {},
   "outputs": [],
   "source": []
  }
 ],
 "metadata": {
  "kernelspec": {
   "display_name": "Python 3 (ipykernel)",
   "language": "python",
   "name": "python3"
  },
  "language_info": {
   "codemirror_mode": {
    "name": "ipython",
    "version": 3
   },
   "file_extension": ".py",
   "mimetype": "text/x-python",
   "name": "python",
   "nbconvert_exporter": "python",
   "pygments_lexer": "ipython3",
   "version": "3.10.6"
  }
 },
 "nbformat": 4,
 "nbformat_minor": 5
}
