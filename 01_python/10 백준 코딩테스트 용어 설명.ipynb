{
 "cells": [
  {
   "cell_type": "markdown",
   "id": "92537ab0",
   "metadata": {},
   "source": [
    "# 백준 용어 및 대응 파이썬 코드\n",
    "\n",
    "## 입력\n",
    "\n",
    "- 입력은 사용자의 입력을 의미\n",
    "- 코드가 실행된 다음 사용자가 직접 입력할 수 있도록 코딩\n",
    "- 파이썬에서는 input()을 기본적으로 사용\n",
    "- 성능향상이 필요한 경우 sys.stdin.readlin() 사용\n",
    "- 브론즈 하위~중위 수준에서는 input()만으로도 풀린다."
   ]
  },
  {
   "cell_type": "code",
   "execution_count": 1,
   "id": "378c3ab7",
   "metadata": {},
   "outputs": [
    {
     "name": "stdout",
     "output_type": "stream",
     "text": [
      "입력하세요ㅇㅇ\n"
     ]
    },
    {
     "data": {
      "text/plain": [
       "'ㅇㅇ'"
      ]
     },
     "execution_count": 1,
     "metadata": {},
     "output_type": "execute_result"
    }
   ],
   "source": [
    "# input('안내문구')를 입력하면\n",
    "# 사용자에게 입력할 수 있는 양식 제공\n",
    "# 사용자가 입력한 자료를 문자 형식으로 전달\n",
    "input('입력하세요')"
   ]
  },
  {
   "cell_type": "code",
   "execution_count": null,
   "id": "ccbb7753",
   "metadata": {},
   "outputs": [],
   "source": []
  }
 ],
 "metadata": {
  "kernelspec": {
   "display_name": "Python 3 (ipykernel)",
   "language": "python",
   "name": "python3"
  },
  "language_info": {
   "codemirror_mode": {
    "name": "ipython",
    "version": 3
   },
   "file_extension": ".py",
   "mimetype": "text/x-python",
   "name": "python",
   "nbconvert_exporter": "python",
   "pygments_lexer": "ipython3",
   "version": "3.10.6"
  }
 },
 "nbformat": 4,
 "nbformat_minor": 5
}
