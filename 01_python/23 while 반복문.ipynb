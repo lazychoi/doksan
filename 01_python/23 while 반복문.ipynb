{
 "cells": [
  {
   "cell_type": "markdown",
   "id": "69f55d61",
   "metadata": {},
   "source": [
    "# while 반복문(+조건문)\n",
    "\n",
    "- 주어진 조건을 판단하여 조건이 참일 동안 특정한 명령문을 반복적으로 수행하는 것\n",
    "- 기본 문법\n",
    "```\n",
    "while 조건문:\n",
    "    반복적으로 수행할 문장1\n",
    "    반복적으로 수행할 문장2\n",
    "    ... \n",
    "```\n",
    "\n",
    "- 주의해야할 문법 :\n",
    "    - 조건문 뒤에 반드시 콜론(:)을 써야 한다.\n",
    "    - 조건문이 있는 문장 하위에 속하는 실행문장들은 반드시 한 번 들여쓰기 되어야 한다. ( 자동 / tab / space 4번)\n",
    "    - 무한반복문에 대한 이해와 관련된 키워드(break, continue 등)를 활용할 수 있어야 한다.\n",
    "- 무한반복문 : 조건문이 무조건 참인 경우, while 반복문은 무한히 반복된다.\n",
    "    - break 키워드 : 특정 조건을 만족할 경우 제어문을 빠져나가 반복을 종료한다.\n",
    "    - continue : 특정 조건을 만족할 경우 반복문을 종료하는 것이 아니라 반복문의 시작으로 돌아간다. (참고) pass"
   ]
  },
  {
   "cell_type": "code",
   "execution_count": 1,
   "id": "f0d972ea",
   "metadata": {},
   "outputs": [
    {
     "name": "stdout",
     "output_type": "stream",
     "text": [
      "Hello world\n",
      "Hello world\n",
      "Hello world\n"
     ]
    }
   ],
   "source": [
    "# hello world 3번 출력\n",
    "\n",
    "loop = 0\n",
    "while loop <= 2:\n",
    "    loop += 1\n",
    "    print('Hello world')"
   ]
  },
  {
   "cell_type": "code",
   "execution_count": 3,
   "id": "1a70ecc3",
   "metadata": {},
   "outputs": [
    {
     "name": "stdout",
     "output_type": "stream",
     "text": [
      "무한루프 1\n",
      "무한루프 2\n",
      "무한루프 3\n",
      "무한루프 4\n",
      "무한루프 5\n",
      "무한루프 6\n",
      "무한루프 7\n",
      "무한루프 8\n",
      "무한루프 9\n",
      "무한루프 10\n",
      "무한루프 11\n"
     ]
    }
   ],
   "source": [
    "# while 문의 조건식이 무조건 참으로 판단되는 경우 무한루프가 된다.\n",
    "# 이 경우 보통 break문을 조합해 종료한다.\n",
    "\n",
    "a = 1\n",
    "while True:\n",
    "    print('무한루프', a)\n",
    "    if a > 10:\n",
    "        break\n",
    "    a += 1"
   ]
  },
  {
   "cell_type": "code",
   "execution_count": 4,
   "id": "303722e1",
   "metadata": {},
   "outputs": [
    {
     "name": "stdout",
     "output_type": "stream",
     "text": [
      "3\n",
      "5\n",
      "7\n",
      "9\n"
     ]
    }
   ],
   "source": [
    "# 돌던 바퀴만 스킵하고, 전체 반복문 실행은 유지하고 싶다면 continue를 사용\n",
    "\n",
    "a = 1\n",
    "while a < 10:\n",
    "    a += 1\n",
    "    if a % 2 == 0:\n",
    "        continue  # 이후 코드 생략하고 다음 반복 시작점으로 이동\n",
    "    print(a)"
   ]
  },
  {
   "cell_type": "markdown",
   "id": "1e881831",
   "metadata": {},
   "source": [
    "## 연습문제\n",
    "\n",
    "- 초기식에는 score 변수에 100을 저장하고,\n",
    "- 이후 while문에서 score가 60점 이상인 경우에 다시 score 새 점수를 받고\n",
    "- 입력받은 점수들은 리스트 변수 score_list에 저장\n",
    "- 60점 미만의 점수가 score에 저장되면 반복문 탈출\n",
    "- score_list에 저장된 점수는 내림차순 정렬"
   ]
  },
  {
   "cell_type": "code",
   "execution_count": 9,
   "id": "fd013004",
   "metadata": {},
   "outputs": [
    {
     "name": "stdout",
     "output_type": "stream",
     "text": [
      "70\n",
      "80\n",
      "90\n",
      "100\n",
      "1\n",
      "[100, 90, 80, 70, 1]\n"
     ]
    }
   ],
   "source": [
    "score = 100\n",
    "score_list = []\n",
    "while score >= 60:\n",
    "    new = int(input())\n",
    "    score_list.append(new)\n",
    "    if new < 60:\n",
    "        break\n",
    "score_list.sort(reverse=True)\n",
    "print(score_list)"
   ]
  },
  {
   "cell_type": "code",
   "execution_count": 16,
   "id": "f90ef983",
   "metadata": {},
   "outputs": [
    {
     "name": "stdout",
     "output_type": "stream",
     "text": [
      "0\n",
      "[0]\n"
     ]
    }
   ],
   "source": [
    "# break를 사용하지 않고 작성\n",
    "\n",
    "score = 100\n",
    "score_list = []\n",
    "while score >= 60:\n",
    "    score = int(input())\n",
    "    score_list.append(score)\n",
    "\n",
    "score_list.sort(reverse=True)\n",
    "print(score_list)"
   ]
  },
  {
   "cell_type": "code",
   "execution_count": null,
   "id": "18aed3d9",
   "metadata": {},
   "outputs": [],
   "source": []
  }
 ],
 "metadata": {
  "kernelspec": {
   "display_name": "Python 3 (ipykernel)",
   "language": "python",
   "name": "python3"
  },
  "language_info": {
   "codemirror_mode": {
    "name": "ipython",
    "version": 3
   },
   "file_extension": ".py",
   "mimetype": "text/x-python",
   "name": "python",
   "nbconvert_exporter": "python",
   "pygments_lexer": "ipython3",
   "version": "3.10.6"
  }
 },
 "nbformat": 4,
 "nbformat_minor": 5
}
