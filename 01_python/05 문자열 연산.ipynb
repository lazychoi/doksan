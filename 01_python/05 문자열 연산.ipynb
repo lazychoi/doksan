{
 "cells": [
  {
   "cell_type": "markdown",
   "id": "7ed33fb3",
   "metadata": {},
   "source": [
    "# 문자열 연산\n",
    "\n",
    "## 산술연산자 : 문자, 숫자를 함께 연산하기 위한 문법 기호\n",
    "\n",
    "- 문자와 문자를 연결\n",
    "- 동일한 문자를 반복해서 연결"
   ]
  },
  {
   "cell_type": "code",
   "execution_count": 1,
   "id": "54e33bd4",
   "metadata": {},
   "outputs": [
    {
     "data": {
      "text/plain": [
       "'가나'"
      ]
     },
     "execution_count": 1,
     "metadata": {},
     "output_type": "execute_result"
    }
   ],
   "source": [
    "# 문자와 문자를 연결 : +\n",
    "\"가\" + \"나\""
   ]
  },
  {
   "cell_type": "code",
   "execution_count": 2,
   "id": "882ba84b",
   "metadata": {},
   "outputs": [
    {
     "data": {
      "text/plain": [
       "'가 나'"
      ]
     },
     "execution_count": 2,
     "metadata": {},
     "output_type": "execute_result"
    }
   ],
   "source": [
    "# 문자열에 공백 추가 ('가 나'로 출력)\n",
    "\"가\"+\" \"+\"나\""
   ]
  },
  {
   "cell_type": "code",
   "execution_count": 3,
   "id": "4d1e10b8",
   "metadata": {
    "collapsed": true
   },
   "outputs": [
    {
     "ename": "TypeError",
     "evalue": "can only concatenate str (not \"int\") to str",
     "output_type": "error",
     "traceback": [
      "\u001b[0;31m---------------------------------------------------------------------------\u001b[0m",
      "\u001b[0;31mTypeError\u001b[0m                                 Traceback (most recent call last)",
      "Cell \u001b[0;32mIn [3], line 3\u001b[0m\n\u001b[1;32m      1\u001b[0m \u001b[38;5;66;03m# 파이썬 더하기는 양변 자료가 같거나 논리적으로 비슷하다고 인정되어야 함\u001b[39;00m\n\u001b[1;32m      2\u001b[0m \u001b[38;5;66;03m# 문자 + 숫자 = Error\u001b[39;00m\n\u001b[0;32m----> 3\u001b[0m \u001b[38;5;124m'\u001b[39m\u001b[38;5;124m가\u001b[39m\u001b[38;5;124m'\u001b[39m\u001b[38;5;241m+\u001b[39m\u001b[38;5;241m1\u001b[39m\n",
      "\u001b[0;31mTypeError\u001b[0m: can only concatenate str (not \"int\") to str"
     ]
    }
   ],
   "source": [
    "# 파이썬 더하기는 양변 자료가 같거나 논리적으로 비슷하다고 인정되어야 함\n",
    "# 문자 + 숫자 = Error\n",
    "'가'+1"
   ]
  },
  {
   "cell_type": "code",
   "execution_count": 4,
   "id": "1583fe1c",
   "metadata": {},
   "outputs": [
    {
     "data": {
      "text/plain": [
       "'abcabcabc'"
      ]
     },
     "execution_count": 4,
     "metadata": {},
     "output_type": "execute_result"
    }
   ],
   "source": [
    "# 문자를 여러 번 반복하기 : *\n",
    "# 동일한 문자열을 여러 번 반복함\n",
    "'abc'*3"
   ]
  },
  {
   "cell_type": "code",
   "execution_count": 5,
   "id": "afa0c6d9",
   "metadata": {
    "collapsed": true
   },
   "outputs": [
    {
     "ename": "TypeError",
     "evalue": "can't multiply sequence by non-int of type 'str'",
     "output_type": "error",
     "traceback": [
      "\u001b[0;31m---------------------------------------------------------------------------\u001b[0m",
      "\u001b[0;31mTypeError\u001b[0m                                 Traceback (most recent call last)",
      "Cell \u001b[0;32mIn [5], line 2\u001b[0m\n\u001b[1;32m      1\u001b[0m \u001b[38;5;66;03m# 문자 * 문자 = Error\u001b[39;00m\n\u001b[0;32m----> 2\u001b[0m \u001b[38;5;124m'\u001b[39m\u001b[38;5;124mabc\u001b[39m\u001b[38;5;124m'\u001b[39m\u001b[38;5;241m*\u001b[39m\u001b[38;5;124m'\u001b[39m\u001b[38;5;124ma\u001b[39m\u001b[38;5;124m'\u001b[39m\n",
      "\u001b[0;31mTypeError\u001b[0m: can't multiply sequence by non-int of type 'str'"
     ]
    }
   ],
   "source": [
    "# 문자 * 문자 = Error\n",
    "'abc'*'a'"
   ]
  },
  {
   "cell_type": "markdown",
   "id": "ea571004",
   "metadata": {},
   "source": [
    "## 비교연산자 : 문자의 크기를 비교하기 위한 문법 기호\n",
    "\n",
    "문자 비교\n",
    "\n",
    "- 대문자 vs 소문자 : 대문자 < 소문자\n",
    "- 알파벳 : 알파벳 순서가 뒤에 있을수록 크기가 더 크다\n",
    "- 문자 길이 : 문자열의 길이가 길수록 크기가 더 크다\n",
    "\n",
    "- A : 65\n",
    "- a : 97\n",
    "- '0' : 48\n",
    "- ' ' : 32"
   ]
  },
  {
   "cell_type": "code",
   "execution_count": 9,
   "id": "75d143d9",
   "metadata": {},
   "outputs": [
    {
     "data": {
      "text/plain": [
       "(65, 97, 48, 32)"
      ]
     },
     "execution_count": 9,
     "metadata": {},
     "output_type": "execute_result"
    }
   ],
   "source": [
    "ord('A'), ord('a'), ord('0'), ord(' ')"
   ]
  },
  {
   "cell_type": "code",
   "execution_count": 10,
   "id": "6dd18303",
   "metadata": {},
   "outputs": [
    {
     "data": {
      "text/plain": [
       "('A', 'a', '0', ' ')"
      ]
     },
     "execution_count": 10,
     "metadata": {},
     "output_type": "execute_result"
    }
   ],
   "source": [
    "chr(65), chr(97), chr(48), chr(32)"
   ]
  },
  {
   "cell_type": "code",
   "execution_count": 13,
   "id": "061e5fd2",
   "metadata": {},
   "outputs": [
    {
     "data": {
      "text/plain": [
       "True"
      ]
     },
     "execution_count": 13,
     "metadata": {},
     "output_type": "execute_result"
    }
   ],
   "source": [
    "# 대문자 vs 소문자 : 비교연산자(==, !=, <, >)로 확인\n",
    "'A'< 'a'"
   ]
  },
  {
   "cell_type": "code",
   "execution_count": 14,
   "id": "43010fe5",
   "metadata": {},
   "outputs": [
    {
     "data": {
      "text/plain": [
       "False"
      ]
     },
     "execution_count": 14,
     "metadata": {},
     "output_type": "execute_result"
    }
   ],
   "source": [
    "# 문자열을 대상으로 할 때는 무조건 첫 글자끼리만 비교\n",
    "# 문자열의 길이는 실제 크기 비교에 영향을 미치지 않는다.\n",
    "'b' < 'BUS'"
   ]
  },
  {
   "cell_type": "code",
   "execution_count": 22,
   "id": "fcf94db4",
   "metadata": {},
   "outputs": [
    {
     "data": {
      "text/plain": [
       "False"
      ]
     },
     "execution_count": 22,
     "metadata": {},
     "output_type": "execute_result"
    }
   ],
   "source": [
    "# 맨 앞글자가 같으면 다음 글자 비교\n",
    "'bus' < 'bUS'"
   ]
  },
  {
   "cell_type": "code",
   "execution_count": 23,
   "id": "1df6612a",
   "metadata": {},
   "outputs": [
    {
     "data": {
      "text/plain": [
       "True"
      ]
     },
     "execution_count": 23,
     "metadata": {},
     "output_type": "execute_result"
    }
   ],
   "source": [
    "'b' < 'bUS'"
   ]
  },
  {
   "cell_type": "code",
   "execution_count": 24,
   "id": "f805dcb5",
   "metadata": {},
   "outputs": [
    {
     "data": {
      "text/plain": [
       "True"
      ]
     },
     "execution_count": 24,
     "metadata": {},
     "output_type": "execute_result"
    }
   ],
   "source": [
    "# 영문자와 영문자 이외의 다른 문자간 비교는 무조건 영문자가 작다\n",
    "# ascii code vs unicode\n",
    "'B' < '가'"
   ]
  },
  {
   "cell_type": "code",
   "execution_count": 46,
   "id": "74ee1cfa",
   "metadata": {
    "collapsed": true
   },
   "outputs": [
    {
     "name": "stdout",
     "output_type": "stream",
     "text": [
      "\u0000, \u0001, \u0002, \u0003, \u0004, \u0005, \u0006, \u0007, \b, \t, \n",
      ", \u000b",
      ", \f",
      ", \r",
      ", \u000e, \u000f, \u0010, \u0011, \u0012, \u0013, \u0014, \u0015, \u0016, \u0017, \u0018, \u0019, \u001a, \u001b, \u001c",
      ", \u001d",
      ", \u001e",
      ", \u001f,  , !, \", #, $, %, &, ', (, ), *, +, ,, -, ., /, 0, 1, 2, 3, 4, 5, 6, 7, 8, 9, :, ;, <, =, >, ?, "
     ]
    }
   ],
   "source": [
    "for i in range(64):\n",
    "    print( chr(i), end=', ' )"
   ]
  },
  {
   "cell_type": "code",
   "execution_count": 47,
   "id": "cf27e59a",
   "metadata": {},
   "outputs": [
    {
     "data": {
      "text/plain": [
       "44032"
      ]
     },
     "execution_count": 47,
     "metadata": {},
     "output_type": "execute_result"
    }
   ],
   "source": [
    "ord('가')"
   ]
  },
  {
   "cell_type": "code",
   "execution_count": 49,
   "id": "fabaf64d",
   "metadata": {
    "collapsed": true
   },
   "outputs": [
    {
     "name": "stdout",
     "output_type": "stream",
     "text": [
      "가, 각, 갂, 갃, 간, 갅, 갆, 갇, 갈, 갉, 갊, 갋, 갌, 갍, 갎, 갏, 감, 갑, 값, 갓, 갔, 강, 갖, 갗, 갘, 같, 갚, 갛, 개, 객, 갞, 갟, 갠, 갡, 갢, 갣, 갤, 갥, 갦, 갧, 갨, 갩, 갪, 갫, 갬, 갭, 갮, 갯, 갰, 갱, 갲, 갳, 갴, 갵, 갶, 갷, 갸, 갹, 갺, 갻, 갼, 갽, 갾, 갿, 걀, 걁, 걂, 걃, 걄, 걅, 걆, 걇, 걈, 걉, 걊, 걋, 걌, 걍, 걎, 걏, 걐, 걑, 걒, 걓, 걔, 걕, 걖, 걗, 걘, 걙, 걚, 걛, 걜, 걝, 걞, 걟, 걠, 걡, 걢, 걣, 걤, 걥, 걦, 걧, 걨, 걩, 걪, 걫, 걬, 걭, 걮, 걯, 거, 걱, 걲, 걳, 건, 걵, 걶, 걷, 걸, 걹, 걺, 걻, 걼, 걽, 걾, 걿, 검, 겁, 겂, 것, 겄, 겅, 겆, 겇, 겈, 겉, 겊, 겋, 게, 겍, 겎, 겏, 겐, 겑, 겒, 겓, 겔, 겕, 겖, 겗, 겘, 겙, 겚, 겛, 겜, 겝, 겞, 겟, 겠, 겡, 겢, 겣, 겤, 겥, 겦, 겧, 겨, 격, 겪, 겫, 견, 겭, 겮, 겯, 결, 겱, 겲, 겳, 겴, 겵, 겶, 겷, 겸, 겹, 겺, 겻, 겼, 경, 겾, 겿, 곀, 곁, 곂, 곃, 계, 곅, 곆, 곇, 곈, 곉, 곊, 곋, 곌, 곍, 곎, 곏, 곐, 곑, 곒, 곓, 곔, 곕, 곖, 곗, 곘, 곙, 곚, 곛, 곜, 곝, 곞, 곟, 고, 곡, 곢, 곣, 곤, 곥, 곦, 곧, 골, 곩, 곪, 곫, 곬, 곭, 곮, 곯, 곰, 곱, 곲, 곳, 곴, 공, 곶, 곷, 곸, 곹, 곺, 곻, 과, 곽, 곾, 곿, 관, 괁, 괂, 괃, 괄, 괅, 괆, 괇, 괈, 괉, 괊, 괋, 괌, 괍, 괎, 괏, 괐, 광, 괒, 괓, 괔, 괕, 괖, 괗, 괘, 괙, 괚, 괛, 괜, 괝, 괞, 괟, 괠, 괡, 괢, 괣, 괤, 괥, 괦, 괧, 괨, 괩, 괪, 괫, 괬, 괭, 괮, 괯, 괰, 괱, 괲, 괳, 괴, 괵, 괶, 괷, 괸, 괹, 괺, 괻, 괼, 괽, 괾, 괿, 굀, 굁, 굂, 굃, 굄, 굅, 굆, 굇, 굈, 굉, 굊, 굋, 굌, 굍, 굎, 굏, 교, 굑, 굒, 굓, 굔, 굕, 굖, 굗, 굘, 굙, 굚, 굛, 굜, 굝, 굞, 굟, 굠, 굡, 굢, 굣, 굤, 굥, 굦, 굧, 굨, 굩, 굪, 굫, 구, 국, 굮, 굯, 군, 굱, 굲, 굳, 굴, 굵, 굶, 굷, 굸, 굹, 굺, 굻, 굼, 굽, 굾, 굿, 궀, 궁, 궂, 궃, 궄, 궅, 궆, 궇, 궈, 궉, 궊, 궋, 권, 궍, 궎, 궏, 궐, 궑, 궒, 궓, 궔, 궕, 궖, 궗, 궘, 궙, 궚, 궛, 궜, 궝, 궞, 궟, 궠, 궡, 궢, 궣, 궤, 궥, 궦, 궧, 궨, 궩, 궪, 궫, 궬, 궭, 궮, 궯, 궰, 궱, 궲, 궳, 궴, 궵, 궶, 궷, 궸, 궹, 궺, 궻, 궼, 궽, 궾, 궿, 귀, 귁, 귂, 귃, 귄, 귅, 귆, 귇, 귈, 귉, 귊, 귋, 귌, 귍, 귎, 귏, 귐, 귑, 귒, 귓, 귔, 귕, 귖, 귗, 귘, 귙, 귚, 귛, 규, 귝, 귞, 귟, 균, 귡, 귢, 귣, 귤, 귥, 귦, 귧, 귨, 귩, 귪, 귫, 귬, 귭, 귮, 귯, 귰, 귱, 귲, 귳, 귴, 귵, 귶, 귷, 그, 극, 귺, 귻, 근, 귽, 귾, 귿, 글, 긁, 긂, 긃, 긄, 긅, 긆, 긇, 금, 급, 긊, 긋, 긌, 긍, 긎, 긏, 긐, 긑, 긒, 긓, 긔, 긕, 긖, 긗, 긘, 긙, 긚, 긛, 긜, 긝, 긞, 긟, 긠, 긡, 긢, 긣, 긤, 긥, 긦, 긧, 긨, 긩, 긪, 긫, 긬, 긭, 긮, 긯, 기, 긱, 긲, 긳, 긴, 긵, 긶, 긷, 길, 긹, 긺, 긻, 긼, 긽, 긾, 긿, 김, 깁, 깂, 깃, 깄, 깅, 깆, 깇, 깈, 깉, 깊, 깋, 까, 깍, 깎, 깏, 깐, 깑, 깒, 깓, 깔, 깕, 깖, 깗, 깘, 깙, 깚, 깛, 깜, 깝, 깞, 깟, 깠, 깡, 깢, 깣, 깤, 깥, 깦, 깧, 깨, 깩, 깪, 깫, 깬, 깭, 깮, 깯, 깰, 깱, 깲, 깳, 깴, 깵, 깶, 깷, 깸, 깹, 깺, 깻, 깼, 깽, 깾, 깿, 꺀, 꺁, 꺂, 꺃, 꺄, 꺅, 꺆, 꺇, 꺈, 꺉, 꺊, 꺋, 꺌, 꺍, 꺎, 꺏, 꺐, 꺑, 꺒, 꺓, 꺔, 꺕, 꺖, 꺗, 꺘, 꺙, 꺚, 꺛, 꺜, 꺝, 꺞, 꺟, 꺠, 꺡, 꺢, 꺣, 꺤, 꺥, 꺦, 꺧, 꺨, 꺩, 꺪, 꺫, 꺬, 꺭, 꺮, 꺯, 꺰, 꺱, 꺲, 꺳, 꺴, 꺵, 꺶, 꺷, 꺸, 꺹, 꺺, 꺻, 꺼, 꺽, 꺾, 꺿, 껀, 껁, 껂, 껃, 껄, 껅, 껆, 껇, 껈, 껉, 껊, 껋, 껌, 껍, 껎, 껏, 껐, 껑, 껒, 껓, 껔, 껕, 껖, 껗, 께, 껙, 껚, 껛, 껜, 껝, 껞, 껟, 껠, 껡, 껢, 껣, 껤, 껥, 껦, 껧, 껨, 껩, 껪, 껫, 껬, 껭, 껮, 껯, 껰, 껱, 껲, 껳, 껴, 껵, 껶, 껷, 껸, 껹, 껺, 껻, 껼, 껽, 껾, 껿, 꼀, 꼁, 꼂, 꼃, 꼄, 꼅, 꼆, 꼇, 꼈, 꼉, 꼊, 꼋, 꼌, 꼍, 꼎, 꼏, 꼐, 꼑, 꼒, 꼓, 꼔, 꼕, 꼖, 꼗, 꼘, 꼙, 꼚, 꼛, 꼜, 꼝, 꼞, 꼟, 꼠, 꼡, 꼢, 꼣, 꼤, 꼥, 꼦, 꼧, 꼨, 꼩, 꼪, 꼫, 꼬, 꼭, 꼮, 꼯, 꼰, 꼱, 꼲, 꼳, 꼴, 꼵, 꼶, 꼷, 꼸, 꼹, 꼺, 꼻, 꼼, 꼽, 꼾, 꼿, 꽀, 꽁, 꽂, 꽃, 꽄, 꽅, 꽆, 꽇, 꽈, 꽉, 꽊, 꽋, 꽌, 꽍, 꽎, 꽏, 꽐, 꽑, 꽒, 꽓, 꽔, 꽕, 꽖, 꽗, 꽘, 꽙, 꽚, 꽛, 꽜, 꽝, 꽞, 꽟, 꽠, 꽡, 꽢, 꽣, 꽤, 꽥, 꽦, 꽧, 꽨, 꽩, 꽪, 꽫, 꽬, 꽭, 꽮, 꽯, 꽰, 꽱, 꽲, 꽳, 꽴, 꽵, 꽶, 꽷, 꽸, 꽹, 꽺, 꽻, 꽼, 꽽, 꽾, 꽿, 꾀, 꾁, 꾂, 꾃, 꾄, 꾅, 꾆, 꾇, 꾈, 꾉, 꾊, 꾋, 꾌, 꾍, 꾎, 꾏, 꾐, 꾑, 꾒, 꾓, 꾔, 꾕, 꾖, 꾗, 꾘, 꾙, 꾚, 꾛, 꾜, 꾝, 꾞, 꾟, 꾠, 꾡, 꾢, 꾣, 꾤, 꾥, 꾦, 꾧, 꾨, 꾩, 꾪, 꾫, 꾬, 꾭, 꾮, 꾯, 꾰, 꾱, 꾲, 꾳, 꾴, 꾵, 꾶, 꾷, 꾸, 꾹, 꾺, 꾻, 꾼, 꾽, 꾾, 꾿, 꿀, 꿁, 꿂, 꿃, 꿄, 꿅, 꿆, 꿇, "
     ]
    }
   ],
   "source": [
    "for i in range(44032, 45000):\n",
    "    print(chr(i), end=', ')"
   ]
  },
  {
   "cell_type": "code",
   "execution_count": 50,
   "id": "97721d78",
   "metadata": {},
   "outputs": [
    {
     "data": {
      "text/plain": [
       "6"
      ]
     },
     "execution_count": 50,
     "metadata": {},
     "output_type": "execute_result"
    }
   ],
   "source": [
    "# 문자열 길이 : len(문자열)\n",
    "len('aaddff')"
   ]
  },
  {
   "cell_type": "code",
   "execution_count": null,
   "id": "98c98b1c",
   "metadata": {},
   "outputs": [],
   "source": []
  }
 ],
 "metadata": {
  "kernelspec": {
   "display_name": "Python 3 (ipykernel)",
   "language": "python",
   "name": "python3"
  },
  "language_info": {
   "codemirror_mode": {
    "name": "ipython",
    "version": 3
   },
   "file_extension": ".py",
   "mimetype": "text/x-python",
   "name": "python",
   "nbconvert_exporter": "python",
   "pygments_lexer": "ipython3",
   "version": "3.10.6"
  }
 },
 "nbformat": 4,
 "nbformat_minor": 5
}
