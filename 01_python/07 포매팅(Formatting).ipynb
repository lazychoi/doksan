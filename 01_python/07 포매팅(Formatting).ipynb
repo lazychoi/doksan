{
 "cells": [
  {
   "cell_type": "markdown",
   "id": "5c134538",
   "metadata": {},
   "source": [
    "# 포매팅(Formatting)\n",
    "\n",
    "특정 값만 바뀌고 일정한 형식을 가지는 문자열을 작성하는 기법\n",
    "\n",
    "## % 포매팅\n",
    "\n",
    "- 데이터 타입에 따른 분류 : 정수, 실수, 문자\n",
    "- 옵션 : 문자열 길이, 표현할 아이템 개수, 공백\n",
    "\n",
    "## 숫자 값 대입"
   ]
  },
  {
   "cell_type": "code",
   "execution_count": 1,
   "id": "c4487eb3",
   "metadata": {},
   "outputs": [],
   "source": [
    "# 1. 가변자료가 들어갈 자리(땡땡...에 해당하는)에 구멍(%자료형)을 낸다.\n",
    "# 2. 구멍이 뚫린 문자열 뒤에 %로 연결한 다음 넣을 값을 적는다."
   ]
  },
  {
   "cell_type": "code",
   "execution_count": 3,
   "id": "4112ae49",
   "metadata": {},
   "outputs": [
    {
     "data": {
      "text/plain": [
       "'오늘은 5일입니다'"
      ]
     },
     "execution_count": 3,
     "metadata": {},
     "output_type": "execute_result"
    }
   ],
   "source": [
    "# 정수값 포매팅 : 정수(int) -> %d\n",
    "'오늘은 %d일입니다'% 5"
   ]
  },
  {
   "cell_type": "code",
   "execution_count": 4,
   "id": "8d862693",
   "metadata": {},
   "outputs": [
    {
     "data": {
      "text/plain": [
       "'오늘은 5일입니다'"
      ]
     },
     "execution_count": 4,
     "metadata": {},
     "output_type": "execute_result"
    }
   ],
   "source": [
    "# 정수 자리의 의미 : 넣은 자료를 정수로 변환해 출력하라는 의미\n",
    "# 실수를 넣으면, 강제로 정수로 바꿔 출력(소수점 아래 버림, 반올림 아님)\n",
    "'오늘은 %d일입니다'% 5.5"
   ]
  },
  {
   "cell_type": "code",
   "execution_count": 5,
   "id": "e2a0611d",
   "metadata": {},
   "outputs": [
    {
     "data": {
      "text/plain": [
       "'15.000000 표기'"
      ]
     },
     "execution_count": 5,
     "metadata": {},
     "output_type": "execute_result"
    }
   ],
   "source": [
    "# 실수(float)값 포매팅\n",
    "# %f를 이용하여 값에 대한 구멍을 낸다\n",
    "# %f는 기본적으로 소숫점 6자리까지 표현\n",
    "\"%f 표기\" % 15"
   ]
  },
  {
   "cell_type": "code",
   "execution_count": 7,
   "id": "2909ed0d",
   "metadata": {},
   "outputs": [
    {
     "data": {
      "text/plain": [
       "'15.123457 표기'"
      ]
     },
     "execution_count": 7,
     "metadata": {},
     "output_type": "execute_result"
    }
   ],
   "source": [
    "# 실수(float)값 포매팅 2: %f에 실수 적용 시\n",
    "# 소수점 아래 7자리에서 반올림\n",
    "\"%f 표기\" % 15.123456789"
   ]
  },
  {
   "cell_type": "code",
   "execution_count": 8,
   "id": "692c9bc2",
   "metadata": {},
   "outputs": [
    {
     "data": {
      "text/plain": [
       "'1.123 표기'"
      ]
     },
     "execution_count": 8,
     "metadata": {},
     "output_type": "execute_result"
    }
   ],
   "source": [
    "# 옵션 : 소숫점 아래 자리를 몇자리까지 출력할지 지정\n",
    "# %0.nf : 소숫점 아래 n자리까지 표현하는 실수\n",
    "'%0.3f 표기' % 1.123456789"
   ]
  },
  {
   "cell_type": "code",
   "execution_count": 9,
   "id": "566c8f3b",
   "metadata": {},
   "outputs": [
    {
     "data": {
      "text/plain": [
       "'오늘은 10월 5일입니다.'"
      ]
     },
     "execution_count": 9,
     "metadata": {},
     "output_type": "execute_result"
    }
   ],
   "source": [
    "# 가변자료를 2개 이상 넣는 경우\n",
    "# 넣는 값은 왼쪽부터 하나씩 전달됨\n",
    "# 2개 이상을 넣을 경우는 % (첫 번째 값, 두 번째 값, ...)과 같이 괄호로 전달\n",
    "'오늘은 %d월 %d일입니다.' % (10, 5)"
   ]
  },
  {
   "cell_type": "code",
   "execution_count": 10,
   "id": "50256110",
   "metadata": {},
   "outputs": [
    {
     "ename": "TypeError",
     "evalue": "%d format: a real number is required, not str",
     "output_type": "error",
     "traceback": [
      "\u001b[0;31m---------------------------------------------------------------------------\u001b[0m",
      "\u001b[0;31mTypeError\u001b[0m                                 Traceback (most recent call last)",
      "Cell \u001b[0;32mIn [10], line 2\u001b[0m\n\u001b[1;32m      1\u001b[0m \u001b[38;5;66;03m# %d %f에 숫자가 아닌 자료를 넣으면 에러 발생\u001b[39;00m\n\u001b[0;32m----> 2\u001b[0m \u001b[38;5;124m'\u001b[39m\u001b[38;5;132;01m%d\u001b[39;00m\u001b[38;5;124m'\u001b[39m \u001b[38;5;241m%\u001b[39m \u001b[38;5;124m'\u001b[39m\u001b[38;5;124m1\u001b[39m\u001b[38;5;124m'\u001b[39m\n",
      "\u001b[0;31mTypeError\u001b[0m: %d format: a real number is required, not str"
     ]
    }
   ],
   "source": [
    "# %d %f에 숫자가 아닌 자료를 넣으면 에러 발생\n",
    "'%d' % '1'"
   ]
  },
  {
   "cell_type": "markdown",
   "id": "763859ae",
   "metadata": {},
   "source": [
    "## 문자 대입\n",
    "\n",
    "- %s로 구멍 뚫기\n",
    "- 넣는 값에 제한이 없다\n",
    "- 만능 포매팅"
   ]
  },
  {
   "cell_type": "code",
   "execution_count": 14,
   "id": "742d07c4",
   "metadata": {},
   "outputs": [
    {
     "data": {
      "text/plain": [
       "'홍길동님 접속을 환영합니다.'"
      ]
     },
     "execution_count": 14,
     "metadata": {},
     "output_type": "execute_result"
    }
   ],
   "source": [
    "\"%s님 접속을 환영합니다.\" % '홍길동'"
   ]
  },
  {
   "cell_type": "code",
   "execution_count": 15,
   "id": "296d241d",
   "metadata": {},
   "outputs": [
    {
     "data": {
      "text/plain": [
       "'100, 숫자도 입력 가능'"
      ]
     },
     "execution_count": 15,
     "metadata": {},
     "output_type": "execute_result"
    }
   ],
   "source": [
    "# 문자 이외의 타이도 가능\n",
    "\"%s, 숫자도 입력 가능\" % 100"
   ]
  },
  {
   "cell_type": "code",
   "execution_count": 13,
   "id": "2a68a403",
   "metadata": {},
   "outputs": [
    {
     "data": {
      "text/plain": [
       "('3', '3.0', 'hello')"
      ]
     },
     "execution_count": 13,
     "metadata": {},
     "output_type": "execute_result"
    }
   ],
   "source": [
    "\"%s\" % 3, \"%s\" % 3.0, \"%s\" % 'hello'"
   ]
  },
  {
   "cell_type": "code",
   "execution_count": null,
   "id": "7aadd07d",
   "metadata": {},
   "outputs": [],
   "source": []
  }
 ],
 "metadata": {
  "kernelspec": {
   "display_name": "Python 3 (ipykernel)",
   "language": "python",
   "name": "python3"
  },
  "language_info": {
   "codemirror_mode": {
    "name": "ipython",
    "version": 3
   },
   "file_extension": ".py",
   "mimetype": "text/x-python",
   "name": "python",
   "nbconvert_exporter": "python",
   "pygments_lexer": "ipython3",
   "version": "3.10.6"
  }
 },
 "nbformat": 4,
 "nbformat_minor": 5
}
