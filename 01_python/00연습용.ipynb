{
 "cells": [
  {
   "cell_type": "code",
   "execution_count": 2,
   "id": "712cce8b",
   "metadata": {},
   "outputs": [
    {
     "name": "stderr",
     "output_type": "stream",
     "text": [
      "usage: ipykernel_launcher.py [-h] int int\n",
      "ipykernel_launcher.py: error: the following arguments are required: int\n"
     ]
    },
    {
     "ename": "SystemExit",
     "evalue": "2",
     "output_type": "error",
     "traceback": [
      "An exception has occurred, use %tb to see the full traceback.\n",
      "\u001b[0;31mSystemExit\u001b[0m\u001b[0;31m:\u001b[0m 2\n"
     ]
    },
    {
     "name": "stderr",
     "output_type": "stream",
     "text": [
      "/home/playdata/.local/lib/python3.10/site-packages/IPython/core/interactiveshell.py:3386: UserWarning: To exit: use 'exit', 'quit', or Ctrl-D.\n",
      "  warn(\"To exit: use 'exit', 'quit', or Ctrl-D.\", stacklevel=1)\n"
     ]
    }
   ],
   "source": [
    "import argparse\n",
    "\n",
    "parser = argparse.ArgumentParser(\n",
    "    description='Argparse Python script',\n",
    "    formatter_class=argparse.ArgumentDefaultsHelpFormatter\n",
    ")\n",
    "\n",
    "parser.add_argument(\n",
    "    'numbers',\n",
    "    metavar='int',\n",
    "    nargs=2,       # 인수 2개 입력하라\n",
    "    type=int,      # 각 값은 정수로 변환될 수 있어야 하며, 그렇지 않으면 오류 처리\n",
    "    help='The size of the garment',\n",
    "    choices=range(1, 11)\n",
    ")\n",
    "\n",
    "\n",
    "args = parser.parse_args()\n",
    "n1, n2 = args.numbers\n",
    "print(f'{n1} + {n2} = {n1 + n2}')"
   ]
  },
  {
   "cell_type": "code",
   "execution_count": null,
   "id": "2eeee1e6",
   "metadata": {},
   "outputs": [],
   "source": []
  }
 ],
 "metadata": {
  "kernelspec": {
   "display_name": "Python 3 (ipykernel)",
   "language": "python",
   "name": "python3"
  },
  "language_info": {
   "codemirror_mode": {
    "name": "ipython",
    "version": 3
   },
   "file_extension": ".py",
   "mimetype": "text/x-python",
   "name": "python",
   "nbconvert_exporter": "python",
   "pygments_lexer": "ipython3",
   "version": "3.10.6"
  }
 },
 "nbformat": 4,
 "nbformat_minor": 5
}
