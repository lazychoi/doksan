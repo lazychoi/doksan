{
 "cells": [
  {
   "cell_type": "markdown",
   "id": "10d02fcb",
   "metadata": {},
   "source": [
    "# 오버라이딩\n",
    "\n",
    "- 부모가 물려준 메서드를 자식이 고쳐 쓰는 것\n",
    "- 부모 쪽에서 특정 메서드가 생성되었지만, 자식 쪽에서 추가된 사항을 따로 반영하지 못하는 등의 이슈가 발생했을 때\n",
    "- 자식 쪽에서 물려받은 메서드를 고쳐 현재 상황에 맞게 쓰는 것\n",
    "- 방법은 자식 클래스 설계 부분에서 부모와 동일한 메서드를 작성하고 코드를 새롭게 쓰면 된다."
   ]
  },
  {
   "cell_type": "code",
   "execution_count": 62,
   "id": "9fc45ba8",
   "metadata": {},
   "outputs": [],
   "source": [
    "class Airplane:\n",
    "    velocity = 0\n",
    "    gas = 0\n",
    "    flight_number = ''\n",
    "    \n",
    "    def __init__(self, velocity, gas, flight_number):\n",
    "        self.velocity = velocity\n",
    "        self.gas = gas\n",
    "        self.flight_number = flight_number\n",
    "        \n",
    "    # 최고 속도를 900으로, 연료가 없으면 멈추는 것으로\n",
    "    def fly(self):\n",
    "# 내가 짠 것\n",
    "#         if self.velocity < 900:\n",
    "#             self.velocity += 200\n",
    "#         if self.velocity > 900:\n",
    "#             self.velocity = 900\n",
    "#         self.gas -= 100\n",
    "#         if self.gas <= 0:\n",
    "#             print('비행기가 멈췄습니다.')\n",
    "\n",
    "        if self.gas <= 0:\n",
    "            print('연료가 없습니다')\n",
    "            return   # break 처럼 함수 즉시 종료\n",
    "        if (self.velocity + 200) > 900:\n",
    "            self.velocity = 900\n",
    "        else:\n",
    "            self.velocity += 200\n",
    "        self.gas -= 100          # 내 생각엔 요걸 맨 위로 보내야 할 듯\n",
    "    \n",
    "    # 최저 속도를 0으로\n",
    "    def brake_(self):\n",
    "        self.velocity -= 200\n",
    "        if self.velocity <= 0:\n",
    "            self.velocity = 0\n",
    "\n",
    "    def get_info(self):\n",
    "        print(f'현재 속도: {self.velocity}, 현재 연료량: {self.gas}, 편명: {self.flight_number}')"
   ]
  },
  {
   "cell_type": "code",
   "execution_count": 63,
   "id": "334cb924",
   "metadata": {},
   "outputs": [
    {
     "name": "stdout",
     "output_type": "stream",
     "text": [
      "현재 속도: 200, 현재 연료량: 2000, 편명: 56\n"
     ]
    }
   ],
   "source": [
    "concord = Airplane(200, 2000, '56')\n",
    "concord.get_info()"
   ]
  },
  {
   "cell_type": "code",
   "execution_count": 64,
   "id": "1987394c",
   "metadata": {},
   "outputs": [
    {
     "name": "stdout",
     "output_type": "stream",
     "text": [
      "현재 속도: 400, 현재 연료량: 1900, 편명: 56\n"
     ]
    }
   ],
   "source": [
    "concord.fly()\n",
    "concord.get_info()"
   ]
  },
  {
   "cell_type": "code",
   "execution_count": 70,
   "id": "44067c25",
   "metadata": {},
   "outputs": [
    {
     "name": "stdout",
     "output_type": "stream",
     "text": [
      "현재 속도: 0, 현재 연료량: 1900, 편명: 56\n"
     ]
    }
   ],
   "source": [
    "concord.brake_()\n",
    "concord.get_info()"
   ]
  },
  {
   "cell_type": "markdown",
   "id": "935048ed",
   "metadata": {},
   "source": [
    "## 오버라이딩"
   ]
  },
  {
   "cell_type": "code",
   "execution_count": 78,
   "id": "78b159ca",
   "metadata": {},
   "outputs": [],
   "source": [
    "# 초음속비행기(SupersonicAirplane)을 선언(Airplane) 상속\n",
    "\n",
    "class Supersonic_airplane(Airplane):\n",
    "    # 오버라이딩은 부모에게 물려받은 메서드가 맞지 않을 때 새롭게 정의\n",
    "    # 같은 이름, 같은 인자로 선언\n",
    "    def fly(self):\n",
    "        self.gas -= 100\n",
    "        if self.gas <= 0:\n",
    "            print('연료가 없습니다')\n",
    "            self.gas = 0\n",
    "            return   # break 처럼 함수 즉시 종료\n",
    "        if (self.velocity + 200) > 2000:\n",
    "            self.velocity = 2000\n",
    "        else:\n",
    "            self.velocity += 200"
   ]
  },
  {
   "cell_type": "code",
   "execution_count": 86,
   "id": "08df80e0",
   "metadata": {},
   "outputs": [
    {
     "name": "stdout",
     "output_type": "stream",
     "text": [
      "현재 속도: 200, 현재 연료량: 1000, 편명: a2\n",
      "None\n",
      "현재 속도: 400, 현재 연료량: 900, 편명: a2\n",
      "None\n",
      "현재 속도: 600, 현재 연료량: 800, 편명: a2\n",
      "None\n",
      "현재 속도: 800, 현재 연료량: 700, 편명: a2\n",
      "None\n",
      "현재 속도: 900, 현재 연료량: 600, 편명: a2\n",
      "None\n",
      "현재 속도: 900, 현재 연료량: 500, 편명: a2\n",
      "None\n"
     ]
    }
   ],
   "source": [
    "# 비행기 a2를 만들어 fly를 5번 이상 호출해서 속도가 900 이상 올라가지 않음을 확인\n",
    "a2 = Airplane(200, 1000, 'a2')\n",
    "for _ in range(6):\n",
    "    print(a2.get_info())\n",
    "    a2.fly()\n",
    "# print(a2.get_info())"
   ]
  },
  {
   "cell_type": "code",
   "execution_count": 85,
   "id": "e7d30042",
   "metadata": {},
   "outputs": [
    {
     "name": "stdout",
     "output_type": "stream",
     "text": [
      "현재 속도: 200, 현재 연료량: 10000, 편명: sa1\n",
      "None\n",
      "현재 속도: 400, 현재 연료량: 9900, 편명: sa1\n",
      "None\n",
      "현재 속도: 600, 현재 연료량: 9800, 편명: sa1\n",
      "None\n",
      "현재 속도: 800, 현재 연료량: 9700, 편명: sa1\n",
      "None\n",
      "현재 속도: 1000, 현재 연료량: 9600, 편명: sa1\n",
      "None\n",
      "현재 속도: 1200, 현재 연료량: 9500, 편명: sa1\n",
      "None\n",
      "현재 속도: 1400, 현재 연료량: 9400, 편명: sa1\n",
      "None\n",
      "현재 속도: 1600, 현재 연료량: 9300, 편명: sa1\n",
      "None\n",
      "현재 속도: 1800, 현재 연료량: 9200, 편명: sa1\n",
      "None\n",
      "현재 속도: 2000, 현재 연료량: 9100, 편명: sa1\n",
      "None\n",
      "현재 속도: 2000, 현재 연료량: 9000, 편명: sa1\n",
      "None\n",
      "현재 속도: 2000, 현재 연료량: 8900, 편명: sa1\n",
      "None\n",
      "현재 속도: 2000, 현재 연료량: 8800, 편명: sa1\n",
      "None\n",
      "현재 속도: 2000, 현재 연료량: 8700, 편명: sa1\n",
      "None\n",
      "현재 속도: 2000, 현재 연료량: 8600, 편명: sa1\n",
      "None\n",
      "현재 속도: 2000, 현재 연료량: 8500, 편명: sa1\n",
      "None\n"
     ]
    }
   ],
   "source": [
    "# 초음속비행기 sa1을 만들어 fly를 11번 이상 호출해서 2000이상 속도가 올라가지 않음을 확인\n",
    "sa1 = Supersonic_airplane(200, 10000, 'sa1')\n",
    "for _ in range(15):\n",
    "    print(sa1.get_info())\n",
    "    sa1.fly()\n",
    "print(sa1.get_info())"
   ]
  },
  {
   "cell_type": "code",
   "execution_count": null,
   "id": "5dd18dbb",
   "metadata": {},
   "outputs": [],
   "source": []
  }
 ],
 "metadata": {
  "kernelspec": {
   "display_name": "Python 3 (ipykernel)",
   "language": "python",
   "name": "python3"
  },
  "language_info": {
   "codemirror_mode": {
    "name": "ipython",
    "version": 3
   },
   "file_extension": ".py",
   "mimetype": "text/x-python",
   "name": "python",
   "nbconvert_exporter": "python",
   "pygments_lexer": "ipython3",
   "version": "3.9.12"
  }
 },
 "nbformat": 4,
 "nbformat_minor": 5
}
