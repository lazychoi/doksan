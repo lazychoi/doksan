{
 "cells": [
  {
   "cell_type": "markdown",
   "id": "24643185",
   "metadata": {},
   "source": [
    "## 4. 리스트 타입의 함수 (method)\n",
    "\n",
    "* 종류\n",
    "    - 리스트.append(추가할 아이템) : 인자값을 통채로 리스트의 마지막 아이템으로 추가, 인자값은 1개만 받음 = 1개의 아이템만 추가 가능\n",
    "    - 리스트.extend(추가할 아이템) : 인자값의 아이템을 뽑아서 리스트의 마지막 아이템으로 추가, 인자값은 1개만 받음, 단 여러 개의 아이템 추가 가능\n",
    "    - 리스트.insert(인덱스번호, 추가할 아이템) : 위치를 지정해서 아이템을 삽입할 수 있음, 통채로 아이템을 추가\n",
    "    - 특징 : 원본에 바로 적용이 됨\n",
    "* 참고 연산자 : in 연산자 (결과값은 bool type)"
   ]
  },
  {
   "cell_type": "code",
   "execution_count": 1,
   "id": "8429bbd0",
   "metadata": {},
   "outputs": [],
   "source": [
    "a = [1,2,3]"
   ]
  },
  {
   "cell_type": "code",
   "execution_count": 2,
   "id": "01094340",
   "metadata": {},
   "outputs": [
    {
     "data": {
      "text/plain": [
       "[1, 2, 3, 4]"
      ]
     },
     "execution_count": 2,
     "metadata": {},
     "output_type": "execute_result"
    }
   ],
   "source": [
    "# append() : 맨 뒤 하나의 자리에 추가할 아이템을 모두 넣는다.\n",
    "# 문법 : 리스트.append(추가할 아이템)\n",
    "a.append(4)\n",
    "a"
   ]
  },
  {
   "cell_type": "code",
   "execution_count": 3,
   "id": "7221d592",
   "metadata": {},
   "outputs": [
    {
     "data": {
      "text/plain": [
       "[1, 2, 3, 4, [5, 6]]"
      ]
     },
     "execution_count": 3,
     "metadata": {},
     "output_type": "execute_result"
    }
   ],
   "source": [
    "a.append([5,6])\n",
    "a"
   ]
  },
  {
   "cell_type": "code",
   "execution_count": 4,
   "id": "a1db8d76",
   "metadata": {},
   "outputs": [
    {
     "ename": "TypeError",
     "evalue": "list.append() takes exactly one argument (2 given)",
     "output_type": "error",
     "traceback": [
      "\u001b[0;31m---------------------------------------------------------------------------\u001b[0m",
      "\u001b[0;31mTypeError\u001b[0m                                 Traceback (most recent call last)",
      "Cell \u001b[0;32mIn [4], line 1\u001b[0m\n\u001b[0;32m----> 1\u001b[0m a\u001b[38;5;241m.\u001b[39mappend(\u001b[38;5;241m5\u001b[39m,\u001b[38;5;241m6\u001b[39m)\n\u001b[1;32m      2\u001b[0m a\n",
      "\u001b[0;31mTypeError\u001b[0m: list.append() takes exactly one argument (2 given)"
     ]
    }
   ],
   "source": [
    "# error\n",
    "a.append(5,6)\n",
    "a"
   ]
  },
  {
   "cell_type": "code",
   "execution_count": 5,
   "id": "f5650df6",
   "metadata": {},
   "outputs": [
    {
     "data": {
      "text/plain": [
       "[5, 6]"
      ]
     },
     "execution_count": 5,
     "metadata": {},
     "output_type": "execute_result"
    }
   ],
   "source": [
    "a[4]"
   ]
  },
  {
   "cell_type": "code",
   "execution_count": 6,
   "id": "78ac5478",
   "metadata": {},
   "outputs": [
    {
     "data": {
      "text/plain": [
       "[1, 2, 3, 4, [5, 6], 7, 8, 9]"
      ]
     },
     "execution_count": 6,
     "metadata": {},
     "output_type": "execute_result"
    }
   ],
   "source": [
    "# extend()\n",
    "# 문법 : 대상리스트.extend(추가할 리스트)\n",
    "# 리스트 길이만큼 인덱스가 연장된다. \n",
    "# append()와 차이 : 리스트만 입력 가능. 인덱스 1 연장\n",
    "\n",
    "a.extend([7,8,9])\n",
    "a"
   ]
  },
  {
   "cell_type": "code",
   "execution_count": 7,
   "id": "54bc4e11",
   "metadata": {},
   "outputs": [
    {
     "ename": "TypeError",
     "evalue": "list.extend() takes exactly one argument (2 given)",
     "output_type": "error",
     "traceback": [
      "\u001b[0;31m---------------------------------------------------------------------------\u001b[0m",
      "\u001b[0;31mTypeError\u001b[0m                                 Traceback (most recent call last)",
      "Cell \u001b[0;32mIn [7], line 1\u001b[0m\n\u001b[0;32m----> 1\u001b[0m a\u001b[38;5;241m.\u001b[39mextend(\u001b[38;5;241m10\u001b[39m,\u001b[38;5;241m11\u001b[39m)\n",
      "\u001b[0;31mTypeError\u001b[0m: list.extend() takes exactly one argument (2 given)"
     ]
    }
   ],
   "source": [
    "# error\n",
    "a.extend(10,11)"
   ]
  },
  {
   "cell_type": "code",
   "execution_count": 8,
   "id": "c4826b6a",
   "metadata": {},
   "outputs": [
    {
     "data": {
      "text/plain": [
       "[1, 2, 3, 4, [5, 6], 7, 8, 9, 10]"
      ]
     },
     "execution_count": 8,
     "metadata": {},
     "output_type": "execute_result"
    }
   ],
   "source": [
    "# extend는 하나의 인덱스만 연장하려 해도 리스트로 추가해야함\n",
    "a.extend([10])\n",
    "a"
   ]
  },
  {
   "cell_type": "code",
   "execution_count": 9,
   "id": "858d1146",
   "metadata": {},
   "outputs": [
    {
     "data": {
      "text/plain": [
       "[100, 1, 2, 3, 4, [5, 6], 7, 8, 9, 10]"
      ]
     },
     "execution_count": 9,
     "metadata": {},
     "output_type": "execute_result"
    }
   ],
   "source": [
    "# insert()\n",
    "# 문법 : 대상리스트.insert(인덱스번호, 추가할 아이템)\n",
    "# 다른 함수와 차이점 : 지정한 인덱스 번호에 아이템이 추가됨\n",
    "# append와 유사점 : 하나의 인덱스 번호에 모든 자료 때려박음\n",
    "# 교체가 아닌 추가이기 때문에 소실되는 자료 없음\n",
    "a.insert(0,100)\n",
    "a"
   ]
  },
  {
   "cell_type": "code",
   "execution_count": 10,
   "id": "d96c3eff",
   "metadata": {},
   "outputs": [
    {
     "data": {
      "text/plain": [
       "[[99, 98], 100, 1, 2, 3, 4, [5, 6], 7, 8, 9, 10]"
      ]
     },
     "execution_count": 10,
     "metadata": {},
     "output_type": "execute_result"
    }
   ],
   "source": [
    "a.insert(0, [99, 98])\n",
    "a"
   ]
  },
  {
   "cell_type": "code",
   "execution_count": 11,
   "id": "9e665302",
   "metadata": {},
   "outputs": [
    {
     "data": {
      "text/plain": [
       "True"
      ]
     },
     "execution_count": 11,
     "metadata": {},
     "output_type": "execute_result"
    }
   ],
   "source": [
    "# in 키워드는 특정 요소가 리스트 내에 있는지 여부를 묻는다.\n",
    "# 값 in 리스트\n",
    "# 100이 a 리스트에 존재하나요? 100 in a\n",
    "\n",
    "100 in a"
   ]
  },
  {
   "cell_type": "code",
   "execution_count": 12,
   "id": "6f64a3fd",
   "metadata": {},
   "outputs": [
    {
     "data": {
      "text/plain": [
       "False"
      ]
     },
     "execution_count": 12,
     "metadata": {},
     "output_type": "execute_result"
    }
   ],
   "source": [
    "# not in 키원드는 특정 요소가 리스트 내부에 없는지 묻는다.\n",
    "# 값 not in 리스트\n",
    "# 50이 a 리스트에 없습니까? 50 not in a\n",
    "\n",
    "10 not in a"
   ]
  },
  {
   "cell_type": "markdown",
   "id": "9304163b",
   "metadata": {},
   "source": [
    "## << 연습문제 >>\n",
    "\n",
    "아래의 순서에 맞추어 직접 실행해보세요.\n",
    "\n",
    "1) 빈 리스트 생성  \n",
    "2) 1번 리스트에 숫자 1,2,3 을 아이템으로 추가  \n",
    "3) 2번 리스트의 2번째 인덱스(3번째 위치)에 문자 100 을 아이템으로 추가  \n",
    "4) 3번 리스트의 마지막에 문자 A, B를 아이템으로 가진 리스트를 아이템으로 추가  \n",
    "5) 4번 리스트의 아이템을 2번 반복해서 가지는 리스트를 출력"
   ]
  },
  {
   "cell_type": "code",
   "execution_count": 45,
   "id": "7e902165",
   "metadata": {},
   "outputs": [
    {
     "data": {
      "text/plain": [
       "[]"
      ]
     },
     "execution_count": 45,
     "metadata": {},
     "output_type": "execute_result"
    }
   ],
   "source": [
    "# 1) 빈 리스트 생성\n",
    "a = [] # a = list()\n",
    "a"
   ]
  },
  {
   "cell_type": "code",
   "execution_count": 47,
   "id": "b0daaff9",
   "metadata": {},
   "outputs": [
    {
     "data": {
      "text/plain": [
       "[1, 2, 3]"
      ]
     },
     "execution_count": 47,
     "metadata": {},
     "output_type": "execute_result"
    }
   ],
   "source": [
    "# 2) 1번 리스트에 숫자 1,2,3 을 아이템으로 추가\n",
    "a.extend([1,2,3])\n",
    "a"
   ]
  },
  {
   "cell_type": "code",
   "execution_count": 39,
   "id": "5d44d657",
   "metadata": {},
   "outputs": [
    {
     "data": {
      "text/plain": [
       "[1, 2, 100, 3]"
      ]
     },
     "execution_count": 39,
     "metadata": {},
     "output_type": "execute_result"
    }
   ],
   "source": [
    "# 3) 2번 리스트의 2번째 인덱스(3번째 위치)에 문자 100 을 아이템으로 추가\n",
    "a.insert(2,100)\n",
    "a"
   ]
  },
  {
   "cell_type": "code",
   "execution_count": 40,
   "id": "a0e9a6de",
   "metadata": {},
   "outputs": [
    {
     "data": {
      "text/plain": [
       "[1, 2, 100, 3, ['A', 'B']]"
      ]
     },
     "execution_count": 40,
     "metadata": {},
     "output_type": "execute_result"
    }
   ],
   "source": [
    "# 4) 3번 리스트의 마지막에 문자 A, B를 아이템으로 가진 리스트를 아이템으로 추가\n",
    "a.append(['A','B'])\n",
    "a"
   ]
  },
  {
   "cell_type": "code",
   "execution_count": 44,
   "id": "cafec919",
   "metadata": {},
   "outputs": [
    {
     "data": {
      "text/plain": [
       "[1, 2, 100, 3, ['A', 'B'], 1, 2, 100, 3, ['A', 'B']]"
      ]
     },
     "execution_count": 44,
     "metadata": {},
     "output_type": "execute_result"
    }
   ],
   "source": [
    "# 5) 4번 리스트의 아이템을 2번 반복해서 가지는 리스트를 출력\n",
    "a * 2"
   ]
  },
  {
   "cell_type": "code",
   "execution_count": null,
   "id": "3a04d917",
   "metadata": {},
   "outputs": [],
   "source": []
  },
  {
   "cell_type": "code",
   "execution_count": null,
   "id": "dccf64d7",
   "metadata": {},
   "outputs": [],
   "source": []
  }
 ],
 "metadata": {
  "kernelspec": {
   "display_name": "Python 3 (ipykernel)",
   "language": "python",
   "name": "python3"
  },
  "language_info": {
   "codemirror_mode": {
    "name": "ipython",
    "version": 3
   },
   "file_extension": ".py",
   "mimetype": "text/x-python",
   "name": "python",
   "nbconvert_exporter": "python",
   "pygments_lexer": "ipython3",
   "version": "3.10.6"
  }
 },
 "nbformat": 4,
 "nbformat_minor": 5
}
