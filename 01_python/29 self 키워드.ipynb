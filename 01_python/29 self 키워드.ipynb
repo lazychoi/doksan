{
 "cells": [
  {
   "cell_type": "markdown",
   "id": "5e3777c0",
   "metadata": {},
   "source": [
    "# self 키워드\n",
    "\n",
    "- self 키워드는 생성한 변수(인스턴스) 자신의 주소를 가리키는 키워드\n",
    "- 이렇게 자신의 주소를 나타내야 하는 이유는, 인스턴스는 양식은 같지만 내용물은 독립적으로 저장되기 때문\n"
   ]
  },
  {
   "cell_type": "code",
   "execution_count": 7,
   "id": "1bba9b6b",
   "metadata": {},
   "outputs": [],
   "source": [
    "class Computer():\n",
    "    cpu = ''\n",
    "    ram = 0\n",
    "    ssd = 0\n",
    "    \n",
    "    def get_info(self):\n",
    "        print('cpu : %s, ram : %sGb, ssd : %sGb' % (self.cpu, self.ram, self.ssd))\n",
    "    \n",
    "    def get_address(self):\n",
    "        print(self)"
   ]
  },
  {
   "cell_type": "code",
   "execution_count": 8,
   "id": "72b8a2ce",
   "metadata": {},
   "outputs": [],
   "source": [
    "c1 = Computer()\n",
    "c1.cpu = 'AMD라이젠7세대'\n",
    "c1.ram = 32\n",
    "c1.ssd = 500\n",
    "c2 = Computer()\n",
    "c2.cpu = 'intel'\n",
    "c2.ram = 16\n",
    "c2.ssd = 1024"
   ]
  },
  {
   "cell_type": "code",
   "execution_count": 9,
   "id": "6d7aba8d",
   "metadata": {},
   "outputs": [
    {
     "name": "stdout",
     "output_type": "stream",
     "text": [
      "cpu : AMD라이젠7세대, ram : 32Gb, ssd : 500Gb\n"
     ]
    }
   ],
   "source": [
    "c1.get_info()"
   ]
  },
  {
   "cell_type": "code",
   "execution_count": 10,
   "id": "c38b9b06",
   "metadata": {},
   "outputs": [
    {
     "name": "stdout",
     "output_type": "stream",
     "text": [
      "cpu : intel, ram : 16Gb, ssd : 1024Gb\n"
     ]
    }
   ],
   "source": [
    "c2.get_info()"
   ]
  },
  {
   "cell_type": "code",
   "execution_count": 13,
   "id": "9874a96a",
   "metadata": {},
   "outputs": [
    {
     "name": "stdout",
     "output_type": "stream",
     "text": [
      "<__main__.Computer object at 0x7f11cc455cc0>\n",
      "None\n",
      "<__main__.Computer object at 0x7f11cc455cc0>\n"
     ]
    }
   ],
   "source": [
    "# 주소 같음\n",
    "\n",
    "print( c1.get_address() )\n",
    "print(c1)"
   ]
  },
  {
   "cell_type": "code",
   "execution_count": 14,
   "id": "aeea43be",
   "metadata": {},
   "outputs": [
    {
     "name": "stdout",
     "output_type": "stream",
     "text": [
      "<__main__.Computer object at 0x7f11cc455cc0>\n",
      "None\n",
      "<__main__.Computer object at 0x7f11cc454430>\n"
     ]
    }
   ],
   "source": [
    "print(c1.get_address())\n",
    "print(c2)"
   ]
  },
  {
   "cell_type": "code",
   "execution_count": 21,
   "id": "ec221b2f",
   "metadata": {},
   "outputs": [],
   "source": [
    "# 내용물을 좀 더 편하게 초기화할 수 있도록 클래스 정의\n",
    "\n",
    "class Teacher:\n",
    "    name = \"\"\n",
    "    subject = \"\"\n",
    "    age = 0\n",
    "    \n",
    "    # 위 3개 변수에 값을 한 줄로 넣어주는 메서드\n",
    "    def save_info(self, n, s, a):\n",
    "        self.name = n\n",
    "        self.subject = s\n",
    "        self.age = a\n",
    "        "
   ]
  },
  {
   "cell_type": "code",
   "execution_count": 22,
   "id": "79489b6a",
   "metadata": {},
   "outputs": [],
   "source": [
    "# 강사 객체 생성\n",
    "\n",
    "choi = Teacher()\n",
    "choi.name = \"채종훈\"\n",
    "choi.subject = \"python\"\n",
    "choi.age = 25"
   ]
  },
  {
   "cell_type": "code",
   "execution_count": 25,
   "id": "bba39fda",
   "metadata": {},
   "outputs": [
    {
     "name": "stdout",
     "output_type": "stream",
     "text": [
      "홍길동 java 30\n"
     ]
    }
   ],
   "source": [
    "choi.save_info(\"홍길동\", \"java\", 30)\n",
    "print( choi.name, choi.subject, choi.age)"
   ]
  },
  {
   "cell_type": "markdown",
   "id": "6d53ebe5",
   "metadata": {},
   "source": [
    "## 클래스 다이어그램"
   ]
  },
  {
   "cell_type": "code",
   "execution_count": null,
   "id": "c164a87c",
   "metadata": {},
   "outputs": [],
   "source": []
  }
 ],
 "metadata": {
  "kernelspec": {
   "display_name": "Python 3 (ipykernel)",
   "language": "python",
   "name": "python3"
  },
  "language_info": {
   "codemirror_mode": {
    "name": "ipython",
    "version": 3
   },
   "file_extension": ".py",
   "mimetype": "text/x-python",
   "name": "python",
   "nbconvert_exporter": "python",
   "pygments_lexer": "ipython3",
   "version": "3.10.6"
  }
 },
 "nbformat": 4,
 "nbformat_minor": 5
}
