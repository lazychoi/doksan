{
 "cells": [
  {
   "cell_type": "markdown",
   "id": "24020708",
   "metadata": {},
   "source": [
    "# 문자열 인덱스\n",
    "\n",
    "- 아이템(대상이 갖고 있는 최소 단위의 값)의 위치를 나타내는 고유번호\n",
    "- 첫번째 위치는 0부터 시작\n",
    "- 마지막 위치는 -1부터 시작\n",
    "\n",
    "## 인덱싱(indexing) : 특정 위치의 하나의 아이템에 접근\n",
    "\n",
    "- 인덱싱 문법 기호 : 객체[인덱스번호]\n"
   ]
  },
  {
   "cell_type": "code",
   "execution_count": 1,
   "id": "5e42a34a",
   "metadata": {},
   "outputs": [],
   "source": [
    "# banana 라는 문자열 인덱싱\n",
    "text = 'banana'"
   ]
  },
  {
   "cell_type": "code",
   "execution_count": 2,
   "id": "4c698861",
   "metadata": {},
   "outputs": [
    {
     "data": {
      "text/plain": [
       "'b'"
      ]
     },
     "execution_count": 2,
     "metadata": {},
     "output_type": "execute_result"
    }
   ],
   "source": [
    "# banana 라는 문자열에서 첫 번째 아이템 = 0번째 인덱스번로 접근\n",
    "# 인덱싱 문법 : 객체(대상 : 값, 자료형)[인덱스번호]\n",
    "text[0]"
   ]
  },
  {
   "cell_type": "code",
   "execution_count": 5,
   "id": "d510c4de",
   "metadata": {},
   "outputs": [
    {
     "data": {
      "text/plain": [
       "('a', 'a')"
      ]
     },
     "execution_count": 5,
     "metadata": {},
     "output_type": "execute_result"
    }
   ],
   "source": [
    "# 마지막 요소인 a에 접근\n",
    "text[-1], text[5]"
   ]
  },
  {
   "cell_type": "markdown",
   "id": "9d145656",
   "metadata": {},
   "source": [
    "## 슬라이싱 : 연속된 범위의 여러 아이템에 접근\n",
    "\n",
    "- 대상 객체[처음인덱스:마지막인덱스]\n",
    "- 처음 인덱스 번호는 포함(n부터)\n",
    "- 마지막 인덱스 번호는 포함하지 않음(~ n-1까지)\n",
    "- 간격 조정은 할 수도, 안 할 수도 있음(기본 1씩 증가)"
   ]
  },
  {
   "cell_type": "code",
   "execution_count": 7,
   "id": "221fe24b",
   "metadata": {},
   "outputs": [
    {
     "data": {
      "text/plain": [
       "'hello python world'"
      ]
     },
     "execution_count": 7,
     "metadata": {},
     "output_type": "execute_result"
    }
   ],
   "source": [
    "# 문자열 생성\n",
    "text = 'hello python world'\n",
    "text"
   ]
  },
  {
   "cell_type": "code",
   "execution_count": 8,
   "id": "53131ab9",
   "metadata": {},
   "outputs": [
    {
     "data": {
      "text/plain": [
       "'hello python'"
      ]
     },
     "execution_count": 8,
     "metadata": {},
     "output_type": "execute_result"
    }
   ],
   "source": [
    "# 처음부터 특정 위치까지 : ~python\n",
    "# 처음 인덱스 : 0\n",
    "# 마지막 인덱스 : -7(뒤에서 7번째까지 가져와야 하므로 -6까지)\n",
    "# 간격 : 기본값(1)\n",
    "text[0:-6]"
   ]
  },
  {
   "cell_type": "code",
   "execution_count": 9,
   "id": "f01f4c09",
   "metadata": {},
   "outputs": [
    {
     "data": {
      "text/plain": [
       "'hello python'"
      ]
     },
     "execution_count": 9,
     "metadata": {},
     "output_type": "execute_result"
    }
   ],
   "source": [
    "# 첫 인덱스가 0부터이면 생략 가능\n",
    "text[:-6]"
   ]
  },
  {
   "cell_type": "code",
   "execution_count": 10,
   "id": "05101d23",
   "metadata": {},
   "outputs": [
    {
     "data": {
      "text/plain": [
       "'python'"
      ]
     },
     "execution_count": 10,
     "metadata": {},
     "output_type": "execute_result"
    }
   ],
   "source": [
    "# 특정 위치부터 마지막 아이템까지 : python\n",
    "# 처음 인덱스 : 6\n",
    "# 마지막 인덱스 : 11 or -6\n",
    "# 간격 : 기본값(1)\n",
    "text[6:-6]"
   ]
  },
  {
   "cell_type": "code",
   "execution_count": 11,
   "id": "0a5384b1",
   "metadata": {},
   "outputs": [
    {
     "data": {
      "text/plain": [
       "'hello python world'"
      ]
     },
     "execution_count": 11,
     "metadata": {},
     "output_type": "execute_result"
    }
   ],
   "source": [
    "# 전체 범위 지정 : 처음 인덱스와 마지막 인덱스를 모두 쓰지 않으면 전체 지정\n",
    "# 처음 인덱스 기본값 : 0 자동 지정\n",
    "# 마지막 인덱스 기본값 : 마지막까지 자동 입력\n",
    "text[:]"
   ]
  },
  {
   "cell_type": "code",
   "execution_count": 12,
   "id": "9e4e1c09",
   "metadata": {},
   "outputs": [
    {
     "data": {
      "text/plain": [
       "'hlopto ol'"
      ]
     },
     "execution_count": 12,
     "metadata": {},
     "output_type": "execute_result"
    }
   ],
   "source": [
    "# 전체 범위 지정 + 간격을 2로 넣었을 때\n",
    "text[::2]"
   ]
  },
  {
   "cell_type": "code",
   "execution_count": 13,
   "id": "1581b14d",
   "metadata": {},
   "outputs": [
    {
     "data": {
      "text/plain": [
       "'dlrow nohtyp olleh'"
      ]
     },
     "execution_count": 13,
     "metadata": {},
     "output_type": "execute_result"
    }
   ],
   "source": [
    "# 간격을 음수로 주면 뒤에서부터 표시\n",
    "text[::-1]"
   ]
  },
  {
   "cell_type": "code",
   "execution_count": 16,
   "id": "07ad128d",
   "metadata": {},
   "outputs": [
    {
     "data": {
      "text/plain": [
       "'olleh'"
      ]
     },
     "execution_count": 16,
     "metadata": {},
     "output_type": "execute_result"
    }
   ],
   "source": [
    "'hello'[::-1]"
   ]
  },
  {
   "cell_type": "markdown",
   "id": "06ecb8be",
   "metadata": {},
   "source": [
    "## 연습문제\n",
    "\n",
    "20221005미세먼지양호함\n",
    "\n",
    "- 위 문장을 weather 변수에 저장한 다음\n",
    "- 날짜는 date 변수에 슬라이싱\n",
    "- dust 변수에 미세먼지 정도를 슬라이싱 후\n",
    "- 출력\n",
    "\n",
    "출력양식 : <br>\n",
    "날짜 : 20221005  \n",
    "날씨 : 미세먼지양호함"
   ]
  },
  {
   "cell_type": "code",
   "execution_count": 17,
   "id": "3b990e14",
   "metadata": {},
   "outputs": [
    {
     "name": "stdout",
     "output_type": "stream",
     "text": [
      "출력양식 : \n",
      "날짜 :  20221005\n",
      "날씨 :  미세먼지양호함\n"
     ]
    }
   ],
   "source": [
    "weather = '20221005미세먼지양호함'\n",
    "date = weather[:8]\n",
    "dust = weather[8:]\n",
    "print('출력양식 : ')\n",
    "print('날짜 : ', date)\n",
    "print('날씨 : ', dust)"
   ]
  },
  {
   "cell_type": "code",
   "execution_count": null,
   "id": "a9821e46",
   "metadata": {},
   "outputs": [],
   "source": []
  }
 ],
 "metadata": {
  "kernelspec": {
   "display_name": "Python 3 (ipykernel)",
   "language": "python",
   "name": "python3"
  },
  "language_info": {
   "codemirror_mode": {
    "name": "ipython",
    "version": 3
   },
   "file_extension": ".py",
   "mimetype": "text/x-python",
   "name": "python",
   "nbconvert_exporter": "python",
   "pygments_lexer": "ipython3",
   "version": "3.10.6"
  }
 },
 "nbformat": 4,
 "nbformat_minor": 5
}
