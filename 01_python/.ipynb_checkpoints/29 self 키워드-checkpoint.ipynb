{
 "cells": [
  {
   "cell_type": "markdown",
   "id": "0c4c666a",
   "metadata": {},
   "source": [
    "# self 키워드\n",
    "\n",
    "- self 키워드는 생성한 변수(인스턴스) 자신의 주소를 가리키는 키워드\n",
    "- 이렇게 자신의 주소를 나타내야 하는 이유는, 인스턴스는 양식은 같지만 내용물은 독립적으로 저장되기 때문\n"
   ]
  },
  {
   "cell_type": "code",
   "execution_count": 7,
   "id": "63cfda0a",
   "metadata": {},
   "outputs": [],
   "source": [
    "class Computer():\n",
    "    cpu = ''\n",
    "    ram = 0\n",
    "    ssd = 0\n",
    "    \n",
    "    def get_info(self):\n",
    "        print('cpu : %s, ram : %sGb, ssd : %sGb' % (self.cpu, self.ram, self.ssd))\n",
    "    \n",
    "    def get_address(self):\n",
    "        print(self)"
   ]
  },
  {
   "cell_type": "code",
   "execution_count": 8,
   "id": "60510ed3",
   "metadata": {},
   "outputs": [],
   "source": [
    "c1 = Computer()\n",
    "c1.cpu = 'AMD라이젠7세대'\n",
    "c1.ram = 32\n",
    "c1.ssd = 500\n",
    "c2 = Computer()\n",
    "c2.cpu = 'intel'\n",
    "c2.ram = 16\n",
    "c2.ssd = 1024"
   ]
  },
  {
   "cell_type": "code",
   "execution_count": 9,
   "id": "08577c29",
   "metadata": {},
   "outputs": [
    {
     "name": "stdout",
     "output_type": "stream",
     "text": [
      "cpu : AMD라이젠7세대, ram : 32Gb, ssd : 500Gb\n"
     ]
    }
   ],
   "source": [
    "c1.get_info()"
   ]
  },
  {
   "cell_type": "code",
   "execution_count": 10,
   "id": "e508366e",
   "metadata": {},
   "outputs": [
    {
     "name": "stdout",
     "output_type": "stream",
     "text": [
      "cpu : intel, ram : 16Gb, ssd : 1024Gb\n"
     ]
    }
   ],
   "source": [
    "c2.get_info()"
   ]
  },
  {
   "cell_type": "code",
   "execution_count": 13,
   "id": "d956b38a",
   "metadata": {},
   "outputs": [
    {
     "name": "stdout",
     "output_type": "stream",
     "text": [
      "<__main__.Computer object at 0x7f11cc455cc0>\n",
      "None\n",
      "<__main__.Computer object at 0x7f11cc455cc0>\n"
     ]
    }
   ],
   "source": [
    "# 주소 같음\n",
    "\n",
    "print( c1.get_address() )\n",
    "print(c1)"
   ]
  },
  {
   "cell_type": "code",
   "execution_count": 14,
   "id": "9f8ae8ae",
   "metadata": {},
   "outputs": [
    {
     "name": "stdout",
     "output_type": "stream",
     "text": [
      "<__main__.Computer object at 0x7f11cc455cc0>\n",
      "None\n",
      "<__main__.Computer object at 0x7f11cc454430>\n"
     ]
    }
   ],
   "source": [
    "print(c1.get_address())\n",
    "print(c2)"
   ]
  },
  {
   "cell_type": "code",
   "execution_count": null,
   "id": "e5db5473",
   "metadata": {},
   "outputs": [],
   "source": []
  }
 ],
 "metadata": {
  "kernelspec": {
   "display_name": "Python 3 (ipykernel)",
   "language": "python",
   "name": "python3"
  },
  "language_info": {
   "codemirror_mode": {
    "name": "ipython",
    "version": 3
   },
   "file_extension": ".py",
   "mimetype": "text/x-python",
   "name": "python",
   "nbconvert_exporter": "python",
   "pygments_lexer": "ipython3",
   "version": "3.10.6"
  }
 },
 "nbformat": 4,
 "nbformat_minor": 5
}
