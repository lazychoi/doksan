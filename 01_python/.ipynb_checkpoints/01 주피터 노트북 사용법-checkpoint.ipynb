{
 "cells": [
  {
   "cell_type": "markdown",
   "id": "7172dc69",
   "metadata": {},
   "source": [
    "# 주피터 노트북 사용법\n",
    "\n",
    "셀을 클릭하면 녹색으로 선택 영역이 지정됨.  \n",
    "녹색으로 선택된 셀에는 키보드 입력시 코드/이볅문이 직접 입력됨.  \n",
    "녹색으로 선택된 셀에 ESC 키를 입력하거나 셀 바깥쪽 클릭 시 파란색으로 전환됨.\n",
    "\n",
    "파란색으로 선택된 셀에  \n",
    "b 입력 => 선택된 셀 아래에 입력용 셀 추가  \n",
    "a 입력 => 선택된 셀 위에 입력용 셀 추가  \n",
    "dd(두 번) 입력 => 선택된 셀 삭제\n",
    "\n",
    "m => 선택된 셀을 코드 입력용이 아닌 필기용으로 전환  \n",
    "y => 선택된 셀을 필기용에서 코드 입력용으로 전환\n",
    "\n",
    "ctrl+enter 혹은 shift+enter 입력시  \n",
    "필기용 셀은 필기가 박제되고  \n",
    "코드 실행 용 셀은 내부 문자를 인식해 명령을 수행합니다."
   ]
  },
  {
   "cell_type": "markdown",
   "id": "db7eb3c6",
   "metadata": {},
   "source": [
    "## 폰트 변경\n",
    "\n",
    "`C:\\Users\\사용자명\\.jupyter\\` 안에 custom.css 파일 작성\n",
    "\n",
    "```css\n",
    ".container { width:95% !important; }\n",
    "\n",
    "div.CodeMirror,\n",
    "\n",
    "div.CodeMirror pre { /*코드 블록*/\n",
    "font-family: D2Coding, Consolas;\n",
    "font-size: 11pt;\n",
    "line-height: 150%;\n",
    "}\n",
    "\n",
    ".text_cell_render { /*마크다운*/\n",
    "font-family: Consolas;\n",
    "}\n",
    "\n",
    ".input_prompt { /*줄번호*/\n",
    "font-family: D2Coding, Consolas;\n",
    "}\n",
    "\n",
    ".output_result pre { /*출력결과-맨마지막 출력*/\n",
    "font-family: D2Coding, Consolas;\n",
    "}\n",
    "\n",
    ".output_stdout pre { /*출력결과-긴출력, 중간출력*/\n",
    "font-family: D2Coding, Consolas;\n",
    "}\n",
    "\n",
    ".output_area { /*표*/\n",
    "font-family: D2Coding, Consolas;\n",
    "}\n",
    "\n",
    ".CodeMirror-dialog, .CodeMirror-dialog .CodeMirror-search-field, .terminal-app .terminal {\n",
    "font-family: D2Coding, Consolas;\n",
    "}\n",
    "```\n",
    "\n"
   ]
  },
  {
   "cell_type": "code",
   "execution_count": null,
   "id": "b4f6f4fc",
   "metadata": {},
   "outputs": [],
   "source": []
  }
 ],
 "metadata": {
  "kernelspec": {
   "display_name": "Python 3 (ipykernel)",
   "language": "python",
   "name": "python3"
  },
  "language_info": {
   "codemirror_mode": {
    "name": "ipython",
    "version": 3
   },
   "file_extension": ".py",
   "mimetype": "text/x-python",
   "name": "python",
   "nbconvert_exporter": "python",
   "pygments_lexer": "ipython3",
   "version": "3.9.12"
  }
 },
 "nbformat": 4,
 "nbformat_minor": 5
}
