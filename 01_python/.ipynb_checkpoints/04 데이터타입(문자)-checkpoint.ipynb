{
 "cells": [
  {
   "cell_type": "markdown",
   "id": "084b2ddd",
   "metadata": {},
   "source": [
    "# 데이터 타입-문자형\n",
    "\n",
    "## 생성하기\n",
    "\n",
    "여닫는 따옴표는 반드시 문자의 앞뒤에서 한 쌍으로 완성해야 한다.\n",
    "\n",
    "### 한 줄 문자열 : ', \""
   ]
  },
  {
   "cell_type": "code",
   "execution_count": 1,
   "id": "dc217b80",
   "metadata": {},
   "outputs": [
    {
     "data": {
      "text/plain": [
       "'123'"
      ]
     },
     "execution_count": 1,
     "metadata": {},
     "output_type": "execute_result"
    }
   ],
   "source": [
    "'123'"
   ]
  },
  {
   "cell_type": "markdown",
   "id": "af787aa8",
   "metadata": {},
   "source": [
    "### 여러 줄 문자열: ''', \"\"\"\n",
    "\n",
    "- print() 했을 때 enter(줄바꿈)이 그대로 반영되는 문자열로 처리 가능\n",
    "- 단 화면에서 보기를 하면 (print 없이 주피터노트북 결과로 보면)\n",
    "- 줄바꿈이 되지 않고 \\n으로 처리된다."
   ]
  },
  {
   "cell_type": "code",
   "execution_count": 2,
   "id": "b89f56bf",
   "metadata": {},
   "outputs": [
    {
     "ename": "SyntaxError",
     "evalue": "unterminated string literal (detected at line 1) (1837370535.py, line 1)",
     "output_type": "error",
     "traceback": [
      "\u001b[0;36m  Cell \u001b[0;32mIn [2], line 1\u001b[0;36m\u001b[0m\n\u001b[0;31m    \"안녕\u001b[0m\n\u001b[0m    ^\u001b[0m\n\u001b[0;31mSyntaxError\u001b[0m\u001b[0;31m:\u001b[0m unterminated string literal (detected at line 1)\n"
     ]
    }
   ],
   "source": [
    "\"안녕\n",
    "반가워\""
   ]
  },
  {
   "cell_type": "code",
   "execution_count": 3,
   "id": "8a7fb17f",
   "metadata": {},
   "outputs": [
    {
     "name": "stdout",
     "output_type": "stream",
     "text": [
      "안녕 \n",
      "반가워\n"
     ]
    }
   ],
   "source": [
    "a = \"안녕 \\n반가워\"\n",
    "print(a)"
   ]
  },
  {
   "cell_type": "code",
   "execution_count": 5,
   "id": "f9f8b19c",
   "metadata": {},
   "outputs": [
    {
     "data": {
      "text/plain": [
       "'안녕 \\n반가워'"
      ]
     },
     "execution_count": 5,
     "metadata": {},
     "output_type": "execute_result"
    }
   ],
   "source": [
    "\"안녕 \\n반가워\""
   ]
  },
  {
   "cell_type": "code",
   "execution_count": 6,
   "id": "bf57ed00",
   "metadata": {},
   "outputs": [
    {
     "name": "stdout",
     "output_type": "stream",
     "text": [
      "안녕\n",
      "반가워\n"
     ]
    }
   ],
   "source": [
    "a = \"\"\"안녕\n",
    "반가워\"\"\"\n",
    "print(a)"
   ]
  },
  {
   "cell_type": "markdown",
   "id": "ebaaffb1",
   "metadata": {},
   "source": [
    "### 문자 속에 문자열 기호 사용하기\n",
    "\n",
    "- 문자열에서 자주 쓰는 기호 : ', \", "
   ]
  },
  {
   "cell_type": "code",
   "execution_count": 7,
   "id": "951304c5",
   "metadata": {},
   "outputs": [
    {
     "ename": "SyntaxError",
     "evalue": "unterminated string literal (detected at line 2) (3357838510.py, line 2)",
     "output_type": "error",
     "traceback": [
      "\u001b[0;36m  Cell \u001b[0;32mIn [7], line 2\u001b[0;36m\u001b[0m\n\u001b[0;31m    a = 'She's happy.'\u001b[0m\n\u001b[0m                     ^\u001b[0m\n\u001b[0;31mSyntaxError\u001b[0m\u001b[0;31m:\u001b[0m unterminated string literal (detected at line 2)\n"
     ]
    }
   ],
   "source": [
    "# 언어, 문자에서 많이 쓰이는 기호 : she's, \"설렁탕을 사왔는데 왜 먹지를 못하나...\"\n",
    "a = 'She's happy.'\n",
    "print(a)"
   ]
  },
  {
   "cell_type": "code",
   "execution_count": 8,
   "id": "79029141",
   "metadata": {},
   "outputs": [
    {
     "name": "stdout",
     "output_type": "stream",
     "text": [
      "오늘은 \"미세먼지\" 좋음.\n"
     ]
    }
   ],
   "source": [
    "title = '오늘은 \"미세먼지\" 좋음.'\n",
    "print(title)"
   ]
  },
  {
   "cell_type": "code",
   "execution_count": 10,
   "id": "55b9dfdc",
   "metadata": {},
   "outputs": [
    {
     "name": "stdout",
     "output_type": "stream",
     "text": [
      "\"He's sad.\"\n"
     ]
    }
   ],
   "source": [
    "# 같은 종류의 따옴표 내부에서 문자따옴표를 쓸 때는\n",
    "# 따옴표 왼쪽에 \\를 붙여 해당 따옴표가 여닫는 용도로 쓰이지 않았음을 보여줌\n",
    "b = \"\\\"He's sad.\\\"\"\n",
    "print(b)"
   ]
  },
  {
   "cell_type": "code",
   "execution_count": 12,
   "id": "cf4a925f",
   "metadata": {},
   "outputs": [
    {
     "name": "stdout",
     "output_type": "stream",
     "text": [
      "aaaaaaaaaaaaaaaaaaaaaaaaaaaaaaaaaaaaaaaaaaaaaaaaaaaaaaaaaaaaaaaaaaaaaaaaaaaaaaaaaaaaaaaaaaaaaaaaaaaaa\n"
     ]
    }
   ],
   "source": [
    "# 만약 문자열이 너무 길어서 보는데 불편한 경우, \\만 쓰고 엔터로 줄을 넘기면\n",
    "# 표기상으로 두 줄이지만, 실제로는 한 줄로 인식된다.\n",
    "c = 'aaaaaaaaaaaaaaaaaaaaaaaaaaaaaaaaaaaaaaa\\\n",
    "aaaaaaaaaaaaaaaaaaaaaaaaaaaaaaaaaaaaaaaaaaaaaaaaaaaaaaaaaaaaaa'\n",
    "print(c)"
   ]
  },
  {
   "cell_type": "markdown",
   "id": "b593c0ec",
   "metadata": {},
   "source": [
    "## <<연습문제>>\n",
    "\n",
    "### 1. 아래와 같은 여러 줄의 문장을 문자열로 만들어서 lines라는 변수에 할당하세요\n",
    "\n",
    "> 파이썬도 배우고   \n",
    "> 장고도 배우고   \n",
    "> 할게 너무 많아\n",
    "\n",
    "방법1) 여러 줄 문자열 활용하기 (lines 변수에 할당)   \n",
    "방법2) 한 줄 문자열 내부에서 \\n 사이사이에 활용하기. (line 변수에 할당)"
   ]
  },
  {
   "cell_type": "code",
   "execution_count": 13,
   "id": "c9814005",
   "metadata": {},
   "outputs": [
    {
     "name": "stdout",
     "output_type": "stream",
     "text": [
      "파이썬도 배우고\n",
      "장고도 배우고\n",
      "할게 너무 많아\n",
      "\n"
     ]
    }
   ],
   "source": [
    "lines = '''파이썬도 배우고\n",
    "장고도 배우고\n",
    "할게 너무 많아\n",
    "'''\n",
    "print(lines)"
   ]
  },
  {
   "cell_type": "code",
   "execution_count": 14,
   "id": "dceb6568",
   "metadata": {},
   "outputs": [
    {
     "name": "stdout",
     "output_type": "stream",
     "text": [
      "파이썬도 배우고 \n",
      "장고도 배우고 \n",
      "할게 너무 많아\n"
     ]
    }
   ],
   "source": [
    "lines = '파이썬도 배우고 \\n장고도 배우고 \\n할게 너무 많아'\n",
    "print(lines)"
   ]
  },
  {
   "cell_type": "code",
   "execution_count": null,
   "id": "d5e64d3a",
   "metadata": {},
   "outputs": [],
   "source": []
  }
 ],
 "metadata": {
  "kernelspec": {
   "display_name": "Python 3 (ipykernel)",
   "language": "python",
   "name": "python3"
  },
  "language_info": {
   "codemirror_mode": {
    "name": "ipython",
    "version": 3
   },
   "file_extension": ".py",
   "mimetype": "text/x-python",
   "name": "python",
   "nbconvert_exporter": "python",
   "pygments_lexer": "ipython3",
   "version": "3.10.6"
  }
 },
 "nbformat": 4,
 "nbformat_minor": 5
}
