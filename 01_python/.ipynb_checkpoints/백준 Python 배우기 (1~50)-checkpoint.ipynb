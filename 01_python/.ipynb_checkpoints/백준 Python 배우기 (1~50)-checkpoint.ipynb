{
 "cells": [
  {
   "cell_type": "markdown",
   "id": "370e9b96",
   "metadata": {},
   "source": [
    "1. 두 정수 A와 B를 입력받은 다음, A+B를 출력하는 프로그램을 작성하시오.\n",
    "\n",
    "- 첫째 줄에 A와 B가 주어진다. (0 < A, B < 10)\n",
    "- 첫째 줄에 A+B를 출력한다."
   ]
  },
  {
   "cell_type": "code",
   "execution_count": 11,
   "id": "78a45742",
   "metadata": {},
   "outputs": [
    {
     "name": "stdout",
     "output_type": "stream",
     "text": [
      "1 2\n",
      "3\n"
     ]
    }
   ],
   "source": [
    "A, B = input().split()\n",
    "print(int(A)+int(B))"
   ]
  },
  {
   "cell_type": "markdown",
   "id": "feb4c355",
   "metadata": {},
   "source": [
    "2. 두 정수 A와 B를 입력받은 다음, A×B를 출력하는 프로그램을 작성하시오."
   ]
  },
  {
   "cell_type": "code",
   "execution_count": 12,
   "id": "7e2dd98f",
   "metadata": {},
   "outputs": [
    {
     "name": "stdout",
     "output_type": "stream",
     "text": [
      "4 9\n",
      "36\n"
     ]
    }
   ],
   "source": [
    "A, B = input().split()\n",
    "print(int(A)*int(B))"
   ]
  },
  {
   "cell_type": "markdown",
   "id": "0ff8a951",
   "metadata": {},
   "source": [
    "3. 두 정수 A와 B를 입력받은 다음, A-B를 출력하는 프로그램을 작성하시오."
   ]
  },
  {
   "cell_type": "code",
   "execution_count": 13,
   "id": "00178331",
   "metadata": {},
   "outputs": [
    {
     "name": "stdout",
     "output_type": "stream",
     "text": [
      "10 8\n",
      "2\n"
     ]
    }
   ],
   "source": [
    "A, B = input().split()\n",
    "print(int(A)-int(B))"
   ]
  },
  {
   "cell_type": "markdown",
   "id": "1bd4401f",
   "metadata": {},
   "source": [
    "4. 두 정수 A와 B를 입력받은 다음, A/B를 출력하는 프로그램을 작성하시오."
   ]
  },
  {
   "cell_type": "code",
   "execution_count": 15,
   "id": "2d685c69",
   "metadata": {},
   "outputs": [
    {
     "name": "stdout",
     "output_type": "stream",
     "text": [
      "4 8\n",
      "0.5\n"
     ]
    }
   ],
   "source": [
    "A, B = input().split()\n",
    "print(int(A)/int(B))"
   ]
  },
  {
   "cell_type": "markdown",
   "id": "bb8c88da",
   "metadata": {},
   "source": [
    "5. 두 자연수 A와 B가 주어진다. 이때, A+B, A-B, A*B, A/B(몫), A%B(나머지)를 출력하는 프로그램을 작성하시오. \n",
    "\n",
    "첫째 줄에 A+B, 둘째 줄에 A-B, 셋째 줄에 A*B, 넷째 줄에 A/B, 다섯째 줄에 A%B를 출력한다."
   ]
  },
  {
   "cell_type": "code",
   "execution_count": 19,
   "id": "32a6f581",
   "metadata": {},
   "outputs": [
    {
     "name": "stdout",
     "output_type": "stream",
     "text": [
      "7 3\n",
      "10\n",
      "4\n",
      "21\n",
      "2\n",
      "1\n"
     ]
    }
   ],
   "source": [
    "# input으로 입력받은 여러 숫자(공백으로 구분)를 split()으로 나눈 후 \n",
    "# 일괄 수치형으로 변환 : map(자료형, input().split())\n",
    "A, B = map(int,input().split())\n",
    "print(A+B)\n",
    "print(A-B)\n",
    "print(A*B)\n",
    "print(int(A/B))\n",
    "print(A%B)"
   ]
  },
  {
   "cell_type": "markdown",
   "id": "3bc19fe2",
   "metadata": {},
   "source": [
    "(A+B)%C는 ((A%C) + (B%C))%C 와 같을까?\n",
    "\n",
    "(A×B)%C는 ((A%C) × (B%C))%C 와 같을까?\n",
    "\n",
    "세 수 A, B, C가 주어졌을 때, 위의 네 가지 값을 구하는 프로그램을 작성하시오.\n",
    "\n",
    "첫째 줄에 A, B, C가 순서대로 주어진다.  \n",
    "첫째 줄에 (A+B)%C, 둘째 줄에 ((A%C) + (B%C))%C, 셋째 줄에 (A×B)%C, 넷째 줄에 ((A%C) × (B%C))%C를 출력한다."
   ]
  },
  {
   "cell_type": "code",
   "execution_count": 22,
   "id": "fe4c6ed6",
   "metadata": {},
   "outputs": [
    {
     "name": "stdout",
     "output_type": "stream",
     "text": [
      "5 8 4\n",
      "1\n",
      "1\n",
      "0\n",
      "0\n"
     ]
    }
   ],
   "source": [
    "a, b, c = map(int,input().split())\n",
    "print( (a+b)%c )\n",
    "print( ((a%c) + (b%c))%c )\n",
    "print( (a*b)%c )\n",
    "print( ((a%c) * (b%c))%c )"
   ]
  },
  {
   "cell_type": "markdown",
   "id": "d881b49b",
   "metadata": {},
   "source": [
    "두 정수 A와 B를 입력받은 다음, A+B를 출력하는 프로그램을 작성하시오.  \n",
    "첫째 줄에 A, 둘째 줄에 B가 주어진다. "
   ]
  },
  {
   "cell_type": "code",
   "execution_count": 23,
   "id": "75d3b76e",
   "metadata": {},
   "outputs": [
    {
     "name": "stdout",
     "output_type": "stream",
     "text": [
      "2\n",
      "2\n",
      "4\n"
     ]
    }
   ],
   "source": [
    "a = int(input())\n",
    "b = int(input())\n",
    "print(a+b)"
   ]
  },
  {
   "cell_type": "code",
   "execution_count": 25,
   "id": "8f6203b3",
   "metadata": {},
   "outputs": [
    {
     "data": {
      "text/plain": [
       "1"
      ]
     },
     "execution_count": 25,
     "metadata": {},
     "output_type": "execute_result"
    }
   ],
   "source": [
    "4//3"
   ]
  },
  {
   "cell_type": "markdown",
   "id": "e07609f2",
   "metadata": {},
   "source": [
    "### 조금 어려움\n",
    "\n",
    "https://www.acmicpc.net/problem/2588\n",
    "\n",
    "세자리 숫자 곱셈"
   ]
  },
  {
   "cell_type": "code",
   "execution_count": 43,
   "id": "65a9e568",
   "metadata": {},
   "outputs": [
    {
     "name": "stdout",
     "output_type": "stream",
     "text": [
      "472\n",
      "385\n",
      "2360\n",
      "3776\n",
      "1416\n",
      "181720\n"
     ]
    }
   ],
   "source": [
    "a = int(input())\n",
    "b = input()\n",
    "print(a*int(b[-1]))\n",
    "print(a*int(b[1]))\n",
    "print(a*int(b[0]))\n",
    "print(a*int(b))"
   ]
  },
  {
   "cell_type": "markdown",
   "id": "753173a3",
   "metadata": {},
   "source": [
    "https://www.acmicpc.net/problem/3046\n",
    "\n",
    "(R1+R2)/2 = s => r2 = 2s - r1\n",
    "첫째 줄에 두 정수 R1과 S가 주어진다.  \n",
    "첫째 줄에 R2를 출력한다."
   ]
  },
  {
   "cell_type": "code",
   "execution_count": 45,
   "id": "b87bfeef",
   "metadata": {},
   "outputs": [
    {
     "name": "stdout",
     "output_type": "stream",
     "text": [
      "4 3\n",
      "2\n"
     ]
    }
   ],
   "source": [
    "r1, s = map(int, input().split())\n",
    "print(2*s-r1)"
   ]
  },
  {
   "cell_type": "markdown",
   "id": "3adeeaa0",
   "metadata": {},
   "source": [
    "### 어려움\n",
    "\n",
    "초콜릿 자르기\n",
    "\n",
    "https://www.acmicpc.net/problem/2163"
   ]
  },
  {
   "cell_type": "code",
   "execution_count": 48,
   "id": "ff9e4d5d",
   "metadata": {},
   "outputs": [
    {
     "name": "stdout",
     "output_type": "stream",
     "text": [
      "3 3\n",
      "8\n"
     ]
    }
   ],
   "source": [
    "a, b = map(int, input().split())\n",
    "print(a-1 + (b-1)*a)"
   ]
  },
  {
   "cell_type": "markdown",
   "id": "aacbd4a9",
   "metadata": {},
   "source": [
    "https://www.acmicpc.net/problem/11021\n",
    "\n",
    "두 정수 A와 B를 입력받은 다음, A+B를 출력하는 프로그램을 작성하시오.\n",
    "\n",
    "첫째 줄에 테스트 케이스의 개수 T가 주어진다.\n",
    "\n",
    "각 테스트 케이스는 한 줄로 이루어져 있으며, 각 줄에 A와 B가 주어진다. (0 < A, B < 10)\n",
    "\n",
    "각 테스트 케이스마다 \"Case #x: \"를 출력한 다음, A+B를 출력한다. 테스트 케이스 번호는 1부터 시작한다."
   ]
  },
  {
   "cell_type": "code",
   "execution_count": 3,
   "id": "b695efe0",
   "metadata": {},
   "outputs": [
    {
     "name": "stdout",
     "output_type": "stream",
     "text": [
      "5\n",
      "1 1\n",
      "Case #0: 2\n",
      "2 2\n",
      "Case #1: 4\n",
      "3 3\n",
      "Case #2: 6\n",
      "4 4\n",
      "Case #3: 8\n",
      "5 5\n",
      "Case #4: 10\n"
     ]
    }
   ],
   "source": [
    "q_count = int(input())\n",
    "for i in range(q_count):\n",
    "    a, b = map(int, input().split())\n",
    "    print(f'Case #{i+1}: {a+b}')"
   ]
  },
  {
   "cell_type": "markdown",
   "id": "57daa683",
   "metadata": {},
   "source": [
    "https://www.acmicpc.net/problem/11022\n",
    "\n",
    "각 테스트 케이스마다 \"Case #x: A + B = C\" 형식으로 출력한다. x는 테스트 케이스 번호이고 1부터 시작하며, C는 A+B이다."
   ]
  },
  {
   "cell_type": "code",
   "execution_count": 4,
   "id": "d91b1643",
   "metadata": {},
   "outputs": [
    {
     "name": "stdout",
     "output_type": "stream",
     "text": [
      "5\n",
      "1 1\n",
      "Case #1: 1 + 1 = 2\n",
      "2 3\n",
      "Case #2: 2 + 3 = 5\n",
      "3 4\n",
      "Case #3: 3 + 4 = 7\n",
      "5 7\n",
      "Case #4: 5 + 7 = 12\n",
      "6 7\n",
      "Case #5: 6 + 7 = 13\n"
     ]
    }
   ],
   "source": [
    "q_count = int(input())\n",
    "for i in range(q_count):\n",
    "    a, b = map(int, input().split())\n",
    "    print(f'Case #{i+1}: {a} + {b} = {a+b}')"
   ]
  },
  {
   "cell_type": "markdown",
   "id": "5023f099",
   "metadata": {},
   "source": [
    "https://www.acmicpc.net/problem/10699\n",
    "\n",
    "서울의 오늘 날짜를 출력하는 프로그램을 작성하시오.\n",
    "\n",
    "서울의 오늘 날짜를 \"YYYY-MM-DD\" 형식으로 출력한다."
   ]
  },
  {
   "cell_type": "markdown",
   "id": "8543d5a5",
   "metadata": {},
   "source": [
    "- time.time() 함수는 컴퓨터의 현재 시각을 구하는 함수 -> 1664957219.9671867\n",
    "- 보통 사람이 이해하기 쉬운 datetime 모듈 사용\n",
    "- time.strftime()은 기호로 출력 방식을 지정할 수 있다.\n",
    "\n",
    "참고: https://python.bakyeono.net/chapter-11-3.html"
   ]
  },
  {
   "cell_type": "code",
   "execution_count": 20,
   "id": "0bce8573",
   "metadata": {},
   "outputs": [
    {
     "name": "stdout",
     "output_type": "stream",
     "text": [
      "2022-10-05\n"
     ]
    }
   ],
   "source": [
    "from datetime import date\n",
    "from time import strftime\n",
    "\n",
    "today = date.today()\n",
    "print(today.strftime('%Y-%m-%d'))"
   ]
  },
  {
   "cell_type": "code",
   "execution_count": 13,
   "id": "716cd57d",
   "metadata": {},
   "outputs": [
    {
     "name": "stdout",
     "output_type": "stream",
     "text": [
      "2022-10-5\n"
     ]
    }
   ],
   "source": [
    "print(f'{today.year}-{today.month}-{today.day}')"
   ]
  },
  {
   "cell_type": "code",
   "execution_count": 18,
   "id": "b5b90092",
   "metadata": {},
   "outputs": [
    {
     "data": {
      "text/plain": [
       "1664957219.9671867"
      ]
     },
     "execution_count": 18,
     "metadata": {},
     "output_type": "execute_result"
    }
   ],
   "source": [
    "time.time()"
   ]
  },
  {
   "cell_type": "markdown",
   "id": "84050c1b",
   "metadata": {},
   "source": [
    "https://www.acmicpc.net/problem/7287\n",
    "\n",
    "자신이 백준 온라인 저지(BOJ)에서 맞은 문제의 수와 아이디를 그대로 출력하는 프로그램을 작성하시오.\n",
    "\n",
    "첫 줄에 자신이 맞은 문제의 수, 둘째 줄에 아이디를 출력한다."
   ]
  },
  {
   "cell_type": "code",
   "execution_count": 58,
   "id": "6f0ff071",
   "metadata": {},
   "outputs": [
    {
     "name": "stdout",
     "output_type": "stream",
     "text": [
      "14\n",
      "lazychoi \n"
     ]
    }
   ],
   "source": [
    "from urllib.request import urlopen\n",
    "from bs4 import BeautifulSoup\n",
    "html = urlopen('https://www.acmicpc.net/user/lazychoi')\n",
    "soup = BeautifulSoup(html, 'html.parser')\n",
    "print(soup.select(\"#u-result-4\")[0].text)\n",
    "print(soup.select_one(\"div.page-header > h1\").text[1:])"
   ]
  },
  {
   "cell_type": "markdown",
   "id": "f3c99d35",
   "metadata": {},
   "source": [
    "https://www.acmicpc.net/problem/2525\n",
    "\n",
    "첫째 줄에는 현재 시각이 나온다. 현재 시각은 시 A (0 ≤ A ≤ 23) 와 분 B (0 ≤ B ≤ 59)가 정수로 빈칸을 사이에 두고 순서대로 주어진다. 두 번째 줄에는 요리하는 데 필요한 시간 C (0 ≤ C ≤ 1,000)가 분 단위로 주어진다. \n",
    "\n",
    "첫째 줄에 종료되는 시각의 시와 분을 공백을 사이에 두고 출력한다. (단, 시는 0부터 23까지의 정수, 분은 0부터 59까지의 정수이다. 디지털 시계는 23시 59분에서 1분이 지나면 0시 0분이 된다.)"
   ]
  },
  {
   "cell_type": "code",
   "execution_count": 102,
   "id": "59a140f9",
   "metadata": {},
   "outputs": [
    {
     "name": "stdout",
     "output_type": "stream",
     "text": [
      "23 48\n",
      "25\n",
      "0 13\n"
     ]
    }
   ],
   "source": [
    "# 첫 번째 줄 시, 분 입력 받고, 두 번째 줄 경과시간을 분 단위로 입력\n",
    "# 출력은 끝나는 시, 분\n",
    "import datetime\n",
    "h, m = map(int, input().split())\n",
    "s = int(input())\n",
    "start = datetime.datetime(100, 1, 1, h, m)\n",
    "end = start + datetime.timedelta(minutes=s)\n",
    "\n",
    "print(end.strftime(\"%-H %-M\")) # 한 자릿수로"
   ]
  },
  {
   "cell_type": "code",
   "execution_count": 95,
   "id": "3897fe22",
   "metadata": {},
   "outputs": [
    {
     "name": "stdout",
     "output_type": "stream",
     "text": [
      "15 10\n"
     ]
    }
   ],
   "source": [
    "print(end.strftime(\"%H %M\"))"
   ]
  },
  {
   "cell_type": "code",
   "execution_count": null,
   "id": "f8748ac5",
   "metadata": {},
   "outputs": [],
   "source": []
  }
 ],
 "metadata": {
  "kernelspec": {
   "display_name": "Python 3 (ipykernel)",
   "language": "python",
   "name": "python3"
  },
  "language_info": {
   "codemirror_mode": {
    "name": "ipython",
    "version": 3
   },
   "file_extension": ".py",
   "mimetype": "text/x-python",
   "name": "python",
   "nbconvert_exporter": "python",
   "pygments_lexer": "ipython3",
   "version": "3.10.6"
  }
 },
 "nbformat": 4,
 "nbformat_minor": 5
}
