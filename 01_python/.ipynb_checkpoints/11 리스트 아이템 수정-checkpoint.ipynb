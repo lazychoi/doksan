{
 "cells": [
  {
   "cell_type": "markdown",
   "id": "95d836e2",
   "metadata": {},
   "source": [
    "# 리스트 아이템 수정\n",
    "\n",
    "- 인덱싱, 슬라이싱 이용"
   ]
  },
  {
   "cell_type": "code",
   "execution_count": 5,
   "id": "9fee5801",
   "metadata": {},
   "outputs": [
    {
     "data": {
      "text/plain": [
       "[1, 2, 3, 4]"
      ]
     },
     "execution_count": 5,
     "metadata": {},
     "output_type": "execute_result"
    }
   ],
   "source": [
    "a = list(range(1,5))\n",
    "a"
   ]
  },
  {
   "cell_type": "code",
   "execution_count": 6,
   "id": "b98fde9d",
   "metadata": {},
   "outputs": [
    {
     "data": {
      "text/plain": [
       "[[10, 20], 2, 3, 4]"
      ]
     },
     "execution_count": 6,
     "metadata": {},
     "output_type": "execute_result"
    }
   ],
   "source": [
    "# 하나의 인덱스 수정\n",
    "# 0번 인덱스 값을 [10, 20]으로 수정\n",
    "# 결과 : [[10,20],2,3,4]\n",
    "\n",
    "a[0] = [10,20]\n",
    "a"
   ]
  },
  {
   "cell_type": "code",
   "execution_count": 7,
   "id": "08621fd9",
   "metadata": {},
   "outputs": [
    {
     "data": {
      "text/plain": [
       "[10, 20, 2, 3, 4]"
      ]
     },
     "execution_count": 7,
     "metadata": {},
     "output_type": "execute_result"
    }
   ],
   "source": [
    "# 연속된 범위에서 여러개의 아이템 수정\n",
    "# 0번 인덱스만 선택 <= 슬라이싱\n",
    "\n",
    "a2 = [1,2,3,4]\n",
    "a2[:1] = [10,20]\n",
    "a2"
   ]
  },
  {
   "cell_type": "code",
   "execution_count": 8,
   "id": "f6aa7166",
   "metadata": {},
   "outputs": [
    {
     "ename": "TypeError",
     "evalue": "can only assign an iterable",
     "output_type": "error",
     "traceback": [
      "\u001b[0;31m---------------------------------------------------------------------------\u001b[0m",
      "\u001b[0;31mTypeError\u001b[0m                                 Traceback (most recent call last)",
      "Cell \u001b[0;32mIn [8], line 4\u001b[0m\n\u001b[1;32m      1\u001b[0m \u001b[38;5;66;03m# 슬라이싱으로 값을 할당할 때 주의점 : 전달하는 값이 1개여도 리스트로 입력\u001b[39;00m\n\u001b[1;32m      2\u001b[0m \u001b[38;5;66;03m# 동작원리가 extend()와 동일하기 때문\u001b[39;00m\n\u001b[0;32m----> 4\u001b[0m a2[:\u001b[38;5;241m1\u001b[39m] \u001b[38;5;241m=\u001b[39m \u001b[38;5;241m100\u001b[39m\n",
      "\u001b[0;31mTypeError\u001b[0m: can only assign an iterable"
     ]
    }
   ],
   "source": [
    "# 슬라이싱으로 값을 할당할 때 주의점 : 전달하는 값이 1개여도 리스트로 입력\n",
    "# 동작원리가 extend()와 동일하기 때문\n",
    "\n",
    "# error \n",
    "a2[:1] = 100"
   ]
  },
  {
   "cell_type": "code",
   "execution_count": 10,
   "id": "c1a14658",
   "metadata": {},
   "outputs": [
    {
     "data": {
      "text/plain": [
       "[100, 20, 2, 3, 4]"
      ]
     },
     "execution_count": 10,
     "metadata": {},
     "output_type": "execute_result"
    }
   ],
   "source": [
    "a2[:1] = [100]\n",
    "a2"
   ]
  },
  {
   "cell_type": "markdown",
   "id": "62ec73d5",
   "metadata": {},
   "source": [
    "## << 연습문제 >>\n",
    "\n",
    "아래 조건에 맞추어 리스트를 수정하세요.\n",
    "\n",
    "[ 10, 99, 3, '사과', 73, '바나나' ]\n",
    "\n",
    "조건1)  '사과'를 'apple'로 수정  \n",
    "조건2)  99, 3 을 9, 33으로 수정  \n",
    "조건3)  73 을 [ 73, 74 ] 로 수정"
   ]
  },
  {
   "cell_type": "code",
   "execution_count": 13,
   "id": "91177694",
   "metadata": {},
   "outputs": [],
   "source": [
    "b = [ 10, 99, 3, '사과', 73, '바나나' ]"
   ]
  },
  {
   "cell_type": "code",
   "execution_count": 15,
   "id": "f2d846c3",
   "metadata": {},
   "outputs": [
    {
     "data": {
      "text/plain": [
       "[10, 99, 3, 'apple', 73, '바나나']"
      ]
     },
     "execution_count": 15,
     "metadata": {},
     "output_type": "execute_result"
    }
   ],
   "source": [
    "# 조건1) '사과'를 'apple'로 수정\n",
    "\n",
    "b[3] = 'apple'\n",
    "b"
   ]
  },
  {
   "cell_type": "code",
   "execution_count": 16,
   "id": "db1f787b",
   "metadata": {},
   "outputs": [
    {
     "data": {
      "text/plain": [
       "[10, 9, 33, 'apple', 73, '바나나']"
      ]
     },
     "execution_count": 16,
     "metadata": {},
     "output_type": "execute_result"
    }
   ],
   "source": [
    "# 조건2)  99, 3 을 9, 33으로 수정 \n",
    "\n",
    "b[1:3] = [9,33]\n",
    "b"
   ]
  },
  {
   "cell_type": "code",
   "execution_count": 17,
   "id": "2807a4f6",
   "metadata": {},
   "outputs": [
    {
     "data": {
      "text/plain": [
       "[10, 9, 33, 'apple', [73, 74], '바나나']"
      ]
     },
     "execution_count": 17,
     "metadata": {},
     "output_type": "execute_result"
    }
   ],
   "source": [
    "# 조건3)  73 을 [ 73, 74 ] 로 수정\n",
    "\n",
    "b[-2] = [73,74]\n",
    "b"
   ]
  },
  {
   "cell_type": "code",
   "execution_count": null,
   "id": "cfc056db",
   "metadata": {},
   "outputs": [],
   "source": []
  }
 ],
 "metadata": {
  "kernelspec": {
   "display_name": "Python 3 (ipykernel)",
   "language": "python",
   "name": "python3"
  },
  "language_info": {
   "codemirror_mode": {
    "name": "ipython",
    "version": 3
   },
   "file_extension": ".py",
   "mimetype": "text/x-python",
   "name": "python",
   "nbconvert_exporter": "python",
   "pygments_lexer": "ipython3",
   "version": "3.10.6"
  }
 },
 "nbformat": 4,
 "nbformat_minor": 5
}
