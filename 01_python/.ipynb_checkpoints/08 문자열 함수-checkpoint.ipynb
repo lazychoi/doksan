{
 "cells": [
  {
   "cell_type": "markdown",
   "id": "0ed18056",
   "metadata": {},
   "source": [
    "## 문자열 내장함수* = 문자열 메서드\n",
    "\n",
    "> - 내장함수 : 특정 데이터 타입이 자체적으로 가지고 있는 속성으로 존재하는 함수\n",
    "> - 문법 : 변수(데이터타입값).함수명()\n",
    "\n",
    "* count( ) : 특정 문자의 개수\n",
    "* find( ) :특정 문자의 인덱스 번호(위치)\n",
    "* join( ) : 특정 기호를 문자열 아이템 사이에 입력\n",
    "* upper( ) : 문자열을 대문자로 변경\n",
    "* lower( ) : 문자열을 소문자로 변경\n",
    "* capitalize( ) : 문자열의 첫 글자를 대문자로\n",
    "* swapcase( ) : 대문자는 소문자로, 소문자는 대문자로 전환\n",
    "* lstrip( ) / rstrip( ) / strip( ) : 좌 / 우 / 앞뒤 공백(기본) 및 특정 문자 지우기\n",
    "* replace( ) : 기존 문자를 새로운 문자로 바꾸기\n",
    "* split( ) : 특정 기호를 기준으로 문자열을 아이템 단위로 나누어 리스트로 반환\n",
    "* center( ) : 문자열 길이를 지정하여 대상 문자열을 중앙 정렬\n",
    "* ljust( ) : 문자열 길이를 지정하여 대상 문자열을 왼쪽 정렬\n",
    "* rjust( ) : 문자열 길이를 지정하여 대상 문자열을 오른쪽 정렬"
   ]
  },
  {
   "cell_type": "code",
   "execution_count": 3,
   "id": "8bf73d07",
   "metadata": {},
   "outputs": [],
   "source": [
    "# 문자열 생성\n",
    "text = 'tomato juice'"
   ]
  },
  {
   "cell_type": "code",
   "execution_count": 4,
   "id": "e22ade10",
   "metadata": {},
   "outputs": [
    {
     "data": {
      "text/plain": [
       "1"
      ]
     },
     "execution_count": 4,
     "metadata": {},
     "output_type": "execute_result"
    }
   ],
   "source": [
    "# .count()\n",
    "# text 문자열에서 a 개수\n",
    "text.count('a')"
   ]
  },
  {
   "cell_type": "code",
   "execution_count": 5,
   "id": "a44cc79f",
   "metadata": {},
   "outputs": [
    {
     "data": {
      "text/plain": [
       "2"
      ]
     },
     "execution_count": 5,
     "metadata": {},
     "output_type": "execute_result"
    }
   ],
   "source": [
    "# .count()는 2글자 이상에 대해서도 집계 가능\n",
    "text.count('to')"
   ]
  },
  {
   "cell_type": "code",
   "execution_count": 6,
   "id": "2f2922ab",
   "metadata": {},
   "outputs": [
    {
     "data": {
      "text/plain": [
       "7"
      ]
     },
     "execution_count": 6,
     "metadata": {},
     "output_type": "execute_result"
    }
   ],
   "source": [
    "# .find() : 특정 값의 인덱스 번호 반환)\n",
    "# text 문자열에서의 a의 인덱스 번호\n",
    "# .find('찾을 자료', 시작번호) : 시작번호로 지정한 인덱스부터 찾기 \n",
    "text.find('j')"
   ]
  },
  {
   "cell_type": "code",
   "execution_count": 7,
   "id": "5eb24f98",
   "metadata": {},
   "outputs": [
    {
     "data": {
      "text/plain": [
       "0"
      ]
     },
     "execution_count": 7,
     "metadata": {},
     "output_type": "execute_result"
    }
   ],
   "source": [
    "text.find('to')"
   ]
  },
  {
   "cell_type": "code",
   "execution_count": 8,
   "id": "0c02073f",
   "metadata": {},
   "outputs": [
    {
     "data": {
      "text/plain": [
       "4"
      ]
     },
     "execution_count": 8,
     "metadata": {},
     "output_type": "execute_result"
    }
   ],
   "source": [
    "# 1번 인덱스부터 찾기\n",
    "text.find('to', 1)"
   ]
  },
  {
   "cell_type": "code",
   "execution_count": 9,
   "id": "1a4b1030",
   "metadata": {},
   "outputs": [
    {
     "data": {
      "text/plain": [
       "'TOMATO JUICE'"
      ]
     },
     "execution_count": 9,
     "metadata": {},
     "output_type": "execute_result"
    }
   ],
   "source": [
    "# .upper()\n",
    "# 변경된 결과를 시뮬레이션해서 보여줌(원본은 바뀌지 않음)\n",
    "text.upper()"
   ]
  },
  {
   "cell_type": "code",
   "execution_count": 11,
   "id": "f57e9a09",
   "metadata": {},
   "outputs": [
    {
     "data": {
      "text/plain": [
       "'tomato juice'"
      ]
     },
     "execution_count": 11,
     "metadata": {},
     "output_type": "execute_result"
    }
   ],
   "source": [
    "text"
   ]
  },
  {
   "cell_type": "code",
   "execution_count": 12,
   "id": "0891380d",
   "metadata": {},
   "outputs": [
    {
     "data": {
      "text/plain": [
       "'TOMATO JUICE'"
      ]
     },
     "execution_count": 12,
     "metadata": {},
     "output_type": "execute_result"
    }
   ],
   "source": [
    "text2 = text.upper()\n",
    "text2"
   ]
  },
  {
   "cell_type": "code",
   "execution_count": 13,
   "id": "aa65e5ae",
   "metadata": {},
   "outputs": [
    {
     "data": {
      "text/plain": [
       "'tomato juice'"
      ]
     },
     "execution_count": 13,
     "metadata": {},
     "output_type": "execute_result"
    }
   ],
   "source": [
    "# .lower()\n",
    "# 대문자를 전부 소문자로\n",
    "text2.lower()"
   ]
  },
  {
   "cell_type": "code",
   "execution_count": 14,
   "id": "ae464efc",
   "metadata": {},
   "outputs": [],
   "source": [
    "text = '          123          123          '"
   ]
  },
  {
   "cell_type": "code",
   "execution_count": 18,
   "id": "757cefd2",
   "metadata": {},
   "outputs": [
    {
     "data": {
      "text/plain": [
       "'123          123          '"
      ]
     },
     "execution_count": 18,
     "metadata": {},
     "output_type": "execute_result"
    }
   ],
   "source": [
    "# .lstrip()\n",
    "# 문자열 왼쪽 공백 모두 제거(가운데는 제거 안 함)\n",
    "# 원본 반영 안 됨\n",
    "text.lstrip()"
   ]
  },
  {
   "cell_type": "code",
   "execution_count": 19,
   "id": "65c7c963",
   "metadata": {},
   "outputs": [
    {
     "data": {
      "text/plain": [
       "'          123          123          '"
      ]
     },
     "execution_count": 19,
     "metadata": {},
     "output_type": "execute_result"
    }
   ],
   "source": [
    "text"
   ]
  },
  {
   "cell_type": "code",
   "execution_count": 20,
   "id": "6462a5b4",
   "metadata": {},
   "outputs": [
    {
     "data": {
      "text/plain": [
       "'          123          123'"
      ]
     },
     "execution_count": 20,
     "metadata": {},
     "output_type": "execute_result"
    }
   ],
   "source": [
    "# .rstrip()\n",
    "text.rstrip()"
   ]
  },
  {
   "cell_type": "code",
   "execution_count": 22,
   "id": "d4d566a7",
   "metadata": {},
   "outputs": [
    {
     "data": {
      "text/plain": [
       "'123          123'"
      ]
     },
     "execution_count": 22,
     "metadata": {},
     "output_type": "execute_result"
    }
   ],
   "source": [
    "# .strip()\n",
    "# 양쪽 공백 다 없앰\n",
    "text.strip()"
   ]
  },
  {
   "cell_type": "code",
   "execution_count": 23,
   "id": "0d4d0eb4",
   "metadata": {},
   "outputs": [
    {
     "data": {
      "text/plain": [
       "'123123'"
      ]
     },
     "execution_count": 23,
     "metadata": {},
     "output_type": "execute_result"
    }
   ],
   "source": [
    "# replace(old, new)\n",
    "# 찾아바꾸기, 문자열 내에서 old에 해당하는 문자열을 new로 바꾼다\n",
    "# 공백 찾아 없애는 데 쓸 수 있음\n",
    "# 원본 반영 안 됨\n",
    "text.replace(' ', '')"
   ]
  },
  {
   "cell_type": "code",
   "execution_count": 24,
   "id": "c2cdd120",
   "metadata": {},
   "outputs": [
    {
     "data": {
      "text/plain": [
       "['TOMATO', 'JUICE']"
      ]
     },
     "execution_count": 24,
     "metadata": {},
     "output_type": "execute_result"
    }
   ],
   "source": [
    "# .split(\"기준\")\n",
    "# 쪼개기\n",
    "# 기준 입력시 기준점을 기준으로 쪼개고\n",
    "# 입력 안 하면 ' ', \\n, \\t 등을 기준으로 쪼갬\n",
    "text2.split()"
   ]
  },
  {
   "cell_type": "code",
   "execution_count": 26,
   "id": "99dec6fe",
   "metadata": {},
   "outputs": [
    {
     "data": {
      "text/plain": [
       "['a', 'b', 'c']"
      ]
     },
     "execution_count": 26,
     "metadata": {},
     "output_type": "execute_result"
    }
   ],
   "source": [
    "text = 'a \\nb\\nc'\n",
    "text.split()"
   ]
  },
  {
   "cell_type": "code",
   "execution_count": 27,
   "id": "6ea3c1b2",
   "metadata": {},
   "outputs": [
    {
     "data": {
      "text/plain": [
       "['a,b,c,', 's']"
      ]
     },
     "execution_count": 27,
     "metadata": {},
     "output_type": "execute_result"
    }
   ],
   "source": [
    "# 두 글자 이상도 쪼개기의 기준이 될 수 있음\n",
    "text3 = 'a,b,c,ddes'\n",
    "text3.split('dde')"
   ]
  },
  {
   "cell_type": "code",
   "execution_count": 28,
   "id": "2b4570ae",
   "metadata": {},
   "outputs": [
    {
     "data": {
      "text/plain": [
       "'a,b,c'"
      ]
     },
     "execution_count": 28,
     "metadata": {},
     "output_type": "execute_result"
    }
   ],
   "source": [
    "# join()\n",
    "# 점.왼쪽에 있는 요소를 .join(자료)의 자료 인덱스 사이사이에 입력함\n",
    "text = 'abc'\n",
    "\",\".join(text)"
   ]
  },
  {
   "cell_type": "code",
   "execution_count": 29,
   "id": "487429fc",
   "metadata": {},
   "outputs": [],
   "source": [
    "# 마지막 인덱스 번호 가변적으로 구하기\n",
    "# len(문자열) - 1\n",
    "x = 'abcdefghijklmnopqrstuvwxyz'"
   ]
  },
  {
   "cell_type": "code",
   "execution_count": 30,
   "id": "02afeeb6",
   "metadata": {},
   "outputs": [
    {
     "data": {
      "text/plain": [
       "26"
      ]
     },
     "execution_count": 30,
     "metadata": {},
     "output_type": "execute_result"
    }
   ],
   "source": [
    "len(x)"
   ]
  },
  {
   "cell_type": "code",
   "execution_count": 31,
   "id": "b8eaee0b",
   "metadata": {},
   "outputs": [
    {
     "data": {
      "text/plain": [
       "25"
      ]
     },
     "execution_count": 31,
     "metadata": {},
     "output_type": "execute_result"
    }
   ],
   "source": [
    "# 마지막 인덱스 번호는 길이-1\n",
    "len(x)-1"
   ]
  },
  {
   "cell_type": "code",
   "execution_count": 32,
   "id": "7b764435",
   "metadata": {},
   "outputs": [
    {
     "data": {
      "text/plain": [
       "'z'"
      ]
     },
     "execution_count": 32,
     "metadata": {},
     "output_type": "execute_result"
    }
   ],
   "source": [
    "# x의 마지막 글자를 len()을 활용한 인덱싱으로 출력\n",
    "x[len(x)-1]"
   ]
  },
  {
   "cell_type": "code",
   "execution_count": null,
   "id": "f9a97e02",
   "metadata": {},
   "outputs": [],
   "source": []
  }
 ],
 "metadata": {
  "kernelspec": {
   "display_name": "Python 3 (ipykernel)",
   "language": "python",
   "name": "python3"
  },
  "language_info": {
   "codemirror_mode": {
    "name": "ipython",
    "version": 3
   },
   "file_extension": ".py",
   "mimetype": "text/x-python",
   "name": "python",
   "nbconvert_exporter": "python",
   "pygments_lexer": "ipython3",
   "version": "3.10.6"
  }
 },
 "nbformat": 4,
 "nbformat_minor": 5
}
