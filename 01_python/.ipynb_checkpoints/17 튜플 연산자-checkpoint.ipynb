{
 "cells": [
  {
   "cell_type": "markdown",
   "id": "a78a587d",
   "metadata": {},
   "source": [
    "# 튜플 연산자\n",
    "\n",
    "- 산술 연산자 : +, *"
   ]
  },
  {
   "cell_type": "code",
   "execution_count": 2,
   "id": "79c54000",
   "metadata": {},
   "outputs": [
    {
     "data": {
      "text/plain": [
       "(58, 78, 29, 100, 58, 78, 29, 100)"
      ]
     },
     "execution_count": 2,
     "metadata": {},
     "output_type": "execute_result"
    }
   ],
   "source": [
    "# 여러 개의 튜플의 아이템을 합쳐 새로운 튜플 만들기\n",
    "\n",
    "x = (58,78,29,100)\n",
    "x + x"
   ]
  },
  {
   "cell_type": "code",
   "execution_count": 3,
   "id": "54b3215b",
   "metadata": {},
   "outputs": [
    {
     "data": {
      "text/plain": [
       "(58, 78, 29, 100)"
      ]
     },
     "execution_count": 3,
     "metadata": {},
     "output_type": "execute_result"
    }
   ],
   "source": [
    "# 원본에 영향이 없으므로 해당 로직을 실행하는데 논리적 문제가 없음\n",
    "\n",
    "x"
   ]
  },
  {
   "cell_type": "code",
   "execution_count": 4,
   "id": "ba74d92a",
   "metadata": {},
   "outputs": [
    {
     "data": {
      "text/plain": [
       "(58, 78, 29, 100, 58, 78, 29, 100, 58, 78, 29, 100)"
      ]
     },
     "execution_count": 4,
     "metadata": {},
     "output_type": "execute_result"
    }
   ],
   "source": [
    "# 한 개의 튜플을 반복 확장해서 새로웉 튜플 만들기\n",
    "\n",
    "x * 3"
   ]
  },
  {
   "cell_type": "markdown",
   "id": "2e8ae7b5",
   "metadata": {},
   "source": [
    "## 수정, 삭제할 수 없는 튜플"
   ]
  },
  {
   "cell_type": "code",
   "execution_count": 5,
   "id": "58dda30f",
   "metadata": {
    "collapsed": true
   },
   "outputs": [
    {
     "ename": "TypeError",
     "evalue": "'tuple' object does not support item assignment",
     "output_type": "error",
     "traceback": [
      "\u001b[0;31m---------------------------------------------------------------------------\u001b[0m",
      "\u001b[0;31mTypeError\u001b[0m                                 Traceback (most recent call last)",
      "Cell \u001b[0;32mIn [5], line 3\u001b[0m\n\u001b[1;32m      1\u001b[0m \u001b[38;5;66;03m# 수정하기 -> 인덱싱으로 하나의 아이템에 접근해서 수정\u001b[39;00m\n\u001b[0;32m----> 3\u001b[0m x[\u001b[38;5;241m0\u001b[39m] \u001b[38;5;241m=\u001b[39m\u001b[38;5;241m0\u001b[39m\n",
      "\u001b[0;31mTypeError\u001b[0m: 'tuple' object does not support item assignment"
     ]
    }
   ],
   "source": [
    "# 수정하기 -> 인덱싱으로 하나의 아이템에 접근해서 수정\n",
    "# error\n",
    "\n",
    "x[0] = 0"
   ]
  },
  {
   "cell_type": "code",
   "execution_count": 6,
   "id": "f38a8be8",
   "metadata": {
    "collapsed": true
   },
   "outputs": [
    {
     "ename": "TypeError",
     "evalue": "'tuple' object doesn't support item deletion",
     "output_type": "error",
     "traceback": [
      "\u001b[0;31m---------------------------------------------------------------------------\u001b[0m",
      "\u001b[0;31mTypeError\u001b[0m                                 Traceback (most recent call last)",
      "Cell \u001b[0;32mIn [6], line 3\u001b[0m\n\u001b[1;32m      1\u001b[0m \u001b[38;5;66;03m# 삭제하기 : del 키워드 + 인덱싱\u001b[39;00m\n\u001b[0;32m----> 3\u001b[0m \u001b[38;5;28;01mdel\u001b[39;00m x[\u001b[38;5;241m0\u001b[39m]\n",
      "\u001b[0;31mTypeError\u001b[0m: 'tuple' object doesn't support item deletion"
     ]
    }
   ],
   "source": [
    "# 삭제하기 : del 키워드 + 인덱싱\n",
    "# error\n",
    "\n",
    "del x[0]"
   ]
  },
  {
   "cell_type": "code",
   "execution_count": null,
   "id": "ae628fc2",
   "metadata": {},
   "outputs": [],
   "source": []
  }
 ],
 "metadata": {
  "kernelspec": {
   "display_name": "Python 3 (ipykernel)",
   "language": "python",
   "name": "python3"
  },
  "language_info": {
   "codemirror_mode": {
    "name": "ipython",
    "version": 3
   },
   "file_extension": ".py",
   "mimetype": "text/x-python",
   "name": "python",
   "nbconvert_exporter": "python",
   "pygments_lexer": "ipython3",
   "version": "3.10.6"
  }
 },
 "nbformat": 4,
 "nbformat_minor": 5
}
