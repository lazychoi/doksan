{
 "cells": [
  {
   "cell_type": "markdown",
   "id": "2f7d8d11",
   "metadata": {},
   "source": [
    "# 리스트 아이템 개수 세기\n",
    "\n",
    "- 리스트.count(값) : 조회할 값이 리스트 내에 몇 개 있는지 보여줌\n",
    "- len() : 파이썬 내장함수로 리스트 내부 전체 아이템이 몇 개 있는지 보여줌"
   ]
  },
  {
   "cell_type": "code",
   "execution_count": 1,
   "id": "f6f9c7ba",
   "metadata": {},
   "outputs": [],
   "source": [
    "a = [1,2,3,3,3,4,5,6]"
   ]
  },
  {
   "cell_type": "code",
   "execution_count": 2,
   "id": "99485675",
   "metadata": {},
   "outputs": [
    {
     "data": {
      "text/plain": [
       "1"
      ]
     },
     "execution_count": 2,
     "metadata": {},
     "output_type": "execute_result"
    }
   ],
   "source": [
    "# 특정 아이템 개수 : count()\n",
    "\n",
    "a.count(6)"
   ]
  },
  {
   "cell_type": "code",
   "execution_count": 3,
   "id": "3d996088",
   "metadata": {},
   "outputs": [
    {
     "data": {
      "text/plain": [
       "8"
      ]
     },
     "execution_count": 3,
     "metadata": {},
     "output_type": "execute_result"
    }
   ],
   "source": [
    "# 전체 아이템 개수 : len()\n",
    "\n",
    "len(a)"
   ]
  },
  {
   "cell_type": "code",
   "execution_count": null,
   "id": "afd9d5a6",
   "metadata": {},
   "outputs": [],
   "source": []
  }
 ],
 "metadata": {
  "kernelspec": {
   "display_name": "Python 3 (ipykernel)",
   "language": "python",
   "name": "python3"
  },
  "language_info": {
   "codemirror_mode": {
    "name": "ipython",
    "version": 3
   },
   "file_extension": ".py",
   "mimetype": "text/x-python",
   "name": "python",
   "nbconvert_exporter": "python",
   "pygments_lexer": "ipython3",
   "version": "3.10.6"
  }
 },
 "nbformat": 4,
 "nbformat_minor": 5
}
