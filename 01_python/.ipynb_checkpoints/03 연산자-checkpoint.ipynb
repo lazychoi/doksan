{
 "cells": [
  {
   "cell_type": "markdown",
   "id": "26794139",
   "metadata": {},
   "source": [
    "# 연산자\n",
    "\n",
    "- 산술 : +, -, *, /, //(몫), %(나머지)\n",
    "- 비교 : ==(값이 같은지), !=(값이 다른지), <=, >=, <, >\n",
    "- 논리 : and, or\n",
    "- 할당 : =, +=(누적합), -=(누적차), *=(누적곱), /=(몫만 남기기), %=(나머지만 남기기)"
   ]
  },
  {
   "cell_type": "markdown",
   "id": "9c03a251",
   "metadata": {},
   "source": [
    "## 산술연산자 : 숫자를 계산하기 위한 문법 기호"
   ]
  },
  {
   "cell_type": "code",
   "execution_count": 1,
   "id": "fb21965f",
   "metadata": {},
   "outputs": [
    {
     "data": {
      "text/plain": [
       "13"
      ]
     },
     "execution_count": 1,
     "metadata": {},
     "output_type": "execute_result"
    }
   ],
   "source": [
    "# 더하기 : +\n",
    "# 정수 + 정수 => 정수로 출력\n",
    "10+3"
   ]
  },
  {
   "cell_type": "code",
   "execution_count": 2,
   "id": "99fa6ff2",
   "metadata": {},
   "outputs": [
    {
     "data": {
      "text/plain": [
       "15.700000000000001"
      ]
     },
     "execution_count": 2,
     "metadata": {},
     "output_type": "execute_result"
    }
   ],
   "source": [
    "# 실수 + 실수 => 실수로 출력 => 계산할 때는 실수로 변환 후 계산됨\n",
    "13.3+2.4"
   ]
  },
  {
   "cell_type": "markdown",
   "id": "4e507a3f",
   "metadata": {},
   "source": [
    "#### 실수 => 2진수 변환  \n",
    "\n",
    "- 0.3, 0.4는 2진수로 떨어지지 않음  \n",
    "- 0.3 = 0.01001......  \n",
    "- 0.4 = 0.01100110...\n",
    "\n",
    "십진수 -> 2진수 변환 방법: https://kimi10.tistory.com/4  \n",
    "변환기 : https://ourcalc.com/2%EC%A7%84%EC%88%98-%EB%B3%80%ED%99%98%EA%B8%B0/"
   ]
  },
  {
   "cell_type": "code",
   "execution_count": 3,
   "id": "965a7fe9",
   "metadata": {
    "scrolled": true
   },
   "outputs": [
    {
     "data": {
      "text/plain": [
       "13.4"
      ]
     },
     "execution_count": 3,
     "metadata": {},
     "output_type": "execute_result"
    }
   ],
   "source": [
    "# 정수 + 실수 => 실수로 출력\n",
    "10 + 3.4"
   ]
  },
  {
   "cell_type": "code",
   "execution_count": 4,
   "id": "59025b6c",
   "metadata": {},
   "outputs": [
    {
     "data": {
      "text/plain": [
       "7"
      ]
     },
     "execution_count": 4,
     "metadata": {},
     "output_type": "execute_result"
    }
   ],
   "source": [
    "# 빼기 : -\n",
    "# 주피터노트북은 print() 구문을 쓰지 않을 시 가장 마지막 줄의 결과만 화면에 보여줍니다.\n",
    "# 만약 모든 줄의 결과를 화면에 보여주고 싶다면 매 구문마다 print() 구문을 써야 합니다.\n",
    "10-3"
   ]
  },
  {
   "cell_type": "code",
   "execution_count": 6,
   "id": "a7019b55",
   "metadata": {},
   "outputs": [
    {
     "data": {
      "text/plain": [
       "-4.7"
      ]
     },
     "execution_count": 6,
     "metadata": {},
     "output_type": "execute_result"
    }
   ],
   "source": [
    "3 - 7.7 # 3을 먼저 3.0으로 바꾼 뒤 계산됨"
   ]
  },
  {
   "cell_type": "code",
   "execution_count": 8,
   "id": "0cdae959",
   "metadata": {},
   "outputs": [
    {
     "data": {
      "text/plain": [
       "1.0"
      ]
     },
     "execution_count": 8,
     "metadata": {},
     "output_type": "execute_result"
    }
   ],
   "source": [
    "# 나누기 : /\n",
    "# 다른 언어와 달리 파이썬에서는 정수 나누기 정수도 실수로 출력. \n",
    "# 자바, cpp 등 대다수 언어는 정수/정수는 정수로 나온다.\n",
    "3 / 3"
   ]
  },
  {
   "cell_type": "code",
   "execution_count": 9,
   "id": "4630870a",
   "metadata": {},
   "outputs": [
    {
     "data": {
      "text/plain": [
       "(12, -15)"
      ]
     },
     "execution_count": 9,
     "metadata": {},
     "output_type": "execute_result"
    }
   ],
   "source": [
    "# 곱하기 : *\n",
    "3 * 4, -3 * 5"
   ]
  },
  {
   "cell_type": "code",
   "execution_count": 11,
   "id": "e5720b07",
   "metadata": {},
   "outputs": [
    {
     "data": {
      "text/plain": [
       "-5"
      ]
     },
     "execution_count": 11,
     "metadata": {},
     "output_type": "execute_result"
    }
   ],
   "source": [
    "# 파이썬에서도 사칙연산의 우선순위를 ()로 조절할 수 있다.\n",
    "( 3 - 4 ) * 5"
   ]
  },
  {
   "cell_type": "code",
   "execution_count": 13,
   "id": "5a2d1c88",
   "metadata": {},
   "outputs": [
    {
     "data": {
      "text/plain": [
       "1"
      ]
     },
     "execution_count": 13,
     "metadata": {},
     "output_type": "execute_result"
    }
   ],
   "source": [
    "# 정수 몫 반환 : //\n",
    "# 나눗셈 결과값보다 작은 정수 중에서 가장 큰 정수\n",
    "5 // 4 "
   ]
  },
  {
   "cell_type": "code",
   "execution_count": 14,
   "id": "7f2dcf20",
   "metadata": {},
   "outputs": [
    {
     "data": {
      "text/plain": [
       "(-1.25, -2)"
      ]
     },
     "execution_count": 14,
     "metadata": {},
     "output_type": "execute_result"
    }
   ],
   "source": [
    "-5 / 4, -5 // 4"
   ]
  },
  {
   "cell_type": "code",
   "execution_count": 15,
   "id": "1326cff3",
   "metadata": {},
   "outputs": [
    {
     "data": {
      "text/plain": [
       "3"
      ]
     },
     "execution_count": 15,
     "metadata": {},
     "output_type": "execute_result"
    }
   ],
   "source": [
    "# 정수 몫을 구하고 남은 나머지만 반환 : %\n",
    "3 % 4"
   ]
  },
  {
   "cell_type": "code",
   "execution_count": 16,
   "id": "67e66c0d",
   "metadata": {},
   "outputs": [
    {
     "data": {
      "text/plain": [
       "8"
      ]
     },
     "execution_count": 16,
     "metadata": {},
     "output_type": "execute_result"
    }
   ],
   "source": [
    "# 지수 : **\n",
    "2 ** 3"
   ]
  },
  {
   "cell_type": "code",
   "execution_count": 17,
   "id": "890cdee4",
   "metadata": {},
   "outputs": [
    {
     "data": {
      "text/plain": [
       "1.4142135623730951"
      ]
     },
     "execution_count": 17,
     "metadata": {},
     "output_type": "execute_result"
    }
   ],
   "source": [
    "# 제곱근, 세제곱근 등도 계산 가능\n",
    "2 ** 0.5"
   ]
  },
  {
   "cell_type": "markdown",
   "id": "523302af",
   "metadata": {},
   "source": [
    "## 비교연산자: 자료를 비교하기 위한 문법 기호\n",
    "\n",
    "- 결과가 숫자가 아니라 bool type\n",
    "- bool type\n",
    "    - True : 0이 아닌 숫자, 참인 조건식 등\n",
    "    - False : 0, 거짓인 조건식 등\n",
    "- 값에 대한 비교 : ==, !=\n",
    "- 크기에 대한 비교 : >, <, >=, <=\n"
   ]
  },
  {
   "cell_type": "code",
   "execution_count": 2,
   "id": "1a2dcce3",
   "metadata": {},
   "outputs": [
    {
     "data": {
      "text/plain": [
       "True"
      ]
     },
     "execution_count": 2,
     "metadata": {},
     "output_type": "execute_result"
    }
   ],
   "source": [
    "# 두 값이 같은지 비교 : ==\n",
    "1 == 1.0"
   ]
  },
  {
   "cell_type": "code",
   "execution_count": 3,
   "id": "9f33dfdf",
   "metadata": {},
   "outputs": [
    {
     "data": {
      "text/plain": [
       "True"
      ]
     },
     "execution_count": 3,
     "metadata": {},
     "output_type": "execute_result"
    }
   ],
   "source": [
    "1 == 1.0"
   ]
  },
  {
   "cell_type": "code",
   "execution_count": 5,
   "id": "03b37c8f",
   "metadata": {},
   "outputs": [
    {
     "data": {
      "text/plain": [
       "False"
      ]
     },
     "execution_count": 5,
     "metadata": {},
     "output_type": "execute_result"
    }
   ],
   "source": [
    "# 자료끼리는 같다고 나오지면 자료형(자료타입)으로 비교시 다릅니다\n",
    "type(1) == type(1.0)"
   ]
  },
  {
   "cell_type": "code",
   "execution_count": 7,
   "id": "487eca0b",
   "metadata": {},
   "outputs": [
    {
     "name": "stdout",
     "output_type": "stream",
     "text": [
      "False\n",
      "True\n"
     ]
    }
   ],
   "source": [
    "# 두 값이 다른지 비교 : !=\n",
    "# 두 값이 다르면 True, 같으면 False\n",
    "print(0 != 0.0)\n",
    "print(type(0) != type(0.0))"
   ]
  },
  {
   "cell_type": "code",
   "execution_count": 8,
   "id": "cac8c5a6",
   "metadata": {},
   "outputs": [
    {
     "data": {
      "text/plain": [
       "False"
      ]
     },
     "execution_count": 8,
     "metadata": {},
     "output_type": "execute_result"
    }
   ],
   "source": [
    "# 두 값의 크기를 비교 : >=, <=, <, >\n",
    "2 >= 3"
   ]
  },
  {
   "cell_type": "markdown",
   "id": "cfe7ae0a",
   "metadata": {},
   "source": [
    "## 논리연산자\n",
    "\n",
    "- 여러 개의 조건식을 활용하기 위한 명령어\n",
    "- bool type 결과 반환 : True, False"
   ]
  },
  {
   "cell_type": "code",
   "execution_count": 9,
   "id": "def601b8",
   "metadata": {},
   "outputs": [
    {
     "data": {
      "text/plain": [
       "True"
      ]
     },
     "execution_count": 9,
     "metadata": {},
     "output_type": "execute_result"
    }
   ],
   "source": [
    "# and 연산자 : 조건식1 and 조건식2\n",
    "# 조건식1과 조건식2가 모두 True면 최종결과는 True\n",
    "# 둘 중 하나만 False여도 최종결과는 False\n",
    "# 둘 다 False이면 최종결과는 False\n",
    "10 < 12 or 0 > 3"
   ]
  },
  {
   "cell_type": "code",
   "execution_count": 10,
   "id": "07517c7b",
   "metadata": {},
   "outputs": [
    {
     "data": {
      "text/plain": [
       "True"
      ]
     },
     "execution_count": 10,
     "metadata": {},
     "output_type": "execute_result"
    }
   ],
   "source": [
    "# bool(자료) 는 해당 자료의 참, 거짓을 판단해준다.\n",
    "# 단독 숫자 등도 판단이 가능하고, 0만 아니면 이외 모든 숫자는 True\n",
    "bool(-50)"
   ]
  },
  {
   "cell_type": "markdown",
   "id": "1dc91642",
   "metadata": {},
   "source": [
    "## 할당연산자\n",
    "\n",
    "- 변수 할당\n",
    "- 누적 연산"
   ]
  },
  {
   "cell_type": "code",
   "execution_count": 11,
   "id": "b204968b",
   "metadata": {},
   "outputs": [],
   "source": [
    "# 변수명(왼쪽)에 변수값(오른쪽)을 할당/선언/저장 : =\n",
    "# x에 10을 대입해주세요.\n",
    "x = 10"
   ]
  },
  {
   "cell_type": "code",
   "execution_count": 13,
   "id": "27bdc3eb",
   "metadata": {},
   "outputs": [
    {
     "data": {
      "text/plain": [
       "10"
      ]
     },
     "execution_count": 13,
     "metadata": {},
     "output_type": "execute_result"
    }
   ],
   "source": [
    "# 숫자형의 누적 합계 +=\n",
    "# result라는 변수에 누적합을 저장하기\n",
    "result = 0\n",
    "# result에 x만큼 더해서 저장하기 위해 원래 사용하던 코드\n",
    "result = result + x\n",
    "result"
   ]
  },
  {
   "cell_type": "code",
   "execution_count": 14,
   "id": "6091cbf2",
   "metadata": {},
   "outputs": [
    {
     "data": {
      "text/plain": [
       "20"
      ]
     },
     "execution_count": 14,
     "metadata": {},
     "output_type": "execute_result"
    }
   ],
   "source": [
    "# result를 한 번 만 쓰고도 x만큼 더해서 저장까지 하는 코드\n",
    "result += x\n",
    "result"
   ]
  },
  {
   "cell_type": "code",
   "execution_count": 15,
   "id": "588c19c1",
   "metadata": {},
   "outputs": [
    {
     "data": {
      "text/plain": [
       "19"
      ]
     },
     "execution_count": 15,
     "metadata": {},
     "output_type": "execute_result"
    }
   ],
   "source": [
    "# 숫자형의 누적 차\n",
    "result -= 1\n",
    "result"
   ]
  },
  {
   "cell_type": "code",
   "execution_count": 16,
   "id": "8ac440e0",
   "metadata": {},
   "outputs": [
    {
     "data": {
      "text/plain": [
       "38"
      ]
     },
     "execution_count": 16,
     "metadata": {},
     "output_type": "execute_result"
    }
   ],
   "source": [
    "# 누적 곱 \n",
    "# result를 2배로 곱해서 저장해주세요.\n",
    "result *= 2\n",
    "result"
   ]
  },
  {
   "cell_type": "markdown",
   "id": "8c39c8a5",
   "metadata": {},
   "source": [
    "### 1. 홍길동의 시험 성적 평균을 구하세요\n",
    "\n",
    "        |   영어 80점    |    국어 72점    |    수학 90점    |    사회 66점    |\n",
    "        \n",
    "* 변수를 사용해서 과목의 평균을 구해보세요.\n",
    "* 출력 양식 : <br>\n",
    "총합 308 <br>\n",
    "평균 77"
   ]
  },
  {
   "cell_type": "code",
   "execution_count": 17,
   "id": "bac80ad2",
   "metadata": {},
   "outputs": [],
   "source": [
    "eng = 80\n",
    "kor = 72\n",
    "math = 90\n",
    "social = 66"
   ]
  },
  {
   "cell_type": "code",
   "execution_count": 18,
   "id": "b83e3ebf",
   "metadata": {},
   "outputs": [],
   "source": [
    "# 총합 구해서 total 변수에 저장하기\n",
    "total = eng + kor + math + social"
   ]
  },
  {
   "cell_type": "code",
   "execution_count": 19,
   "id": "0b6f4ace",
   "metadata": {},
   "outputs": [],
   "source": [
    "# 평균 구해서 avg 변수에 저장하기\n",
    "avg = total / 4"
   ]
  },
  {
   "cell_type": "code",
   "execution_count": 20,
   "id": "a18ed0fe",
   "metadata": {},
   "outputs": [
    {
     "name": "stdout",
     "output_type": "stream",
     "text": [
      "총합 308\n",
      "평균 77.0\n"
     ]
    }
   ],
   "source": [
    "# print문을 이용해 총합과 평균 출력하기.\n",
    "print(\"총합\", total)\n",
    "print(\"평균\", avg)"
   ]
  },
  {
   "cell_type": "code",
   "execution_count": null,
   "id": "318f1246",
   "metadata": {},
   "outputs": [],
   "source": []
  }
 ],
 "metadata": {
  "kernelspec": {
   "display_name": "Python 3 (ipykernel)",
   "language": "python",
   "name": "python3"
  },
  "language_info": {
   "codemirror_mode": {
    "name": "ipython",
    "version": 3
   },
   "file_extension": ".py",
   "mimetype": "text/x-python",
   "name": "python",
   "nbconvert_exporter": "python",
   "pygments_lexer": "ipython3",
   "version": "3.9.12"
  },
  "vscode": {
   "interpreter": {
    "hash": "ad2bdc8ecc057115af97d19610ffacc2b4e99fae6737bb82f5d7fb13d2f2c186"
   }
  }
 },
 "nbformat": 4,
 "nbformat_minor": 5
}
