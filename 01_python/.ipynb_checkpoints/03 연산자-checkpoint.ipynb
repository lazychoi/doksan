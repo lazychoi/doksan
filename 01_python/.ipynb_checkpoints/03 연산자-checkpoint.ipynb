{
 "cells": [
  {
   "cell_type": "markdown",
   "id": "aa2dccd7",
   "metadata": {},
   "source": [
    "## > 연산자\n",
    "\n",
    "- 산술 : +, -, *, /, //(몫), %(나머지)\n",
    "- 비교 : ==(값이 같은지), !=(값이 다른지), <=, >=, <, >\n",
    "- 논리 : and, or\n",
    "- 할당 : =, +=(누적합), -=(누적차), *=(누적곱), /=(몫만 남기기), %=(나머지만 남기기)"
   ]
  },
  {
   "cell_type": "markdown",
   "id": "c88754b6",
   "metadata": {},
   "source": [
    "### 산술연산자 : 숫자를 계산하기 위한 문법 기호"
   ]
  },
  {
   "cell_type": "code",
   "execution_count": 1,
   "id": "35fa0176",
   "metadata": {},
   "outputs": [
    {
     "data": {
      "text/plain": [
       "13"
      ]
     },
     "execution_count": 1,
     "metadata": {},
     "output_type": "execute_result"
    }
   ],
   "source": [
    "# 더하기 : +\n",
    "# 정수 + 정수 => 정수로 출력\n",
    "10+3"
   ]
  },
  {
   "cell_type": "code",
   "execution_count": 2,
   "id": "86cdf7ec",
   "metadata": {},
   "outputs": [
    {
     "data": {
      "text/plain": [
       "15.700000000000001"
      ]
     },
     "execution_count": 2,
     "metadata": {},
     "output_type": "execute_result"
    }
   ],
   "source": [
    "# 실수 + 실수 => 실수로 출력 => 계산할 때는 실수로 변환 후 계산됨\n",
    "13.3+2.4"
   ]
  },
  {
   "cell_type": "markdown",
   "id": "175b90dc",
   "metadata": {},
   "source": [
    "#### 실수 => 2진수 변환  \n",
    "\n",
    "- 0.3, 0.4는 2진수로 떨어지지 않음  \n",
    "- 0.3 = 0.01001......  \n",
    "- 0.4 = 0.01100110...\n",
    "\n",
    "십진수 -> 2진수 변환 방법: https://kimi10.tistory.com/4  \n",
    "변환기 : https://ourcalc.com/2%EC%A7%84%EC%88%98-%EB%B3%80%ED%99%98%EA%B8%B0/"
   ]
  },
  {
   "cell_type": "code",
   "execution_count": 3,
   "id": "f7d6a9d2",
   "metadata": {
    "scrolled": true
   },
   "outputs": [
    {
     "data": {
      "text/plain": [
       "13.4"
      ]
     },
     "execution_count": 3,
     "metadata": {},
     "output_type": "execute_result"
    }
   ],
   "source": [
    "# 정수 + 실수 => 실수로 출력\n",
    "10 + 3.4"
   ]
  },
  {
   "cell_type": "code",
   "execution_count": 4,
   "id": "005591c6",
   "metadata": {},
   "outputs": [
    {
     "data": {
      "text/plain": [
       "7"
      ]
     },
     "execution_count": 4,
     "metadata": {},
     "output_type": "execute_result"
    }
   ],
   "source": [
    "# 빼기 : -\n",
    "# 주피터노트북은 print() 구문을 쓰지 않을 시 가장 마지막 줄의 결과만 화면에 보여줍니다.\n",
    "# 만약 모든 줄의 결과를 화면에 보여주고 싶다면 매 구문마다 print() 구문을 써야 합니다.\n",
    "10-3"
   ]
  },
  {
   "cell_type": "code",
   "execution_count": 6,
   "id": "fd8cfadf",
   "metadata": {},
   "outputs": [
    {
     "data": {
      "text/plain": [
       "-4.7"
      ]
     },
     "execution_count": 6,
     "metadata": {},
     "output_type": "execute_result"
    }
   ],
   "source": [
    "3 - 7.7 # 3을 먼저 3.0으로 바꾼 뒤 계산됨"
   ]
  },
  {
   "cell_type": "code",
   "execution_count": 8,
   "id": "7209cf85",
   "metadata": {},
   "outputs": [
    {
     "data": {
      "text/plain": [
       "1.0"
      ]
     },
     "execution_count": 8,
     "metadata": {},
     "output_type": "execute_result"
    }
   ],
   "source": [
    "# 나누기 : /\n",
    "# 다른 언어와 달리 파이썬에서는 정수 나누기 정수도 실수로 출력. \n",
    "# 자바, cpp 등 대다수 언어는 정수/정수는 정수로 나온다.\n",
    "3 / 3"
   ]
  },
  {
   "cell_type": "code",
   "execution_count": 9,
   "id": "9f2eb606",
   "metadata": {},
   "outputs": [
    {
     "data": {
      "text/plain": [
       "(12, -15)"
      ]
     },
     "execution_count": 9,
     "metadata": {},
     "output_type": "execute_result"
    }
   ],
   "source": [
    "# 곱하기 : *\n",
    "3 * 4, -3 * 5"
   ]
  },
  {
   "cell_type": "code",
   "execution_count": 11,
   "id": "7fe9316c",
   "metadata": {},
   "outputs": [
    {
     "data": {
      "text/plain": [
       "-5"
      ]
     },
     "execution_count": 11,
     "metadata": {},
     "output_type": "execute_result"
    }
   ],
   "source": [
    "# 파이썬에서도 사칙연산의 우선순위를 ()로 조절할 수 있다.\n",
    "( 3 - 4 ) * 5"
   ]
  },
  {
   "cell_type": "code",
   "execution_count": null,
   "id": "429e017f",
   "metadata": {},
   "outputs": [],
   "source": []
  }
 ],
 "metadata": {
  "kernelspec": {
   "display_name": "Python 3 (ipykernel)",
   "language": "python",
   "name": "python3"
  },
  "language_info": {
   "codemirror_mode": {
    "name": "ipython",
    "version": 3
   },
   "file_extension": ".py",
   "mimetype": "text/x-python",
   "name": "python",
   "nbconvert_exporter": "python",
   "pygments_lexer": "ipython3",
   "version": "3.9.12"
  }
 },
 "nbformat": 4,
 "nbformat_minor": 5
}
