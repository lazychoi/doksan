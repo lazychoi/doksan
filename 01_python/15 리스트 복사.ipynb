{
 "cells": [
  {
   "cell_type": "markdown",
   "id": "089af8ae",
   "metadata": {},
   "source": [
    "# 리스트 복사\n",
    "\n",
    "- 할당 기호(=)\n",
    "- copy()\n",
    "- list()\n",
    "- 슬라이싱"
   ]
  },
  {
   "cell_type": "code",
   "execution_count": 1,
   "id": "e3dd48cb",
   "metadata": {},
   "outputs": [],
   "source": [
    "# 1. 할당기호(=)로 복사\n",
    "\n",
    "a = [1,2,3,4,5] # (1)힙에 [1,2,3,4,5] 저장 eg. 시작번지=100번지 >>> (2)스택에 100번지 주소 저장 >>> a에 저장된 것은 100번지\n",
    "b = a # b에 100번지 주소 저장"
   ]
  },
  {
   "cell_type": "code",
   "execution_count": 2,
   "id": "af696b47",
   "metadata": {},
   "outputs": [
    {
     "data": {
      "text/plain": [
       "([1, 2, 3, 4, 5], [1, 2, 3, 4, 5])"
      ]
     },
     "execution_count": 2,
     "metadata": {},
     "output_type": "execute_result"
    }
   ],
   "source": [
    "a, b"
   ]
  },
  {
   "cell_type": "code",
   "execution_count": 4,
   "id": "d6683ec9",
   "metadata": {},
   "outputs": [
    {
     "data": {
      "text/plain": [
       "(140650790358976, 140650790358976, True)"
      ]
     },
     "execution_count": 4,
     "metadata": {},
     "output_type": "execute_result"
    }
   ],
   "source": [
    "# 주소를 출력하려면 id(변수)\n",
    "\n",
    "id(a), id(b), id(a)==id(b)"
   ]
  },
  {
   "cell_type": "code",
   "execution_count": 5,
   "id": "bb42384b",
   "metadata": {},
   "outputs": [
    {
     "data": {
      "text/plain": [
       "([10, 2, 3, 4, 5], [10, 2, 3, 4, 5])"
      ]
     },
     "execution_count": 5,
     "metadata": {},
     "output_type": "execute_result"
    }
   ],
   "source": [
    "# '='을 이용해 복사한 요소는 동일한 지점을 가리키는 복사\n",
    "\n",
    "a[0] = 10 # 100번지에 10을 대입\n",
    "a, b"
   ]
  },
  {
   "cell_type": "code",
   "execution_count": 7,
   "id": "8f325ca2",
   "metadata": {},
   "outputs": [
    {
     "data": {
      "text/plain": [
       "(140650790358976, 140650790358976, 140650790139264, True, False)"
      ]
     },
     "execution_count": 7,
     "metadata": {},
     "output_type": "execute_result"
    }
   ],
   "source": [
    "# 얉은 복사: 주소값만 복사 (스택 내의, a copy whose properties share the same references)\n",
    "# 깊은 복사: 데이터 복사( a copy whose properties do not share the same references)\n",
    "\n",
    "c = a.copy()\n",
    "id(a), id(b), id(c), id(a)==id(b), id(a)==id(c)"
   ]
  },
  {
   "cell_type": "code",
   "execution_count": 8,
   "id": "3d1eb17b",
   "metadata": {},
   "outputs": [
    {
     "data": {
      "text/plain": [
       "([10, 2, 20, 4, 5], [10, 2, 20, 4, 5], [10, 2, 3, 4, 5])"
      ]
     },
     "execution_count": 8,
     "metadata": {},
     "output_type": "execute_result"
    }
   ],
   "source": [
    "# a를 변경해도 c는 영향을 받지 않는다.\n",
    "\n",
    "a[2] = 20\n",
    "a,b,c"
   ]
  },
  {
   "cell_type": "code",
   "execution_count": 9,
   "id": "78a3ca18",
   "metadata": {},
   "outputs": [
    {
     "data": {
      "text/plain": [
       "[10, 2, 3, 4, 5]"
      ]
     },
     "execution_count": 9,
     "metadata": {},
     "output_type": "execute_result"
    }
   ],
   "source": [
    "# 3. list()로 복사하기\n",
    "# list(자료)를 넣으면 그 자료를 새로 할당해 리스트화한다.\n",
    "# 깊은 복사와 같은 기능\n",
    "\n",
    "d = list(c)\n",
    "d"
   ]
  },
  {
   "cell_type": "code",
   "execution_count": 10,
   "id": "cf187ba9",
   "metadata": {},
   "outputs": [
    {
     "data": {
      "text/plain": [
       "([100, 2, 3, 4, 5], [10, 2, 3, 4, 5])"
      ]
     },
     "execution_count": 10,
     "metadata": {},
     "output_type": "execute_result"
    }
   ],
   "source": [
    "c[0] = 100\n",
    "c, d"
   ]
  },
  {
   "cell_type": "code",
   "execution_count": 15,
   "id": "bcb261ff",
   "metadata": {},
   "outputs": [
    {
     "data": {
      "text/plain": [
       "False"
      ]
     },
     "execution_count": 15,
     "metadata": {},
     "output_type": "execute_result"
    }
   ],
   "source": [
    "# 4. 슬라이싱으로 전체 범위 지정해 대입할 때도 깊은 복사\n",
    "\n",
    "e = d[:]\n",
    "id(d)==id(e)"
   ]
  },
  {
   "cell_type": "markdown",
   "id": "c54a8d52",
   "metadata": {},
   "source": [
    "## << 연습문제 >>\n",
    "\n",
    "1. a 리스트를 이용하여 다음과 같은 문자열을 출력하시오.\n",
    "\n",
    "a = ['Life', 'is', 'too', 'short', 'you', 'need', 'python']\n",
    "\n",
    "출력문 : you too"
   ]
  },
  {
   "cell_type": "code",
   "execution_count": 20,
   "id": "32e66fb2",
   "metadata": {},
   "outputs": [],
   "source": [
    "a = ['Life', 'is', 'too', 'short', 'you', 'need', 'python']"
   ]
  },
  {
   "cell_type": "code",
   "execution_count": 22,
   "id": "e7665856",
   "metadata": {},
   "outputs": [
    {
     "name": "stdout",
     "output_type": "stream",
     "text": [
      "you too\n"
     ]
    }
   ],
   "source": [
    "# you too 출력\n",
    "\n",
    "print(a[4], a[2])"
   ]
  },
  {
   "cell_type": "code",
   "execution_count": 23,
   "id": "60df1fd1",
   "metadata": {},
   "outputs": [
    {
     "data": {
      "text/plain": [
       "7"
      ]
     },
     "execution_count": 23,
     "metadata": {},
     "output_type": "execute_result"
    }
   ],
   "source": [
    "# a 리스트 길이 \n",
    "len(a)"
   ]
  },
  {
   "cell_type": "code",
   "execution_count": 24,
   "id": "d8610712",
   "metadata": {},
   "outputs": [
    {
     "data": {
      "text/plain": [
       "[7, 'Life', 'is', 'too', 'short', 'you', 'need', 'python']"
      ]
     },
     "execution_count": 24,
     "metadata": {},
     "output_type": "execute_result"
    }
   ],
   "source": [
    "# a 리스트의 첫 번째 아이템에 길이 추가\n",
    "\n",
    "a.insert(0, 7)\n",
    "a"
   ]
  },
  {
   "cell_type": "code",
   "execution_count": 32,
   "id": "60845ad4",
   "metadata": {},
   "outputs": [
    {
     "data": {
      "text/plain": [
       "[10, 9, 6, 4, 2, 1]"
      ]
     },
     "execution_count": 32,
     "metadata": {},
     "output_type": "execute_result"
    }
   ],
   "source": [
    "# 아래와 같이 크기 순서가 없는 리스트를 만들고 내림차순으로 바꾸시오\n",
    "\n",
    "j = [1,4,9,2,6,10]\n",
    "j.sort(reverse=True)\n",
    "j"
   ]
  },
  {
   "cell_type": "code",
   "execution_count": null,
   "id": "1456b2c7",
   "metadata": {},
   "outputs": [],
   "source": []
  },
  {
   "cell_type": "code",
   "execution_count": null,
   "id": "83a93fe7",
   "metadata": {},
   "outputs": [],
   "source": []
  },
  {
   "cell_type": "code",
   "execution_count": null,
   "id": "a0254d4c",
   "metadata": {},
   "outputs": [],
   "source": []
  },
  {
   "cell_type": "code",
   "execution_count": 25,
   "id": "6e7c9a38",
   "metadata": {},
   "outputs": [],
   "source": [
    "x = [[1,2], 3, 4]\n",
    "y = x.copy()\n",
    "\n",
    "print( id(x)==id(y), id(x[0])==id(x[0]) )\n",
    "\n",
    "x[0][0] = 100\n",
    "print( x, y )"
   ]
  },
  {
   "cell_type": "code",
   "execution_count": 36,
   "id": "9a76eeba",
   "metadata": {},
   "outputs": [],
   "source": [
    "z = []\n",
    "for i in x:\n",
    "    if type(i) == list:\n",
    "        z.append(i.copy())\n",
    "    else:\n",
    "        z.append(i)"
   ]
  },
  {
   "cell_type": "code",
   "execution_count": 38,
   "id": "faa07395",
   "metadata": {},
   "outputs": [
    {
     "data": {
      "text/plain": [
       "[[100, 2], 3, 4]"
      ]
     },
     "execution_count": 38,
     "metadata": {},
     "output_type": "execute_result"
    }
   ],
   "source": [
    "z"
   ]
  },
  {
   "cell_type": "code",
   "execution_count": 39,
   "id": "94094b3c",
   "metadata": {},
   "outputs": [
    {
     "data": {
      "text/plain": [
       "([[200, 2], 3, 4], [[100, 2], 3, 4])"
      ]
     },
     "execution_count": 39,
     "metadata": {},
     "output_type": "execute_result"
    }
   ],
   "source": [
    "x[0][0] = 200\n",
    "x, z"
   ]
  },
  {
   "cell_type": "code",
   "execution_count": null,
   "id": "45477d5a",
   "metadata": {},
   "outputs": [],
   "source": []
  }
 ],
 "metadata": {
  "kernelspec": {
   "display_name": "Python 3 (ipykernel)",
   "language": "python",
   "name": "python3"
  },
  "language_info": {
   "codemirror_mode": {
    "name": "ipython",
    "version": 3
   },
   "file_extension": ".py",
   "mimetype": "text/x-python",
   "name": "python",
   "nbconvert_exporter": "python",
   "pygments_lexer": "ipython3",
   "version": "3.10.6"
  }
 },
 "nbformat": 4,
 "nbformat_minor": 5
}
