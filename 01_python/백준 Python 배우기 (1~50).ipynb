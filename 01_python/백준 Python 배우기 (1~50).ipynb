{
 "cells": [
  {
   "cell_type": "markdown",
   "id": "370e9b96",
   "metadata": {},
   "source": [
    "1. 두 정수 A와 B를 입력받은 다음, A+B를 출력하는 프로그램을 작성하시오.\n",
    "\n",
    "- 첫째 줄에 A와 B가 주어진다. (0 < A, B < 10)\n",
    "- 첫째 줄에 A+B를 출력한다."
   ]
  },
  {
   "cell_type": "code",
   "execution_count": 11,
   "id": "78a45742",
   "metadata": {},
   "outputs": [
    {
     "name": "stdout",
     "output_type": "stream",
     "text": [
      "1 2\n",
      "3\n"
     ]
    }
   ],
   "source": [
    "A, B = input().split()\n",
    "print(int(A)+int(B))"
   ]
  },
  {
   "cell_type": "markdown",
   "id": "feb4c355",
   "metadata": {},
   "source": [
    "2. 두 정수 A와 B를 입력받은 다음, A×B를 출력하는 프로그램을 작성하시오."
   ]
  },
  {
   "cell_type": "code",
   "execution_count": 12,
   "id": "7e2dd98f",
   "metadata": {},
   "outputs": [
    {
     "name": "stdout",
     "output_type": "stream",
     "text": [
      "4 9\n",
      "36\n"
     ]
    }
   ],
   "source": [
    "A, B = input().split()\n",
    "print(int(A)*int(B))"
   ]
  },
  {
   "cell_type": "markdown",
   "id": "0ff8a951",
   "metadata": {},
   "source": [
    "3. 두 정수 A와 B를 입력받은 다음, A-B를 출력하는 프로그램을 작성하시오."
   ]
  },
  {
   "cell_type": "code",
   "execution_count": 13,
   "id": "00178331",
   "metadata": {},
   "outputs": [
    {
     "name": "stdout",
     "output_type": "stream",
     "text": [
      "10 8\n",
      "2\n"
     ]
    }
   ],
   "source": [
    "A, B = input().split()\n",
    "print(int(A)-int(B))"
   ]
  },
  {
   "cell_type": "markdown",
   "id": "1bd4401f",
   "metadata": {},
   "source": [
    "4. 두 정수 A와 B를 입력받은 다음, A/B를 출력하는 프로그램을 작성하시오."
   ]
  },
  {
   "cell_type": "code",
   "execution_count": 15,
   "id": "2d685c69",
   "metadata": {},
   "outputs": [
    {
     "name": "stdout",
     "output_type": "stream",
     "text": [
      "4 8\n",
      "0.5\n"
     ]
    }
   ],
   "source": [
    "A, B = input().split()\n",
    "print(int(A)/int(B))"
   ]
  },
  {
   "cell_type": "markdown",
   "id": "bb8c88da",
   "metadata": {},
   "source": [
    "5. 두 자연수 A와 B가 주어진다. 이때, A+B, A-B, A*B, A/B(몫), A%B(나머지)를 출력하는 프로그램을 작성하시오. \n",
    "\n",
    "첫째 줄에 A+B, 둘째 줄에 A-B, 셋째 줄에 A*B, 넷째 줄에 A/B, 다섯째 줄에 A%B를 출력한다."
   ]
  },
  {
   "cell_type": "code",
   "execution_count": 19,
   "id": "32a6f581",
   "metadata": {},
   "outputs": [
    {
     "name": "stdout",
     "output_type": "stream",
     "text": [
      "7 3\n",
      "10\n",
      "4\n",
      "21\n",
      "2\n",
      "1\n"
     ]
    }
   ],
   "source": [
    "# input으로 입력받은 여러 숫자(공백으로 구분)를 split()으로 나눈 후 \n",
    "# 일괄 수치형으로 변환 : map(자료형, input().split())\n",
    "A, B = map(int,input().split())\n",
    "print(A+B)\n",
    "print(A-B)\n",
    "print(A*B)\n",
    "print(int(A/B))\n",
    "print(A%B)"
   ]
  },
  {
   "cell_type": "markdown",
   "id": "3bc19fe2",
   "metadata": {},
   "source": [
    "(A+B)%C는 ((A%C) + (B%C))%C 와 같을까?\n",
    "\n",
    "(A×B)%C는 ((A%C) × (B%C))%C 와 같을까?\n",
    "\n",
    "세 수 A, B, C가 주어졌을 때, 위의 네 가지 값을 구하는 프로그램을 작성하시오.\n",
    "\n",
    "첫째 줄에 A, B, C가 순서대로 주어진다.  \n",
    "첫째 줄에 (A+B)%C, 둘째 줄에 ((A%C) + (B%C))%C, 셋째 줄에 (A×B)%C, 넷째 줄에 ((A%C) × (B%C))%C를 출력한다."
   ]
  },
  {
   "cell_type": "code",
   "execution_count": 22,
   "id": "fe4c6ed6",
   "metadata": {},
   "outputs": [
    {
     "name": "stdout",
     "output_type": "stream",
     "text": [
      "5 8 4\n",
      "1\n",
      "1\n",
      "0\n",
      "0\n"
     ]
    }
   ],
   "source": [
    "a, b, c = map(int,input().split())\n",
    "print( (a+b)%c )\n",
    "print( ((a%c) + (b%c))%c )\n",
    "print( (a*b)%c )\n",
    "print( ((a%c) * (b%c))%c )"
   ]
  },
  {
   "cell_type": "markdown",
   "id": "d881b49b",
   "metadata": {},
   "source": [
    "두 정수 A와 B를 입력받은 다음, A+B를 출력하는 프로그램을 작성하시오.  \n",
    "첫째 줄에 A, 둘째 줄에 B가 주어진다. "
   ]
  },
  {
   "cell_type": "code",
   "execution_count": 23,
   "id": "75d3b76e",
   "metadata": {},
   "outputs": [
    {
     "name": "stdout",
     "output_type": "stream",
     "text": [
      "2\n",
      "2\n",
      "4\n"
     ]
    }
   ],
   "source": [
    "a = int(input())\n",
    "b = int(input())\n",
    "print(a+b)"
   ]
  },
  {
   "cell_type": "code",
   "execution_count": 25,
   "id": "8f6203b3",
   "metadata": {},
   "outputs": [
    {
     "data": {
      "text/plain": [
       "1"
      ]
     },
     "execution_count": 25,
     "metadata": {},
     "output_type": "execute_result"
    }
   ],
   "source": [
    "4//3"
   ]
  },
  {
   "cell_type": "markdown",
   "id": "e07609f2",
   "metadata": {},
   "source": [
    "### 조금 어려움\n",
    "\n",
    "https://www.acmicpc.net/problem/2588\n",
    "\n",
    "세자리 숫자 곱셈"
   ]
  },
  {
   "cell_type": "code",
   "execution_count": 43,
   "id": "65a9e568",
   "metadata": {},
   "outputs": [
    {
     "name": "stdout",
     "output_type": "stream",
     "text": [
      "472\n",
      "385\n",
      "2360\n",
      "3776\n",
      "1416\n",
      "181720\n"
     ]
    }
   ],
   "source": [
    "a = int(input())\n",
    "b = input()\n",
    "print(a*int(b[-1]))\n",
    "print(a*int(b[1]))\n",
    "print(a*int(b[0]))\n",
    "print(a*int(b))"
   ]
  },
  {
   "cell_type": "markdown",
   "id": "753173a3",
   "metadata": {},
   "source": [
    "https://www.acmicpc.net/problem/3046\n",
    "\n",
    "(R1+R2)/2 = s => r2 = 2s - r1\n",
    "첫째 줄에 두 정수 R1과 S가 주어진다.  \n",
    "첫째 줄에 R2를 출력한다."
   ]
  },
  {
   "cell_type": "code",
   "execution_count": 45,
   "id": "b87bfeef",
   "metadata": {},
   "outputs": [
    {
     "name": "stdout",
     "output_type": "stream",
     "text": [
      "4 3\n",
      "2\n"
     ]
    }
   ],
   "source": [
    "r1, s = map(int, input().split())\n",
    "print(2*s-r1)"
   ]
  },
  {
   "cell_type": "markdown",
   "id": "3adeeaa0",
   "metadata": {},
   "source": [
    "### 어려움\n",
    "\n",
    "초콜릿 자르기\n",
    "\n",
    "https://www.acmicpc.net/problem/2163"
   ]
  },
  {
   "cell_type": "code",
   "execution_count": 48,
   "id": "ff9e4d5d",
   "metadata": {},
   "outputs": [
    {
     "name": "stdout",
     "output_type": "stream",
     "text": [
      "3 3\n",
      "8\n"
     ]
    }
   ],
   "source": [
    "a, b = map(int, input().split())\n",
    "print(a-1 + (b-1)*a)"
   ]
  },
  {
   "cell_type": "code",
   "execution_count": null,
   "id": "21e71029",
   "metadata": {},
   "outputs": [],
   "source": []
  }
 ],
 "metadata": {
  "kernelspec": {
   "display_name": "Python 3 (ipykernel)",
   "language": "python",
   "name": "python3"
  },
  "language_info": {
   "codemirror_mode": {
    "name": "ipython",
    "version": 3
   },
   "file_extension": ".py",
   "mimetype": "text/x-python",
   "name": "python",
   "nbconvert_exporter": "python",
   "pygments_lexer": "ipython3",
   "version": "3.9.12"
  }
 },
 "nbformat": 4,
 "nbformat_minor": 5
}
