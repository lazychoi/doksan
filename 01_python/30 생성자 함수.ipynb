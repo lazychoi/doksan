{
 "cells": [
  {
   "cell_type": "markdown",
   "id": "b9129ca0",
   "metadata": {},
   "source": [
    "# 생성자 함수\n",
    "\n",
    "- 클래스 내부에 __init__ 명칭으로 선언한 함수는 생성자 함수\n",
    "- 생성자 함수를 정의하면 사용자가 클래스 인스턴스를 생성할 때 반드시 입력해야 하는 요소를 강제로 입력하게 하도록 한다."
   ]
  },
  {
   "cell_type": "code",
   "execution_count": 9,
   "id": "878ad7d5",
   "metadata": {},
   "outputs": [],
   "source": [
    "class Cat:\n",
    "    name = \"\"\n",
    "    weight = 0\n",
    "    color = \"\"\n",
    "    gender = \"\"\n",
    "    \n",
    "    # 아래 함수는 생성자 함수로 생성 시 자동으로 1번만 호출\n",
    "    def __init__(self, name, weight, color, gender):\n",
    "        self.name = name\n",
    "        self.weight = weight\n",
    "        self.color =color\n",
    "        self.gender = gender\n",
    "        \n",
    "    def get_info(self):\n",
    "        print(f'이름: {self.name}, 몸무게: {self.weight}, 색깔: {self.color}, 성별: {self.gender}')\n",
    "        \n",
    "    def meow(self):\n",
    "        print(\"야옹야옹\")"
   ]
  },
  {
   "cell_type": "code",
   "execution_count": 2,
   "id": "25632441",
   "metadata": {},
   "outputs": [
    {
     "ename": "TypeError",
     "evalue": "Cat.__init__() missing 4 required positional arguments: 'name', 'weight', 'color', and 'gender'",
     "output_type": "error",
     "traceback": [
      "\u001b[0;31m---------------------------------------------------------------------------\u001b[0m",
      "\u001b[0;31mTypeError\u001b[0m                                 Traceback (most recent call last)",
      "Cell \u001b[0;32mIn [2], line 1\u001b[0m\n\u001b[0;32m----> 1\u001b[0m cat1 \u001b[38;5;241m=\u001b[39m Cat()\n",
      "\u001b[0;31mTypeError\u001b[0m: Cat.__init__() missing 4 required positional arguments: 'name', 'weight', 'color', and 'gender'"
     ]
    }
   ],
   "source": [
    "cat1 = Cat()"
   ]
  },
  {
   "cell_type": "code",
   "execution_count": 10,
   "id": "49dba52d",
   "metadata": {},
   "outputs": [
    {
     "data": {
      "text/plain": [
       "('야옹이', 10, 'yellow', 'male')"
      ]
     },
     "execution_count": 10,
     "metadata": {},
     "output_type": "execute_result"
    }
   ],
   "source": [
    "cat1 = Cat('야옹이', 10, 'yellow', 'male')\n",
    "cat1.name, cat1.weight, cat1.color, cat1.gender"
   ]
  },
  {
   "cell_type": "code",
   "execution_count": 13,
   "id": "fb8b0e30",
   "metadata": {},
   "outputs": [
    {
     "name": "stdout",
     "output_type": "stream",
     "text": [
      "이름: 야옹이, 몸무게: 10, 색깔: yellow, 성별: male\n",
      "야옹야옹\n",
      "None None\n"
     ]
    }
   ],
   "source": [
    "# cat1에 대해 상세 정보를 조회할 수 있는 함수 get_info()와\n",
    "# print(\"야옹야옹\")를 실행해주는 함수 meow()를 정의하고 호출\n",
    "\n",
    "print( cat1.get_info(), cat1.meow() )"
   ]
  },
  {
   "cell_type": "markdown",
   "id": "36f592f1",
   "metadata": {},
   "source": [
    "## 클래스 정의하고 생성자, 정보조회 메서드, 일반 메서드 추가"
   ]
  },
  {
   "cell_type": "code",
   "execution_count": 20,
   "id": "00e958e8",
   "metadata": {},
   "outputs": [
    {
     "name": "stdout",
     "output_type": "stream",
     "text": [
      "제품명: 갤럭시, 버전: 23, 제조사: 삼성\n",
      "따르릉~~~~ 갤럭시입니다\n",
      "제품명: 아이폰, 버전: 16, 제조사: 애플\n",
      "따르릉~~~~ 아이폰입니다\n"
     ]
    }
   ],
   "source": [
    "class Phone:\n",
    "    name = ''\n",
    "    version = 0\n",
    "    company = ''\n",
    "    \n",
    "    def __init__(self, name, version, company):\n",
    "        self.name = name\n",
    "        self.version = version\n",
    "        self.company = company\n",
    "    \n",
    "    def get_info(self):\n",
    "        print(f'제품명: {self.name}, 버전: {self.version}, 제조사: {self.company}')\n",
    "        \n",
    "    def ring(self):\n",
    "        print(f'따르릉~~~~ {self.name}입니다')\n",
    "        \n",
    "gallaxy = Phone('갤럭시', 23, '삼성')\n",
    "iphone = Phone('아이폰', 16, '애플')\n",
    "\n",
    "gallaxy.get_info()\n",
    "gallaxy.ring()\n",
    "\n",
    "iphone.get_info()\n",
    "iphone.ring()"
   ]
  },
  {
   "cell_type": "code",
   "execution_count": null,
   "id": "2c950a8e",
   "metadata": {},
   "outputs": [],
   "source": []
  }
 ],
 "metadata": {
  "kernelspec": {
   "display_name": "Python 3 (ipykernel)",
   "language": "python",
   "name": "python3"
  },
  "language_info": {
   "codemirror_mode": {
    "name": "ipython",
    "version": 3
   },
   "file_extension": ".py",
   "mimetype": "text/x-python",
   "name": "python",
   "nbconvert_exporter": "python",
   "pygments_lexer": "ipython3",
   "version": "3.9.12"
  }
 },
 "nbformat": 4,
 "nbformat_minor": 5
}
