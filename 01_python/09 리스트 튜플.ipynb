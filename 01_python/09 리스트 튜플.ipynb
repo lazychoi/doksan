{
 "cells": [
  {
   "cell_type": "markdown",
   "id": "6d07c16b",
   "metadata": {},
   "source": [
    "여러 개의 아이템들을 저장하는 객체 = 여러 개의 값(데이터타입)을 저장하는 그릇\n",
    "\n",
    "## 1. 리스트(List)\n",
    "\n",
    "- 앞쪽_화살표: 문법 기호 : [아이템1, 아이템2, 아이템3 .... ]\n",
    "- 앞쪽_화살표: 용어 : 아이템 = 요소\n",
    "- 앞쪽_화살표: 아이템으로 가질 수 있는 데이터 타입 : 문자, 숫자, 리스트, 딕셔너리 ... \n",
    "- 앞쪽_화살표: 종류\n",
    "     * 아이템이 없는 리스트\n",
    "     * 1차원 리스트\n",
    "     * 다차원 리스트\n",
    "- 앞쪽_화살표: 특징\n",
    "     * 인덱스 활용\n",
    "     * 다차원 리스트의 구조에 대한 이해"
   ]
  },
  {
   "cell_type": "markdown",
   "id": "69aa053a",
   "metadata": {},
   "source": [
    "## 생성하기"
   ]
  },
  {
   "cell_type": "code",
   "execution_count": 1,
   "id": "b44fd4c6",
   "metadata": {},
   "outputs": [
    {
     "name": "stdout",
     "output_type": "stream",
     "text": [
      "<class 'list'> <class 'list'>\n",
      "[] []\n"
     ]
    }
   ],
   "source": [
    "# 빈 리스트 생성 = 아이템이 없는 리스트\n",
    "# 문법기호 : []\n",
    "# 함수 : list()\n",
    "a = []\n",
    "a2 = list()\n",
    "print(type(a), type(a2))\n",
    "print(a, a2)"
   ]
  },
  {
   "cell_type": "code",
   "execution_count": 2,
   "id": "b0dfe26f",
   "metadata": {},
   "outputs": [],
   "source": [
    "# 모든 데이터 타입을 아이템으로 가질 수 있다.\n",
    "a3 = ['a', 10, 1.1, [1, 23.1, 'a']]"
   ]
  },
  {
   "cell_type": "code",
   "execution_count": 3,
   "id": "2c75a60c",
   "metadata": {},
   "outputs": [
    {
     "data": {
      "text/plain": [
       "['a', 10, 1.1, [1, 23.1, 'a']]"
      ]
     },
     "execution_count": 3,
     "metadata": {},
     "output_type": "execute_result"
    }
   ],
   "source": [
    "a3"
   ]
  },
  {
   "cell_type": "code",
   "execution_count": 5,
   "id": "04be7833",
   "metadata": {},
   "outputs": [
    {
     "data": {
      "text/plain": [
       "[1, 23.1, 'a']"
      ]
     },
     "execution_count": 5,
     "metadata": {},
     "output_type": "execute_result"
    }
   ],
   "source": [
    "a3[3]"
   ]
  },
  {
   "cell_type": "code",
   "execution_count": 6,
   "id": "8c04c0e2",
   "metadata": {},
   "outputs": [
    {
     "data": {
      "text/plain": [
       "23.1"
      ]
     },
     "execution_count": 6,
     "metadata": {},
     "output_type": "execute_result"
    }
   ],
   "source": [
    "a3[3][1]"
   ]
  },
  {
   "cell_type": "markdown",
   "id": "138e29f2",
   "metadata": {},
   "source": [
    "## 인덱싱, 슬라이싱\n",
    "\n",
    "리스트를 인덱스 번호로 접근하면 해당하는 위치의 값을 가져온다.\n",
    "\n",
    "### 인덱싱\n",
    "\n",
    "특정 위치에 있는 하나의 아이템에 접근 = 하나의 값 출력\n"
   ]
  },
  {
   "cell_type": "code",
   "execution_count": 27,
   "id": "ea1a44f0",
   "metadata": {},
   "outputs": [],
   "source": [
    "# 리스트 생성\n",
    "a = [1,2,3,4,5,6,7,8,9]"
   ]
  },
  {
   "cell_type": "code",
   "execution_count": 8,
   "id": "e798d05a",
   "metadata": {},
   "outputs": [
    {
     "data": {
      "text/plain": [
       "1"
      ]
     },
     "execution_count": 8,
     "metadata": {},
     "output_type": "execute_result"
    }
   ],
   "source": [
    "# 첫 번째 아이템 인덱스 번호 : 0\n",
    "# 인덱싱 문법 : 객체[인덱스번호]\n",
    "a[0]"
   ]
  },
  {
   "cell_type": "code",
   "execution_count": 9,
   "id": "5608a9d0",
   "metadata": {},
   "outputs": [
    {
     "data": {
      "text/plain": [
       "6"
      ]
     },
     "execution_count": 9,
     "metadata": {},
     "output_type": "execute_result"
    }
   ],
   "source": [
    "# 리스트에서 6이라는 아이템 가져오기\n",
    "a[5]"
   ]
  },
  {
   "cell_type": "code",
   "execution_count": 10,
   "id": "3874a084",
   "metadata": {},
   "outputs": [
    {
     "data": {
      "text/plain": [
       "(9, 9)"
      ]
     },
     "execution_count": 10,
     "metadata": {},
     "output_type": "execute_result"
    }
   ],
   "source": [
    "# 리스트의 마지막값 확인\n",
    "a[-1], a[len(a)-1]"
   ]
  },
  {
   "cell_type": "markdown",
   "id": "944b0400",
   "metadata": {},
   "source": [
    "### 슬라이싱\n",
    "\n",
    "- 정의 : 연속된 범위에 있는 하나 혹은 하나 이상의 아이템에 접근\n",
    "- 문법 기호 : 리스트[시작번호:끝번호(:간격)] => 마지막번호-1까지 접근"
   ]
  },
  {
   "cell_type": "code",
   "execution_count": 11,
   "id": "2d046c83",
   "metadata": {},
   "outputs": [
    {
     "data": {
      "text/plain": [
       "[1, 2, 3, 4, 5, 6, 7, 8, 9]"
      ]
     },
     "execution_count": 11,
     "metadata": {},
     "output_type": "execute_result"
    }
   ],
   "source": [
    "a"
   ]
  },
  {
   "cell_type": "code",
   "execution_count": 14,
   "id": "9f418854",
   "metadata": {},
   "outputs": [
    {
     "data": {
      "text/plain": [
       "[1, 2, 3]"
      ]
     },
     "execution_count": 14,
     "metadata": {},
     "output_type": "execute_result"
    }
   ],
   "source": [
    "# 리스트의 0~2번째 아이템까지 확인하기\n",
    "# 시작번호 : 0\n",
    "# 끝번호 : 인덱스 2번까지 -> 3\n",
    "a[0:3]"
   ]
  },
  {
   "cell_type": "code",
   "execution_count": 15,
   "id": "71ded4ae",
   "metadata": {},
   "outputs": [
    {
     "data": {
      "text/plain": [
       "[4, 5, 6, 7, 8, 9]"
      ]
     },
     "execution_count": 15,
     "metadata": {},
     "output_type": "execute_result"
    }
   ],
   "source": [
    "# 리스트의 3번째 아이템부터 마지막까지 확인\n",
    "a[3:]"
   ]
  },
  {
   "cell_type": "markdown",
   "id": "a13ec7e2",
   "metadata": {},
   "source": [
    "## 아이템 추가 : 연산자와 함수를 이용한 리스트 아이템 추가\n",
    "\n",
    "- 산술연산자 : +, *\n",
    "- 리스트 함수(메서드) : 리스트.append(), 리스트.extend(), 리스트.insert()"
   ]
  },
  {
   "cell_type": "markdown",
   "id": "aa5f8586",
   "metadata": {},
   "source": [
    "## 산술연산자\n",
    "\n",
    "- 종류 : +, *\n",
    "- 특징 : 원본 반영 안 됨"
   ]
  },
  {
   "cell_type": "code",
   "execution_count": 32,
   "id": "a6760d5f",
   "metadata": {},
   "outputs": [
    {
     "data": {
      "text/plain": [
       "[1, 2, 3, 4, 5, 6]"
      ]
     },
     "execution_count": 32,
     "metadata": {},
     "output_type": "execute_result"
    }
   ],
   "source": [
    "# 리스트끼리 연결 : +\n",
    "a = [1,2,3]\n",
    "b = [4,5,6]\n",
    "a+b"
   ]
  },
  {
   "cell_type": "code",
   "execution_count": 35,
   "id": "3f13cbdf",
   "metadata": {},
   "outputs": [
    {
     "data": {
      "text/plain": [
       "[1, 2, 3]"
      ]
     },
     "execution_count": 35,
     "metadata": {},
     "output_type": "execute_result"
    }
   ],
   "source": [
    "a"
   ]
  },
  {
   "cell_type": "code",
   "execution_count": 36,
   "id": "e43e0404",
   "metadata": {},
   "outputs": [
    {
     "data": {
      "text/plain": [
       "[4, 5, 6]"
      ]
     },
     "execution_count": 36,
     "metadata": {},
     "output_type": "execute_result"
    }
   ],
   "source": [
    "b"
   ]
  },
  {
   "cell_type": "code",
   "execution_count": 37,
   "id": "b7c517fe",
   "metadata": {},
   "outputs": [
    {
     "data": {
      "text/plain": [
       "([1, 2, 3, 1, 2, 3], [4, 5, 6, 4, 5, 6, 4, 5, 6])"
      ]
     },
     "execution_count": 37,
     "metadata": {},
     "output_type": "execute_result"
    }
   ],
   "source": [
    "a*2, b*3"
   ]
  },
  {
   "cell_type": "code",
   "execution_count": null,
   "id": "8758534d",
   "metadata": {},
   "outputs": [],
   "source": []
  }
 ],
 "metadata": {
  "kernelspec": {
   "display_name": "Python 3 (ipykernel)",
   "language": "python",
   "name": "python3"
  },
  "language_info": {
   "codemirror_mode": {
    "name": "ipython",
    "version": 3
   },
   "file_extension": ".py",
   "mimetype": "text/x-python",
   "name": "python",
   "nbconvert_exporter": "python",
   "pygments_lexer": "ipython3",
   "version": "3.10.6"
  }
 },
 "nbformat": 4,
 "nbformat_minor": 5
}
