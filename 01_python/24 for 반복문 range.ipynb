{
 "cells": [
  {
   "cell_type": "markdown",
   "id": "939263e6",
   "metadata": {},
   "source": [
    "# 2-2. for 반복문\n",
    "\n",
    "자료형(리스트, 튜플, 문자열)의 모든 아이템에 대하여 처음부터 마지막까지 차례대로 접근하여 실행문을 적용한다.\n",
    "- 기본 문법\n",
    "```\n",
    "        for 임시변수 in 자료형 :\n",
    "            수행할 문장1\n",
    "            수행할 문장2\n",
    "            ...\n",
    "```\n",
    "- 임시변수\n",
    "    - for 반복문이 실행되면 자료형의 아이템이 차례대로 임시변수에 할당된다.\n",
    "    - 기본적으로 변수는 할당문이 존재해야 하지만 임시변수는 할당문이 필요 없는 객체이다."
   ]
  },
  {
   "cell_type": "code",
   "execution_count": 1,
   "id": "7af7d3b8",
   "metadata": {},
   "outputs": [
    {
     "name": "stdout",
     "output_type": "stream",
     "text": [
      "hello world\n",
      "hello world\n",
      "hello world\n"
     ]
    }
   ],
   "source": [
    "# 하나의 아이템에 접근: 리스트 자료형\n",
    "\n",
    "a = [1,2,3]\n",
    "for i in a:\n",
    "    print(\"hello world\")"
   ]
  },
  {
   "cell_type": "code",
   "execution_count": 2,
   "id": "730d88fe",
   "metadata": {},
   "outputs": [
    {
     "name": "stdout",
     "output_type": "stream",
     "text": [
      "10\n",
      "20\n",
      "30\n"
     ]
    }
   ],
   "source": [
    "# 하나의 아이템에 접근 : 튜플 자료형\n",
    "\n",
    "tu = 10,20,30\n",
    "\n",
    "# for in, print 이용 10, 20, 30 순차적으로 출력\n",
    "\n",
    "for i in tu:\n",
    "    print(i)"
   ]
  },
  {
   "cell_type": "code",
   "execution_count": 3,
   "id": "93a28265",
   "metadata": {},
   "outputs": [
    {
     "name": "stdout",
     "output_type": "stream",
     "text": [
      "a\n",
      "b\n",
      "c\n"
     ]
    }
   ],
   "source": [
    "# 딕셔너리 아이템에 접근\n",
    "# 딕셔너리 자료형은 반복문 접근시 key 기준으로 접근\n",
    "# 따라서 딕셔너리 접근은 .key() 요소에 접근하는 것과 결과가 동일함.\n",
    "\n",
    "d = {'a':1, 'b':2, 'c':3}\n",
    "\n",
    "for key in d:\n",
    "    print(key)"
   ]
  },
  {
   "cell_type": "code",
   "execution_count": 5,
   "id": "2f3e8209",
   "metadata": {},
   "outputs": [
    {
     "name": "stdout",
     "output_type": "stream",
     "text": [
      "a\n",
      "b\n",
      "c\n"
     ]
    }
   ],
   "source": [
    "for key in d.keys():\n",
    "    print(key)"
   ]
  },
  {
   "cell_type": "code",
   "execution_count": 6,
   "id": "df3241b7",
   "metadata": {},
   "outputs": [
    {
     "data": {
      "text/plain": [
       "dict_items([('a', 1), ('b', 2), ('c', 3)])"
      ]
     },
     "execution_count": 6,
     "metadata": {},
     "output_type": "execute_result"
    }
   ],
   "source": [
    "# 딕셔너리에 대해 items()로 접근시 key, value 쌍으로 묶인 자료 출력\n",
    "\n",
    "d.items()"
   ]
  },
  {
   "cell_type": "code",
   "execution_count": 9,
   "id": "76e39c71",
   "metadata": {},
   "outputs": [
    {
     "name": "stdout",
     "output_type": "stream",
     "text": [
      "key:  c \tvalue:  3\n",
      "key:  c \tvalue:  3\n",
      "key:  c \tvalue:  3\n"
     ]
    }
   ],
   "source": [
    "# 튜플을 대상으로 대입받을 때 요소 개수만큼 좌변에 대입하면\n",
    "# 나눠서 입력되는 점을 이용한 테크닉\n",
    "\n",
    "for k, v in d.items():\n",
    "    print('key: ', key, '\\tvalue: ', value)"
   ]
  },
  {
   "cell_type": "markdown",
   "id": "d50c903f",
   "metadata": {},
   "source": [
    "## range 함수\n",
    "\n",
    " 지정된 시작값과 끝값 사이의 숫자들을 자동으로 생성하여 range 객체로 반환하는 함수\n",
    "- 문법 : range(시작하는 값, 끝나는 값, [간격])\n",
    "- 특징 : 슬라이싱과 유사하게 끝나는 값은 포함되지 않는다.\n"
   ]
  },
  {
   "cell_type": "code",
   "execution_count": 10,
   "id": "fc3231f1",
   "metadata": {},
   "outputs": [
    {
     "data": {
      "text/plain": [
       "(range(1, 6), [1, 2, 3, 4, 5])"
      ]
     },
     "execution_count": 10,
     "metadata": {},
     "output_type": "execute_result"
    }
   ],
   "source": [
    "# range()를 list()로 감싸야 변환됨. \n",
    "# 그러나 변환하지 않아도 for문에서 사용가능\n",
    "\n",
    "range(1,6), list(range(1,6))"
   ]
  },
  {
   "cell_type": "code",
   "execution_count": 11,
   "id": "a7c01352",
   "metadata": {
    "collapsed": true
   },
   "outputs": [
    {
     "name": "stdout",
     "output_type": "stream",
     "text": [
      "1\n",
      "2\n",
      "3\n",
      "4\n",
      "5\n"
     ]
    }
   ],
   "source": [
    "for i in range(1,6):\n",
    "    print(i)"
   ]
  },
  {
   "cell_type": "code",
   "execution_count": 13,
   "id": "62dfb59d",
   "metadata": {
    "collapsed": true
   },
   "outputs": [
    {
     "name": "stdout",
     "output_type": "stream",
     "text": [
      "0\n",
      "1\n",
      "2\n",
      "3\n",
      "4\n",
      "5\n",
      "6\n",
      "7\n",
      "8\n",
      "9\n"
     ]
    }
   ],
   "source": [
    "# range의 시작값이 0이라면 숫자를 하나만 적는다.\n",
    "# range(숫자하나)를 넣으면 적힌 숫자만큼 돕니다.\n",
    "\n",
    "for i in range(10):\n",
    "    print(i)"
   ]
  },
  {
   "cell_type": "code",
   "execution_count": 14,
   "id": "10845666",
   "metadata": {},
   "outputs": [
    {
     "name": "stdout",
     "output_type": "stream",
     "text": [
      "5\n",
      "4\n",
      "3\n",
      "2\n",
      "1\n"
     ]
    }
   ],
   "source": [
    "# 세 번째 숫자는 증가값이 아닌 증감값으로 음수가 들어갈 수 있다.\n",
    "# 이 경우 시작숫자가 끝숫자보다 커야한다.\n",
    "\n",
    "for i in range(5,0,-1):\n",
    "    print(i)"
   ]
  },
  {
   "cell_type": "markdown",
   "id": "83f8c422",
   "metadata": {},
   "source": [
    "## 중첩 반복문\n",
    "\n",
    "- 반복문 내부에 반복문을 작성하는 것을 중첩 반복문이라고 한다.\n",
    "- 반복 횟수는 안쪽 반복문 * 바깥쪽 반복문\n"
   ]
  },
  {
   "cell_type": "code",
   "execution_count": 21,
   "id": "41e7628b",
   "metadata": {},
   "outputs": [
    {
     "name": "stdout",
     "output_type": "stream",
     "text": [
      "회원님 좌로 가세요\n",
      "회원님 우로 가세요\n",
      "회원님 좌로 가세요\n",
      "회원님 우로 가세요\n",
      "회원님 좌로 가세요\n",
      "회원님 우로 가세요\n",
      "한 세트 끝\n",
      "\n",
      "회원님 좌로 가세요\n",
      "회원님 우로 가세요\n",
      "회원님 좌로 가세요\n",
      "회원님 우로 가세요\n",
      "회원님 좌로 가세요\n",
      "회원님 우로 가세요\n",
      "한 세트 끝\n",
      "\n",
      "회원님 좌로 가세요\n",
      "회원님 우로 가세요\n",
      "회원님 좌로 가세요\n",
      "회원님 우로 가세요\n",
      "회원님 좌로 가세요\n",
      "회원님 우로 가세요\n",
      "한 세트 끝\n",
      "\n",
      "전체 끝\n"
     ]
    }
   ],
   "source": [
    "# 인터벌 트레이닝\n",
    "# 좌우로 3번씩 다녀오면 1세트\n",
    "# 총 3세트\n",
    "\n",
    "for j in range(3):     # j 블럭\n",
    "    for i in range(3): # i 블럭\n",
    "        print(\"회원님 좌로 가세요\")\n",
    "        print(\"회원님 우로 가세요\")\n",
    "    print(\"한 세트 끝\\n\")\n",
    "print(\"전체 끝\")"
   ]
  },
  {
   "cell_type": "code",
   "execution_count": 23,
   "id": "eeb02c5d",
   "metadata": {},
   "outputs": [
    {
     "name": "stdout",
     "output_type": "stream",
     "text": [
      "ab\n",
      "cd"
     ]
    }
   ],
   "source": [
    "# print()는 출력 후 return 실행됨. \n",
    "# 이를 방지하려면 뒤에 end=\"\" 추가\n",
    "\n",
    "print('a', end='')\n",
    "print('b', end='')\n",
    "print()\n",
    "print('c', end='')\n",
    "print('d', end='')"
   ]
  },
  {
   "cell_type": "code",
   "execution_count": null,
   "id": "6d7d2b1b",
   "metadata": {},
   "outputs": [],
   "source": []
  }
 ],
 "metadata": {
  "kernelspec": {
   "display_name": "Python 3 (ipykernel)",
   "language": "python",
   "name": "python3"
  },
  "language_info": {
   "codemirror_mode": {
    "name": "ipython",
    "version": 3
   },
   "file_extension": ".py",
   "mimetype": "text/x-python",
   "name": "python",
   "nbconvert_exporter": "python",
   "pygments_lexer": "ipython3",
   "version": "3.10.6"
  }
 },
 "nbformat": 4,
 "nbformat_minor": 5
}
