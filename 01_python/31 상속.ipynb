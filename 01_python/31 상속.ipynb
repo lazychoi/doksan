{
 "cells": [
  {
   "cell_type": "markdown",
   "id": "f1f1a6d6",
   "metadata": {},
   "source": [
    "# 상속\n",
    "\n",
    "- 부모 클래스 정보를 활용해 자식 클래스를 정의하는 것\n",
    "- 문법\n",
    "\n",
    "```python\n",
    "class 클래스명(부모클래스):\n",
    "    내부 정의\n",
    "    ....\n",
    "```\n",
    "\n",
    "- 현실에서의 상속과 마찬가지로 프로그래밍의 상속도 부모는 자식에게 자신이 가진 요소를 물려줌.(변수, 메서드)\n",
    "- 현실과 다른 점은 프로그래밍에서의 상속은 자식이 부모를 지목해 이루어지며\n",
    "- 부모에게서 물려받은 변수, 메서드 및 자식이 새로 정의한 변수, 메서드\n",
    "- 물려받은 메서드를 재정의(오버라이딩)해 사용할 수 있다."
   ]
  },
  {
   "cell_type": "code",
   "execution_count": 1,
   "id": "ef29781e",
   "metadata": {},
   "outputs": [],
   "source": [
    "class Person:\n",
    "    name = \"\"\n",
    "    age = 0\n",
    "    height = 0"
   ]
  },
  {
   "cell_type": "code",
   "execution_count": 2,
   "id": "fe3fffe1",
   "metadata": {},
   "outputs": [],
   "source": [
    "p1 = Person()\n",
    "p1.name = \"홍길동\"\n",
    "p1.age = 20\n",
    "p1.height = 180"
   ]
  },
  {
   "cell_type": "code",
   "execution_count": 3,
   "id": "3319bde5",
   "metadata": {},
   "outputs": [
    {
     "name": "stdout",
     "output_type": "stream",
     "text": [
      "홍길동 20 180\n"
     ]
    }
   ],
   "source": [
    "print(p1.name, p1.age, p1.height)"
   ]
  },
  {
   "cell_type": "code",
   "execution_count": 4,
   "id": "2e3c5856",
   "metadata": {},
   "outputs": [],
   "source": [
    "# student는 Person의 상속을 받았음\n",
    "\n",
    "class Student(Person):\n",
    "    major = \"\""
   ]
  },
  {
   "cell_type": "code",
   "execution_count": 5,
   "id": "3e494d2c",
   "metadata": {},
   "outputs": [
    {
     "name": "stdout",
     "output_type": "stream",
     "text": [
      "세종 18 170 과학\n"
     ]
    }
   ],
   "source": [
    "# student 객체를 생성해서 Person처럼 print로 모든 변수에 저장한 값을 출력\n",
    "\n",
    "s1 = Student()\n",
    "s1.name = \"세종\"\n",
    "s1.age = 18\n",
    "s1.height = 170\n",
    "s1.major = \"과학\"\n",
    "print(s1.name, s1.age, s1.height, s1.major)"
   ]
  },
  {
   "cell_type": "code",
   "execution_count": 6,
   "id": "f968a75e",
   "metadata": {},
   "outputs": [
    {
     "name": "stdout",
     "output_type": "stream",
     "text": [
      "김원봉 20 180 3000\n"
     ]
    }
   ],
   "source": [
    "# 샐러리맨 클래스 선언(Person 상속 받음)\n",
    "# 샐러리맨은 연봉을 가짐\n",
    "\n",
    "class Salaryman(Person):\n",
    "    salary = 0\n",
    "\n",
    "choi = Salaryman()\n",
    "choi.name = \"김원봉\"\n",
    "choi.age = 20\n",
    "choi.height = 180\n",
    "choi.salary = 3000\n",
    "print( choi.name, choi.age, choi.height, choi.salary)"
   ]
  }
 ],
 "metadata": {
  "kernelspec": {
   "display_name": "Python 3 (ipykernel)",
   "language": "python",
   "name": "python3"
  },
  "language_info": {
   "codemirror_mode": {
    "name": "ipython",
    "version": 3
   },
   "file_extension": ".py",
   "mimetype": "text/x-python",
   "name": "python",
   "nbconvert_exporter": "python",
   "pygments_lexer": "ipython3",
   "version": "3.9.12"
  }
 },
 "nbformat": 4,
 "nbformat_minor": 5
}
