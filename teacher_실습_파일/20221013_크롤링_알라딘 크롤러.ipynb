{
 "cells": [
  {
   "cell_type": "code",
   "execution_count": 13,
   "id": "e997e3cf",
   "metadata": {},
   "outputs": [],
   "source": [
    "# 필수 라이브러리를 임포트해주세요.\n",
    "from selenium import webdriver\n",
    "from bs4 import BeautifulSoup\n",
    "import time\n",
    "import codecs"
   ]
  },
  {
   "cell_type": "code",
   "execution_count": 14,
   "id": "a88c0d97",
   "metadata": {},
   "outputs": [],
   "source": [
    "# https://www.aladin.co.kr/shop/common/wbest.aspx?BranchType=1&start=we\n",
    "# 위 주소에 접근해서 소스를 저장해주세요.\n",
    "driver = webdriver.Chrome(\"chromedriver\")\n",
    "\n",
    "driver.get(\"https://www.aladin.co.kr/shop/common/wbest.aspx?BestType=Bestseller&BranchType=1&CID=0&page=2&cnt=1000&SortOrder=1\")\n",
    "time.sleep(2)\n",
    "\n",
    "source = driver.page_source"
   ]
  },
  {
   "cell_type": "code",
   "execution_count": 15,
   "id": "eaaf0680",
   "metadata": {},
   "outputs": [],
   "source": [
    "# 소스를 파싱해주세요(페이지 전체)\n",
    "parsed_source = BeautifulSoup(source, \"html.parser\")"
   ]
  },
  {
   "cell_type": "code",
   "execution_count": 16,
   "id": "32aae31a",
   "metadata": {},
   "outputs": [
    {
     "data": {
      "text/plain": [
       "749"
      ]
     },
     "execution_count": 16,
     "metadata": {},
     "output_type": "execute_result"
    }
   ],
   "source": [
    "# 파싱된 소스에서 li태그가 몇갠지 조사해주세요.\n",
    "len(parsed_source.find_all(\"li\"))"
   ]
  },
  {
   "cell_type": "code",
   "execution_count": 17,
   "id": "89061aa8",
   "metadata": {},
   "outputs": [
    {
     "name": "stdout",
     "output_type": "stream",
     "text": [
      "49\n"
     ]
    }
   ],
   "source": [
    "# div 태그이면서 클래스가 ss_book_box인 요소의 개수를 체크해주세요.\n",
    "print(len(parsed_source.find_all(\"div\", class_=\"ss_book_box\")))\n",
    "div_book_list = parsed_source.find_all(\"div\", class_=\"ss_book_box\")"
   ]
  },
  {
   "cell_type": "code",
   "execution_count": 18,
   "id": "d26571ba",
   "metadata": {},
   "outputs": [],
   "source": [
    "# bs4.resultset 자료형은 find_all을 받을 수 없습니다.(리스트로 취급되기 때문)\n",
    "# 따라서, 내부 요소 하나하나를 개별적으로 처리해야 합니다.\n",
    "# 1. 인덱싱을 한다.\n",
    "# 2. 반복문 내부에서 하나하나 돌아가면서 대입해서 처리한다.\n",
    "book_li_list = div_book_list[0].find_all(\"li\") # 인덱스 0 = 1위책"
   ]
  },
  {
   "cell_type": "code",
   "execution_count": 19,
   "id": "32d67535",
   "metadata": {
    "collapsed": true
   },
   "outputs": [
    {
     "data": {
      "text/plain": [
       "<div class=\"ss_book_box\" itemid=\"294425135\">\n",
       "<table border=\"0\" cellpadding=\"0\" cellspacing=\"0\" width=\"100%\">\n",
       "<tbody><tr>\n",
       "<td align=\"left\" style=\"padding-right:5px;\" valign=\"top\" width=\"25\">\n",
       "<table border=\"0\" cellpadding=\"0\" cellspacing=\"0\" width=\"18\">\n",
       "<tbody><tr><td><div style=\"text-align: center;\">51.</div></td></tr> <tr><td><div style=\"text-align: center;\"><input name=\"chkCart.K762837520\" type=\"checkbox\"/></div></td></tr> </tbody></table>\n",
       "</td>\n",
       "<td align=\"left\" valign=\"top\" width=\"170\">\n",
       "<table border=\"0\" cellpadding=\"0\" cellspacing=\"0\" width=\"150\">\n",
       "<tbody><tr><td style=\"\"><div style=\"padding: 0px 0px 5px 0px; text-align: center;\"><table align=\"center\" border=\"0\" cellpadding=\"0\" cellspacing=\"0\" style=\"margin-top:5px;\" width=\"100%\"><tbody><tr><td style=\"font-size:11px;color:#000000;padding:2px 2px 0 2px;line-height:14px !important;text-align:center\">\n",
       "<span style=\"font-size:11px;color:#000000;padding:0 2px 0 2px\">종합</span>Top100<font color=\"#fb6788\" style=\"margin-left:3px;\"><strong>21주</strong></font>\n",
       "</td></tr></tbody></table></div><div class=\"cover_area\"><a href=\"https://www.aladin.co.kr/shop/wproduct.aspx?ItemId=294425135\"><div class=\"flipcover_out\" style=\"height:231px;\"><div class=\"flipcover_in\"><img alt=\"\" class=\"left_cover\" src=\"https://image.aladin.co.kr/product/29442/51/SpineShelf/K762837520_d.jpg\" style=\"height: 231px; left: -12px; transform: rotateY(-90deg) translate3d(-10px, 0px, 0px);\"/><img class=\"front_cover\" src=\"https://image.aladin.co.kr/product/29442/51/cover200/k762837520_1.jpg\" style=\"height: 231px;\"/></div></div></a></div></td></tr>\n",
       "<tr><td><div class=\"preview_area\"><a href=\"https://www.aladin.co.kr/shop/wproduct.aspx?ItemId=294425135\" target=\"_blank\"><img border=\"0\" src=\"//image.aladin.co.kr/img/search/icon_new2.gif\"/></a><a href=\"javascript:fn_PopUpPriview('/shop/book/wletslookViewer.aspx?ISBN=K762837520')\"><img border=\"0\" src=\"//image.aladin.co.kr/img/search/icon_pv2.gif\"/></a></div></td></tr> </tbody></table>\n",
       "</td>\n",
       "<td align=\"left\" valign=\"top\" width=\"*\">\n",
       "<table border=\"0\" cellpadding=\"0\" cellspacing=\"0\" width=\"100%\">\n",
       "<tbody><tr>\n",
       "<td valign=\"top\" width=\"*\">\n",
       "<div class=\"ss_book_list\"><ul>\n",
       "<li><span style=\"font-size: 14px;\">[국내도서]</span> <a class=\"bo3\" href=\"https://www.aladin.co.kr/shop/wproduct.aspx?ItemId=294425135\"><b>세상의 마지막 기차역</b></a> </li>\n",
       "<li><a href=\"/Search/wSearchResult.aspx?AuthorSearch=무라세+다케시@1631727&amp;BranchType=1\">무라세 다케시</a> (지은이), <a href=\"/Search/wSearchResult.aspx?AuthorSearch=김지연@1696292&amp;BranchType=1\">김지연</a> (옮긴이) | <a href=\"/search/wsearchresult.aspx?PublisherSearch=%eb%aa%a8%eb%aa%a8@345636&amp;BranchType=1\">모모</a> | 2022년 5월</li><li><span class=\"\">14,000</span>원 → <span class=\"ss_p2\"><b><span class=\"\">12,600</span>원</b></span> (<span class=\"ss_p\">10%</span>할인),  마일리지 <span class=\"ss_p\">700</span>원 (<span class=\"ss_p\">5%</span> 적립)</li><li><img border=\"0\" src=\"//image.aladin.co.kr/img/common/star_s9.gif\" style=\"vertical-align: middle;\"/> (<a href=\"https://www.aladin.co.kr/shop/wproduct.aspx?ItemId=294425135#K762837520_CommentReview\">113</a>) | 세일즈포인트 :<b> 83,968</b></li> </ul></div>\n",
       "<div class=\"ss_book_list\"><ul>\n",
       "<li><a href=\"/events/wevent.aspx?EventId=211729\"><div class=\"b_ytz_delivery\">양탄자배송</div></a> <span class=\"ss_p\">밤 11시 <strong>잠들기전 배송</strong></span><div>(중구 서소문로 89-31) <img alt=\"지역변경\" onclick=\"FindZipByList('addInputShop_294425135');\" src=\"//image.aladin.co.kr/img/shop/2012/bu_driveaway_ch.gif\" style=\"cursor:pointer;vertical-align:middle;margin:-3px 0 0 0px;\"/><span id=\"addInputShop_294425135\"></span></div></li><li><img src=\"//image.aladin.co.kr/img/search/icon_arrow.jpg\"/>이 책의 전자책 :  9,800원 \n",
       "                                                <a href=\"https://www.aladin.co.kr/shop/wproduct.aspx?ItemId=296248365\" title=\"전자책 보기\"><img alt=\"전자책 보기\" src=\"//image.aladin.co.kr/img/shop/btn_ebookview.gif\" style=\"vertical-align:top;\"/></a></li></ul></div>\n",
       "</td>\n",
       "<td valign=\"top\" width=\"80\">\n",
       "<div class=\"book_Rfloat_02\"><div class=\"button_search_cart_new\"><a href=\"/shop/wbasket.aspx?AddBook=K762837520\" onclick=\"return SafeBasket_ListOneAddByAjax('K762837520', document.getElementById('divBasketAddResult_K762837520'), {top: 0, left: -55});\">장바구니</a></div><div id=\"divBasketAddResult_K762837520\"></div><div class=\"button_search_buyitnow_new\"><a href=\"https://www.aladin.co.kr/order/worder_chk_order.aspx?CartType=4&amp;ISBN=K762837520\" onclick=\"return QuickBuyCheck('K762837520');\">바로구매</a></div><div class=\"Search3_Result_SafeBasketArea\" isbn=\"K762837520\" style=\"position: relative;\"><div class=\"button_search_storage\"><a href=\"javascript:void(0);\">보관함 <img alt=\"\" src=\"//image.aladin.co.kr/img/search/btn_bg5_arrow.png\"/></a></div> <ul class=\"mylist Search3_Result_SafeBasketLayer\" isbn=\"K762837520\" style=\"display: none;\"><li><a href=\"javascript:void(0);\" onclick=\"return AddSafeBasket('K762837520');\">보관함</a></li><li><a href=\"javascript:void(0);\" onclick=\"return AddMyList('K762837520');\">마이리스트</a></li> </ul>\n",
       "</div></div>\n",
       "</td>\n",
       "</tr>\n",
       "<tr>\n",
       "<td colspan=\"2\">\n",
       "</td>\n",
       "</tr>\n",
       "</tbody></table>\n",
       "</td>\n",
       "</tr>\n",
       "</tbody></table>\n",
       "</div>"
      ]
     },
     "execution_count": 19,
     "metadata": {},
     "output_type": "execute_result"
    }
   ],
   "source": [
    "div_book_list[0]"
   ]
  },
  {
   "cell_type": "code",
   "execution_count": 20,
   "id": "304d6cd8",
   "metadata": {
    "collapsed": true
   },
   "outputs": [
    {
     "data": {
      "text/plain": [
       "[<li><span style=\"font-size: 14px;\">[국내도서]</span> <a class=\"bo3\" href=\"https://www.aladin.co.kr/shop/wproduct.aspx?ItemId=294425135\"><b>세상의 마지막 기차역</b></a> </li>,\n",
       " <li><a href=\"/Search/wSearchResult.aspx?AuthorSearch=무라세+다케시@1631727&amp;BranchType=1\">무라세 다케시</a> (지은이), <a href=\"/Search/wSearchResult.aspx?AuthorSearch=김지연@1696292&amp;BranchType=1\">김지연</a> (옮긴이) | <a href=\"/search/wsearchresult.aspx?PublisherSearch=%eb%aa%a8%eb%aa%a8@345636&amp;BranchType=1\">모모</a> | 2022년 5월</li>,\n",
       " <li><span class=\"\">14,000</span>원 → <span class=\"ss_p2\"><b><span class=\"\">12,600</span>원</b></span> (<span class=\"ss_p\">10%</span>할인),  마일리지 <span class=\"ss_p\">700</span>원 (<span class=\"ss_p\">5%</span> 적립)</li>,\n",
       " <li><img border=\"0\" src=\"//image.aladin.co.kr/img/common/star_s9.gif\" style=\"vertical-align: middle;\"/> (<a href=\"https://www.aladin.co.kr/shop/wproduct.aspx?ItemId=294425135#K762837520_CommentReview\">113</a>) | 세일즈포인트 :<b> 83,968</b></li>,\n",
       " <li><a href=\"/events/wevent.aspx?EventId=211729\"><div class=\"b_ytz_delivery\">양탄자배송</div></a> <span class=\"ss_p\">밤 11시 <strong>잠들기전 배송</strong></span><div>(중구 서소문로 89-31) <img alt=\"지역변경\" onclick=\"FindZipByList('addInputShop_294425135');\" src=\"//image.aladin.co.kr/img/shop/2012/bu_driveaway_ch.gif\" style=\"cursor:pointer;vertical-align:middle;margin:-3px 0 0 0px;\"/><span id=\"addInputShop_294425135\"></span></div></li>,\n",
       " <li><img src=\"//image.aladin.co.kr/img/search/icon_arrow.jpg\"/>이 책의 전자책 :  9,800원 \n",
       "                                                 <a href=\"https://www.aladin.co.kr/shop/wproduct.aspx?ItemId=296248365\" title=\"전자책 보기\"><img alt=\"전자책 보기\" src=\"//image.aladin.co.kr/img/shop/btn_ebookview.gif\" style=\"vertical-align:top;\"/></a></li>,\n",
       " <li><a href=\"javascript:void(0);\" onclick=\"return AddSafeBasket('K762837520');\">보관함</a></li>,\n",
       " <li><a href=\"javascript:void(0);\" onclick=\"return AddMyList('K762837520');\">마이리스트</a></li>]"
      ]
     },
     "execution_count": 20,
     "metadata": {},
     "output_type": "execute_result"
    }
   ],
   "source": [
    "book_li_list"
   ]
  },
  {
   "cell_type": "code",
   "execution_count": 21,
   "id": "cc0b929c",
   "metadata": {},
   "outputs": [
    {
     "name": "stdout",
     "output_type": "stream",
     "text": [
      "[국내도서] 세상의 마지막 기차역 \n",
      "무라세 다케시 (지은이), 김지연 (옮긴이) | 모모 | 2022년 5월\n",
      "14,000원 → 12,600원 (10%할인),  마일리지 700원 (5% 적립)\n",
      " (113) | 세일즈포인트 : 83,968\n",
      "양탄자배송 밤 11시 잠들기전 배송(중구 서소문로 89-31) \n",
      "이 책의 전자책 :  9,800원 \n",
      "                                                \n",
      "보관함\n",
      "마이리스트\n"
     ]
    }
   ],
   "source": [
    "# 1위책의 경우, li 1번, 2번, 3번 인덱스가 각각 제목, 저자, 가격임을 알 수 있음.\n",
    "print(book_li_list[0].text)\n",
    "print(book_li_list[1].text)\n",
    "print(book_li_list[2].text)\n",
    "print(book_li_list[3].text)\n",
    "print(book_li_list[4].text)\n",
    "print(book_li_list[5].text)\n",
    "print(book_li_list[6].text)\n",
    "print(book_li_list[7].text)"
   ]
  },
  {
   "cell_type": "code",
   "execution_count": 25,
   "id": "8d912fd8",
   "metadata": {},
   "outputs": [
    {
     "name": "stdout",
     "output_type": "stream",
     "text": [
      "[국내도서] 세상의 마지막 기차역 \n",
      "무라세 다케시 (지은이), 김지연 (옮긴이) | 모모 | 2022년 5월\n",
      "14,000원 → 12,600원 (10%할인),  마일리지 700원 (5% 적립)\n",
      "-------------------------\n",
      "[국내도서] 마흔에 읽는 니체 \n",
      "장재형 (지은이) | 유노북스 | 2022년 9월\n",
      "16,000원 → 14,400원 (10%할인),  마일리지 800원 (5% 적립)\n",
      "-------------------------\n",
      "[국내도서] 슬픔이 택배로 왔다 ㅣ 창비시선 482  \n",
      "정호승 (지은이) | 창비 | 2022년 9월\n",
      "11,000원 → 9,900원 (10%할인),  마일리지 550원 (5% 적립)\n",
      "-------------------------\n",
      "[국내도서] 숲속의 담 5 \n",
      "다홍 (지은이) | 에이템포미디어 | 2022년 10월\n",
      "15,000원 → 13,500원 (10%할인),  마일리지 750원 (5% 적립)\n",
      "-------------------------\n",
      "[국내도서] 2022 큰별쌤 최태성의 별★별한국사 한국사능력검정시험 심화(1, 2, 3급) 하 ㅣ 큰별쌤 최태성의 별★별한국사 한국사능력검정시험 시리즈  \n",
      "최태성 (지은이) | 이투스북 | 2021년 12월\n",
      "14,500원 → 13,050원 (10%할인),  마일리지 720원 (5% 적립)\n",
      "-------------------------\n",
      "[국내도서] 아주 오랜만에 행복하다는 느낌 ㅣ 에세이&  \n",
      "백수린 (지은이) | 창비 | 2022년 10월\n",
      "14,000원 → 12,600원 (10%할인),  마일리지 700원 (5% 적립)\n",
      "-------------------------\n",
      "[국내도서] 그 길로 갈 바엔 ㅣ 젊은 만화가 테마단편집 2  \n",
      "재활용, 약국, 서글, 각종모에화, 하양지 (지은이) | 문학동네 | 2022년 10월\n",
      "15,000원 → 13,500원 (10%할인),  마일리지 750원 (5% 적립)\n",
      "-------------------------\n",
      "[국내도서] 부끄러움 ㅣ 비채 모던 앤 클래식 문학 Modern & Classic  \n",
      "아니 에르노 (지은이), 이재룡 (옮긴이) | 비채 | 2019년 4월\n",
      "12,500원 → 11,250원 (10%할인),  마일리지 620원 (5% 적립)\n",
      "-------------------------\n",
      "[국내도서] 남자의 자리 ㅣ 아니 에르노 컬렉션  \n",
      "아니 에르노 (지은이), 신유진 (옮긴이) | 1984Books | 2022년 5월\n",
      "12,000원 → 10,800원 (10%할인),  마일리지 600원 (5% 적립)\n",
      "-------------------------\n",
      "[국내도서] 문장과 순간 \n",
      "박웅현 (지은이) | 인티N | 2022년 9월\n",
      "18,000원 → 16,200원 (10%할인),  마일리지 900원 (5% 적립)\n",
      "-------------------------\n",
      "[국내도서] 데일 카네기 인간관계론 \n",
      "데일 카네기 (지은이), 임상훈 (옮긴이) | 현대지성 | 2019년 10월\n",
      "11,500원 → 10,350원 (10%할인),  마일리지 570원 (5% 적립)\n",
      "-------------------------\n",
      "[국내도서] 2022 큰별쌤 최태성의 별★별한국사 한국사능력검정시험 심화(1, 2, 3급) 상 ㅣ 큰별쌤 최태성의 별★별한국사 한국사능력검정시험 시리즈  \n",
      "최태성 (지은이) | 이투스북 | 2021년 12월\n",
      "15,000원 → 13,500원 (10%할인),  마일리지 750원 (5% 적립)\n",
      "-------------------------\n",
      "[국내도서] 사건 ㅣ 쏜살 문고  \n",
      "아니 에르노 (지은이), 윤석헌 (옮긴이) | 민음사 | 2019년 11월\n",
      "10,800원 → 9,720원 (10%할인),  마일리지 540원 (5% 적립)\n",
      "-------------------------\n",
      "[국내도서] 위대한 과학 고전 30권을 1권으로 읽는 책 \n",
      "김성근 (지은이) | 빅피시 | 2022년 9월\n",
      "17,800원 → 16,020원 (10%할인),  마일리지 890원 (5% 적립)\n",
      "-------------------------\n",
      "[국내도서] 비전 : 「빛」,「색」,「구성」으로 스토리를 전한다!  \n",
      "한스 P. 바커, 사나탄 수리아반쉬 (지은이), 윤효원 (옮긴이) | 잼스푼 | 2022년 10월\n",
      "47,000원 → 42,300원 (10%할인),  마일리지 2,350원 (5% 적립)\n",
      "-------------------------\n",
      "[국내도서] 탐닉 \n",
      "아니 에르노 (지은이), 조용희 (옮긴이) | 문학동네 | 2022년 3월\n",
      "15,500원 → 13,950원 (10%할인),  마일리지 770원 (5% 적립)\n",
      "-------------------------\n",
      "[국내도서] 아무튼, 사전 ㅣ 아무튼 시리즈 52 \n",
      "홍한별 (지은이) | 위고 | 2022년 10월\n",
      "12,000원 → 10,800원 (10%할인),  마일리지 600원 (5% 적립)\n",
      "-------------------------\n",
      "[국내도서] 긴긴밤 ㅣ 보름달문고 83  \n",
      "루리 (지은이) | 문학동네 | 2021년 2월\n",
      "11,500원 → 10,350원 (10%할인),  마일리지 570원 (5% 적립)\n",
      "-------------------------\n",
      "[국내도서] 외사랑 \n",
      "히가시노 게이고 (지은이), 민경욱 (옮긴이) | ㈜소미미디어 | 2022년 9월\n",
      "17,800원 → 16,020원 (10%할인),  마일리지 890원 (5% 적립)\n",
      "-------------------------\n",
      "[국내도서] 집착 \n",
      "아니 에르노 (지은이), 정혜용 (옮긴이) | 문학동네 | 2022년 3월\n",
      "11,000원 → 9,900원 (10%할인),  마일리지 550원 (5% 적립)\n",
      "-------------------------\n",
      "[국내도서] 바니타스의 수기 10 (특별 소책자 포함 특장판) \n",
      "모치즈키 준 (지은이) | 대원씨아이(만화) | 2022년 9월\n",
      "12,000원 → 10,800원 (10%할인),  마일리지 600원 (5% 적립)\n",
      "-------------------------\n",
      "[국내도서] SQL 자격검정 실전문제 \n",
      "한국데이터산업진흥원 (지은이) | 한국데이터산업진흥원 | 2020년 5월\n",
      "18,000원 → 18,000원\n",
      "-------------------------\n",
      "[국내도서] 김영하 소설 결정판 박스 세트 2차분 - 전6권 ㅣ 복복서가 x 김영하 소설   \n",
      "김영하 (지은이) | 복복서가 | 2022년 9월\n",
      "73,000원 → 65,700원 (10%할인),  마일리지 3,650원 (5% 적립)\n",
      "-------------------------\n",
      "[국내도서] 거의 모든 행동 표현의 영어 \n",
      "서영조 (지은이) | 사람in | 2022년 3월\n",
      "16,000원 → 14,400원 (10%할인),  마일리지 800원 (5% 적립)\n",
      "-------------------------\n",
      "[국내도서] 해커스 GSAT 삼성직무적성검사 FINAL 봉투모의고사 4회분 (수리논리/추리) \n",
      "해커스 취업교육연구소 (지은이) | 챔프스터디 | 2022년 8월\n",
      "14,900원 → 13,410원 (10%할인),  마일리지 740원 (5% 적립)\n",
      "-------------------------\n",
      "[국내도서] 마이클 모부신 운과 실력의 성공 방정식 \n",
      "마이클 J. 모부신 (지은이), 이건, 박성진, 정채진 (옮긴이), 신진오 (감수) | 에프엔미디어 | 2019년 9월\n",
      "18,000원 → 16,200원 (10%할인),  마일리지 900원 (5% 적립)\n",
      "-------------------------\n",
      "[국내도서] 너무 잘하려고 애쓰지 마라 \n",
      "나태주 (지은이) | 열림원 | 2022년 5월\n",
      "14,000원 → 12,600원 (10%할인),  마일리지 700원 (5% 적립)\n",
      "-------------------------\n",
      "[국내도서] 언어를 디자인하라 \n",
      "유영만, 박용후 (지은이) | 쌤앤파커스 | 2022년 8월\n",
      "17,000원 → 15,300원 (10%할인),  마일리지 850원 (5% 적립)\n",
      "-------------------------\n",
      "[국내도서] 2022 청소년상담사 2급ㆍ3급 2차 면접대비 \n",
      "문두식 (지은이) | 시대고시기획 | 2022년 5월\n",
      "27,000원 → 24,300원 (10%할인),  마일리지 1,350원 (5% 적립)\n",
      "-------------------------\n",
      "[국내도서] 데미안 (오리지널 초판본 표지디자인) ㅣ 코너스톤 착한 고전 시리즈   \n",
      "헤르만 헤세 (지은이), 이미영 (옮긴이), 김선형 (해설) | 코너스톤 | 2017년 1월\n",
      "3,300원(56%정가인하) → 2,970원 (10%할인),  마일리지 160원 (5% 적립)\n",
      "-------------------------\n",
      "[국내도서] 원펀맨 One Punch Man 26 \n",
      "ONE (지은이), 무라타 유스케 (그림) | 대원씨아이(만화) | 2022년 9월\n",
      "5,500원 → 4,950원 (10%할인),  마일리지 270원 (5% 적립)\n",
      "-------------------------\n",
      "[국내도서] 돈의 속성 (200쇄 리커버 에디션, 양장)  \n",
      "김승호 (지은이) | 스노우폭스북스 | 2020년 6월\n",
      "17,800원 → 16,020원 (10%할인),  마일리지 890원 (5% 적립)\n",
      "-------------------------\n",
      "[국내도서] 저스트.킵.바잉 \n",
      "닉 매기울리 (지은이), 오수원 (옮긴이), 이상건 (감수) | 서삼독 | 2022년 9월\n",
      "19,800원 → 17,820원 (10%할인),  마일리지 990원 (5% 적립)\n",
      "-------------------------\n",
      "[국내도서] 사랑은 그렇게 하는 것이 아니다 \n",
      "김달 (지은이) | 빅피시 | 2022년 10월\n",
      "16,500원 → 14,850원 (10%할인),  마일리지 820원 (5% 적립)\n",
      "-------------------------\n",
      "[국내도서] 진정한 장소 ㅣ 아니 에르노 컬렉션  \n",
      "아니 에르노, 미셸 포르트 (지은이), 신유진 (옮긴이) | 1984Books | 2022년 5월\n",
      "13,000원 → 11,700원 (10%할인),  마일리지 650원 (5% 적립)\n",
      "-------------------------\n",
      "[국내도서] 데일 카네기 자기관리론 \n",
      "데일 카네기 (지은이), 임상훈 (옮긴이) | 현대지성 | 2021년 1월\n",
      "11,500원 → 10,350원 (10%할인),  마일리지 570원 (5% 적립)\n",
      "-------------------------\n",
      "[국내도서] 나의 투자는 새벽 4시에 시작된다 \n",
      "유목민 (지은이) | 리더스북 | 2022년 4월\n",
      "19,800원 → 17,820원 (10%할인),  마일리지 990원 (5% 적립)\n",
      "-------------------------\n",
      "[국내도서] 대한민국 부동산 부의 역사 \n",
      "이상우, 유성운, 김용석 (지은이) | 포레스트북스 | 2022년 10월\n",
      "22,000원 → 19,800원 (10%할인),  마일리지 1,100원 (5% 적립)\n",
      "-------------------------\n",
      "[국내도서] 카사노바 호텔 \n",
      "아니 에르노 (지은이), 정혜용 (옮긴이) | 문학동네 | 2022년 3월\n",
      "13,500원 → 12,150원 (10%할인),  마일리지 670원 (5% 적립)\n",
      "-------------------------\n",
      "[국내도서] 부의 추월차선 (10주년 스페셜 에디션) \n",
      "엠제이 드마코 (지은이), 신소영 (옮긴이) | 토트 | 2022년 2월\n",
      "17,500원 → 15,750원 (10%할인),  마일리지 870원 (5% 적립)\n",
      "-------------------------\n",
      "[국내도서] 위풍당당 여우 꼬리 3 ㅣ 위풍당당 여우 꼬리 3 \n",
      "손원평 (지은이), 만물상 (그림) | 창비 | 2022년 9월\n",
      "13,000원 → 11,700원 (10%할인),  마일리지 650원 (5% 적립)\n",
      "-------------------------\n",
      "[국내도서] 길티 이노센스 5 \n",
      "윤한 (지은이) | 대원씨아이(만화) | 2022년 10월\n",
      "6,000원 → 5,400원 (10%할인),  마일리지 300원 (5% 적립)\n",
      "-------------------------\n",
      "[국내도서] 내 일로 건너가는 법 \n",
      "김민철 (지은이) | 위즈덤하우스 | 2022년 9월\n",
      "16,800원 → 15,120원 (10%할인),  마일리지 840원 (5% 적립)\n",
      "-------------------------\n",
      "[국내도서] 데미안 ㅣ 민음사 세계문학전집 44  \n",
      "헤르만 헤세 (지은이), 전영애 (옮긴이) | 민음사 | 2000년 12월\n",
      "8,000원 → 7,200원 (10%할인),  마일리지 400원 (5% 적립)\n",
      "-------------------------\n",
      "[국내도서] 게으른 완벽주의자를 위한 심리학 \n",
      "헤이든 핀치 (지은이), 이은정 (옮긴이) | 시크릿하우스 | 2022년 8월\n",
      "17,000원 → 15,300원 (10%할인),  마일리지 850원 (5% 적립)\n",
      "-------------------------\n",
      "[국내도서] 레버리지 (양장) \n",
      "롭 무어 (지은이), 김유미 (옮긴이) | 다산북스 | 2019년 6월\n",
      "16,000원 → 14,400원 (10%할인),  마일리지 800원 (5% 적립)\n",
      "-------------------------\n",
      "[국내도서] 어서 오세요, 이야기 수학 클럽에 \n",
      "김민형 (지은이) | 인플루엔셜(주) | 2022년 8월\n",
      "16,000원 → 14,400원 (10%할인),  마일리지 800원 (5% 적립)\n",
      "-------------------------\n",
      "[국내도서] 빈 옷장 ㅣ 아니 에르노 컬렉션  \n",
      "아니 에르노 (지은이), 신유진 (옮긴이) | 1984Books | 2020년 5월\n",
      "12,500원 → 11,250원 (10%할인),  마일리지 620원 (5% 적립)\n",
      "-------------------------\n",
      "[국내도서] 설민석의 한국사 대모험 22 ㅣ 설민석의 한국사 대모험 22 \n",
      "설민석, 스토리박스 (지은이), 정현희 (그림), 강석화 (감수) | 단꿈아이 | 2022년 8월\n",
      "13,000원 → 11,700원 (10%할인),  마일리지 650원 (5% 적립)\n",
      "-------------------------\n"
     ]
    }
   ],
   "source": [
    "# 50개짜리 div를 반복문으로 한 권 한 권 돌려주세요.\n",
    "for book in div_book_list:\n",
    "    # li만 다시 조회해서 변수에저장\n",
    "    book_li_list = book.find_all(\"li\")\n",
    "    \n",
    "    # <li>에 증정품 정보가 없는 책은 어떻게 처리할지 생각해보세요.\n",
    "    # 1번째 요소가 경품이 있으면 책 제목, 경품이 없으면 저자임을 이용해서\n",
    "    # 책 제목의 0번째 글자는 무조건 대괄호임을 이용해 검사합니다.\n",
    "    if(book_li_list[1].text[0] == '['):\n",
    "        print(book_li_list[1].text)\n",
    "        print(book_li_list[2].text)\n",
    "        print(book_li_list[3].text)\n",
    "    else:\n",
    "        print(book_li_list[0].text)\n",
    "        print(book_li_list[1].text)\n",
    "        print(book_li_list[2].text)\n",
    "    print(\"-------------------------\")    \n",
    "    \n",
    "    # 변수의 1, 2, 3번째만 print()로 찍어서 제목 저자 가격이 나오는지 체크"
   ]
  },
  {
   "cell_type": "code",
   "execution_count": null,
   "id": "b18d7c35",
   "metadata": {},
   "outputs": [],
   "source": []
  },
  {
   "cell_type": "code",
   "execution_count": null,
   "id": "d60eaef9",
   "metadata": {},
   "outputs": [],
   "source": []
  },
  {
   "cell_type": "code",
   "execution_count": null,
   "id": "2a5fc793",
   "metadata": {},
   "outputs": [],
   "source": []
  },
  {
   "cell_type": "code",
   "execution_count": null,
   "id": "9022e860",
   "metadata": {},
   "outputs": [],
   "source": []
  },
  {
   "cell_type": "code",
   "execution_count": null,
   "id": "41d2f998",
   "metadata": {},
   "outputs": [],
   "source": []
  },
  {
   "cell_type": "code",
   "execution_count": null,
   "id": "7c7b88ed",
   "metadata": {},
   "outputs": [],
   "source": []
  },
  {
   "cell_type": "code",
   "execution_count": null,
   "id": "29b4bc1d",
   "metadata": {},
   "outputs": [],
   "source": []
  },
  {
   "cell_type": "code",
   "execution_count": null,
   "id": "0a8ffecb",
   "metadata": {},
   "outputs": [],
   "source": []
  },
  {
   "cell_type": "code",
   "execution_count": null,
   "id": "b23f9a8b",
   "metadata": {},
   "outputs": [],
   "source": []
  },
  {
   "cell_type": "code",
   "execution_count": null,
   "id": "18964cef",
   "metadata": {},
   "outputs": [],
   "source": []
  },
  {
   "cell_type": "code",
   "execution_count": null,
   "id": "557253f2",
   "metadata": {},
   "outputs": [],
   "source": []
  },
  {
   "cell_type": "code",
   "execution_count": null,
   "id": "4806a1df",
   "metadata": {},
   "outputs": [],
   "source": []
  },
  {
   "cell_type": "code",
   "execution_count": null,
   "id": "942d95bd",
   "metadata": {},
   "outputs": [],
   "source": []
  }
 ],
 "metadata": {
  "kernelspec": {
   "display_name": "Python 3 (ipykernel)",
   "language": "python",
   "name": "python3"
  },
  "language_info": {
   "codemirror_mode": {
    "name": "ipython",
    "version": 3
   },
   "file_extension": ".py",
   "mimetype": "text/x-python",
   "name": "python",
   "nbconvert_exporter": "python",
   "pygments_lexer": "ipython3",
   "version": "3.9.12"
  }
 },
 "nbformat": 4,
 "nbformat_minor": 5
}
