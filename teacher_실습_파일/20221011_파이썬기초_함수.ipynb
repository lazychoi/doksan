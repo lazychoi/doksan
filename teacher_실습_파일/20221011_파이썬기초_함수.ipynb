{
 "cells": [
  {
   "cell_type": "markdown",
   "id": "9fe2e957",
   "metadata": {},
   "source": [
    "# 별 찍기 문제 풀이\n",
    "\n",
    "### 기본 별 찍기\n",
    "★<br>\n",
    "★★<br>\n",
    "★★★<br>\n",
    "★★★★<br>\n",
    "<br>\n",
    "위의 기본 형태 별찍기에 대해 풀이합니다"
   ]
  },
  {
   "cell_type": "code",
   "execution_count": 3,
   "id": "110ab266",
   "metadata": {},
   "outputs": [
    {
     "name": "stdout",
     "output_type": "stream",
     "text": [
      "*\n",
      "**\n",
      "***\n",
      "****\n"
     ]
    }
   ],
   "source": [
    "# 중첩 없는 반복문으로 푸는 방법\n",
    "for i in range(1,5):\n",
    "    print(\"*\" * i, end=\"\")\n",
    "    print()"
   ]
  },
  {
   "cell_type": "markdown",
   "id": "5591a0dc",
   "metadata": {},
   "source": [
    "★★★★<br>\n",
    "★★★★<br>\n",
    "★★★★<br>\n",
    "★★★★<br>"
   ]
  },
  {
   "cell_type": "code",
   "execution_count": 5,
   "id": "7de5d760",
   "metadata": {},
   "outputs": [
    {
     "name": "stdout",
     "output_type": "stream",
     "text": [
      "**\n",
      "**\n"
     ]
    }
   ],
   "source": [
    "for i in range(2):\n",
    "    for j in range(2):\n",
    "        print(\"*\", end=\"\")\n",
    "    print()"
   ]
  },
  {
   "cell_type": "code",
   "execution_count": 7,
   "id": "c6766f27",
   "metadata": {},
   "outputs": [
    {
     "name": "stdout",
     "output_type": "stream",
     "text": [
      "*\n",
      "**\n",
      "***\n",
      "****\n"
     ]
    }
   ],
   "source": [
    "for i in range(1,5):\n",
    "    for j in range(i):\n",
    "        print(\"*\", end=\"\")\n",
    "    print()"
   ]
  },
  {
   "cell_type": "markdown",
   "id": "19d9d612",
   "metadata": {},
   "source": [
    "### for 반복문 문제\n",
    "\n",
    "학생들의 점수가 저장되어 있는 리스트에서 50점 이상인 학생의 점수만 합한 결과를 출력하세요.\n",
    "\n",
    "[20, 55, 67, 82, 45, 33, 90, 87, 100, 25]"
   ]
  },
  {
   "cell_type": "code",
   "execution_count": 9,
   "id": "0f2e6946",
   "metadata": {},
   "outputs": [],
   "source": [
    "scores = [20, 55, 67, 82, 45, 33, 90, 87, 100, 25]"
   ]
  },
  {
   "cell_type": "code",
   "execution_count": 15,
   "id": "da09aa2c",
   "metadata": {},
   "outputs": [
    {
     "name": "stdout",
     "output_type": "stream",
     "text": [
      "481\n"
     ]
    }
   ],
   "source": [
    "total = 0\n",
    "#아래쪽에 반복문 정의\n",
    "for score in scores:\n",
    "    if score >= 50:\n",
    "        total += score\n",
    "print(total)"
   ]
  },
  {
   "cell_type": "markdown",
   "id": "58e9a4a5",
   "metadata": {},
   "source": [
    "# << 함수 >>\n",
    "\n",
    "반복적으로 사용하는 기능을 묶어서 함수로 정의하면 간편하게 사용할 수 있다.\n",
    "\n",
    "▶ 기본 문법 \n",
    "\n",
    "         def 함수이름(매개변수) :\n",
    "\n",
    "             <수행할 내용1>\n",
    "             <수행할 내용2>\n",
    "             <수행할 내용3>\n",
    "             \n",
    "             return \n",
    "\n",
    "            \n",
    "\n",
    "▶ 매개변수 \n",
    "\n",
    "        - 함수 안에서 사용할 값을 전달하는 변수로 <수행할 내용> 문장에서 변수로 사용된다.\n",
    "        \n",
    "        - 함수 정의문에서는 매개변수로서 선언되며 실제로 함수를 호출할 때는 인자값으로 전달된다.\n",
    "        \n",
    "        \n",
    "▶ 용어\n",
    "\n",
    "        - def : 함수를 정의할 때 사용하는 키워드\n",
    "        \n",
    "        - return : 함수의 결과값을 반환하는 키워드\n",
    "        \n",
    "        - 입력값 = 인수, 입력 인수, 인자\n",
    "        \n",
    "        - 결과값 = 출력값, 리턴값, 돌려주는 값, 반환 값"
   ]
  },
  {
   "cell_type": "code",
   "execution_count": 16,
   "id": "6f0ccfa1",
   "metadata": {},
   "outputs": [],
   "source": [
    "# 기본적인 함수의 예제(완전한 실행문)\n",
    "def 디귿춤():\n",
    "    print(\"팔을 얼굴앞으로\")\n",
    "    print(\"관절을 역으로 꺾고\")\n",
    "    print(\"디귿자 모양으로 만듭니다.\")"
   ]
  },
  {
   "cell_type": "code",
   "execution_count": 17,
   "id": "026cc859",
   "metadata": {},
   "outputs": [
    {
     "name": "stdout",
     "output_type": "stream",
     "text": [
      "팔을 얼굴앞으로\n",
      "관절을 역으로 꺾고\n",
      "디귿자 모양으로 만듭니다.\n"
     ]
    }
   ],
   "source": [
    "print(\"팔을 얼굴앞으로\")\n",
    "print(\"관절을 역으로 꺾고\")\n",
    "print(\"디귿자 모양으로 만듭니다.\")"
   ]
  },
  {
   "cell_type": "code",
   "execution_count": 18,
   "id": "44303838",
   "metadata": {},
   "outputs": [
    {
     "name": "stdout",
     "output_type": "stream",
     "text": [
      "팔을 얼굴앞으로\n",
      "관절을 역으로 꺾고\n",
      "디귿자 모양으로 만듭니다.\n"
     ]
    }
   ],
   "source": [
    "디귿춤()"
   ]
  },
  {
   "cell_type": "code",
   "execution_count": 28,
   "id": "2ab00241",
   "metadata": {},
   "outputs": [],
   "source": [
    "# 기본적인 함수의 예제(불완전한 실행문)\n",
    "def plus(a):\n",
    "    print(a + 1)"
   ]
  },
  {
   "cell_type": "code",
   "execution_count": 35,
   "id": "c93b4790",
   "metadata": {},
   "outputs": [
    {
     "name": "stdout",
     "output_type": "stream",
     "text": [
      "6\n",
      "함수 끝나면 실행\n"
     ]
    }
   ],
   "source": [
    "plus(5)\n",
    "print(\"함수 끝나면 실행\")"
   ]
  },
  {
   "cell_type": "code",
   "execution_count": 37,
   "id": "0a4b6581",
   "metadata": {},
   "outputs": [
    {
     "ename": "NameError",
     "evalue": "name 'a' is not defined",
     "output_type": "error",
     "traceback": [
      "\u001b[1;31m---------------------------------------------------------------------------\u001b[0m",
      "\u001b[1;31mNameError\u001b[0m                                 Traceback (most recent call last)",
      "Input \u001b[1;32mIn [37]\u001b[0m, in \u001b[0;36m<cell line: 4>\u001b[1;34m()\u001b[0m\n\u001b[0;32m      1\u001b[0m \u001b[38;5;66;03m# 함수 내부에 선언된 변수는 함수 외부에서 호출할 수 없습니다.\u001b[39;00m\n\u001b[0;32m      2\u001b[0m \u001b[38;5;66;03m# 함수나 기타 블록 내부에 선언된 변수를 \"지역변수\" 라고 부릅니다.\u001b[39;00m\n\u001b[0;32m      3\u001b[0m \u001b[38;5;66;03m# 지역화폐가 해당 지역내에서만 통용되듯, 지역변수도 다른 지역에서 호출할 수 없습니다\u001b[39;00m\n\u001b[1;32m----> 4\u001b[0m \u001b[38;5;28mprint\u001b[39m(\u001b[43ma\u001b[49m)\n",
      "\u001b[1;31mNameError\u001b[0m: name 'a' is not defined"
     ]
    }
   ],
   "source": [
    "# 함수 내부에 선언된 변수는 함수 외부에서 호출할 수 없습니다.\n",
    "# 함수나 기타 블록 내부에 선언된 변수를 \"지역변수\" 라고 부릅니다.\n",
    "# 지역화폐가 해당 지역내에서만 통용되듯, 지역변수도 다른 지역에서 호출할 수 없습니다\n",
    "print(a)"
   ]
  },
  {
   "cell_type": "code",
   "execution_count": 38,
   "id": "94832091",
   "metadata": {},
   "outputs": [
    {
     "name": "stdout",
     "output_type": "stream",
     "text": [
      "6\n",
      "None\n"
     ]
    }
   ],
   "source": [
    "# plus를 호출했을때 a + 1이 콘솔에 찍힙니다.\n",
    "# print(plus(5)) => 몇이 찍힐까요?\n",
    "print(plus(5))"
   ]
  },
  {
   "cell_type": "code",
   "execution_count": 39,
   "id": "8aa17d1b",
   "metadata": {},
   "outputs": [],
   "source": [
    "# return 구문은, 함수 내 마지막 지점에 사용할 수 있습니다.\n",
    "# return구문이 실행되면, 함수가 종료되며 동시에 해당 함수의 결과값이\n",
    "# 호출한 위치에 할당됩니다.\n",
    "def plus2(a):\n",
    "    return a + 1"
   ]
  },
  {
   "cell_type": "code",
   "execution_count": 40,
   "id": "9048430e",
   "metadata": {},
   "outputs": [
    {
     "name": "stdout",
     "output_type": "stream",
     "text": [
      "16\n"
     ]
    }
   ],
   "source": [
    "print(plus2(15))"
   ]
  },
  {
   "cell_type": "markdown",
   "id": "79212494",
   "metadata": {},
   "source": [
    "### (참고) 매개변수과 인수\n",
    "\n",
    "#### 매개변수(parameter, 입력인자, 입력값)\n",
    "함수에 전달된 값을 저장하는 변수 / 함수를 선언할 때 정의하는 변수\n",
    "\n",
    "\n",
    "#### 인수 / 인자 (argument)\n",
    "함수를 호출(=사용)할 때 전달하는 입력 값"
   ]
  },
  {
   "cell_type": "code",
   "execution_count": 41,
   "id": "74eebc96",
   "metadata": {},
   "outputs": [],
   "source": [
    "# 매개변수를 2개 이상 받는 케이스\n",
    "# sum_func 이라는 이름으로 함수를 선언해주세요.\n",
    "# 이 함수는 num1, num2 2개의 변수를 입력받고\n",
    "# 둘을 합산한 값을 리턴합니다.\n",
    "def sum_func(num1, num2):\n",
    "    result = num1 + num2\n",
    "    return result"
   ]
  },
  {
   "cell_type": "code",
   "execution_count": 42,
   "id": "6e2a509f",
   "metadata": {},
   "outputs": [
    {
     "data": {
      "text/plain": [
       "8"
      ]
     },
     "execution_count": 42,
     "metadata": {},
     "output_type": "execute_result"
    }
   ],
   "source": [
    "sum_func(3, 5)"
   ]
  },
  {
   "cell_type": "markdown",
   "id": "72a3434a",
   "metadata": {},
   "source": [
    "### 2. 매개변수 있는 함수\n",
    "\n",
    "- 인자 값을 전달 할 때 값만 입력하면 순서대로 매개변수에 할당된다.\n",
    "\n",
    "- 매개변수명을 지정하여 전달할 수 있다."
   ]
  },
  {
   "cell_type": "code",
   "execution_count": 47,
   "id": "6fc2837c",
   "metadata": {},
   "outputs": [],
   "source": [
    "# 매개변수가 3개인 함수를 설정해주세요.\n",
    "# 매개변수명 3개는 자율적으로 만들어주세요.\n",
    "# print()로 매개변수 3개가 뭐였는지 콘솔에 찍어준다음\n",
    "# result 변수에 3개 합을 저장한 뒤 리턴합니다.\n",
    "# 함수명은 test1입니다.\n",
    "def test1(x, y, z):\n",
    "    print(x, y, z)\n",
    "    result = x + y + z\n",
    "    return result"
   ]
  },
  {
   "cell_type": "code",
   "execution_count": 48,
   "id": "1c577f2e",
   "metadata": {},
   "outputs": [
    {
     "name": "stdout",
     "output_type": "stream",
     "text": [
      "10 20 30\n"
     ]
    },
    {
     "data": {
      "text/plain": [
       "60"
      ]
     },
     "execution_count": 48,
     "metadata": {},
     "output_type": "execute_result"
    }
   ],
   "source": [
    "test1(10, 20, 30)"
   ]
  },
  {
   "cell_type": "code",
   "execution_count": 50,
   "id": "bba14381",
   "metadata": {},
   "outputs": [
    {
     "name": "stdout",
     "output_type": "stream",
     "text": [
      "10 30 20\n"
     ]
    },
    {
     "data": {
      "text/plain": [
       "60"
      ]
     },
     "execution_count": 50,
     "metadata": {},
     "output_type": "execute_result"
    }
   ],
   "source": [
    "# 매개변수에 순서를 다르게 전달하고 싶다면 매개변수를 지목해 값을 대입한다.\n",
    "test1(z=20, x=10, y=30)"
   ]
  },
  {
   "cell_type": "markdown",
   "id": "7cbcc2ca",
   "metadata": {},
   "source": [
    "### 2-1. 매개변수 초기 값 설정\n",
    "\n",
    "- 함수 정의문에서 매개변수 값을 할당하면 초기 값으로 설정\n",
    "\n",
    "\n",
    "- 함수 호출 시 값을 입력하지 않으면 초기 값으로 사용\n",
    "\n",
    "\n",
    "- 초기화시키고 싶은 매개변수들을 항상 뒤쪽에 위치\n",
    "\n",
    "(참고) 포맷팅함수에서 인덱스 번호, 변수명 사용했던 규칙과 유사"
   ]
  },
  {
   "cell_type": "code",
   "execution_count": 53,
   "id": "72030c5d",
   "metadata": {},
   "outputs": [],
   "source": [
    "# 디폴트값 선언을 사용한 예시\n",
    "def test2(a=1, b=2, c=3):\n",
    "    result = a + b + c\n",
    "    return result"
   ]
  },
  {
   "cell_type": "code",
   "execution_count": 55,
   "id": "50b839ed",
   "metadata": {},
   "outputs": [
    {
     "data": {
      "text/plain": [
       "6"
      ]
     },
     "execution_count": 55,
     "metadata": {},
     "output_type": "execute_result"
    }
   ],
   "source": [
    "test2()"
   ]
  },
  {
   "cell_type": "code",
   "execution_count": 56,
   "id": "06709d5b",
   "metadata": {},
   "outputs": [
    {
     "data": {
      "text/plain": [
       "15"
      ]
     },
     "execution_count": 56,
     "metadata": {},
     "output_type": "execute_result"
    }
   ],
   "source": [
    "test2(10)"
   ]
  },
  {
   "cell_type": "code",
   "execution_count": 57,
   "id": "55589e00",
   "metadata": {},
   "outputs": [
    {
     "data": {
      "text/plain": [
       "33"
      ]
     },
     "execution_count": 57,
     "metadata": {},
     "output_type": "execute_result"
    }
   ],
   "source": [
    "test2(10, 20)"
   ]
  },
  {
   "cell_type": "code",
   "execution_count": 67,
   "id": "86dc276e",
   "metadata": {},
   "outputs": [],
   "source": [
    "# 디폴트값 설정은 반드시 오른쪽 요소부터 지정한다.\n",
    "def test3(a, b=1, c=2):\n",
    "    result = a + b + c\n",
    "    return result"
   ]
  },
  {
   "cell_type": "code",
   "execution_count": 68,
   "id": "7a9eaf78",
   "metadata": {},
   "outputs": [
    {
     "ename": "TypeError",
     "evalue": "test3() missing 1 required positional argument: 'a'",
     "output_type": "error",
     "traceback": [
      "\u001b[1;31m---------------------------------------------------------------------------\u001b[0m",
      "\u001b[1;31mTypeError\u001b[0m                                 Traceback (most recent call last)",
      "Input \u001b[1;32mIn [68]\u001b[0m, in \u001b[0;36m<cell line: 1>\u001b[1;34m()\u001b[0m\n\u001b[1;32m----> 1\u001b[0m \u001b[43mtest3\u001b[49m\u001b[43m(\u001b[49m\u001b[43m)\u001b[49m\n",
      "\u001b[1;31mTypeError\u001b[0m: test3() missing 1 required positional argument: 'a'"
     ]
    }
   ],
   "source": [
    "test3()"
   ]
  },
  {
   "cell_type": "markdown",
   "id": "57c1edf4",
   "metadata": {},
   "source": [
    "### 가변인자 리스트\n",
    "\n",
    "- 입력할 파라미터의 개수가 몇 개인지 모를때 사용함\n",
    "- 파라미터명 왼쪽에 *을 붙인다"
   ]
  },
  {
   "cell_type": "code",
   "execution_count": 79,
   "id": "16079502",
   "metadata": {},
   "outputs": [],
   "source": [
    "def get_member_list(p1):\n",
    "    print(\"출석학생은 %s님  입니다.\" % p1)"
   ]
  },
  {
   "cell_type": "code",
   "execution_count": 80,
   "id": "1136b038",
   "metadata": {},
   "outputs": [
    {
     "name": "stdout",
     "output_type": "stream",
     "text": [
      "출석학생은 채종훈님  입니다.\n"
     ]
    }
   ],
   "source": [
    "get_member_list(\"채종훈\")"
   ]
  },
  {
   "cell_type": "code",
   "execution_count": 81,
   "id": "27332054",
   "metadata": {},
   "outputs": [],
   "source": [
    "def get_member_list2(p1, p2):\n",
    "    print(\"출석학생은 %s님, %s님 입니다.\" % (p1, p2))"
   ]
  },
  {
   "cell_type": "code",
   "execution_count": 82,
   "id": "50b56fac",
   "metadata": {},
   "outputs": [
    {
     "name": "stdout",
     "output_type": "stream",
     "text": [
      "출석학생은 채종훈님, 파이썬님 입니다.\n"
     ]
    }
   ],
   "source": [
    "get_member_list2(\"채종훈\", \"파이썬\")"
   ]
  },
  {
   "cell_type": "code",
   "execution_count": 91,
   "id": "2e3668a4",
   "metadata": {},
   "outputs": [],
   "source": [
    "def get_members(*stu):\n",
    "    print(stu)\n",
    "    print(type(stu))"
   ]
  },
  {
   "cell_type": "code",
   "execution_count": 92,
   "id": "6cd92e2a",
   "metadata": {},
   "outputs": [
    {
     "name": "stdout",
     "output_type": "stream",
     "text": [
      "('채종훈', '김종훈', '이종훈', '박종훈', '강종훈', '최종훈')\n",
      "<class 'tuple'>\n"
     ]
    }
   ],
   "source": [
    "get_members(\"채종훈\", \"김종훈\", \"이종훈\", \"박종훈\", \"강종훈\", \"최종훈\")"
   ]
  },
  {
   "cell_type": "code",
   "execution_count": 102,
   "id": "b167f7d8",
   "metadata": {},
   "outputs": [],
   "source": [
    "# 가변 파라미터(*변수명) 을 이용해서 학생들의 점수를 입력받는대로 다 저장했다가\n",
    "# 총점을 얻어서 평균값을 구해 리턴하도록 코드를 작성해주세요.\n",
    "\n",
    "# scores에 몇 개건 모든 데이터를 다 때려넣음.\n",
    "def get_average(*scores):\n",
    "    # 들어온 데이터 체크\n",
    "    print(scores)\n",
    "    # 총점 집계를 위해 total 변수 생성 및 0 대입\n",
    "    total = 0\n",
    "    # scores에 있는 모든 점수를 score에 번갈아가면서 대입\n",
    "    for score in scores:\n",
    "        # 개별 점수를 total에 더해서 누적시킴\n",
    "        total += score\n",
    "        # 평균은 총점 / 더한 횟수 이므로, scores 내부 자료 개수만큼으로\n",
    "        # 총점을 나누면 평균이 나옴\n",
    "    return \"총점 : %s, 평균 : %s\" % (total , total / len(scores))"
   ]
  },
  {
   "cell_type": "code",
   "execution_count": 103,
   "id": "64073d7e",
   "metadata": {},
   "outputs": [
    {
     "name": "stdout",
     "output_type": "stream",
     "text": [
      "(100, 79, 53, 66, 42, 88, 75, 56, 70, 75)\n"
     ]
    },
    {
     "data": {
      "text/plain": [
       "'총점 : 704, 평균 : 70.4'"
      ]
     },
     "execution_count": 103,
     "metadata": {},
     "output_type": "execute_result"
    }
   ],
   "source": [
    "get_average(100, 79, 53, 66, 42, 88, 75, 56, 70, 75)"
   ]
  },
  {
   "cell_type": "markdown",
   "id": "49dc46a2",
   "metadata": {},
   "source": [
    "### 6. 키워드 파라미터 kwargs (keyword arguments)\n",
    "\n",
    "딕셔너리 형태로 저장되는 매개변수로 정의"
   ]
  },
  {
   "cell_type": "code",
   "execution_count": 104,
   "id": "96599623",
   "metadata": {},
   "outputs": [],
   "source": [
    "# ** 두 개가 붙으면 딕셔너리 형태로 가변인자를 받습니다.\n",
    "# 이 경우, 변수명=값 형식으로 호출해야 전달됩니다.\n",
    "def test4(**kwargs):\n",
    "    return kwargs"
   ]
  },
  {
   "cell_type": "code",
   "execution_count": 106,
   "id": "98b8370b",
   "metadata": {},
   "outputs": [
    {
     "data": {
      "text/plain": [
       "{'name': '홍길동', 'age': 19, 'gender': 'male'}"
      ]
     },
     "execution_count": 106,
     "metadata": {},
     "output_type": "execute_result"
    }
   ],
   "source": [
    "test4(name=\"홍길동\", age=19, gender='male')"
   ]
  },
  {
   "cell_type": "markdown",
   "id": "75cc1e23",
   "metadata": {},
   "source": [
    "### 7. 함수의 결과 값\n",
    "\n",
    "- 함수의 결과 값은 항상 1개\n",
    "\n",
    "- 여러 개의 결과를 가질 수 있지만 하나의 튜플로 전달\n",
    "\n",
    "\n",
    "▶ 기본 문법\n",
    " \n",
    "          def 함수이름(매개변수이름):\n",
    "\n",
    "             return 결과값 1 , 결과값 2"
   ]
  },
  {
   "cell_type": "code",
   "execution_count": 107,
   "id": "9bf39a17",
   "metadata": {},
   "outputs": [],
   "source": [
    "# return 키워드는 전달받은 결과들을 하나의 '튜플' 로 묶어서 반환\n",
    "# 최종적으로 '하나의 변수' 에 담을 수 있는 '하나의 값'으로 처리된다.\n",
    "def test(a, b):\n",
    "    sum_ = a + b\n",
    "    mul = a * b\n",
    "    return sum_, mul"
   ]
  },
  {
   "cell_type": "code",
   "execution_count": 108,
   "id": "4a79ad91",
   "metadata": {},
   "outputs": [
    {
     "name": "stdout",
     "output_type": "stream",
     "text": [
      "(7, 12)\n"
     ]
    }
   ],
   "source": [
    "# 결과를 통째로 가져오기\n",
    "a = test(3, 4)\n",
    "print(a)"
   ]
  },
  {
   "cell_type": "code",
   "execution_count": 109,
   "id": "88d3723d",
   "metadata": {},
   "outputs": [
    {
     "name": "stdout",
     "output_type": "stream",
     "text": [
      "11\n",
      "30\n"
     ]
    }
   ],
   "source": [
    "# 결과를 개별 변수에 쪼개서 가져오기\n",
    "# 튜플 리턴시 좌변에 튜플 내부요소 개수만큼 변수를 선언하면 따로따로 저장받습니다.\n",
    "s, m = test(5, 6)\n",
    "print(s)\n",
    "print(m)"
   ]
  },
  {
   "cell_type": "markdown",
   "id": "f9c40141",
   "metadata": {},
   "source": [
    "리스트로 입력받은 수들에 대해 양수만 필터링하여 반환해주는 함수를 작성해보세요.\n",
    "\n",
    "- 조건1. 입력값은 인자값으로 가변인자 리스트를 전달\n",
    "\n",
    "- 조건2. 결과값은 양수로만 구성된 새로운 리스트"
   ]
  },
  {
   "cell_type": "code",
   "execution_count": 119,
   "id": "a73d0dc5",
   "metadata": {},
   "outputs": [],
   "source": [
    "def positive_list(*numbers):\n",
    "    # 양수를 적재할 빈 리스트 생성\n",
    "    positive_nums = []\n",
    "    # numbers 내부에 있던 숫자들을 순차적으로 number에 대입해 검사\n",
    "    for number in numbers:\n",
    "        # 현재 대입된 숫자가 0보다 크면\n",
    "        if number > 0:\n",
    "            positive_nums.append(number)\n",
    "    # 리스트 리턴\n",
    "    return positive_nums    "
   ]
  },
  {
   "cell_type": "code",
   "execution_count": 120,
   "id": "5f04cbf0",
   "metadata": {},
   "outputs": [
    {
     "data": {
      "text/plain": [
       "[1, 29, 31, 52, 37]"
      ]
     },
     "execution_count": 120,
     "metadata": {},
     "output_type": "execute_result"
    }
   ],
   "source": [
    "positive_list(1, -4, 29, 31, -66, 52, 0, 37)"
   ]
  }
 ],
 "metadata": {
  "kernelspec": {
   "display_name": "Python 3 (ipykernel)",
   "language": "python",
   "name": "python3"
  },
  "language_info": {
   "codemirror_mode": {
    "name": "ipython",
    "version": 3
   },
   "file_extension": ".py",
   "mimetype": "text/x-python",
   "name": "python",
   "nbconvert_exporter": "python",
   "pygments_lexer": "ipython3",
   "version": "3.9.12"
  }
 },
 "nbformat": 4,
 "nbformat_minor": 5
}
