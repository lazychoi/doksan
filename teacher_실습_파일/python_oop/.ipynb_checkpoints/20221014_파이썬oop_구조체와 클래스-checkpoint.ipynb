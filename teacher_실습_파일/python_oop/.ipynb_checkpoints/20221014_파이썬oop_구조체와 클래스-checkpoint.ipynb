{
 "cells": [
  {
   "cell_type": "markdown",
   "id": "477d57b9",
   "metadata": {},
   "source": [
    "# 구조체\n",
    "\n",
    "클래스 이전에 구조체를 먼저 공부하는 이유는 클래스가 C언어의 구조체에서 확장된 개념이기 때문입니다.\n",
    "\n",
    "구조체란 배열과는 달리 인덱스가 아닌 \"변수명\"으로 특정 대상을 프로그래밍적으로 묘사하기 위해 사용합니다.\n",
    "\n",
    "## 추상화\n",
    "\n",
    "추상화는 대상을 간단하게 표현하는것을 의미합니다.\n",
    "\n",
    "이를테면 사람을 만약 컴퓨터적으로 표현한다면 원래대로라면 표현해야하는 요소가 너무많습니다.\n",
    "\n",
    "그렇지만 프로그램적으로 표현 요소를 줄이고 줄여서 필수적인 요소만 표현하는것이 개발에 유리하기에\n",
    "\n",
    "추상화를 하게됩니다.\n",
    "\n",
    "\n",
    "#### 추상화 예시\n",
    "\n",
    "고양이의 요소 : 털 색깔, 수염 모수, 몸무게, 품종, 이름, 나이, 선호하는 간식, 주인, 집, 성별, 건강상태, 점프력, 울음소리, 발톱길이......\n",
    "\n",
    "동물병원에 등록하는데에는 [주인, 이름, 나이, 품종](, 성별, 몸무게, 키, 방문기록)\n",
    "\n",
    "개발시에는 개발자가 고려할 수 있는(혹은 기능이 요구하는 최소한의) 사항만을 정의합니다."
   ]
  },
  {
   "cell_type": "code",
   "execution_count": 4,
   "id": "f81da0f8",
   "metadata": {},
   "outputs": [],
   "source": [
    "# 클래스(구조체) 구현 문법\n",
    "# 설계도처럼 작용하기 때문에 실제로 변수를 생성하기 전까지는\n",
    "# 아래 적힌 코드는 따로 기능하지 않습니다.\n",
    "class Cat:\n",
    "    name = \"\"\n",
    "    age = 0\n",
    "    cat_type = \"\"\n",
    "    owner = \"\""
   ]
  },
  {
   "cell_type": "code",
   "execution_count": 13,
   "id": "900046ae",
   "metadata": {},
   "outputs": [],
   "source": [
    "# 실제로는 생성을 해 줘야 기능합니다.\n",
    "# 클래스 생성을 저장받은 변수를 객체(object) 혹은 인스턴스(instance) 라고 호칭합니다.\n",
    "cat1 = Cat()\n",
    "cat2 = Cat()"
   ]
  },
  {
   "cell_type": "code",
   "execution_count": 14,
   "id": "99fbe7ee",
   "metadata": {},
   "outputs": [
    {
     "name": "stdout",
     "output_type": "stream",
     "text": [
      "<__main__.Cat object at 0x000001AFA8F5C9A0>\n",
      "<__main__.Cat object at 0x000001AFA9B01A00>\n"
     ]
    }
   ],
   "source": [
    "print(cat1)\n",
    "print(cat2)"
   ]
  },
  {
   "cell_type": "code",
   "execution_count": 17,
   "id": "fef7331b",
   "metadata": {},
   "outputs": [
    {
     "name": "stdout",
     "output_type": "stream",
     "text": [
      "<class '__main__.Cat'>\n"
     ]
    }
   ],
   "source": [
    "print(Cat)"
   ]
  },
  {
   "cell_type": "code",
   "execution_count": 15,
   "id": "f3fdaab2",
   "metadata": {},
   "outputs": [],
   "source": [
    "cat1.name = \"룰루\"\n",
    "cat1.age = 2\n",
    "cat1.cat_type = \"스코티시 폴드\"\n",
    "cat1.owner = \"이미영\""
   ]
  },
  {
   "cell_type": "code",
   "execution_count": 16,
   "id": "4ff7151c",
   "metadata": {},
   "outputs": [],
   "source": [
    "cat2.name = \"어완자\"\n",
    "cat2.age = 1\n",
    "cat2.cat_type = \"엑조틱숏헤어\"\n",
    "cat2.owner = \"양정\""
   ]
  },
  {
   "cell_type": "code",
   "execution_count": 18,
   "id": "b31ff246",
   "metadata": {},
   "outputs": [
    {
     "name": "stdout",
     "output_type": "stream",
     "text": [
      "룰루\n"
     ]
    }
   ],
   "source": [
    "print(cat1.name)"
   ]
  },
  {
   "cell_type": "code",
   "execution_count": 19,
   "id": "c6e280af",
   "metadata": {},
   "outputs": [
    {
     "name": "stdout",
     "output_type": "stream",
     "text": [
      "어완자\n"
     ]
    }
   ],
   "source": [
    "print(cat2.name)"
   ]
  },
  {
   "cell_type": "markdown",
   "id": "d2a99d80",
   "metadata": {},
   "source": [
    "# 여러분들이 임의의 구조체를 생성해주세요.\n",
    "\n",
    "종류는 알아서 해 주시고, 최소 2개 이상의 객체를 생성해주시면서\n",
    "\n",
    "자율적으로 메모리 구조 그림까지 그림판에 수기로 그려주세요."
   ]
  },
  {
   "cell_type": "markdown",
   "id": "1af22335",
   "metadata": {},
   "source": [
    "# 구조체와 전용 함수\n",
    "\n",
    "위에서 cat에 대한 정보를 기입했을때 하나하나 print() 구문으로 이름과 나이, 품종을 조사해야 해서 불편합니다.\n",
    "\n",
    "이럴때 함수를 선언해두면 편하게 조회할 수 있습니다.\n"
   ]
  },
  {
   "cell_type": "code",
   "execution_count": 20,
   "id": "98ab8487",
   "metadata": {},
   "outputs": [],
   "source": [
    "# cat을 한마리 더 만들어주세요.\n",
    "# 이름, 나이, 주인, 품종까지 모두 기입해주세요.\n",
    "cat3 = Cat()\n",
    "\n",
    "cat3.name = \"젤리\"\n",
    "cat3.age = 8\n",
    "cat3.cat_type = \"코숏\"\n",
    "cat3.owner = \"김진용\""
   ]
  },
  {
   "cell_type": "code",
   "execution_count": 30,
   "id": "ee3f7c9c",
   "metadata": {},
   "outputs": [
    {
     "name": "stdout",
     "output_type": "stream",
     "text": [
      "이름 : 젤리, 나이 : 8, 품종 : 코숏, 주인 : 김진용\n"
     ]
    }
   ],
   "source": [
    "print(\"이름 : %s, 나이 : %s, 품종 : %s, 주인 : %s\" %\n",
    "      (cat3.name, cat3.age, cat3.cat_type, cat3.owner))"
   ]
  },
  {
   "cell_type": "code",
   "execution_count": 40,
   "id": "f9216218",
   "metadata": {},
   "outputs": [],
   "source": [
    "# Cat 자료형의 전용 함수\n",
    "def show_cat_info(cat):\n",
    "    print(\"이름 : %s, 나이 : %s, 품종 : %s, 주인 : %s\" %\n",
    "      (cat.name, cat.age, cat.cat_type, cat.owner))"
   ]
  },
  {
   "cell_type": "code",
   "execution_count": 41,
   "id": "5e4ee305",
   "metadata": {},
   "outputs": [
    {
     "name": "stdout",
     "output_type": "stream",
     "text": [
      "이름 : 젤리, 나이 : 8, 품종 : 코숏, 주인 : 김진용\n"
     ]
    }
   ],
   "source": [
    "show_cat_info(cat3)"
   ]
  },
  {
   "cell_type": "code",
   "execution_count": 26,
   "id": "a4238bfa",
   "metadata": {},
   "outputs": [],
   "source": [
    "# cat 전용인지 비교할 수 있도록 dog를 선언하겠습니다.\n",
    "class Dog:\n",
    "    name = \"\"\n",
    "    age = 0\n",
    "    dog_type =  \"\"\n",
    "    address = \"\""
   ]
  },
  {
   "cell_type": "code",
   "execution_count": 27,
   "id": "5f276770",
   "metadata": {},
   "outputs": [],
   "source": [
    "dog1 = Dog()\n",
    "dog1.name = \"구슬이\"\n",
    "dog1.age = 6\n",
    "dog1.dog_type = \"시고르자브종\"\n",
    "dog1.address = \"별내별가람\""
   ]
  },
  {
   "cell_type": "code",
   "execution_count": 33,
   "id": "f79a8e89",
   "metadata": {},
   "outputs": [
    {
     "ename": "AttributeError",
     "evalue": "'Dog' object has no attribute 'cat_type'",
     "output_type": "error",
     "traceback": [
      "\u001b[1;31m---------------------------------------------------------------------------\u001b[0m",
      "\u001b[1;31mAttributeError\u001b[0m                            Traceback (most recent call last)",
      "Input \u001b[1;32mIn [33]\u001b[0m, in \u001b[0;36m<cell line: 1>\u001b[1;34m()\u001b[0m\n\u001b[1;32m----> 1\u001b[0m \u001b[43mshow_cat_info\u001b[49m\u001b[43m(\u001b[49m\u001b[43mdog1\u001b[49m\u001b[43m)\u001b[49m\n",
      "Input \u001b[1;32mIn [32]\u001b[0m, in \u001b[0;36mshow_cat_info\u001b[1;34m(cat)\u001b[0m\n\u001b[0;32m      2\u001b[0m \u001b[38;5;28;01mdef\u001b[39;00m \u001b[38;5;21mshow_cat_info\u001b[39m(cat):\n\u001b[0;32m      3\u001b[0m     \u001b[38;5;28mprint\u001b[39m(\u001b[38;5;124m\"\u001b[39m\u001b[38;5;124m이름 : \u001b[39m\u001b[38;5;132;01m%s\u001b[39;00m\u001b[38;5;124m, 나이 : \u001b[39m\u001b[38;5;132;01m%s\u001b[39;00m\u001b[38;5;124m, 품종 : \u001b[39m\u001b[38;5;132;01m%s\u001b[39;00m\u001b[38;5;124m, 주인 : \u001b[39m\u001b[38;5;132;01m%s\u001b[39;00m\u001b[38;5;124m\"\u001b[39m \u001b[38;5;241m%\u001b[39m\n\u001b[1;32m----> 4\u001b[0m       (cat\u001b[38;5;241m.\u001b[39mname, cat\u001b[38;5;241m.\u001b[39mage, \u001b[43mcat\u001b[49m\u001b[38;5;241;43m.\u001b[39;49m\u001b[43mcat_type\u001b[49m, cat\u001b[38;5;241m.\u001b[39mowner))\n",
      "\u001b[1;31mAttributeError\u001b[0m: 'Dog' object has no attribute 'cat_type'"
     ]
    }
   ],
   "source": [
    "show_cat_info(dog1)"
   ]
  },
  {
   "cell_type": "markdown",
   "id": "cda24c5b",
   "metadata": {},
   "source": [
    "### 여러분들이 아까 임의로 만든 클래스 관련\n",
    "\n",
    "해당 클래스를 이용해 생성한 변수(객체)의 정보를 콘솔에 찍을 수 있는\n",
    "\n",
    "전용 함수를 생성하고 실제로 사용까지 해주세요.\n",
    "\n",
    "제출은 함수 코드와 클래스 및 객체 생성 코드를 캡쳐하거나 복붙해주시면 됩니다."
   ]
  },
  {
   "cell_type": "code",
   "execution_count": 44,
   "id": "bc0d72a5",
   "metadata": {},
   "outputs": [],
   "source": [
    "dog2 = Dog()\n",
    "dog3 = Dog()"
   ]
  },
  {
   "cell_type": "code",
   "execution_count": 42,
   "id": "95551b12",
   "metadata": {},
   "outputs": [],
   "source": [
    "def print_dog_info(dog):\n",
    "    print(\"이름 : %s, 나이 : %s, 품종 : %s, 주소 : %s\" %\n",
    "      (dog.name, dog.age, dog.dog_type, dog.address))"
   ]
  },
  {
   "cell_type": "code",
   "execution_count": 43,
   "id": "1f21b737",
   "metadata": {},
   "outputs": [
    {
     "name": "stdout",
     "output_type": "stream",
     "text": [
      "이름 : 구슬이, 나이 : 6, 품종 : 시고르자브종, 주소 : 별내별가람\n"
     ]
    }
   ],
   "source": [
    "print_dog_info(dog1)"
   ]
  },
  {
   "cell_type": "markdown",
   "id": "75097f07",
   "metadata": {},
   "source": [
    "### 특정 구조체 전용 함수를 외부에 선언할 필요가 있는가?\n",
    "\n",
    "특정 구조체에서만 사용할 함수를, 굳이 외부에 빼서 혼란을 야기할 필요가 없다는 결론을 내렸습니다.\n",
    "\n",
    "그래서 클래스에서는 이제 변수와 함께 함수를 같은 소속을 선언합니다.\n",
    "\n",
    "이렇게 클래스 내부에 선언된 함수를 가리켜 메서드라고 부릅니다."
   ]
  },
  {
   "cell_type": "code",
   "execution_count": 30,
   "id": "d62a77be",
   "metadata": {},
   "outputs": [],
   "source": [
    "class Computer:\n",
    "    cpu = \"\"\n",
    "    ram = 0\n",
    "    ssd = 0\n",
    "    \n",
    "    # 메서드는 기본적으로 대부분의경우 self를 파라미터로 선언해주셔야합니다.\n",
    "    # 변수 지칭시에도 self.변수명을 사용합니다.\n",
    "    def get_info(self):\n",
    "        print(\"cpu : %s, ram : %sGb, ssd : %sGb\" % (self.cpu, self.ram, self.ssd))\n",
    "        \n",
    "    def get_self_add(self):\n",
    "        print(self)"
   ]
  },
  {
   "cell_type": "code",
   "execution_count": 31,
   "id": "61b23320",
   "metadata": {},
   "outputs": [],
   "source": [
    "# 컴퓨터 객체를 생성하고, cpu, ram, ssd에 임의의값을 지정해주신다음\n",
    "# 메서드 호출로 콘솔에 정보를 찍어주세요.\n",
    "c1 = Computer()\n",
    "c2 = Computer()\n",
    "c1.cpu = \"AMD라이젠7세대\"\n",
    "c1.ram = 32\n",
    "c1.ssd = 500\n",
    "c2.cpu = \"인텔i7\""
   ]
  },
  {
   "cell_type": "code",
   "execution_count": 32,
   "id": "820af2db",
   "metadata": {},
   "outputs": [
    {
     "name": "stdout",
     "output_type": "stream",
     "text": [
      "cpu : AMD라이젠7세대, ram : 32Gb, ssd : 500Gb\n"
     ]
    }
   ],
   "source": [
    "c1.get_info()"
   ]
  },
  {
   "cell_type": "code",
   "execution_count": 33,
   "id": "acd1b14d",
   "metadata": {},
   "outputs": [
    {
     "name": "stdout",
     "output_type": "stream",
     "text": [
      "cpu : 인텔i7, ram : 0Gb, ssd : 0Gb\n"
     ]
    }
   ],
   "source": [
    "c2.get_info()"
   ]
  },
  {
   "cell_type": "code",
   "execution_count": 35,
   "id": "dff3cc04",
   "metadata": {},
   "outputs": [
    {
     "name": "stdout",
     "output_type": "stream",
     "text": [
      "<__main__.Computer object at 0x0000018A33BEC100>\n",
      "<__main__.Computer object at 0x0000018A33BEC100>\n"
     ]
    }
   ],
   "source": [
    "c1.get_self_add()# print(self)\n",
    "print(c1)"
   ]
  },
  {
   "cell_type": "code",
   "execution_count": 36,
   "id": "fda69482",
   "metadata": {},
   "outputs": [
    {
     "name": "stdout",
     "output_type": "stream",
     "text": [
      "<__main__.Computer object at 0x0000018A33BECF70>\n",
      "<__main__.Computer object at 0x0000018A33BECF70>\n"
     ]
    }
   ],
   "source": [
    "c2.get_self_add()\n",
    "print(c2)"
   ]
  },
  {
   "cell_type": "markdown",
   "id": "897dd5d8",
   "metadata": {},
   "source": [
    "# 여러분들이 직접 \"클래스\"를 만들어주시고\n",
    "\n",
    "조회메서드를 하나 생성해주세요.\n",
    "\n",
    "그리고 메모리 구조를 그려서 슬랙에 캡쳐떠서 제출해주시면 됩니다.\n",
    "\n",
    "객체는 최소 2개이상 만들어주세요."
   ]
  },
  {
   "cell_type": "markdown",
   "id": "853d778a",
   "metadata": {},
   "source": [
    "### self 키워드\n",
    "\n",
    "self는 클래스로 생성한 변수(== 인스턴스) 자신의 주소를 나타내는 키워드입니다.\n",
    "\n",
    "이렇게 자신의 주소를 나타내야 하는 이유는, 인스턴스는 양식은 같지만 내용물은 독립으로 저장되기 때문입니다."
   ]
  },
  {
   "cell_type": "code",
   "execution_count": 51,
   "id": "9d1956ce",
   "metadata": {},
   "outputs": [],
   "source": [
    "# 내용물을 좀 더 편하게 초기화시킬수 있도록 클래스를 다시 정의합니다.\n",
    "class Teacher:\n",
    "    name = \"\"\n",
    "    subject = \"\"\n",
    "    age = 0\n",
    "    \n",
    "    # 위 3개 변수에 값을 한 줄로 넣어주는 메서드(함수)\n",
    "    def save_info(self, name, subject, age):\n",
    "        self.name = name\n",
    "        self.subject = subject\n",
    "        self.age = age\n",
    "    "
   ]
  },
  {
   "cell_type": "code",
   "execution_count": 57,
   "id": "86930445",
   "metadata": {},
   "outputs": [
    {
     "name": "stdout",
     "output_type": "stream",
     "text": [
      "  0\n"
     ]
    }
   ],
   "source": [
    "# 강사 객체를 생성해보세요.\n",
    "# 이름은 알아서, 과목도 알아서, 나이도 알아서 지정해주시면됩니다.\n",
    "# 그리고 메모리구조를 그려주세요.\n",
    "t1 = Teacher()\n",
    "\n",
    "#t1.name = \"cjh\"\n",
    "#t1.subject = \"cpt science\"\n",
    "#t1.age = 20\n",
    "\n",
    "t1.save_info(\"cjh\", \"cs\", 20)\n",
    "\n",
    "print(t1.name, t1.subject, t1.age)"
   ]
  },
  {
   "cell_type": "code",
   "execution_count": 53,
   "id": "d723276c",
   "metadata": {},
   "outputs": [
    {
     "data": {
      "text/plain": [
       "1693085971136"
      ]
     },
     "execution_count": 53,
     "metadata": {},
     "output_type": "execute_result"
    }
   ],
   "source": [
    "id(t1.save_info)"
   ]
  },
  {
   "cell_type": "code",
   "execution_count": 54,
   "id": "6bbd8438",
   "metadata": {},
   "outputs": [
    {
     "data": {
      "text/plain": [
       "1693085907840"
      ]
     },
     "execution_count": 54,
     "metadata": {},
     "output_type": "execute_result"
    }
   ],
   "source": [
    "id(Teacher.save_info)"
   ]
  },
  {
   "cell_type": "markdown",
   "id": "7f3ff0f9",
   "metadata": {},
   "source": [
    "### 생성자 함수\n",
    "\n",
    "클래스 내부에 `__init__` 이라는 명칭으로 선언한 함수는 생성자 함수가 됩니다.\n",
    "\n",
    "생성자 함수를 정의하면 사용자가 클래스의 인스턴스를 생성할 때 반드시 입력해야 하는 요소를\n",
    "\n",
    "강제로 입력해야만 하는 상황을 만들어줄 수 있습니다."
   ]
  },
  {
   "cell_type": "code",
   "execution_count": 86,
   "id": "c42e20af",
   "metadata": {},
   "outputs": [],
   "source": [
    "class Cat:\n",
    "    # 변수는 특정 대상의 \"상태\"\n",
    "    name = \"\"#이름\n",
    "    weight = 0#체중\n",
    "    color = \"\"#털색깔\n",
    "    cat_type = \"\"#종\n",
    "    db = 0#데시벨\n",
    "    \n",
    "    # 메서드는 특정 대상의 행동이며, 결과는 상태(변수)값에 따라 달라진다.\n",
    "    # 아래 함수는 생성자 함수로 생성시 자동으로 1번만 호출되는 함수\n",
    "    def __init__(self, name, weight, color, cat_type, db):\n",
    "        self.name = name\n",
    "        self.weight = weight\n",
    "        self.color = color\n",
    "        self.cat_type = cat_type\n",
    "        self.db = db\n",
    "        \n",
    "    def get_info(self):\n",
    "        print(\"이름 : %s, 체중 : %skg, 색깔 : %s, 종 : %s, 울음소리 : %sdb\" % \n",
    "                      (self.name, self.weight, self.color, self.cat_type, self.db))\n",
    "    \n",
    "    def meow(self):\n",
    "        print(\"야옹야옹\" * (self.db // 10))"
   ]
  },
  {
   "cell_type": "code",
   "execution_count": 87,
   "id": "1e3912f4",
   "metadata": {},
   "outputs": [],
   "source": [
    "cat1 = Cat(\"젤리\", 7, \"고등어\", \"샴\", 20)"
   ]
  },
  {
   "cell_type": "code",
   "execution_count": 90,
   "id": "e9b2cc5a",
   "metadata": {},
   "outputs": [
    {
     "name": "stdout",
     "output_type": "stream",
     "text": [
      "야옹야옹야옹야옹야옹야옹야옹야옹야옹야옹야옹야옹야옹야옹야옹야옹야옹야옹야옹야옹\n"
     ]
    }
   ],
   "source": [
    "cat2 = Cat(\"쿤쿤\", 3, \"크림색\", \"메인쿤\", 100)\n",
    "cat2.meow()"
   ]
  },
  {
   "cell_type": "code",
   "execution_count": 88,
   "id": "6d5f696a",
   "metadata": {
    "scrolled": true
   },
   "outputs": [
    {
     "name": "stdout",
     "output_type": "stream",
     "text": [
      "야옹야옹야옹야옹\n",
      "이름 : 젤리, 체중 : 7kg, 색깔 : 고등어, 종 : 샴, 울음소리 : 20db\n"
     ]
    }
   ],
   "source": [
    "# 1. cat1에 대해서 상세 정보를 조회할 수 있는 함수 get_info()와\n",
    "# print(\"야옹야옹\")을 실행해주는 함수 meow() 를 정의해주시고 호출해주세요.\n",
    "cat1.meow()\n",
    "cat1.get_info()"
   ]
  },
  {
   "cell_type": "markdown",
   "id": "8abb7370",
   "metadata": {},
   "source": [
    "# 여러분들이 직접 뭔가에 대해서 클래스 정의를 해주세요.\n",
    "\n",
    "- 생성자로 생성합니다.\n",
    "- 정보를 조회하는 메서드를 추가해주세요\n",
    "- meow 처럼 해당하는 대상이 현실에서 수행할 수 있는 어떤 행동을 하나 임의로 추가해주세요.\n",
    "\n",
    "- 생성된 클래스를 토대로 객체를 생성해 돌려보세요."
   ]
  },
  {
   "cell_type": "code",
   "execution_count": null,
   "id": "154ae1ba",
   "metadata": {},
   "outputs": [],
   "source": []
  }
 ],
 "metadata": {
  "kernelspec": {
   "display_name": "Python 3 (ipykernel)",
   "language": "python",
   "name": "python3"
  },
  "language_info": {
   "codemirror_mode": {
    "name": "ipython",
    "version": 3
   },
   "file_extension": ".py",
   "mimetype": "text/x-python",
   "name": "python",
   "nbconvert_exporter": "python",
   "pygments_lexer": "ipython3",
   "version": "3.9.12"
  }
 },
 "nbformat": 4,
 "nbformat_minor": 5
}
